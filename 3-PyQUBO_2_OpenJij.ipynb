{
 "cells": [
  {
   "cell_type": "markdown",
   "metadata": {},
   "source": [
    "# PyCUBOとOpenjijの連携"
   ]
  },
  {
   "cell_type": "markdown",
   "metadata": {},
   "source": [
    "本稿では，PyQUBOによるコスト関数のQUBOへの変換方法とSimulated Annealing，OpenJijへの変数受け渡しなど についてクリーク被覆問題を例に説明する"
   ]
  },
  {
   "cell_type": "code",
   "execution_count": 2,
   "metadata": {},
   "outputs": [],
   "source": [
    "# 必要なライブラリをインポート\n",
    "import numpy as np\n",
    "import networkx as nx\n",
    "from matplotlib import pyplot as plt\n",
    "import random"
   ]
  },
  {
   "cell_type": "markdown",
   "metadata": {},
   "source": [
    "参考ページ"
   ]
  },
  {
   "cell_type": "markdown",
   "metadata": {},
   "source": [
    "https://qard.is.tohoku.ac.jp/T-Wave/?p=434"
   ]
  },
  {
   "cell_type": "code",
   "execution_count": 3,
   "metadata": {},
   "outputs": [],
   "source": [
    "#PyQUBO\n",
    "from pyqubo import Array, Binary, Constraint, Placeholder, solve_qubo\n",
    "import openjij as oj"
   ]
  },
  {
   "cell_type": "markdown",
   "metadata": {},
   "source": [
    "## クリーク被覆問題とは？"
   ]
  },
  {
   "cell_type": "markdown",
   "metadata": {},
   "source": [
    "https://ja.wikipedia.org/wiki/%E6%9C%80%E5%B0%8F%E3%82%AF%E3%83%AA%E3%83%BC%E3%82%AF%E8%A2%AB%E8%A6%86%E5%95%8F%E9%A1%8C"
   ]
  },
  {
   "cell_type": "markdown",
   "metadata": {},
   "source": [
    "## 配列を作成する際の例"
   ]
  },
  {
   "cell_type": "code",
   "execution_count": 4,
   "metadata": {},
   "outputs": [
    {
     "name": "stdout",
     "output_type": "stream",
     "text": [
      "Array([Binary(x[0]), Binary(x[1]), Binary(x[2]), Binary(x[3])])\n",
      "\n",
      "x[0] {'x[0]': ('x', 0)}\n",
      "x[1] {'x[1]': ('x', 1)}\n",
      "x[2] {'x[2]': ('x', 2)}\n",
      "x[3] {'x[3]': ('x', 3)}\n",
      "\n",
      "(4,)\n"
     ]
    }
   ],
   "source": [
    "#shape=4で4つの1次元配列をつくる。\n",
    "x_1d = Array.create('x', shape=4, vartype='BINARY')\n",
    "print(x_1d)\n",
    "print()\n",
    "for x in x_1d:\n",
    "    print(x.label, x.structure)\n",
    "print()\n",
    "print(x_1d.shape)"
   ]
  },
  {
   "cell_type": "code",
   "execution_count": 5,
   "metadata": {},
   "outputs": [
    {
     "name": "stdout",
     "output_type": "stream",
     "text": [
      "Array([[Binary(x[0][0]), Binary(x[0][1])],\n",
      "       [Binary(x[1][0]), Binary(x[1][1])]])\n",
      "(2, 2)\n"
     ]
    }
   ],
   "source": [
    "#２次元配列を作る\n",
    "x_2d = Array.create('x', shape=(2, 2), vartype='BINARY')\n",
    "print(x_2d)\n",
    "print(x_2d.shape)"
   ]
  },
  {
   "cell_type": "markdown",
   "metadata": {},
   "source": [
    " shape=(2, 2)で2×2の上記のような2次元配列を作っている。"
   ]
  },
  {
   "cell_type": "markdown",
   "metadata": {},
   "source": [
    "PyQUBOのみによるクリーク被覆問題の方法を説明する．"
   ]
  },
  {
   "cell_type": "markdown",
   "metadata": {},
   "source": [
    "***PyQUBOによるSimulated Annealing***\n",
    "ここから，実際にPyQUBOを用いて最適化問題をSAで解く方法を説明していく．\n",
    "まずコスト関数をQUBOに変換する方法を紹介する．ここではクリーク被覆問題を例に説明する．\n",
    "\n",
    "まず，PyQUBOをimport．"
   ]
  },
  {
   "cell_type": "markdown",
   "metadata": {},
   "source": [
    "今回はクリーク被覆問題の初期条件を以下のように与える．"
   ]
  },
  {
   "cell_type": "code",
   "execution_count": 6,
   "metadata": {},
   "outputs": [],
   "source": [
    "#頂点の数\n",
    "N_VER = 8\n",
    "#色の数\n",
    "N_COLOR = 4\n",
    "#グラフを定義．0~7とうい名前の頂点があったときに，どの頂点同士が線で結ばれているかを定義している．\n",
    "graph = [(0,1), (0,2), (1,3), (5,6), (2,3), (2,5), (3,4), (5,7)]"
   ]
  },
  {
   "cell_type": "markdown",
   "metadata": {},
   "source": [
    "networkx でグラフの可視化"
   ]
  },
  {
   "cell_type": "code",
   "execution_count": 7,
   "metadata": {},
   "outputs": [
    {
     "data": {
      "image/png": "[encoded data removed]",
      "text/plain": [
       "<Figure size 432x288 with 1 Axes>"
      ]
     },
     "metadata": {},
     "output_type": "display_data"
    }
   ],
   "source": [
    "G=nx.Graph()\n",
    "G.add_edges_from(graph)\n",
    "pos = nx.spring_layout(G)\n",
    "nx.draw_networkx(G, pos)\n",
    "plt.show()"
   ]
  },
  {
   "cell_type": "markdown",
   "metadata": {},
   "source": [
    "`PyQUBO(N_VER,N_COLOR,graph)` という，PyQUBOを用いてSAした結果を返す関数を定義する．"
   ]
  },
  {
   "cell_type": "markdown",
   "metadata": {},
   "source": [
    "ここからは，PyQUBO関数の中身について説明していく．\n",
    "\n",
    "まず，コスト関数に用いるxを以下のように定義．"
   ]
  },
  {
   "cell_type": "code",
   "execution_count": 8,
   "metadata": {},
   "outputs": [],
   "source": [
    "# BINARY変数 PyQUBOでは，以下のようにArray.createとう関数で配列を作ることができる．\n",
    "x = Array.create('x', shape=(N_VER,N_VER), vartype='BINARY')"
   ]
  },
  {
   "cell_type": "markdown",
   "metadata": {},
   "source": [
    "次に，最小化項とペナルティ項を以下のように打ち込み，コスト関数を定義する．\n",
    "通常のQUBOを作成する方法とはことなり，式をそのまま直感的に打つこむことができる．\n"
   ]
  },
  {
   "cell_type": "code",
   "execution_count": 9,
   "metadata": {},
   "outputs": [],
   "source": [
    "#最小化項        \n",
    "H_A = sum((1-sum(x[v,i] for i in range(1,N_COLOR)))**2 for v in range(N_VER))\n",
    "#ペナルティ項\n",
    "H_B = sum((-1+sum(x[v,i] for v in range (N_VER)))/2*(sum(x[v,i] for v in range (N_VER))) - sum(x[u,i]*x[v,i] for (u,v) in graph) for i in range (1,N_COLOR))\n",
    "\n",
    "#コスト関数\n",
    "Q = H_A+H_B"
   ]
  },
  {
   "cell_type": "markdown",
   "metadata": {},
   "source": [
    "作成したコスト関数は，以下のように`Q.compile().to_qubo()` で簡単にQUBOに変換することができる．"
   ]
  },
  {
   "cell_type": "code",
   "execution_count": 10,
   "metadata": {},
   "outputs": [],
   "source": [
    "# モデルをコンパイル\n",
    "model = Q.compile()\n",
    "qubo, offset = model.to_qubo()"
   ]
  },
  {
   "cell_type": "markdown",
   "metadata": {},
   "source": [
    "PyQUBOによってSimulated Annealingするには，\n",
    "`solve_qubo(qubo)`を用いる．"
   ]
  },
  {
   "cell_type": "code",
   "execution_count": 11,
   "metadata": {},
   "outputs": [
    {
     "name": "stdout",
     "output_type": "stream",
     "text": [
      "{'x[0][1]': 0, 'x[0][2]': 0, 'x[0][3]': 1, 'x[1][1]': 0, 'x[1][2]': 0, 'x[1][3]': 1, 'x[2][1]': 1, 'x[2][2]': 0, 'x[2][3]': 0, 'x[3][1]': 0, 'x[3][2]': 1, 'x[3][3]': 0, 'x[4][1]': 0, 'x[4][2]': 1, 'x[4][3]': 0, 'x[5][1]': 1, 'x[5][2]': 0, 'x[5][3]': 0, 'x[6][1]': 0, 'x[6][2]': 0, 'x[6][3]': 0, 'x[7][1]': 0, 'x[7][2]': 0, 'x[7][3]': 0}\n"
     ]
    }
   ],
   "source": [
    "#PyQUBOによるSA\n",
    "raw_solution = solve_qubo(qubo)\n",
    "\n",
    "# 結果の表示\n",
    "print(raw_solution)"
   ]
  },
  {
   "cell_type": "code",
   "execution_count": 12,
   "metadata": {},
   "outputs": [
    {
     "name": "stdout",
     "output_type": "stream",
     "text": [
      "decoded_solution {'x': {0: {1: 0, 2: 0, 3: 1}, 1: {1: 0, 2: 0, 3: 1}, 2: {1: 1, 2: 0, 3: 0}, 3: {1: 0, 2: 1, 3: 0}, 4: {1: 0, 2: 1, 3: 0}, 5: {1: 1, 2: 0, 3: 0}, 6: {1: 0, 2: 0, 3: 0}, 7: {1: 0, 2: 0, 3: 0}}}\n",
      "broken {}\n",
      "energy 2.0\n"
     ]
    }
   ],
   "source": [
    "# 得られた結果をデコードする\n",
    "decoded_solution, broken, energy = model.decode_solution(raw_solution, vartype=\"BINARY\")\n",
    "print(\"decoded_solution\", decoded_solution)\n",
    "print(\"broken\", broken)\n",
    "print(\"energy\", energy)"
   ]
  },
  {
   "cell_type": "code",
   "execution_count": 13,
   "metadata": {},
   "outputs": [
    {
     "data": {
      "text/plain": [
       "'0xe74'"
      ]
     },
     "execution_count": 13,
     "metadata": {},
     "output_type": "execute_result"
    }
   ],
   "source": [
    "hex(random.randint(0, (2**4)**3-1))"
   ]
  },
  {
   "cell_type": "code",
   "execution_count": 41,
   "metadata": {},
   "outputs": [
    {
     "name": "stdout",
     "output_type": "stream",
     "text": [
      "rgb #0eb233\n",
      "group [6, 7]\n",
      "rgb #e1878e\n",
      "group [2, 5]\n",
      "rgb #f79ff0\n",
      "group [3, 4]\n",
      "rgb #bc5709\n",
      "group [0, 1]\n"
     ]
    },
    {
     "data": {
      "image/png": "[encoded data removed]",
      "text/plain": [
       "<Figure size 432x288 with 1 Axes>"
      ]
     },
     "metadata": {},
     "output_type": "display_data"
    }
   ],
   "source": [
    "def show_result_graph(G1, N_COLOR, decoded_solution):\n",
    "    pos1= nx.spring_layout(G1, k= 0.3 ) # positions for all nodes\n",
    "\n",
    "    for ii in range(0, N_COLOR):\n",
    "        group = []\n",
    "        color = \"#\" + \"{0:06x}\".format(random.randint(0, 256**3-1))\n",
    "        print(\"rgb\",color)\n",
    "        if ii == 0:\n",
    "            for idx, label in decoded_solution[\"x\"].items():\n",
    "                if sum(label.values())<1:\n",
    "                    group.append(idx)\n",
    "        else:\n",
    "            for idx, label in decoded_solution[\"x\"].items():\n",
    "                if label[ii]== 1:\n",
    "                    group.append(idx)\n",
    "        print(\"group\",group)\n",
    "        nx.draw_networkx_nodes(G1, pos1,\n",
    "                               nodelist=group,\n",
    "                               node_color=color)\n",
    "    nx.draw_networkx_edges(G1, pos1, width=1.0, alpha=1)\n",
    "    plt.show()\n",
    "    \n",
    "show_result_graph(G, N_COLOR, decoded_solution)"
   ]
  },
  {
   "cell_type": "markdown",
   "metadata": {},
   "source": [
    "***PyQUBOによってQUBOに変換したモデルのOpenJijによる評価***\n",
    "次に，上のコードに追記する形で，OpenJijにQUBOを受け渡し，SQAで解く方法を以下で紹介する．\n",
    "まずPyQUBO関数の中で，QUBOも返すように変更する．\n",
    "   ` return qubo,decoded_solution`\n",
    "\n",
    "そして，関数の外で，以下のようにQUBOを受け渡すことでOpenJijによる評価ができるようになる．"
   ]
  },
  {
   "cell_type": "code",
   "execution_count": 74,
   "metadata": {},
   "outputs": [],
   "source": [
    "import openjij as oj"
   ]
  },
  {
   "cell_type": "code",
   "execution_count": 82,
   "metadata": {},
   "outputs": [
    {
     "name": "stdout",
     "output_type": "stream",
     "text": [
      "[[1, 0, 0, 0, 0, 0, 0, 0, 0, 0, 1, 0, 0, 1, 1, 0], [1, 0, 1, 0, 0, 0, 0, 1, 0, 0, 1, 0, 0, 0, 1, 0], [1, 0, 1, 0, 0, 0, 1, 0, 0, 0, 1, 0, 0, 0, 1, 0], [1, 0, 0, 0, 0, 0, 0, 0, 1, 1, 0, 1, 0, 0, 0, 1], [1, 0, 0, 0, 0, 0, 0, 0, 0, 1, 1, 1, 0, 1, 1, 0], [0, 1, 0, 1, 0, 1, 0, 0, 0, 1, 0, 0, 1, 0, 0, 1], [1, 0, 1, 0, 0, 0, 0, 0, 0, 0, 1, 0, 0, 0, 1, 0], [0, 1, 1, 1, 0, 0, 0, 0, 1, 0, 0, 0, 1, 0, 0, 1], [0, 0, 0, 1, 0, 0, 0, 0, 1, 1, 0, 0, 1, 0, 0, 0], [0, 1, 0, 0, 0, 1, 0, 0, 1, 0, 0, 0, 1, 0, 0, 1]]\n",
      "10\n"
     ]
    }
   ],
   "source": [
    "#openjijのSQASamplerにに渡す\n",
    "sampler = oj.SQASampler(iteration=10, step_num=100)\n",
    "response = sampler.sample_qubo(qubo)\n",
    "#結果を出力．\n",
    "print(response.states)\n",
    "print(len(response.states))\n"
   ]
  },
  {
   "cell_type": "markdown",
   "metadata": {},
   "source": [
    "まとめると，以下のようになる．"
   ]
  },
  {
   "cell_type": "code",
   "execution_count": 21,
   "metadata": {},
   "outputs": [
    {
     "name": "stdout",
     "output_type": "stream",
     "text": [
      "[[1, 0, 0, 0, 1, 1, 1, 1, 0, 0, 0, 0, 0, 1, 1, 0], [0, 0, 0, 0, 0, 1, 0, 1, 0, 0, 0, 0, 0, 0, 1, 0], [0, 0, 1, 0, 0, 0, 0, 0, 0, 1, 1, 1, 0, 0, 0, 1], [0, 1, 1, 1, 0, 0, 0, 0, 0, 1, 0, 0, 0, 0, 0, 1], [0, 0, 1, 1, 0, 0, 0, 0, 0, 1, 1, 0, 0, 1, 0, 1], [1, 0, 0, 0, 1, 1, 0, 0, 0, 0, 0, 0, 0, 0, 1, 0], [0, 0, 0, 0, 1, 0, 1, 1, 0, 0, 0, 0, 0, 1, 1, 0], [1, 0, 0, 0, 1, 0, 0, 0, 0, 0, 1, 1, 1, 0, 1, 0], [0, 0, 1, 1, 0, 0, 0, 0, 1, 1, 1, 1, 0, 0, 0, 0], [0, 1, 0, 1, 0, 0, 0, 0, 1, 1, 0, 1, 0, 0, 0, 0]]\n"
     ]
    }
   ],
   "source": [
    "# coding: utf-8\n",
    "#openJijを使用。\n",
    "import openjij as oj\n",
    "#PyQUBO\n",
    "from pyqubo import Array, Constraint, Placeholder, solve_qubo\n",
    "\n",
    "#頂点の数\n",
    "N_VER = 8\n",
    "#色の数\n",
    "N_COLOR = 3\n",
    "graph = [(0,1), (0,2), (1,3), (5,6), (2,3), (2,5), (3,4), (5,7)]\n",
    "def PyQUBO(N_VER,N_COLOR,graph):\n",
    "    #イジング変数の数\n",
    "    N = N_VER * N_COLOR\n",
    "    # BINARY変数\n",
    "    x = Array.create('x', shape=(N_VER,N_VER), vartype='BINARY')\n",
    "    #最小化項        \n",
    "    H_A = sum((1-sum(x[v,i] for i in range(1,N_COLOR)))**2 for v in range(N_VER))\n",
    "    #ペナルティ項\n",
    "    H_B = sum((-1+sum(x[v,i] for v in range (N_VER)))/2*(sum(x[v,i] for v in range (N_VER))) - sum(x[u,i]*x[v,i] for (u,v) in graph) for i in range (1,N_COLOR))\n",
    "    #コスト関数\n",
    "    Q = H_A+H_B \n",
    "    \n",
    "    # モデルをコンパイル\n",
    "    model = Q.compile()\n",
    "    qubo, offset = model.to_qubo()\n",
    "    \n",
    "    #PyQUBOによるSA\n",
    "    raw_solution = solve_qubo(qubo)\n",
    "    # 得られた結果をデコードする\n",
    "    decoded_solution, broken, energy = model.decode_solution(raw_solution, vartype=\"BINARY\")\n",
    "    #ここでQUBOも返すように変更する．\n",
    "    return qubo,decoded_solution\n",
    "    \n",
    "\n",
    "Q,resultPyQUBO = PyQUBO(N_VER,N_COLOR,graph)\n",
    "sampler = oj.SASampler(iteration=10, step_num=100)\n",
    "response = sampler.sample_qubo(Q)\n",
    "\n",
    "#PyQUBOによるSAの結果出力\n",
    "#print(resultPyQUBO)\n",
    "\n",
    "#OpenJijによるSQAの結果出力\n",
    "print(response.states)"
   ]
  },
  {
   "cell_type": "markdown",
   "metadata": {},
   "source": [
    "参考：PyQUBO公式ドキュメント\n",
    "https://pyqubo.readthedocs.io/en/latest/reference/array.html?highlight=arry%20create\n",
    "\n",
    "※余談として，.pyipynbは.pyファイルに以下のように変換できるよう．\n",
    "`$ jupyter nbconvert --to script [YOUR_NOTEBOOK].ipynb`"
   ]
  },
  {
   "cell_type": "code",
   "execution_count": null,
   "metadata": {},
   "outputs": [],
   "source": []
  }
 ],
 "metadata": {
  "kernelspec": {
   "display_name": "Python 3",
   "language": "python",
   "name": "python3"
  },
  "language_info": {
   "codemirror_mode": {
    "name": "ipython",
    "version": 3
   },
   "file_extension": ".py",
   "mimetype": "text/x-python",
   "name": "python",
   "nbconvert_exporter": "python",
   "pygments_lexer": "ipython3",
   "version": "3.7.3"
  }
 },
 "nbformat": 4,
 "nbformat_minor": 2
}
