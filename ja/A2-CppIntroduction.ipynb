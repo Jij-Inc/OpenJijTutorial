{
 "cells": [
  {
   "cell_type": "markdown",
   "metadata": {},
   "source": [
    "# A2 - OpenJij core interface入門 (C++ interface)\n",
    "\n",
    "この章ではOpenJijのcore interface (C++ interface)の紹介をします。\n",
    "core python interfaceのみを取り扱いたい方はこの章をスキップしてしまっても問題ありません。\n",
    "\n",
    "C++ interfaceはOpenJijの最下層レイヤーのAPIとなり、core python interfaceも内部でこのC++ interfaceを読み出しています。\n",
    "pythonを使わずにC++のみを用いてOpenJijのパフォーマンスを最大限に引き出したい用途で使うことができます。\n",
    "\n",
    "\n",
    "## 問題を投げてみる\n",
    "\n",
    "まずはgithubからリポジトリをcloneしましょう\n",
    "\n",
    "```sh\n",
    "git clone https://github.com/OpenJij/OpenJij\n",
    "cd OpenJij\n",
    "```\n",
    "\n",
    "OpenJijは基本的にヘッダオンリーなライブラリであるため、`src`ディレクトリのパスをコンパイル時に指定するだけでC++ interfaceが使えるようになります。\n",
    "GPUアルゴリズム等を使う際にはライブラリをCMakeでビルドする必要がありますが、`build_gcc.sh`を実行すると自動でビルドを行うことができます。\n",
    "\n",
    "前章のpython interfaceと全く同じ動作をするコードは次のように書くことができます。(`project_template/template.cpp`に同じ記述があります。)"
   ]
  },
  {
   "cell_type": "markdown",
   "metadata": {},
   "source": [
    "```cpp\n",
    "#include <graph/all.hpp>\n",
    "#include <system/all.hpp>\n",
    "#include <updater/all.hpp>\n",
    "#include <algorithm/all.hpp>\n",
    "#include <result/all.hpp>\n",
    "#include <utility/schedule_list.hpp>\n",
    "#include <random>\n",
    "\n",
    "#include <iostream>\n",
    "\n",
    "using namespace openjij;\n",
    "\n",
    "int main(void){\n",
    "\n",
    "    //まず相互作用行列を作成してあげます。Graphモジュールを使います。\n",
    "    //問題サイズN=5の密結合グラフ(Dense)を定義します。\n",
    "    constexpr std::size_t N = 5;\n",
    "    auto dense = graph::Dense<double>(N);\n",
    "\n",
    "    //相互作用を設定してあげます。\n",
    "    for(std::size_t i=0; i<N; i++){\n",
    "        for(std::size_t j=0; j<N; j++){\n",
    "            dense.J(i, j) = (i == j) ? 0 : -1;\n",
    "        }\n",
    "    }\n",
    "\n",
    "    //縦磁場を設定してあげます。\n",
    "    for(std::size_t i=0; i<N; i++){\n",
    "        dense.h(i) = -1;\n",
    "    }\n",
    "\n",
    "    //乱数生成器を定義します。(メルセンヌ・ツイスター)\n",
    "    auto rand_engine = std::mt19937(0x1234);\n",
    "\n",
    "    //続いてGraphから計算を行うためのSystemを作成します。\n",
    "    //今回は通常の古典モンテカルロ計算のシステムを使用します。\n",
    "    auto system = system::make_classical_ising<system::USE_EIGEN>(dense.gen_spin(rand_engine), dense);\n",
    "\n",
    "    //アニーリングスケジュールを設定します。Utilityモジュールを使用します。\n",
    "    auto schedule_list = utility::make_classical_schedule_list(0.1, 100, 10, 10);\n",
    "\n",
    "    //実際にアニーリングを走らせます。Algorithmモジュールを使用します。\n",
    "    //モンテカルロステップの更新方法として単純なSingleSpinFlipを用います。\n",
    "    algorithm::Algorithm<updater::SingleSpinFlip>::run(system, rand_engine, schedule_list);\n",
    "\n",
    "    //結果を取得します。\n",
    "    std::cout << \"The result spins are [\";\n",
    "    for(auto&& elem : result::get_solution(system)){\n",
    "        std::cout << elem << \" \";\n",
    "    }\n",
    "\n",
    "    std::cout << \"]\" << std::endl;\n",
    "}\n",
    "```"
   ]
  },
  {
   "cell_type": "markdown",
   "metadata": {},
   "source": [
    "`project_template`内で`make`を実行し、`./tutorial`を実行すると同じように$[1,1,1,1,1]$ が解として出力されるのがわかります。\n",
    "コンパイルオプションなどの}詳細については、`project_template`内の`Makefile`を参考にしてください。特にGPUを用いたアルゴリズムを利用する際には`build_gcc.sh`でビルドしたCUDAライブラリをリンクする必要がありますので注意してください。\n",
    "\n",
    "前章のcore python interfaceのサンプルコードと見比べると分かるように、pythonインターフェースとほとんど同じように記述することが可能です。"
   ]
  },
  {
   "cell_type": "code",
   "execution_count": null,
   "metadata": {},
   "outputs": [],
   "source": []
  }
 ],
 "metadata": {
  "kernelspec": {
   "display_name": "Python 3",
   "language": "python",
   "name": "python3"
  },
  "language_info": {
   "codemirror_mode": {
    "name": "ipython",
    "version": 3
   },
   "file_extension": ".py",
   "mimetype": "text/x-python",
   "name": "python",
   "nbconvert_exporter": "python",
   "pygments_lexer": "ipython3",
   "version": "3.8.1"
  }
 },
 "nbformat": 4,
 "nbformat_minor": 4
}
