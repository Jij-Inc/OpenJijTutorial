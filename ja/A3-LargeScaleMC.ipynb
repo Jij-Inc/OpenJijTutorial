{
 "cells": [
  {
   "cell_type": "markdown",
   "metadata": {},
   "source": [
    "# A3 - OpenJij core interface 入門 2"
   ]
  },
  {
   "cell_type": "markdown",
   "metadata": {},
   "source": [
    "前回ではスピン数$N=5$の小さいシステムでのデモンストレーションを行いましたが、この章ではさらに大規模な計算を通してOpenJij core interfaceの機能、使い方をより詳しく見ていきます。\n",
    "\n",
    "題材としてランダムイジング模型を取り上げます。この模型は、ハミルトニアンが\n",
    "\\begin{align}\n",
    "H &= \\sum_{i<j}J_{ij}\\sigma_i \\sigma_j + \\sum_{i=1}^{N}h_i \\sigma_i \\\\\n",
    "\\sigma_i &= \\pm 1 (i=1 \\cdots N)\n",
    "\\end{align}\n",
    "で与えられて、$J_{ij}, h_{i}$が$(i,j)$に対して様々な値を持つ模型です。  \n",
    "様々な種類の最適化問題がこのような模型の一番低いエネルギーを求める問題となりますが、エネルギーの最も低い状態を実現する$\\sigma_i$を計算するには一般に非常に難しいです。\n",
    "\n",
    "## 問題の定義 - Graph -\n",
    "\n",
    "問題を定義してみましょう。`graph`の中の**Dense**モジュールが必要となります。\n",
    "> `graph`中には基本的に**Dense**モジュールと**Sparse**モジュールがあり、今回の例のように全ての$J_{ij}$で値が定義されている場合には**Dense**モジュールが適しています。多くの$J_{ij}$の要素が0の場合には**Sparse**が適しています。使い方はどちらもほぼ変わりません。"
   ]
  },
  {
   "cell_type": "code",
   "execution_count": 115,
   "metadata": {},
   "outputs": [],
   "source": [
    "import cxxjij.graph as G\n",
    "#問題サイズを100とします。\n",
    "N = 100\n",
    "\n",
    "graph = G.Dense(N)\n",
    "#sparseの場合\n",
    "#graph = G.Sparse(N)"
   ]
  },
  {
   "cell_type": "markdown",
   "metadata": {},
   "source": [
    "$J_{ij}, h_i$を設定します。今回は平均0、標準偏差1のGauss分布から生成される値を設定します。"
   ]
  },
  {
   "cell_type": "code",
   "execution_count": 116,
   "metadata": {},
   "outputs": [
    {
     "name": "stdout",
     "output_type": "stream",
     "text": [
      "Requirement already satisfied: numpy in /usr/lib/python3.8/site-packages (1.18.1)\r\n"
     ]
    }
   ],
   "source": [
    "!pip install numpy #乱数生成にnumpyを使います。"
   ]
  },
  {
   "cell_type": "code",
   "execution_count": 130,
   "metadata": {},
   "outputs": [],
   "source": [
    "import numpy as np\n",
    "mu, sigma = 0, 1\n",
    "\n",
    "for i in range(N):\n",
    "    for j in range(N):\n",
    "        #Jijの値が大きくなりすぎてしまうので、全体の係数を1/Nしています。\n",
    "        graph[i,j] = 0 if i == j else np.random.normal()/N\n",
    "\n",
    "for i in range(N):\n",
    "    graph[i] = np.random.normal()/N"
   ]
  },
  {
   "cell_type": "markdown",
   "metadata": {},
   "source": [
    "ここで、縦磁場に関しては、`graph[i]`でも、`graph[i,i]`でもどちらでもアクセスできます。\n",
    "\n",
    "また、イジングモデルの定義上、$J_{ij}$と$J_{ji}$は自動で同じ値となります。"
   ]
  },
  {
   "cell_type": "code",
   "execution_count": 118,
   "metadata": {},
   "outputs": [
    {
     "name": "stdout",
     "output_type": "stream",
     "text": [
      "0.5\n",
      "0.5\n",
      "-0.6\n",
      "-0.6\n"
     ]
    }
   ],
   "source": [
    "graph[20] = 0.5\n",
    "print(graph[20,20])\n",
    "print(graph[20])\n",
    "graph[12,34] = -0.6\n",
    "print(graph[12,34])\n",
    "print(graph[34,12])"
   ]
  },
  {
   "cell_type": "markdown",
   "metadata": {},
   "source": [
    "**Dense** (および**Sprase**)は以下のメソッドを持っています。\n",
    "\n",
    "- .gen_spin(seed)  \n",
    "    乱数生成のためのseedを与えると、システムサイズ (ここでは$N=100$)分のスピン列を出力します。\n",
    "    seedがない場合にはランダムにseedが決定されます。\n",
    "- .size()  \n",
    "    問題のサイズ($N$)を表示します。\n",
    "- .adj_nodes(i)  \n",
    "    インデックス$i$に隣接するノード一覧を表示します。\n",
    "- .calc_energy(spin)  \n",
    "    スピン列spinを与えられた際に、エネルギー\n",
    "    \\begin{align}  \n",
    "    H &= \\sum_{i<j}J_{ij}\\sigma_i \\sigma_j + \\sum_{i=1}^{N}h_i \\sigma_i\n",
    "    \\end{align}\n",
    "    を計算します。"
   ]
  },
  {
   "cell_type": "markdown",
   "metadata": {},
   "source": [
    "## システムの設定 - System -\n",
    "\n",
    "続いて計算を行うためのシステムを定義します。ここで古典イジング模型か横磁場イジング模型か、また別の模型にするか等を選べます。\n",
    "\n",
    "まずは古典イジング模型のシステムを作成してみます。`system.make_classical_ising`で作成できます。"
   ]
  },
  {
   "cell_type": "code",
   "execution_count": 119,
   "metadata": {},
   "outputs": [],
   "source": [
    "import cxxjij.system as S\n",
    "\n",
    "mysystem = S.make_classical_ising(graph.gen_spin(), graph)"
   ]
  },
  {
   "cell_type": "markdown",
   "metadata": {},
   "source": [
    "ここで、引数の1つめにはランダムに生成したスピン、2つめはGraphそのものを代入しています。  \n",
    "これにより初期スピン配位が`graph.gen_spin()`となる古典イジング模型のシステムが作成できます。\n",
    "> `system.make_classical_ising`は内部でGraphとspinをそのまま保持しています。実装は[ここ](https://github.com/OpenJij/OpenJij/blob/ec41aecfbac7e4c895e1e7a1718f06eb7ffae0ba/src/system/classical_ising.hpp#L37)にあり、63行目でメンバ変数\n",
    "```cpp\n",
    "graph::Spins spin;\n",
    "const GraphType interaction;\n",
    "```\n",
    "が定義されています。  \n",
    "古典イジング模型に関しては、行列演算ライブラリEigenを用いて最適化されたシステムである`system.make_classical_ising_Eigen`も用意しています。(実装は[ここ](https://github.com/OpenJij/OpenJij/blob/ec41aecfbac7e4c895e1e7a1718f06eb7ffae0ba/src/system/classical_ising.hpp#L78))   \n",
    "計算速度はこちらのほうが速いので**実際の用途では`system.make_classical_ising_Eigen`を使うことをおすすめします。**\n",
    "\n",
    "システムに直接アクセスして、値を読むこともできます。"
   ]
  },
  {
   "cell_type": "code",
   "execution_count": 120,
   "metadata": {},
   "outputs": [
    {
     "name": "stdout",
     "output_type": "stream",
     "text": [
      "[-1, 1, -1, 1, 1, 1, -1, -1, 1, -1, 1, -1, -1, -1, -1, 1, 1, 1, -1, 1, 1, -1, 1, -1, -1, 1, 1, -1, -1, -1, 1, -1, -1, 1, -1, 1, 1, 1, 1, -1, 1, -1, -1, 1, 1, -1, 1, 1, 1, 1, -1, -1, -1, -1, 1, 1, -1, -1, 1, 1, -1, -1, 1, -1, 1, -1, -1, 1, 1, 1, 1, 1, 1, 1, -1, 1, 1, 1, -1, -1, -1, 1, -1, 1, 1, -1, -1, 1, -1, 1, 1, -1, -1, 1, -1, 1, -1, -1, 1, -1]\n"
     ]
    }
   ],
   "source": [
    "print(mysystem.spin)"
   ]
  },
  {
   "cell_type": "markdown",
   "metadata": {},
   "source": [
    "古典イジング模型以外にも様々なシステムが用意されており、用途別に使うことが出来ます。また、Systemによって初期化の方法は多少異なります。  \n",
    "後ほど少しずつ紹介していきます。\n",
    "\n",
    "## アルゴリズムの実行 -Updater, Algorithm-\n",
    "\n",
    "Systemを定義した後はUpdaterを選択してAlgorithmを実行していきます。  \n",
    "Systemに大して使用できるUpdaterは決められており、古典イジング模型に対するUpdaterは主に\n",
    "\n",
    "- [SingleSpinFlip](https://github.com/OpenJij/OpenJij/blob/ec41aecfbac7e4c895e1e7a1718f06eb7ffae0ba/src/updater/single_spin_flip.hpp#L40) (メトロポリス・ヘイスティング法によるスピン1つずつのアップデート)\n",
    "- [SwendsenWang](https://github.com/OpenJij/OpenJij/blob/ec41aecfbac7e4c895e1e7a1718f06eb7ffae0ba/src/updater/swendsen_wang.hpp#L45) (SwendsenWang法によるクラスターアップデート)\n",
    "\n",
    "が用意されています。  \n",
    "Algorithmを実行するにはまず**スケジュールリスト**が必要となるため、まずスケジュールリストを作成するところから始めます。\n",
    "\n",
    "### スケジュールリスト\n",
    "\n",
    "スケジュールリストは`(パラメータ, モンテカルロステップ数)`のリストで与えられ、パラメータにいれる値はSystemによって異なります。例えば古典イジング模型ならばパラメータとして温度の逆数である逆温度$\\beta$を設定します。\n",
    "例えばスケジュールリストとして"
   ]
  },
  {
   "cell_type": "code",
   "execution_count": 121,
   "metadata": {},
   "outputs": [],
   "source": [
    "schedule_list = [(0.01, 10),(10, 80),(0.1, 30)]"
   ]
  },
  {
   "cell_type": "markdown",
   "metadata": {},
   "source": [
    "と設定された場合、逆温度$\\beta=0.01$で10モンテカルロステップ、$\\beta=10$で80ステップ、$\\beta=0.1$で30ステップの計120モンテカルロステップを実行することを意味します。\n",
    "\n",
    "アニーリングを実行するにあたっては、逆温度は等比級数で増加させていくことが多いため、`utility`にある`make_classical_schedule_list`を使うと便利です。"
   ]
  },
  {
   "cell_type": "code",
   "execution_count": 122,
   "metadata": {},
   "outputs": [
    {
     "name": "stdout",
     "output_type": "stream",
     "text": [
      "[((beta: 0.100000) mcs: 20), ((beta: 0.199474) mcs: 20), ((beta: 0.397897) mcs: 20), ((beta: 0.793701) mcs: 20), ((beta: 1.583223) mcs: 20), ((beta: 3.158114) mcs: 20), ((beta: 6.299605) mcs: 20), ((beta: 12.566053) mcs: 20), ((beta: 25.065966) mcs: 20), ((beta: 50.000000) mcs: 20)]\n"
     ]
    }
   ],
   "source": [
    "import cxxjij.utility as U\n",
    "schedule_list = U.make_classical_schedule_list(0.1, 50, 20, 10)\n",
    "print(schedule_list)"
   ]
  },
  {
   "cell_type": "markdown",
   "metadata": {},
   "source": [
    "上の例では$\\beta=0.1$から$\\beta=50$まで、各温度で20モンテカルロステップ計算しながら10段階で温度を変えていくため、計200モンテカルロステップの計算となります。\n",
    "\n",
    "### Algorithm\n",
    "\n",
    "続いて、Algorithmを実行していきます。`Algorithm_[Updater]_run`のように書くことで、指定したUpdaterで計算を行うことができます。次例ではSingleSpinFlipを用います。"
   ]
  },
  {
   "cell_type": "code",
   "execution_count": 123,
   "metadata": {},
   "outputs": [],
   "source": [
    "import cxxjij.algorithm as A\n",
    "A.Algorithm_SingleSpinFlip_run(mysystem, schedule_list)"
   ]
  },
  {
   "cell_type": "markdown",
   "metadata": {},
   "source": [
    "一瞬で処理が終わりましたが、この間に計200モンテカルロステップの計算が終わっています。\n",
    "> `A.Algorithm_SingleSpinFlip_run(mysystem, seed, schedule_list)`とすることで、seedを固定したまま計算を行うことができます。結果に再現性をもたせたい際に使うことができます。"
   ]
  },
  {
   "cell_type": "markdown",
   "metadata": {},
   "source": [
    "callbackを使用することでAlgorithmの実行中に1モンテカルロステップごとのシステムを取得することができます。古典イジング模型の場合は、システムとパラメータ (逆温度)を引数を持つ関数を作成すれば良いです。\n",
    "\n",
    "ためしにシステムのエネルギーの値を記録するcallbackを作ってみましょう"
   ]
  },
  {
   "cell_type": "code",
   "execution_count": 124,
   "metadata": {},
   "outputs": [],
   "source": [
    "energies = []\n",
    "\n",
    "def callback_log_energy(system, beta):\n",
    "    #graphは以前にGraphモジュールにて定義したオブジェクトです\n",
    "    energies.append(graph.calc_energy(system.spin))"
   ]
  },
  {
   "cell_type": "markdown",
   "metadata": {},
   "source": [
    "このcallbackを用いて同じAlgorithmを実行します。"
   ]
  },
  {
   "cell_type": "code",
   "execution_count": 125,
   "metadata": {},
   "outputs": [],
   "source": [
    "#スケジュールをもっと長く取ります (計20000モンテカルロステップ)\n",
    "schedule_list = U.make_classical_schedule_list(0.1, 50, 200, 100)\n",
    "A.Algorithm_SingleSpinFlip_run(mysystem, schedule_list, callback_log_energy)"
   ]
  },
  {
   "cell_type": "markdown",
   "metadata": {},
   "source": [
    "記録したシステムのエネルギーを横軸をモンテカルロステップ、縦軸をエネルギーでプロットすると次のようになります。"
   ]
  },
  {
   "cell_type": "code",
   "execution_count": 126,
   "metadata": {},
   "outputs": [
    {
     "data": {
      "image/png": "[encoded data removed]",
      "text/plain": [
       "<Figure size 432x288 with 1 Axes>"
      ]
     },
     "metadata": {
      "needs_background": "light"
     },
     "output_type": "display_data"
    }
   ],
   "source": [
    "import matplotlib.pyplot as plt\n",
    "plt.plot(range(len(energies)), energies)\n",
    "plt.xlabel('Monte Carlo step')\n",
    "plt.ylabel('energy')\n",
    "plt.show()"
   ]
  },
  {
   "cell_type": "markdown",
   "metadata": {},
   "source": [
    "このように、アニーリングが進むに連れエネルギーが低くなっているのが分かります。Algorithmの動作中にシステムの様子を知りたい時に有用です。\n",
    "\n",
    "## 結果の取得 -Result-\n",
    "\n",
    "`result.get_solution`で計算結果であるスピン列を取得できます。古典イジング模型の場合は直接`mysystem.spin`を参照すればスピン列を取得できますが、`result.get_solution`はそれ以外のシステムについてもスピン列を取得できます。"
   ]
  },
  {
   "cell_type": "code",
   "execution_count": 127,
   "metadata": {},
   "outputs": [
    {
     "name": "stdout",
     "output_type": "stream",
     "text": [
      "[1, 1, 1, -1, 1, -1, 1, 1, 1, -1, -1, 1, 1, 1, 1, 1, 1, 1, -1, -1, -1, 1, -1, -1, -1, 1, -1, -1, -1, -1, 1, -1, -1, -1, 1, -1, 1, 1, 1, 1, -1, -1, 1, -1, -1, 1, 1, 1, 1, 1, -1, 1, -1, 1, 1, -1, 1, -1, -1, -1, -1, 1, 1, -1, 1, 1, -1, 1, 1, -1, 1, 1, -1, -1, 1, -1, 1, 1, 1, -1, -1, -1, -1, 1, -1, 1, 1, -1, -1, 1, -1, -1, -1, -1, -1, 1, 1, 1, -1, -1]\n"
     ]
    }
   ],
   "source": [
    "import cxxjij.result as R\n",
    "print(R.get_solution(mysystem))"
   ]
  },
  {
   "cell_type": "markdown",
   "metadata": {},
   "source": [
    "このスピン列がアニーリングによって得られた答えなので、ハミルトニアンの基底状態 (に近い状態)であることが期待されます。\n",
    "\n",
    "## `system.make_classical_ising_Eigen` \n",
    "\n",
    "注釈で述べたように、古典イジング模型には線形代数ライブラリである[Eigen](http://eigen.tuxfamily.org/index.php?title=Main_Page)で実装された`system.make_classical_ising_Eigen`があります。`system.make_classical_ising`との計算速度をシステムサイズを変えて比較してみましょう。"
   ]
  },
  {
   "cell_type": "code",
   "execution_count": 129,
   "metadata": {},
   "outputs": [
    {
     "data": {
      "image/png": "[encoded data removed]",
      "text/plain": [
       "<Figure size 432x288 with 1 Axes>"
      ]
     },
     "metadata": {
      "needs_background": "light"
     },
     "output_type": "display_data"
    }
   ],
   "source": [
    "import time\n",
    "\n",
    "N_list = [10, 20, 30, 50, 70, 80, 100, 150, 200, 300, 400, 500]\n",
    "\n",
    "#計算時間\n",
    "calctime = []\n",
    "#計算時間 (Eigen実装)\n",
    "calctime_eigen = []\n",
    "\n",
    "for N in N_list:\n",
    "    #Graphの初期化\n",
    "    graph = G.Dense(N)\n",
    "    for i in range(N):\n",
    "        for j in range(N):\n",
    "            #Jijの値が大きくなりすぎてしまうので、全体の係数を1/Nしています。\n",
    "            graph[i,j] = 0 if i == j else np.random.normal()/N\n",
    "\n",
    "    for i in range(N):\n",
    "        graph[i] = np.random.normal()/N\n",
    "    \n",
    "    #Systemの初期化\n",
    "    mysystem = S.make_classical_ising(graph.gen_spin(), graph)\n",
    "    mysystem_eigen = S.make_classical_ising_Eigen(graph.gen_spin(), graph)\n",
    "    \n",
    "    #スケジュールリスト (2000モンテカルロステップ)\n",
    "    schedule_list = U.make_classical_schedule_list(0.1, 50, 20, 100)\n",
    "    \n",
    "    t1 = time.time()\n",
    "    #アニーリング (Eigenなし)\n",
    "    A.Algorithm_SingleSpinFlip_run(mysystem, schedule_list)\n",
    "    t2 = time.time()\n",
    "    calctime.append(t2-t1)\n",
    "    \n",
    "    t1 = time.time()\n",
    "    #アニーリング (Eigenあり)\n",
    "    A.Algorithm_SingleSpinFlip_run(mysystem_eigen, schedule_list)\n",
    "    t2 = time.time()\n",
    "    calctime_eigen.append(t2-t1)\n",
    "\n",
    "#結果を両対数プロット\n",
    "plt.plot(N_list, calctime, 'ro-', label='Without Eigen')\n",
    "plt.plot(N_list, calctime_eigen, 'bx-', label='With Eigen')\n",
    "plt.xlabel('System size')\n",
    "plt.ylabel('Elapsed time[s]')\n",
    "plt.xscale('log')\n",
    "plt.yscale('log')\n",
    "plt.legend()\n",
    "plt.show()"
   ]
  },
  {
   "cell_type": "markdown",
   "metadata": {},
   "source": [
    "全体的にEigen実装のほうが計算が早く、大きいシステムサイズではほぼ10倍ほどのスピード差があります。"
   ]
  },
  {
   "cell_type": "markdown",
   "metadata": {},
   "source": [
    "## C++ core interface\n",
    "\n",
    "C++ core interfaceでも上記とほぼ同じことが可能ですが、多少の違いがあり、\n",
    "\n",
    "- seed値を入れる引数には、乱数生成器 (C++11 random)を代入する必要があります。今までのコードはC++で次のようになります。\n",
    "- Graphクラスで、$J_{ij}, h_i$へのアクセス方法が多少異なります。"
   ]
  },
  {
   "cell_type": "code",
   "execution_count": null,
   "metadata": {},
   "outputs": [],
   "source": []
  }
 ],
 "metadata": {
  "kernelspec": {
   "display_name": "Python 3",
   "language": "python",
   "name": "python3"
  },
  "language_info": {
   "codemirror_mode": {
    "name": "ipython",
    "version": 3
   },
   "file_extension": ".py",
   "mimetype": "text/x-python",
   "name": "python",
   "nbconvert_exporter": "python",
   "pygments_lexer": "ipython3",
   "version": "3.8.1"
  }
 },
 "nbformat": 4,
 "nbformat_minor": 4
}
