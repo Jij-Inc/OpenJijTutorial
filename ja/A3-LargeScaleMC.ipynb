{
 "cells": [
  {
   "cell_type": "markdown",
   "metadata": {},
   "source": [
    "# A3 - OpenJij core interface 実践"
   ]
  },
  {
   "cell_type": "markdown",
   "metadata": {},
   "source": [
    "前回ではスピン数$N=5$の小さいシステムでのデモンストレーションを行いましたが、この章ではさらに大規模な計算を通してOpenJij core interfaceの機能、使い方をより詳しく見ていきます。\n",
    "\n",
    "題材としてランダムイジング模型を取り上げます。この模型は、ハミルトニアンが\n",
    "\\begin{align}\n",
    "H &= \\sum_{i<j}J_{ij}\\sigma_i \\sigma_j + \\sum_{i=1}^{N}h_i \\sigma_i \\\\\n",
    "\\sigma_i &= \\pm 1 (i=1 \\cdots N)\n",
    "\\end{align}\n",
    "で与えられて、$J_{ij}, h_{i}$が$(i,j)$に対して様々な値を持つ模型です。\n",
    "様々な種類の最適化問題がこのような模型の一番低いエネルギーを求める問題となりますが、エネルギーの最も低い状態を実現する$\\sigma_i$を計算するには一般に非常に難しいです。\n",
    "\n",
    "### 問題の定義 - Graph -\n",
    "\n",
    "問題を定義してみましょう。`graph`の中の**Dense**モジュールが必要となります。\n",
    "> `graph`中には基本的に**Dense**モジュールと**Sparse**モジュールがあり、今回の例のように全ての$J_{ij}$で値が定義されている場合には**Dense**モジュールが適しています。多くの$J_{ij}$の要素が0の場合には**Sparse**が適しています。使い方はどちらもほぼ変わりません。"
   ]
  },
  {
   "cell_type": "code",
   "execution_count": 48,
   "metadata": {},
   "outputs": [],
   "source": [
    "import cxxjij.graph as G\n",
    "#問題サイズを100とします。\n",
    "N = 100\n",
    "\n",
    "graph = G.Dense(N)\n",
    "#sparseの場合\n",
    "#graph = G.Sparse(N)"
   ]
  },
  {
   "cell_type": "markdown",
   "metadata": {},
   "source": [
    "$J_{ij}, h_i$を設定します。今回は平均0、標準偏差1のGauss分布から生成される値を設定します。"
   ]
  },
  {
   "cell_type": "code",
   "execution_count": 49,
   "metadata": {},
   "outputs": [
    {
     "name": "stdout",
     "output_type": "stream",
     "text": [
      "Defaulting to user installation because normal site-packages is not writeable\n",
      "Requirement already satisfied: numpy in /home/jiko/.local/lib/python3.8/site-packages (1.18.1)\n"
     ]
    }
   ],
   "source": [
    "!pip install numpy #乱数生成にnumpyを使います。"
   ]
  },
  {
   "cell_type": "code",
   "execution_count": 50,
   "metadata": {},
   "outputs": [],
   "source": [
    "import numpy as np\n",
    "mu, sigma = 0, 1\n",
    "\n",
    "for i in range(N):\n",
    "    for j in range(N):\n",
    "        #Jijの値が大きくなりすぎてしまうので、全体の係数を1/Nしています。\n",
    "        graph[i,j] = 0 if i == j else np.random.normal()/N\n",
    "\n",
    "for i in range(N):\n",
    "    graph[i] = np.random.normal()/N"
   ]
  },
  {
   "cell_type": "markdown",
   "metadata": {},
   "source": [
    "ここで、縦磁場に関しては、`graph[i]`でも、`graph[i,i]`でもどちらでもアクセスできます。\n",
    "\n",
    "また、イジングモデルの定義上、$J_{ij}$と$J_{ji}$は自動で同じ値となります。"
   ]
  },
  {
   "cell_type": "code",
   "execution_count": 54,
   "metadata": {},
   "outputs": [
    {
     "name": "stdout",
     "output_type": "stream",
     "text": [
      "0.5\n",
      "0.5\n",
      "-0.6\n",
      "-0.6\n"
     ]
    }
   ],
   "source": [
    "graph[20] = 0.5\n",
    "print(graph[20,20])\n",
    "print(graph[20])\n",
    "graph[12,34] = -0.6\n",
    "print(graph[12,34])\n",
    "print(graph[34,12])"
   ]
  },
  {
   "cell_type": "markdown",
   "metadata": {},
   "source": [
    "**Dense** (および**Sprase**)は以下のメソッドを持っています。\n",
    "\n",
    "- .gen_spin(seed)\n",
    "    乱数生成のためのseedを与えると、システムサイズ (ここでは$N=100$)分のスピン列を出力します。\n",
    "    seedがない場合にはランダムにseedが決定されます。\n",
    "- .size()\n",
    "    問題のサイズ($N$)を表示します。\n",
    "- .adj_nodes(i)\n",
    "    インデックス$i$に隣接するノード一覧を表示します。\n",
    "- .calc_energy(spin)\n",
    "    スピン列spinを与えられた際に、エネルギー\n",
    "    \\begin{align}\n",
    "    H &= \\sum_{i<j}J_{ij}\\sigma_i \\sigma_j + \\sum_{i=1}^{N}h_i \\sigma_i\n",
    "    \\end{align}\n",
    "    を計算します。"
   ]
  },
  {
   "cell_type": "code",
   "execution_count": null,
   "metadata": {},
   "outputs": [],
   "source": []
  }
 ],
 "metadata": {
  "kernelspec": {
   "display_name": "Python 3",
   "language": "python",
   "name": "python3"
  },
  "language_info": {
   "codemirror_mode": {
    "name": "ipython",
    "version": 3
   },
   "file_extension": ".py",
   "mimetype": "text/x-python",
   "name": "python",
   "nbconvert_exporter": "python",
   "pygments_lexer": "ipython3",
   "version": "3.8.2"
  }
 },
 "nbformat": 4,
 "nbformat_minor": 4
}
