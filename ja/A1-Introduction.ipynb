{
 "cells": [
  {
   "cell_type": "markdown",
   "metadata": {},
   "source": [
    "# A1 - OpenJij core interface入門\n",
    "\n",
    "このチュートリアルではOpenJijのcore interfaceの使い方を説明し、簡単な計算のデモンストレーションを行います。\n",
    "\n",
    "core interfaceは前回までのチュートリアルよりも下部のレイヤーのAPIとなるため、対象読者としては前回までのOpenJijチュートリアルを一通り終えて、イジングモデルやモンテカルロ法などの用語を知っている方を想定しています。\n",
    "また、C++インターフェイスについても同時に紹介するため、ある程度のC++の知識があると望ましいです。"
   ]
  },
  {
   "cell_type": "markdown",
   "metadata": {},
   "source": [
    "## OpenJij core interface について\n",
    "\n",
    "前回までのチュートリアルではOpenJijを用いた様々な問題の解き方やベンチマークの取り方などを紹介してきましたが、OpenJijは最下層の部分は統計物理学の数値計算手法であるマルコフ連鎖モンテカルロ法をベースにC++を用いて実装されており、今まで触れてきたpythonモジュールはこのC++インターフェースを直接ラップしたpythonライブラリである**cxxjij**を呼び出す形で実装されています。図にすると次のような包含関係があります。\n",
    "\n",
    "[TODO: 図形]\n",
    "\n",
    "core interfaceを用いることでOpenJij上の全ての機能を使用することができるため、最適化問題のみならず、統計物理学の数値計算ツールとして研究用途で使用することもできます。\n",
    "また、C++インターフェースを用いることでより高速な演算を行うことができます。\n",
    "本チュートリアルではpythonインターフェースのcxxjijと、C++インターフェースの両方を紹介します。\n",
    "インストールにはpipを使用します。"
   ]
  },
  {
   "cell_type": "code",
   "execution_count": 93,
   "metadata": {},
   "outputs": [
    {
     "name": "stdout",
     "output_type": "stream",
     "text": [
      "Defaulting to user installation because normal site-packages is not writeable\n",
      "Requirement already satisfied: openjij in /home/jiko/.local/lib/python3.8/site-packages (0.0.11)\n",
      "Requirement already satisfied: requests in /home/jiko/.local/lib/python3.8/site-packages (from openjij) (2.23.0)\n",
      "Requirement already satisfied: numpy>=1.16.0 in /home/jiko/.local/lib/python3.8/site-packages (from openjij) (1.18.1)\n",
      "Requirement already satisfied: dimod==0.8.21 in /home/jiko/.local/lib/python3.8/site-packages (from openjij) (0.8.21)\n",
      "Requirement already satisfied: idna<3,>=2.5 in /home/jiko/.local/lib/python3.8/site-packages (from requests->openjij) (2.9)\n",
      "Requirement already satisfied: chardet<4,>=3.0.2 in /home/jiko/.local/lib/python3.8/site-packages (from requests->openjij) (3.0.4)\n",
      "Requirement already satisfied: certifi>=2017.4.17 in /home/jiko/.local/lib/python3.8/site-packages (from requests->openjij) (2019.11.28)\n",
      "Requirement already satisfied: urllib3!=1.25.0,!=1.25.1,<1.26,>=1.21.1 in /home/jiko/.local/lib/python3.8/site-packages (from requests->openjij) (1.25.8)\n",
      "Requirement already satisfied: six<2.0.0,>=1.10.0 in /home/jiko/.local/lib/python3.8/site-packages (from dimod==0.8.21->openjij) (1.14.0)\n"
     ]
    }
   ],
   "source": [
    "!pip install openjij"
   ]
  },
  {
   "cell_type": "markdown",
   "metadata": {},
   "source": [
    "## 問題を投げてみる\n",
    "\n",
    "チュートリアルとしてまずは変数のサイズが$N=5$の古典スピン ($\\sigma = \\pm 1$)イジング問題をアニーリングで解いてみましょう。ハミルトニアンは以下のようになります。\n",
    "\\begin{align}\n",
    "H &= \\sum_{i<j}J_{ij}\\sigma_i \\sigma_j + \\sum_{i=1}^{N}h_i \\sigma_i \\\\\n",
    "\\sigma_i &= \\pm 1 (i=1 \\cdots N)\n",
    "\\end{align}\n",
    "\n",
    "縦磁場と相互作用が\n",
    "$h_i = -1 \\ \\mathrm{for\\ } \\forall i,\\ J_{ij} = -1 \\mathrm{for\\ } \\forall i,j$\n",
    "だと各スピンは1の値をとった方がエネルギーが低くなるため、$\\{\\sigma_i\\} = \\{1,1,1,1,1\\}$が最適解となります。この問題を解いてみましょう。\n",
    "pythonコードを用いた一通りの流れは次のようになります。"
   ]
  },
  {
   "cell_type": "code",
   "execution_count": 102,
   "metadata": {},
   "outputs": [
    {
     "name": "stdout",
     "output_type": "stream",
     "text": [
      "[1, 1, 1, 1, 1]\n"
     ]
    }
   ],
   "source": [
    "# core interfaceではopenjijの代わりにcxxjijをインポートします。\n",
    "import cxxjij as cj\n",
    "\n",
    "# まず相互作用行列を作成してあげます。Graphモジュールを使います。\n",
    "import cxxjij.graph as G\n",
    "\n",
    "# 問題サイズN=5の密結合グラフ(Dense)を定義します。\n",
    "N = 5\n",
    "J = G.Dense(N)\n",
    "# 相互作用を設定してあげます。\n",
    "for i in range(N):\n",
    "    for j in range(N):\n",
    "        #J[i,i]以外に-1を入力\n",
    "        J[i,j] = 0 if i == j else -1.0\n",
    "\n",
    "# 縦磁場を設定してあげます。\n",
    "for i in range(N):\n",
    "    J[i] = -1\n",
    "\n",
    "# 続いてGraphから計算を行うためのSystemを作成します。\n",
    "import cxxjij.system as S\n",
    "\n",
    "# 今回は通常の古典モンテカルロ計算のシステムを使用します。\n",
    "# (Eigenは)\n",
    "system = S.make_classical_ising_Eigen(J.gen_spin(), J)\n",
    "# アニーリングスケジュールを設定します。Utilityモジュールを使用します。\n",
    "import cxxjij.utility as U\n",
    "\n",
    "schedule = U.make_classical_schedule_list(0.1, 100, 10, 10)\n",
    "# 実際にアニーリングを走らせます。Algorithmモジュールを使用します。\n",
    "# モンテカルロステップの更新方法として単純なSingleSpinFlipを用います。\n",
    "import cxxjij.algorithm as A\n",
    "\n",
    "A.Algorithm_SingleSpinFlip_run(system, schedule)\n",
    "# 結果を取得します。Resultモジュールにあるget_solutionを用います。\n",
    "import cxxjij.result as R\n",
    "\n",
    "print(R.get_solution(system))"
   ]
  },
  {
   "cell_type": "markdown",
   "metadata": {},
   "source": [
    "出てきた答えが$[1,1,1,1,1]$になったのが確認できます。\n",
    "低レイヤーのAPIのため、設定する項目は多いですがその分柔軟な設定が可能となります。\n",
    "\n",
    "## モジュール一覧\n",
    "\n",
    "コード例に出てきたように、OpenJij core interfaceでは主に次のモジュール群からなります。この章では簡単な紹介にとどめておき、詳細な解説は次章以降で行います。\n",
    "\n",
    "### `Graph`\n",
    "\n",
    "問題のグラフ構造 (相互作用係数$J_{ij}$)を定義するためのモジュールです。密結合や疎結合に対応したクラスを持っており、タイプに応じて最適化された実装がなされています。\n",
    "\n",
    "### `System`\n",
    "\n",
    "モンテカルロ等の計算を行うためのシステムを定義するためのモジュールです。使用する手法に応じて様々なクラス (古典イジングシステム、横磁場イジングシステム等)が用意されています。\n",
    "\n",
    "### `Updater`\n",
    "\n",
    "どのような手法で`System`"
   ]
  },
  {
   "cell_type": "code",
   "execution_count": null,
   "metadata": {},
   "outputs": [],
   "source": []
  }
 ],
 "metadata": {
  "kernelspec": {
   "display_name": "Python 3",
   "language": "python",
   "name": "python3"
  },
  "language_info": {
   "codemirror_mode": {
    "name": "ipython",
    "version": 3
   },
   "file_extension": ".py",
   "mimetype": "text/x-python",
   "name": "python",
   "nbconvert_exporter": "python",
   "pygments_lexer": "ipython3",
   "version": "3.8.2"
  }
 },
 "nbformat": 4,
 "nbformat_minor": 4
}
