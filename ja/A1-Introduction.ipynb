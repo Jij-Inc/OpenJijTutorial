{
 "cells": [
  {
   "cell_type": "markdown",
   "metadata": {},
   "source": [
    "# A1 - OpenJij core interface入門 (core python interface)\n",
    "\n",
    "このチュートリアルではOpenJijのcore interface (core python interface)の使い方を説明し、簡単な計算のデモンストレーションを行います。\n",
    "\n",
    "core interfaceは前回までのチュートリアルよりも下部のレイヤーのAPIとなるため、対象読者としては前回までのOpenJijチュートリアルを一通り終えて、イジングモデルやモンテカルロ法などの用語を知っている方を想定しており、\n",
    "\n",
    "* 最適化問題だけでなくサンプリングや研究用途などより一般的な用途にOpenJijを用いたい\n",
    "* アニーリングスケジュールの設定や使用するアルゴリズム等を直接触りたい\n",
    "\n",
    "といった目的に使用できます。"
   ]
  },
  {
   "cell_type": "markdown",
   "metadata": {},
   "source": [
    "## OpenJij core interface について\n",
    "\n",
    "前回までのチュートリアルではOpenJijを用いた様々な問題の解き方やベンチマークの取り方などを紹介してきましたが、OpenJijは最下層の部分は統計物理学の数値計算手法であるマルコフ連鎖モンテカルロ法をベースにC++を用いて実装されており、今まで触れてきたpythonモジュールはこのC++インターフェースを直接ラップしたpythonライブラリである**cxxjij**を呼び出す形で実装されています。図にすると次のような包含関係があります。\n",
    "\n",
    "<img src=\"hierarchy.png\" alt=\"OpenJij hierarchy\"/>\n",
    "\n",
    "core interfaceを用いることでOpenJij上の全ての機能を使用することができるため、最適化問題のみならず、統計物理学の数値計算ツールとして研究用途で使用することもできます。\n",
    "また、C++インターフェースを用いることでより高速な演算を行うことができます。\n",
    "本チュートリアルではpythonインターフェースのcxxjijと、C++インターフェースの両方を紹介します。\n",
    "インストールにはpipを使用します。"
   ]
  },
  {
   "cell_type": "code",
   "execution_count": 7,
   "metadata": {},
   "outputs": [],
   "source": [
    "#!pip install openjij\n",
    "#!pip show openjij"
   ]
  },
  {
   "cell_type": "markdown",
   "metadata": {},
   "source": [
    "## 問題を投げてみる\n",
    "\n",
    "チュートリアルとしてまずは変数のサイズが$N=5$の古典スピン ($\\sigma = \\pm 1$)イジング問題をアニーリングで解いてみましょう。ハミルトニアンは以下のようになります。\n",
    "\\begin{align}\n",
    "H &= \\sum_{i<j}J_{ij}\\sigma_i \\sigma_j + \\sum_{i=1}^{N}h_i \\sigma_i \\\\\n",
    "\\sigma_i &= \\pm 1 (i=1 \\cdots N)\n",
    "\\end{align}\n",
    "\n",
    "縦磁場と相互作用が\n",
    "$h_i = -1 \\ \\mathrm{for\\ } \\forall i,\\ J_{ij} = -1 \\mathrm{for\\ } \\forall i,j$\n",
    "だと各スピンは1の値をとった方がエネルギーが低くなるため、$\\{\\sigma_i\\} = \\{1,1,1,1,1\\}$が最適解となります。この問題を解いてみましょう。\n",
    "pythonコードを用いた一通りの流れは次のようになります。\n",
    "\n",
    "> core interfaceはイジング問題に特化したソルバのため、QUBOとの変換は実装されていません。QUBOとの変換を行うには今までのチュートリアルを参照し、core interfaceを呼ぶ前にQUBOからイジング問題へ変換してください。"
   ]
  },
  {
   "cell_type": "code",
   "execution_count": 14,
   "metadata": {},
   "outputs": [
    {
     "name": "stdout",
     "output_type": "stream",
     "text": [
      "The solution is [1, 1, 1, 1, 1].\n"
     ]
    }
   ],
   "source": [
    "# core interfaceではopenjijの代わりにcxxjijをインポートします。\n",
    "import cxxjij as cj\n",
    "\n",
    "# まず相互作用行列を作成してあげます。Graphモジュールを使います。\n",
    "import cxxjij.graph as G\n",
    "\n",
    "# 問題サイズN=5の密結合グラフ(Dense)を定義します。\n",
    "N = 5\n",
    "J = G.Dense(N)\n",
    "# 相互作用を設定してあげます。\n",
    "for i in range(N):\n",
    "    for j in range(N):\n",
    "        #J[i,i]以外に-1を入力\n",
    "        J[i,j] = 0 if i == j else -1.0\n",
    "\n",
    "# 縦磁場を設定してあげます。\n",
    "for i in range(N):\n",
    "    J[i] = -1\n",
    "\n",
    "# 続いてGraphから計算を行うためのSystemを作成します。\n",
    "import cxxjij.system as S\n",
    "\n",
    "# 今回は通常の古典モンテカルロ計算のシステムを使用します。\n",
    "# (Eigenは)\n",
    "system = S.make_classical_ising_Eigen(J.gen_spin(), J)\n",
    "# アニーリングスケジュールを設定します。Utilityモジュールを使用します。\n",
    "import cxxjij.utility as U\n",
    "schedule = U.make_classical_schedule_list(0.1, 100, 10, 10)\n",
    "\n",
    "# 実際にアニーリングを走らせます。Algorithmモジュールを使用します。\n",
    "# モンテカルロステップの更新方法として単純なSingleSpinFlipを用います。\n",
    "import cxxjij.algorithm as A\n",
    "A.Algorithm_SingleSpinFlip_run(system, schedule)\n",
    "\n",
    "# 結果を取得します。Resultモジュールにあるget_solutionを用います。\n",
    "import cxxjij.result as R\n",
    "print(\"The solution is {}.\".format(R.get_solution(system)))"
   ]
  },
  {
   "cell_type": "markdown",
   "metadata": {},
   "source": [
    "出てきた答えが$[1,1,1,1,1]$になったのが確認できます。\n",
    "低レイヤーのAPIのため、設定する項目は多いですがその分詳細な設定が可能となります。\n",
    "\n",
    "## モジュール一覧\n",
    "\n",
    "コード例に出てきたように、OpenJij core interfaceでは主に`graph`, `system`, `algorithm`などのモジュールから成り立っており、それぞれのモジュールを組み合わせることで様々な種類、アルゴリズムを用いてイジングモデルを計算することが可能になっています。また新たにアルゴリズムを実装する際に拡張が容易であるという特徴を備えています。次章以降で詳細な説明を行います。\n",
    "\n",
    "### Graph\n",
    "\n",
    "イジングハミルトニアンの係数$J_{ij}$を保持するためのモジュールです。基本的に密結合 (全てのJijが0以外の値を持つモデルに適している)を扱う`Dense`と疎結合 (Jijの多くの値が0であるモデルに適している)`Sparse`の2種類が存在します。また、`Sparse`から継承された`Square` (正方格子)、`Chimera` (D-Waveのキメラグラフ)も備えています。内部のC++実装ではそれぞれの構造に合わせて最適なデータ構造で実装されています。\n",
    "\n",
    "### System\n",
    "\n",
    "`system`ではモンテカルロ等の計算における、現在のシステムの状態を保持するためのデータ構造が定義されています。具体的には\n",
    "\n",
    "- 古典イジングモデル (スピン配列)\n",
    "- 横磁場イジングモデル (トロッター分解も含んだスピン配列)\n",
    "- GPU実装古典、量子イジングモデル\n",
    "\n",
    "等が定義されています。モンテカルロ法を始めとする計算手法には極めて様々な手法がある (もしくは今後新しい手法が開発されていく)ため、OpenJijでは各々の計算手法に対応するデータ構造とアルゴリズム、また計算結果の取得インターフェースを分離することにより、様々なアルゴリズムを追加することが容易に行えるように設計されています。\n",
    "\n",
    "### Updater\n",
    "\n",
    "どのような手法で`system`を更新していくかを定義します。具体的には\n",
    "- SingleSpinFlip Update\n",
    "- SwendsenWang Update\n",
    "\n",
    "などの手法が実装されています。\n",
    "\n",
    "> core python interfaceでは`algorithm`と統合されています。\n",
    "\n",
    "### Algorithm\n",
    "\n",
    "`updater`を用いてどのようなスケジュールでアニーリングアルゴリズムを実行するか等、アルゴリズムを実行する役割を担います。\n",
    "\n",
    "### Result\n",
    "\n",
    "`system`からスピン配位などの情報を得るために使用されます。"
   ]
  },
  {
   "cell_type": "code",
   "execution_count": null,
   "metadata": {},
   "outputs": [],
   "source": []
  }
 ],
 "metadata": {
  "kernelspec": {
   "display_name": "Python 3",
   "language": "python",
   "name": "python3"
  },
  "language_info": {
   "codemirror_mode": {
    "name": "ipython",
    "version": 3
   },
   "file_extension": ".py",
   "mimetype": "text/x-python",
   "name": "python",
   "nbconvert_exporter": "python",
   "pygments_lexer": "ipython3",
   "version": "3.8.1"
  }
 },
 "nbformat": 4,
 "nbformat_minor": 4
}
