{
 "cells": [
  {
   "cell_type": "markdown",
   "metadata": {},
   "source": [
    "# OpenJij 入門\n",
    "\n",
    "2019/4/10  \n",
    "OpenJijは Isingモデル, QUBOのヒューリステック最適化ライブラリです。  \n",
    "最適化のコア部分はc++で実装されていますが、Pythonインターフェースを備えているため、Pythonで簡単に書くことができます。"
   ]
  },
  {
   "cell_type": "markdown",
   "metadata": {},
   "source": [
    "### Ising model\n",
    "\n",
    "Ising model は物理で扱われるモデルで以下のように書かれます。\n",
    "\n",
    "$$H(\\{\\sigma_i\\}) = \\sum_{i > j} J_{ij}\\sigma_i \\sigma_j + \\sum_{i=1}^N h_i \\sigma_i$$\n",
    "$$\\sigma_i \\in \\{-1, 1\\}, i=1,\\cdots N$$\n",
    "\n",
    "$H(\\{\\sigma_i\\})$がハミルトニアンと呼ばれますが、エネルギーやコスト関数だと思ってください。  \n",
    "$\\sigma_i$は2値$(1, -1)$を取る変数です。\n",
    "\n",
    "> $\\sigma_i$は物理ではスピンという物理量に対応するため、スピン変数もしくは単純にスピンと呼ばれることもあります。\n",
    "> スピンとは小さな磁石のようなものです。-1 が磁石が上向き、1が下向きのように変数の値と物理(磁石の向き)が対応します。\n",
    "\n",
    "$H$は変数の組み合わせ$\\{\\sigma_i\\} = \\{\\sigma_1, \\sigma_2, \\cdots, \\sigma_N\\}$に依存します。  \n",
    "$J_{ij}, h_i$が与えられる問題を表し、それぞれ、相互作用、縦磁場と呼ばれます。\n",
    "\n",
    "OpenJijは$J_{ij} と h_i$が与えられたときに$H(\\{\\sigma_i\\})$を最小化するスピン変数の組み$\\{\\sigma_i\\}$を探してくれるライブラリです。\n",
    "\n",
    "具体的な例を一つ見ましょう。"
   ]
  },
  {
   "cell_type": "markdown",
   "metadata": {},
   "source": [
    "## OpenJijに問題を投げてみる\n",
    "\n",
    "変数の数が$N=5$で縦磁場と相互作用が\n",
    "$$h_i = -1~\\text{for} ~\\forall i, ~ J_{ij} = -1~\\text{for} ~\\forall i, j$$\n",
    "だとしましょう。この場合全ての相互作用がマイナスなので各スピン変数は同じ値をとった方がエネルギーは低くなります。\n",
    "また縦磁場は全てマイナスです。この場合各スピンは1の値をとった方がエネルギーが低くなります。  \n",
    "よってこの場合の答えは $\\{\\sigma_i\\} = \\{1, 1, 1, 1, 1\\}$になります。\n",
    "\n",
    "では、OpenJijを使って計算してみましょう。"
   ]
  },
  {
   "cell_type": "code",
   "execution_count": 1,
   "metadata": {},
   "outputs": [
    {
     "name": "stdout",
     "output_type": "stream",
     "text": [
      "h_i:  {0: -1, 1: -1, 2: -1, 3: -1, 4: -1}\n",
      "Jij:  {(0, 1): -1, (0, 2): -1, (0, 3): -1, (0, 4): -1, (1, 2): -1, (1, 3): -1, (1, 4): -1, (2, 3): -1, (2, 4): -1, (3, 4): -1}\n"
     ]
    }
   ],
   "source": [
    "import openjij as oj\n",
    "\n",
    "# 問題を表す縦磁場と相互作用を作ります。OpenJijでは辞書型で問題を受け付けます。\n",
    "N = 5\n",
    "h = {i: -1 for i in range(N)}\n",
    "J = {(i, j): -1 for i in range(N) for j in range(i+1, N)}\n",
    "\n",
    "print('h_i: ', h)\n",
    "print('Jij: ', J)"
   ]
  },
  {
   "cell_type": "code",
   "execution_count": 2,
   "metadata": {},
   "outputs": [
    {
     "data": {
      "text/plain": [
       "[[1, 1, 1, 1, 1]]"
      ]
     },
     "execution_count": 2,
     "metadata": {},
     "output_type": "execute_result"
    }
   ],
   "source": [
    "# まず問題を解いてくれるSamplerのインスタンスを作ります。このインスタンスの選択で問題を解くアルゴリズムを選択できます。\n",
    "sampler = oj.SASampler()\n",
    "# samplerのメソッドに問題(h, J)を投げて問題を解きます。\n",
    "response = sampler.sample_ising(h, J)\n",
    "\n",
    "# 問題の解は result.states に入っています。\n",
    "response.states"
   ]
  },
  {
   "cell_type": "markdown",
   "metadata": {},
   "source": [
    "## OpenJijの解説\n",
    "\n",
    "では、上で解いてみたコードの解説をします。  \n",
    "またOpenJijは現在インターフェースを2つ備えていて、上記で使ったものはD-Wave Oceanと同じようなインターフェースになっているので、OpenJijで慣れておけばOceanへの変更はそこまで負担にはならないかと思います。\n",
    "\n",
    "> もう一つのインターフェースについてはここでは解説しませんが、OpenJijの仕組み`graph, method, algorithm`を直接使うことで拡張のしやすさを備えています。しかし現状は上記のセルで扱ったインターフェースを使えるようになるだけで十分でしょう。\n",
    "\n",
    "### Sampler\n",
    "\n",
    "先ほどは問題を辞書型で作ったあとに、Samplerのインスタンスを作りました。\n",
    "```python\n",
    "sampler = oj.SASampler()\n",
    "```\n",
    "ここでこのSamplerというのが、どういうアルゴリズム、マシンを使うかを選択するところになります。他のアルゴリズムを試したい時はこのSamplerを変更します。\n",
    "\n",
    "> OpenJijで扱っているアルゴリズムはヒューリスティックな確率アルゴリズムで問題を解くたびに返す解が違ったり、必ずしも最適解を得ることができません。\n",
    "> なので何回も解いてみてその中でよい解を探すという手法をとります。なので解をサンプリングするという気持ちを込めてSamplerと呼んでいます。\n",
    "\n",
    "上のセルであつかった`SASampler`は`Simulated annealing`というアルゴリズムで解をサンプリングしてくるSamplerです。  \n",
    "他にも\n",
    "\n",
    "- SQASampler : Simulated quantum annealing(SQA) という量子アニーリングを古典コンピュータでシミュレーションするアルゴリズム.\n",
    "- GPUSQASampler : SQAをGPUで実行するSampler. Chimeraグラフという特殊な構造のみが現状扱える. 不安定.\n",
    "\n",
    "というSamplerが用意されています。\n",
    "\n",
    "### sample_ising(h, J)\n",
    "まあ書いてあるように問題を解く時は `.sample_ising(h, J)`はで問題を投げて解きます。\n",
    "\n",
    "後から解説しますが、ちなみにIsingモデルと等価なQUBOの最適化を行う時は`.sample_qubo(Q)`を使います。\n",
    "\n",
    "### Response\n",
    "\n",
    "`.sample_ising(h, J)`はResponseクラスを返します。ResponseクラスにはSamplerが解いて出てきた解と各解のエネルギーが入っています。\n",
    "- .states :\n",
    "    - type : list(list(int))\n",
    "    - iteration回だけおこなった分の解が格納されている\n",
    "    > 物理ではスピンの配列(解)を状態と呼ぶことがあります。.statesにはiteration回だけ解いた解が格納されているので複数の状態を格納しているという気持ちを込めて .states としています。\n",
    "- .energies:\n",
    "    - type : list(float)\n",
    "    - iteration回だけおこなった各解のエネルギーが格納されている\n",
    "- .indices:\n",
    "    - type: list(object)\n",
    "    - 解がlistでstatesに入っているが、それに対応する各スピンの添字を格納する\n",
    "\n",
    "というパラメータが参照できます。わかりずらいので実際にコードを見てみましょう。\n",
    "\n"
   ]
  },
  {
   "cell_type": "code",
   "execution_count": 3,
   "metadata": {},
   "outputs": [
    {
     "data": {
      "text/plain": [
       "[[-1, 1, 1],\n",
       " [-1, 1, 1],\n",
       " [-1, 1, 1],\n",
       " [-1, 1, 1],\n",
       " [-1, 1, 1],\n",
       " [-1, 1, 1],\n",
       " [-1, 1, 1],\n",
       " [-1, 1, 1],\n",
       " [-1, 1, 1],\n",
       " [-1, 1, 1]]"
      ]
     },
     "execution_count": 3,
     "metadata": {},
     "output_type": "execute_result"
    }
   ],
   "source": [
    "# 実は h, J の添字を示す、辞書のkeyは数値以外も扱えます。\n",
    "h = {'a': -1, 'b': -1}\n",
    "J = {('a', 'b'): -1, ('b', 'c'): 1}\n",
    "sampler = oj.SASampler(iteration=10)  # 10回 SAで解いてみる. iteration という引数で10回分一気に解くことができます。\n",
    "response = sampler.sample_ising(h, J)\n",
    "response.states"
   ]
  },
  {
   "cell_type": "markdown",
   "metadata": {},
   "source": [
    "では response.states をみてみると、10回分の解が入っていることがわかります。  \n",
    "今回は問題が簡単なので10回といても毎回同じ答え [1,-1,1] になっています。\n",
    "次はエネルギーを見てみましょう。"
   ]
  },
  {
   "cell_type": "code",
   "execution_count": 4,
   "metadata": {},
   "outputs": [
    {
     "data": {
      "text/plain": [
       "[-4.0, -4.0, -4.0, -4.0, -4.0, -4.0, -4.0, -4.0, -4.0, -4.0]"
      ]
     },
     "execution_count": 4,
     "metadata": {},
     "output_type": "execute_result"
    }
   ],
   "source": [
    "response.energies"
   ]
  },
  {
   "cell_type": "markdown",
   "metadata": {},
   "source": [
    "エネルギーももちろん10回とも同じ値を取っています。  \n",
    "`response.states`に入っている解はリストになっているので問題をセットした時の `a, b, c`という文字列との対応がわかりません。それは`response.indices`に入っています。"
   ]
  },
  {
   "cell_type": "code",
   "execution_count": 5,
   "metadata": {},
   "outputs": [
    {
     "data": {
      "text/plain": [
       "['c', 'a', 'b']"
      ]
     },
     "execution_count": 5,
     "metadata": {},
     "output_type": "execute_result"
    }
   ],
   "source": [
    "response.indices"
   ]
  },
  {
   "cell_type": "markdown",
   "metadata": {},
   "source": [
    "辞書に変換したい場合は内包表記などを使うといいかもしれません。"
   ]
  },
  {
   "cell_type": "code",
   "execution_count": 6,
   "metadata": {},
   "outputs": [
    {
     "data": {
      "text/plain": [
       "[{'c': -1, 'a': 1, 'b': 1},\n",
       " {'c': -1, 'a': 1, 'b': 1},\n",
       " {'c': -1, 'a': 1, 'b': 1},\n",
       " {'c': -1, 'a': 1, 'b': 1},\n",
       " {'c': -1, 'a': 1, 'b': 1},\n",
       " {'c': -1, 'a': 1, 'b': 1},\n",
       " {'c': -1, 'a': 1, 'b': 1},\n",
       " {'c': -1, 'a': 1, 'b': 1},\n",
       " {'c': -1, 'a': 1, 'b': 1},\n",
       " {'c': -1, 'a': 1, 'b': 1}]"
      ]
     },
     "execution_count": 6,
     "metadata": {},
     "output_type": "execute_result"
    }
   ],
   "source": [
    "[{key: s for key, s in zip(response.indices, state)} for state in response.states]"
   ]
  },
  {
   "cell_type": "markdown",
   "metadata": {},
   "source": [
    "## QUBOを解いてみる\n",
    "\n",
    "社会の問題を解きたい場合は Ising モデルよりも QUBO(Quadratic unconstraited binary optimization)として定式化した方が素直な場合が多いです。基本的には上記のIsing モデルを使って解いた場合と同じです。\n",
    "\n",
    "QUBOは以下のように書かれます。\n",
    "\n",
    "$$H(\\{q_i\\}) = \\sum_{i\\geq j} Q_{ij}q_i q_j$$\n",
    "$$q_i \\in \\{0, 1\\}$$\n",
    "\n",
    "Ising モデルと違うのは2値変数が0 と 1を取ることです。$\\sum, Q_{ij}$の取り方には他にもやり方がありますが($Q_{ij}$を対称行列にする)、今回は上記のように定式化しておきます。\n",
    "\n",
    "> Ising モデル と QUBO は相互変換が可能という意味で等価です。\n",
    "> $q_i = (\\sigma_i + 1)/2$という変換式で変換が可能です。\n",
    "\n",
    "QUBOでは$Q_{ij}$が与える問題で、$H(\\{q_i\\})$を最小化する0, 1の組み合わせ$\\{q_i\\}$を探せという問題になります。ほぼIsingモデルと一緒です。\n",
    "\n",
    "また$q_i^2 = q_i$なので(0, 1しか値を取らないことからわかる)以下のように書き分けることができます。\n",
    "\n",
    "$$H(\\{q_i\\}) = \\sum_{i > j} Q_{ij}q_i q_j + \\sum_i Q_{ii} q_i$$\n",
    "\n",
    "つまり$Q_{ij}$の添字が同じところは $q_i$の1次項の係数に対応します。\n",
    "\n",
    "OpenJijで解いてみましょう。"
   ]
  },
  {
   "cell_type": "code",
   "execution_count": 7,
   "metadata": {},
   "outputs": [
    {
     "data": {
      "text/plain": [
       "[[1, 1, 0], [1, 1, 0], [1, 1, 0]]"
      ]
     },
     "execution_count": 7,
     "metadata": {},
     "output_type": "execute_result"
    }
   ],
   "source": [
    "# Q_ij を辞書型でつくります。\n",
    "Q = {(0, 0): -1, (0, 1): -1, (1, 2): 1, (2, 2): 1}\n",
    "sampler = oj.SASampler(iteration=3)\n",
    "# QUBOを解く時は .sample_qubo を使いましょう\n",
    "response = sampler.sample_qubo(Q)\n",
    "response.states"
   ]
  },
  {
   "cell_type": "markdown",
   "metadata": {},
   "source": [
    "QUBOでは変数が 0, 1なので 0, 1で解がでていることがわかります。  \n",
    "このような感じでOpenJij では IsingモデルとQUBOの最適化問題を解くことができます。"
   ]
  },
  {
   "cell_type": "markdown",
   "metadata": {},
   "source": [
    "## 少し難しい問題を解いてみる\n",
    "\n",
    "上で解いた問題は簡単すぎたので少し難しい問題を解いてみましょう。\n",
    "\n",
    "変数の数が50個でランダムに$Q_{ij}$が振られたQUBOを解いてみたいと思います。"
   ]
  },
  {
   "cell_type": "code",
   "execution_count": 8,
   "metadata": {},
   "outputs": [],
   "source": [
    "N = 50\n",
    "# ランダムにQij を作る\n",
    "import random\n",
    "Q = {(i, j): random.uniform(-1, 1) for i in range(N) for j in range(i+1, N)}\n",
    "\n",
    "# OpenJijで解く\n",
    "sampler = oj.SASampler(iteration=100)\n",
    "response = sampler.sample_qubo(Q)"
   ]
  },
  {
   "cell_type": "code",
   "execution_count": 9,
   "metadata": {},
   "outputs": [
    {
     "data": {
      "text/plain": [
       "[-48.41107913073547,\n",
       " -48.315491572456,\n",
       " -48.292102242979794,\n",
       " -48.68029951585413,\n",
       " -48.593922947364135]"
      ]
     },
     "execution_count": 9,
     "metadata": {},
     "output_type": "execute_result"
    }
   ],
   "source": [
    "# エネルギーを少しみてみます。\n",
    "response.energies[:5]"
   ]
  },
  {
   "cell_type": "markdown",
   "metadata": {},
   "source": [
    "エネルギーをみてみると先ほどとは違って違う値をとっていることがわかると思います。  \n",
    "ランダムにQij を振った場合、一般に問題は難しくなります。なのでSASamplerも毎回同じ解を出すとは限りません。  \n",
    "ではどのような解がでたのかエネルギーのヒストグラムで見てみましょう。"
   ]
  },
  {
   "cell_type": "code",
   "execution_count": 10,
   "metadata": {},
   "outputs": [
    {
     "data": {
      "text/plain": [
       "<Figure size 640x480 with 1 Axes>"
      ]
     },
     "metadata": {},
     "output_type": "display_data"
    }
   ],
   "source": [
    "import matplotlib.pyplot as plt\n",
    "plt.hist(response.energies, bins=15)\n",
    "plt.xlabel('Energy', fontsize=15)\n",
    "plt.ylabel('Frequency', fontsize=15)\n",
    "plt.show()"
   ]
  },
  {
   "cell_type": "markdown",
   "metadata": {},
   "source": [
    "エネルギーが低ければ低いほど良いわけですが、たまにエネルギーが高い解もでていることがわかります。\n",
    "しかし半数近くがエネルギーが低い解として出ているようです。\n",
    "\n",
    "100回解いたわけですが、最適解はエネルギーが一番低い解なはずですから、解いた(サンプルした)解のうちエネルギーが一番低い解が最適解に近いはずなので、その解を.statesから探します。\n",
    "> 注意: SAは必ずしも最適解を出せないのでここでエネルギーが一番低い解を選んでも最適解であるという保証はありません。  \n",
    "> あくまで近似解です。"
   ]
  },
  {
   "cell_type": "code",
   "execution_count": 11,
   "metadata": {},
   "outputs": [
    {
     "name": "stdout",
     "output_type": "stream",
     "text": [
      "[0 1 1 1 0 1 0 0 0 0 1 0 1 1 0 1 0 1 0 1 1 1 1 0 0 1 1 0 0 0 1 1 0 1 0 0 0\n",
      " 1 1 0 0 1 0 1 1 1 1 1 0 1]\n",
      "[0 1 1 1 0 1 0 0 0 0 1 0 1 1 0 1 0 1 0 1 1 1 1 0 0 1 1 0 0 0 1 1 0 1 0 0 0\n",
      " 1 1 0 0 1 0 1 1 1 1 1 0 1]\n",
      "[0 1 1 1 0 1 0 0 0 0 1 0 1 1 0 1 0 1 0 1 1 1 1 0 0 1 1 0 0 0 1 1 0 1 0 0 0\n",
      " 1 1 0 0 1 0 1 1 1 1 1 0 1]\n"
     ]
    }
   ],
   "source": [
    "import numpy as np\n",
    "# エネルギーの最小値をとってきます。\n",
    "min_e = min(response.energies)\n",
    "# エネルギーの最小値を持つリストの添字を探します。\n",
    "min_e_indices = np.where(np.array(response.energies) == min_e)[0]\n",
    "\n",
    "# エネルギーが min_e の解をとってきます。\n",
    "min_state = np.array(response.states)[min_e_indices]\n",
    "\n",
    "# 解を一部みてみます\n",
    "for state in min_state[:5]:\n",
    "    print(state)"
   ]
  },
  {
   "cell_type": "markdown",
   "metadata": {},
   "source": [
    "これでエネルギーが低い解を得ることができました。この`min_state`に入っている解が今回解いた近似解です。\n",
    "`min_state`に入っている解はエネルギーは同じですが、問題によってはスピンの配列がことなることもあります(エネルギーが同じで解が違う状態があることを「縮退している」と言います)。\n",
    "\n",
    "なので上記のようにしてエネルギーが低い状態を選んだあとにあとは、好みのスピン配列を`min_state`から選んで「問題を近似的に解いた。」\n",
    "ということになります。  \n",
    "現状(2019/4/10) OpenJij はアニーリングアルゴリズムの部分だけのサポートですがこれから、前処理や最後に少し行った後処理もサポートしていきます。\n",
    "\n",
    "次回は \"2-Evaluation\" で Time to solution や残留エネルギーなど解をはかる指標について説明します。"
   ]
  },
  {
   "cell_type": "code",
   "execution_count": null,
   "metadata": {},
   "outputs": [],
   "source": []
  }
 ],
 "metadata": {
  "kernelspec": {
   "display_name": "openjij3",
   "language": "python",
   "name": "openjij3"
  },
  "language_info": {
   "codemirror_mode": {
    "name": "ipython",
    "version": 3
   },
   "file_extension": ".py",
   "mimetype": "text/x-python",
   "name": "python",
   "nbconvert_exporter": "python",
   "pygments_lexer": "ipython3",
   "version": "3.7.1"
  }
 },
 "nbformat": 4,
 "nbformat_minor": 2
}
