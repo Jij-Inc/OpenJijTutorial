{
 "cells": [
  {
   "cell_type": "markdown",
   "metadata": {},
   "source": [
    "## A1-OpenJij (cxxjij編)"
   ]
  },
  {
   "cell_type": "markdown",
   "metadata": {},
   "source": [
    "今までのチュートリアルではOpenJijの様々な機能を紹介してきましたが、本チュートリアルではOpenJijの更に深いレイヤーであるcxxjijの紹介をします。\n",
    "\n",
    "基本的にOpenJijのチュートリアルを一通り読んだ人や量子アニーリング等の数式に多少馴染みがある人向けの内容で、\n",
    "\n",
    "- 最適化問題だけでなくサンプリングなどより一般的な用途にOpenJijを用いたい\n",
    "- アニーリングスケジュールの設定や使用するアルゴリズム等を直接触りたい\n",
    "\n",
    "といった目的に使用できます。"
   ]
  },
  {
   "cell_type": "code",
   "execution_count": 42,
   "metadata": {},
   "outputs": [],
   "source": [
    "#!pip install openjij --user"
   ]
  },
  {
   "cell_type": "code",
   "execution_count": 43,
   "metadata": {},
   "outputs": [
    {
     "name": "stdout",
     "output_type": "stream",
     "text": [
      "Name: openjij\r\n",
      "Version: 0.0.8\r\n",
      "Summary: Framework for the Ising model and QUBO\r\n",
      "Home-page: https://openjij.github.io/OpenJij/\r\n",
      "Author: Jij Inc.\r\n",
      "Author-email: openjij@j-ij.com\r\n",
      "License: Apache License 2.0\r\n",
      "Location: /home/jiko/.local/lib/python3.7/site-packages\r\n",
      "Requires: numpy, debtcollector, requests\r\n",
      "Required-by: \r\n"
     ]
    }
   ],
   "source": [
    "!pip show openjij"
   ]
  },
  {
   "cell_type": "markdown",
   "metadata": {},
   "source": [
    "## cxxjijについて"
   ]
  },
  {
   "cell_type": "markdown",
   "metadata": {},
   "source": [
    "OpenJijはインターフェースはpythonで記述されていますが、内部はC++で実装されています。これらのC++インターフェースを直接呼び出しているインターフェースがcxxjijです。\n",
    "\n",
    "今までチュートリアルで取り扱ってきたインターフェースはcxxjijを内部で呼び出す形で実装されています。"
   ]
  },
  {
   "cell_type": "markdown",
   "metadata": {},
   "source": [
    "## Ising model 再訪"
   ]
  },
  {
   "cell_type": "markdown",
   "metadata": {},
   "source": [
    "以前のチュートリアル (第一章)で紹介したIsingモデル\n",
    "\n",
    "$$H(\\{\\sigma_i\\}) = \\sum_{i > j} J_{ij}\\sigma_i \\sigma_j + \\sum_{i=1}^N h_i \\sigma_i$$\n",
    "$$\\sigma_i \\in \\{-1, 1\\}, i=1,\\cdots N$$\n",
    "\n",
    "の基底状態をcxxjijを用いて計算してみましょう。\n",
    "\n",
    "第一章と同じく、変数の数が$N=5$で\n",
    "\n",
    "$$h_i = -1~\\text{for} ~\\forall i, ~ J_{ij} = -1~\\text{for} ~\\forall i, j$$\n",
    "\n",
    "の場合を考えます。この場合の基底状態は$\\{\\sigma_i\\} = \\{1, 1, 1, 1, 1\\}$となります。\n",
    "\n",
    "cxxjijによる実装では以下のような形式になります。\n",
    "\n",
    "> cxxjijにはQUBOとの変換は実装されていません。QUBOとの変換を行うには今までのチュートリアルを参照してください。"
   ]
  },
  {
   "cell_type": "code",
   "execution_count": 44,
   "metadata": {},
   "outputs": [
    {
     "name": "stdout",
     "output_type": "stream",
     "text": [
      "[1, 1, 1, 1, 1]\n"
     ]
    }
   ],
   "source": [
    "#cxxjijをインポートするには以下のように記述します。\n",
    "import cxxjij as cj\n",
    "\n",
    "#問題を表す縦磁場と相互作用を作ります。\n",
    "#cxxjijでは専用のグラフを表すクラスを利用します。\n",
    "import cxxjij.graph as G\n",
    "N = 5\n",
    "\n",
    "#密結合グラフを定義します。JijがスパースなモデルではSparseクラスを利用したほうが良いです。\n",
    "J = G.Dense(N)\n",
    "\n",
    "#Jij\n",
    "for i in range(N):\n",
    "    for j in range(i+1, N):\n",
    "        J[i,j] = -1.0/N\n",
    "\n",
    "#hi\n",
    "for i in range(N):\n",
    "    J[i] = -1\n",
    "    #J[i,i] = -1でも同じになります。\n",
    "    \n",
    "#問題を解くsystemを定義します。今回は古典イジングスピンモデルを作成します。\n",
    "import cxxjij.system as S\n",
    "system = S.make_classical_ising_Eigen(J.gen_spin(), J)\n",
    "\n",
    "#スケジュールリストを作成します。今回の例では、逆温度$\\beta=0.1$から\\beta=100まで、温度変化を100回に分けてアニーリングし、各温度で200モンテカルロステップ動かします。\n",
    "import cxxjij.utility as U\n",
    "schedule_list = U.make_classical_schedule_list(0.1, 100, 100, 200)\n",
    "\n",
    "#アニーリングを行います。今回はSingleSpinFlipアルゴリズムを用いてsystemを更新します。\n",
    "import cxxjij.algorithm as A\n",
    "A.Algorithm_SingleSpinFlip_run(system, schedule_list)\n",
    "\n",
    "#結果を取得します。\n",
    "import cxxjij.result as R\n",
    "result_spin = R.get_solution(system)\n",
    "\n",
    "print(result_spin)"
   ]
  },
  {
   "cell_type": "markdown",
   "metadata": {},
   "source": [
    "## cxxjijの解説\n",
    "\n",
    "ここからは上で書いたコードに使用されている機能の詳細な解説をします。cxxjijでは主に`graph, system, algorithm`のモジュールから成り立っており、それぞれのモジュールを組み合わせることで様々な種類、アルゴリズムを用いてイジングモデルを計算することが可能になっており、また新たにアルゴリズムを実装する際に拡張が容易であるという特徴を備えています。\n",
    "\n",
    "### Graph\n",
    "\n",
    "イジングハミルトニアンの係数$J_{ij}$を保持するためのモジュールです。基本的に密結合 (全てのJijが0以外の値を持つモデルに適している)を扱う`Dense`と疎結合 (Jijの多くの値が0であるモデルに適している)`Sparse`の2種類が存在します。また、`Sparse`から継承された`Square` (正方格子)、`Chimera` (D-Waveのキメラグラフ)も備えています。内部のC++実装ではそれぞれの構造に合わせて最適なデータ構造で実装されています。\n",
    "\n",
    "#### `Dense`、`Sparse`\n",
    "\n",
    "`Dense`と`Sparse`の要素へのアクセス方法は次の通りです。"
   ]
  },
  {
   "cell_type": "code",
   "execution_count": 45,
   "metadata": {},
   "outputs": [
    {
     "name": "stdout",
     "output_type": "stream",
     "text": [
      "J_[3,8] = 4.0\n",
      "J_[8,3] = 4.0\n",
      "J_[4,4] = 10.0\n",
      "J_[3,8] = 5.0\n",
      "J_[8,3] = 5.0\n"
     ]
    }
   ],
   "source": [
    "import cxxjij.graph as G\n",
    "\n",
    "#密結合 (サイズ10)\n",
    "dense = G.Dense(10)\n",
    "#疎結合 (サイズ10)\n",
    "sparse = G.Sparse(10)\n",
    "\n",
    "#変数の書き込み\n",
    "dense[3,8] = 4\n",
    "dense[3,2] = 4\n",
    "dense[3,5] = 3\n",
    "#変数の読み出し\n",
    "print(\"J_[3,8] = {}\".format(dense[3,8]))\n",
    "#インデックスはJij = Jjiとなるように設定されています。\n",
    "print(\"J_[8,3] = {}\".format(dense[8,3]))\n",
    "\n",
    "#hiにアクセスするには次のようにインデックスを1つだけ指定します。\n",
    "dense[4] = 10\n",
    "#hiには、dense[4,4]のようにアクセスすることもできます。\n",
    "print(\"J_[4,4] = {}\".format(dense[4,4]))\n",
    "\n",
    "#Sparseも基本的には同じです。\n",
    "\n",
    "#変数の書き込み\n",
    "sparse[3,8] = 5\n",
    "sparse[3,2] = 4\n",
    "sparse[5,3] = 2\n",
    "#変数の読み出し\n",
    "print(\"J_[3,8] = {}\".format(sparse[3,8]))\n",
    "#インデックスはJij = Jjiとなるように設定されています。\n",
    "print(\"J_[8,3] = {}\".format(sparse[8,3]))"
   ]
  },
  {
   "cell_type": "markdown",
   "metadata": {},
   "source": [
    "また、次の機能を備えています。\n",
    "\n",
    "- .adj_nodes(i)\n",
    "    - ノード番号iの隣接ノードを表示します。\n",
    "- .gen_spin(seed)\n",
    "    - ランダムなスピン列を生成します。seedが指定されない場合、ランダムなseedが設定されます\n",
    "- .calc_energy(spin)\n",
    "    - 与えられたspinのエネルギーを計算して、出力します。"
   ]
  },
  {
   "cell_type": "code",
   "execution_count": 46,
   "metadata": {},
   "outputs": [
    {
     "name": "stdout",
     "output_type": "stream",
     "text": [
      "[8, 2, 5]\n"
     ]
    }
   ],
   "source": [
    "#ノード3の隣接ノードは2,5,8です。\n",
    "print(sparse.adj_nodes(3))"
   ]
  },
  {
   "cell_type": "code",
   "execution_count": 47,
   "metadata": {},
   "outputs": [
    {
     "name": "stdout",
     "output_type": "stream",
     "text": [
      "[1, -1, 1, 1, -1, 1, 1, 1, -1, -1]\n",
      "1.0\n"
     ]
    }
   ],
   "source": [
    "spin = sparse.gen_spin()\n",
    "print(spin)\n",
    "print(sparse.calc_energy(spin))"
   ]
  },
  {
   "cell_type": "markdown",
   "metadata": {},
   "source": [
    "> Graphモジュールではパフォーマンスを優先させるためにインデックスの範囲チェック等はデフォルトでは行っておりません。範囲チェックを有効にするにはopenjijをデバッグビルドする必要があります。"
   ]
  },
  {
   "cell_type": "markdown",
   "metadata": {},
   "source": [
    "#### `Square`、`Chimera`\n",
    "\n",
    "`Square`、`Chimera`は`Sparse`から継承されているクラスであり、先程の`Dense`や`Sparse`とは多少アクセス方法が異なります。\n",
    "\n",
    "これら2つのクラスでは、座標と方向を指定することにより$J_{ij}, h_i$にアクセスが可能となります。\n",
    "\n",
    "`Square`では以下の図のように座標と方向を指定して$J_{ij}, h_i$の設定を行います。図の左上の点が原点$(0,0)$です。"
   ]
  },
  {
   "cell_type": "markdown",
   "metadata": {},
   "source": [
    "<img src=\"./square.png\" width=\"500\">"
   ]
  },
  {
   "cell_type": "code",
   "execution_count": 48,
   "metadata": {},
   "outputs": [
    {
     "name": "stdout",
     "output_type": "stream",
     "text": [
      "3.0\n"
     ]
    }
   ],
   "source": [
    "#正方格子 (サイズ10x10)\n",
    "square = G.Square(10,10)\n",
    "\n",
    "#値の指定 (座標(2,2)から(2,3)に向かう方向)\n",
    "square[2,2,G.Dir.PLUS_C] = 3\n",
    "#値の指定 (座標(2,2)から(3,2)に向かう方向)\n",
    "square[2,2,G.Dir.PLUS_R] = 2\n",
    "#値の指定 (座標(2,2)から(2,1)に向かう方向)\n",
    "square[2,2,G.Dir.MINUS_C] = 1\n",
    "#値の指定 (座標(2,2)から(1,2)に向かう方向)\n",
    "square[2,2,G.Dir.MINUS_R] = 5\n",
    "#値の指定 (座標(2,2)のhi)\n",
    "square[2,2] = -1\n",
    "\n",
    "#値の取得 (座標(2,3)から(2,2)に向かう方向には3が設定されている)\n",
    "print(square[2,3,G.Dir.MINUS_C])"
   ]
  },
  {
   "cell_type": "markdown",
   "metadata": {},
   "source": [
    "`Chimera`の場合は8つのスピンからなるキメラユニットの位置$(i,j)$と、ユニット内のスピンインデックスの3変数で座標を表します。この座標と方向 (`Square`と同じPLUS_R, MINUS_R, PLUS_C, MINUS_Cに加えてユニット内のスピンへ向かう方向IN_0or4, IN_1or5, IN_2or6, IN_3or7)を用いて$J_{ij}, h_i$を設定します。"
   ]
  },
  {
   "cell_type": "markdown",
   "metadata": {},
   "source": [
    "<img src=\"./chimera.png\" width=\"500\">"
   ]
  },
  {
   "cell_type": "code",
   "execution_count": 49,
   "metadata": {},
   "outputs": [
    {
     "name": "stdout",
     "output_type": "stream",
     "text": [
      "3.0\n",
      "1.0\n"
     ]
    }
   ],
   "source": [
    "#キメラグラフ (サイズ10x10)\n",
    "chimera = G.Chimera(10,10)\n",
    "\n",
    "#値の指定 (座標(2,2,0)から(3,2,0)に向かう方向)\n",
    "chimera[2,2,0,G.ChimeraDir.PLUS_R] = 3\n",
    "#値の指定 (座標(2,2,4)から(2,3,4)に向かう方向)\n",
    "chimera[2,2,4,G.ChimeraDir.PLUS_C] = 5\n",
    "#値の指定 (座標(2,2,0)から(2,2,5)に向かう方向)\n",
    "chimera[2,2,0,G.ChimeraDir.IN_1or5] = 4\n",
    "#値の指定 (座標(2,2,6)から(2,2,3)に向かう方向)\n",
    "chimera[2,2,6,G.ChimeraDir.IN_3or7] = 1\n",
    "#値の指定 (座標(2,2,0)のhi)\n",
    "chimera[2,2,0] = 2\n",
    "\n",
    "#値の取得 (座標(3,2,0)から(2,2,0)に向かう方向、3が設定されている)\n",
    "print(chimera[3,2,0,G.ChimeraDir.MINUS_R])\n",
    "#値の取得 (座標(2,2,3)から(2,2,6)に向かう方向、1が設定されている)\n",
    "print(chimera[2,2,3,G.ChimeraDir.IN_2or6])\n",
    "#値の設定 (座標(2,2,0)から(2,3,0)に向かう方向はキメラグラフでは設定できないため、以下のコードはエラーとなる)\n",
    "#chimera[2,2,0,G.ChimeraDir.PLUS_C] = 3"
   ]
  },
  {
   "cell_type": "markdown",
   "metadata": {},
   "source": [
    "これらのクラスは`Sparse`を継承して作られているため、`Sparse`の機能も使用できます。その際のSparseのインデックスは`to_ind`関数で取得できます。`Sparse`インデックスから`Square`の座標を得るには`to_rc`関数、`Chimera`の座標を得るには`to_rci`関数を用います。"
   ]
  },
  {
   "cell_type": "code",
   "execution_count": 50,
   "metadata": {},
   "outputs": [
    {
     "name": "stdout",
     "output_type": "stream",
     "text": [
      "[12, 21, 32, 23, 22]\n"
     ]
    }
   ],
   "source": [
    "#Sparseへのキャスト\n",
    "sparse_square = G.Sparse(square)\n",
    "sparse_chimera = G.Sparse(chimera)\n",
    "\n",
    "#Square: 座標(2,2)の隣接ノードを表示\n",
    "nodes = sparse_square.adj_nodes(square.to_ind(2,2))\n",
    "#Sparseのインデックスで表示される\n",
    "print(nodes)"
   ]
  },
  {
   "cell_type": "code",
   "execution_count": 51,
   "metadata": {},
   "outputs": [
    {
     "name": "stdout",
     "output_type": "stream",
     "text": [
      "[(1, 2), (2, 1), (3, 2), (2, 3), (2, 2)]\n"
     ]
    }
   ],
   "source": [
    "#Squareの座標表示に変換\n",
    "positions = [square.to_rc(elem) for elem in nodes]\n",
    "print(positions)"
   ]
  },
  {
   "cell_type": "code",
   "execution_count": 52,
   "metadata": {},
   "outputs": [
    {
     "name": "stdout",
     "output_type": "stream",
     "text": [
      "[96, 256, 180, 181, 182, 183, 176]\n"
     ]
    }
   ],
   "source": [
    "#Chimera: 座標(2,2,0)の隣接ノードを表示\n",
    "nodes = sparse_chimera.adj_nodes(chimera.to_ind(2,2,0))\n",
    "#Sparseのインデックスで表示される\n",
    "print(nodes)"
   ]
  },
  {
   "cell_type": "code",
   "execution_count": 53,
   "metadata": {},
   "outputs": [
    {
     "name": "stdout",
     "output_type": "stream",
     "text": [
      "[(1, 2, 0), (3, 2, 0), (2, 2, 4), (2, 2, 5), (2, 2, 6), (2, 2, 7), (2, 2, 0)]\n"
     ]
    }
   ],
   "source": [
    "#Chimeraの座標表示に変換\n",
    "positions = [chimera.to_rci(elem) for elem in nodes]\n",
    "print(positions)"
   ]
  },
  {
   "cell_type": "code",
   "execution_count": 54,
   "metadata": {},
   "outputs": [
    {
     "name": "stdout",
     "output_type": "stream",
     "text": [
      "[172, 176, 177, 178, 179, 188, 180]\n"
     ]
    }
   ],
   "source": [
    "#Chimera: 座標(2,2,4)の隣接ノードを表示\n",
    "nodes = sparse_chimera.adj_nodes(chimera.to_ind(2,2,4))\n",
    "#Sparseのインデックスで表示される\n",
    "print(nodes)"
   ]
  },
  {
   "cell_type": "code",
   "execution_count": 55,
   "metadata": {},
   "outputs": [
    {
     "name": "stdout",
     "output_type": "stream",
     "text": [
      "[(2, 1, 4), (2, 2, 0), (2, 2, 1), (2, 2, 2), (2, 2, 3), (2, 3, 4), (2, 2, 4)]\n"
     ]
    }
   ],
   "source": [
    "#Chimeraの座標表示に変換\n",
    "positions = [chimera.to_rci(elem) for elem in nodes]\n",
    "print(positions)"
   ]
  },
  {
   "cell_type": "markdown",
   "metadata": {},
   "source": [
    "## System"
   ]
  },
  {
   "cell_type": "markdown",
   "metadata": {},
   "source": [
    "Systemではモンテカルロ等の計算における、現在のシステムの状態を保持するためのデータ構造が定義されています。具体的には\n",
    "\n",
    "- 古典イジングモデル (スピン配列)\n",
    "- 横磁場イジングモデル (トロッター分解も含んだスピン配列)\n",
    "- GPU実装古典、量子イジングモデル\n",
    "\n",
    "等が定義されています。モンテカルロ法を始めとする計算手法には極めて様々な手法がある (もしくは今後新しい手法が開発されていく)ため、OpenJijでは各々の計算手法に対応するデータ構造 (System)とアルゴリズム (Updater, Algorithm)、また計算結果の取得(Result)を分離することにより、様々なアルゴリズムを追加することが容易に行えるように設計されています。\n",
    "\n",
    "Systemを初期化するためには、初期スピン配列とGraphモジュールで作成された$J_{ij}$の2つが必要となります。Systemの種類に応じて初期化に用いることのできるGraphの種類が異なるので注意してください。\n",
    "\n",
    "### 古典イジングモデル\n",
    "\n",
    "OpenJijには古典イジングモデルの実装は2種類あり、最もオーソドックスな実装である`ClassicalIsing`と、線形代数ライブラリEigenを内部で用いて高速化を図ったバージョンの2つが存在します。次のように初期化を行います。"
   ]
  },
  {
   "cell_type": "code",
   "execution_count": 56,
   "metadata": {},
   "outputs": [],
   "source": [
    "import cxxjij.system as S\n",
    "\n",
    "#古典イジングモデル (Dense, Sparseグラフから)\n",
    "classical_ising = S.make_classical_ising(dense.gen_spin(), dense)\n",
    "#古典イジングモデル (スピン、Jijを線形代数ライブラリEigen型で保持)\n",
    "classical_ising_eigen = S.make_classical_ising_Eigen(dense.gen_spin(), dense)"
   ]
  },
  {
   "cell_type": "markdown",
   "metadata": {},
   "source": [
    "### 横磁場イジングモデル\n",
    "\n",
    "$$H = s \\left( \\sum_{i > j} J_{ij}\\sigma_i^z \\sigma_j^z + \\sum_{i=1}^N h_i \\sigma_i^z \\right) + \\Gamma (1-s) \\sum_{i=1}^{N} \\sigma_i^x$$\n",
    "\n",
    "で定義される横磁場イジングモデルを定義するには、初期スピンと$Jij$の他に、$\\Gamma$の値とトロッター分割数が必要となります。ここでは分割数を10に設定しています。"
   ]
  },
  {
   "cell_type": "code",
   "execution_count": 57,
   "metadata": {},
   "outputs": [],
   "source": [
    "gamma = 1.0\n",
    "trotter_num = 10\n",
    "\n",
    "#横磁場イジングモデル (Dense, Sparseグラフから)\n",
    "transverse_ising = S.make_transverse_ising(dense.gen_spin(), dense, gamma, trotter_num)\n",
    "#横磁場イジングモデル (スピン、Jijを線形代数ライブラリEigen型で保持)\n",
    "transverse_ising_eigen = S.make_transverse_ising_Eigen(dense.gen_spin(), dense, gamma, trotter_num)"
   ]
  },
  {
   "cell_type": "markdown",
   "metadata": {},
   "source": [
    "### GPU\n",
    "\n",
    "GPUを用いて実装されたものも存在します。現時点ではChimeraグラフのデータ構造のみ実装されているので、初期化に必要なGraphは`ChimeraGPU`クラスで作成されたものを用意する必要があります。\n",
    "\n",
    "> `ChimeraGPU`クラスは`Chimera`クラスとほぼ同じですが、浮動小数点の型が内部で異なるため (c++実装においてデフォルトではcpuではdouble型、gpuではfloat型を利用しています)、別々に実装されています。"
   ]
  },
  {
   "cell_type": "code",
   "execution_count": 58,
   "metadata": {},
   "outputs": [],
   "source": [
    "#キメラグラフ (サイズ10x10)\n",
    "chimera = G.ChimeraGPU(10,10)\n",
    "\n",
    "#値の指定 (座標(2,2,0)から(3,2,0)に向かう方向)\n",
    "chimera[2,2,0,G.ChimeraDir.PLUS_R] = 3\n",
    "#値の指定 (座標(2,2,4)から(2,3,4)に向かう方向)\n",
    "chimera[2,2,4,G.ChimeraDir.PLUS_C] = 5\n",
    "#値の指定 (座標(2,2,0)から(2,2,5)に向かう方向)\n",
    "chimera[2,2,0,G.ChimeraDir.IN_1or5] = 4\n",
    "#値の指定 (座標(2,2,6)から(2,2,3)に向かう方向)\n",
    "chimera[2,2,6,G.ChimeraDir.IN_3or7] = 1\n",
    "#値の指定 (座標(2,2,0)のhi)\n",
    "chimera[2,2,0] = 2\n",
    "\n",
    "#GPU古典イジングモデル (Chimeraグラフから)\n",
    "chimera_ising_gpu = S.make_chimera_classical_gpu(chimera.gen_spin(), chimera)\n",
    "#GPU横磁場イジングモデル (Chimeraグラフから)\n",
    "chimera_ising_transverse_gpu = S.make_chimera_transverse_gpu(chimera.gen_spin(), chimera, gamma, trotter_num)"
   ]
  },
  {
   "cell_type": "markdown",
   "metadata": {},
   "source": [
    "## スケジュール設定\n",
    "\n",
    "アニーリングスケジュールの設定はUtilityモジュールから設定できます。古典イジングモデルを扱うか、量子イジングモデルを扱うかで初期化の仕方が異なります。\n",
    "\n",
    "### 古典モデル\n",
    "\n",
    "以下のように逆温度$\\beta$のスケジュール設定を行います。"
   ]
  },
  {
   "cell_type": "code",
   "execution_count": 59,
   "metadata": {},
   "outputs": [],
   "source": [
    "#スケジュールリストを作成します。今回の例では、逆温度$\\beta=0.1$から\\beta=100まで、温度変化を10回に分けてアニーリングし、各温度で20モンテカルロステップ動かします。\n",
    "import cxxjij.utility as U\n",
    "schedule_list = U.make_classical_schedule_list(0.1, 100, 10, 20)"
   ]
  },
  {
   "cell_type": "markdown",
   "metadata": {},
   "source": [
    "`print`関数でスケジュールの詳細な出力を得ることができます。"
   ]
  },
  {
   "cell_type": "code",
   "execution_count": 64,
   "metadata": {},
   "outputs": [
    {
     "name": "stdout",
     "output_type": "stream",
     "text": [
      "[((beta: 0.100000) mcs: 10), ((beta: 0.143845) mcs: 10), ((beta: 0.206914) mcs: 10), ((beta: 0.297635) mcs: 10), ((beta: 0.428133) mcs: 10), ((beta: 0.615848) mcs: 10), ((beta: 0.885867) mcs: 10), ((beta: 1.274275) mcs: 10), ((beta: 1.832981) mcs: 10), ((beta: 2.636651) mcs: 10), ((beta: 3.792690) mcs: 10), ((beta: 5.455595) mcs: 10), ((beta: 7.847600) mcs: 10), ((beta: 11.288379) mcs: 10), ((beta: 16.237767) mcs: 10), ((beta: 23.357215) mcs: 10), ((beta: 33.598183) mcs: 10), ((beta: 48.329302) mcs: 10), ((beta: 69.519280) mcs: 10), ((beta: 100.000000) mcs: 10)]\n"
     ]
    }
   ],
   "source": [
    "print(schedule_list)"
   ]
  },
  {
   "cell_type": "markdown",
   "metadata": {},
   "source": [
    "### 横磁場モデル\n",
    "\n",
    "以下のように逆温度$\\beta$とアニーリングスケジュール$s$の設定を行います。"
   ]
  },
  {
   "cell_type": "code",
   "execution_count": 65,
   "metadata": {},
   "outputs": [],
   "source": [
    "#逆温度$\\beta=10$で、アニーリングスケジュールsを0から1まで100回に分けてアニーリングし、各スケジュールで200モンテカルロステップ動かします。\n",
    "transeverse_schedule_list = U.make_transverse_field_schedule_list(10, 100, 200)"
   ]
  },
  {
   "cell_type": "markdown",
   "metadata": {},
   "source": [
    "> スケジュールの設定は現時点では上の手法での初期化でしか対応しておらず、自由にスケジュールを設定する機能はC++のPythonラッパーがまだできていないので、現段階では未実装です。"
   ]
  },
  {
   "cell_type": "markdown",
   "metadata": {},
   "source": [
    "## Algorithm\n",
    "\n",
    "作成されたSystemとアニーリングスケジュールをAlgorithmに渡すことで、実際にアニーリングを行います。サンプルコードは以下になります。"
   ]
  },
  {
   "cell_type": "code",
   "execution_count": 66,
   "metadata": {},
   "outputs": [],
   "source": [
    "import cxxjij.algorithm as A\n",
    "\n",
    "#SingleSpinFlipアルゴリズムを、設定したアニーリングスケジュールで動かす\n",
    "A.Algorithm_SingleSpinFlip_run(classical_ising, schedule_list)\n",
    "#シード値を設定することも可能です。\n",
    "A.Algorithm_SingleSpinFlip_run(classical_ising, 1234, schedule_list)\n",
    "#線形代数ライブラリEigenで高速化されたSystemを使うことも可能です。\n",
    "A.Algorithm_SingleSpinFlip_run(classical_ising_eigen, schedule_list)\n",
    "#ほぼ同じコードでSwendsen-Wangアルゴリズムを用いることもできます。\n",
    "A.Algorithm_SwendsenWang_run(classical_ising, schedule_list)\n",
    "#量子モンテカルロもほぼ同じコードで実行できます。\n",
    "A.Algorithm_SingleSpinFlip_run(transverse_ising, transeverse_schedule_list)\n",
    "#GPU版も同じです。GPU版のSystemを実行できます。\n",
    "A.Algorithm_GPU_run(chimera_ising_gpu, schedule_list)"
   ]
  },
  {
   "cell_type": "markdown",
   "metadata": {},
   "source": [
    "## Result\n",
    "\n",
    "アニーリングされて出てきた結果を受け取るモジュールです。`get_solution`関数を用いて結果の取得が可能です。このモジュールにより、古典、量子に関係なく統一された形式で答えを受け取ることができます。"
   ]
  },
  {
   "cell_type": "code",
   "execution_count": 68,
   "metadata": {},
   "outputs": [
    {
     "name": "stdout",
     "output_type": "stream",
     "text": [
      "[1, 1, -1, 1, -1, -1, -1, -1, -1, -1]\n",
      "[1, -1, 1, -1, -1, 1, -1, -1, 1, -1]\n"
     ]
    }
   ],
   "source": [
    "import cxxjij.result as R\n",
    "\n",
    "#古典\n",
    "print(R.get_solution(classical_ising))\n",
    "#量子\n",
    "print(R.get_solution(transverse_ising))"
   ]
  }
 ],
 "metadata": {
  "kernelspec": {
   "display_name": "Python 3",
   "language": "python",
   "name": "python3"
  },
  "language_info": {
   "codemirror_mode": {
    "name": "ipython",
    "version": 3
   },
   "file_extension": ".py",
   "mimetype": "text/x-python",
   "name": "python",
   "nbconvert_exporter": "python",
   "pygments_lexer": "ipython3",
   "version": "3.7.4"
  }
 },
 "nbformat": 4,
 "nbformat_minor": 2
}
