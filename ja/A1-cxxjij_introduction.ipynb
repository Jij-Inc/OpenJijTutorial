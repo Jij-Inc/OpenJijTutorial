{
 "cells": [
  {
   "cell_type": "markdown",
   "metadata": {},
   "source": [
    "## A1-OpenJij (cxxjij編)"
   ]
  },
  {
   "cell_type": "markdown",
   "metadata": {},
   "source": [
    "今までのチュートリアルではOpenJijの様々な機能を紹介してきましたが、本チュートリアルではOpenJijの更に深いレイヤーであるcxxjijの紹介をします。\n",
    "\n",
    "基本的にOpenJijのチュートリアルを一通り読んだ人向けの内容で、\n",
    "\n",
    "* 最適化問題だけでなくサンプリングなどより一般的な用途にOpenJijを用いたい\n",
    "* アニーリングスケジュールの設定やアルゴリズム等を直接触りたい\n",
    "\n",
    "といった目的に使用できます。"
   ]
  },
  {
   "cell_type": "code",
   "execution_count": 3,
   "metadata": {},
   "outputs": [],
   "source": [
    "#!pip install openjij --user"
   ]
  },
  {
   "cell_type": "code",
   "execution_count": 2,
   "metadata": {},
   "outputs": [
    {
     "name": "stdout",
     "output_type": "stream",
     "text": [
      "Name: openjij\r\n",
      "Version: 0.0.8\r\n",
      "Summary: Framework for the Ising model and QUBO\r\n",
      "Home-page: https://openjij.github.io/OpenJij/\r\n",
      "Author: Jij Inc.\r\n",
      "Author-email: openjij@j-ij.com\r\n",
      "License: Apache License 2.0\r\n",
      "Location: /home/jiko/.local/lib/python3.7/site-packages\r\n",
      "Requires: numpy, debtcollector, requests\r\n",
      "Required-by: \r\n"
     ]
    }
   ],
   "source": [
    "!pip show openjij"
   ]
  },
  {
   "cell_type": "markdown",
   "metadata": {},
   "source": [
    "## cxxjijについて"
   ]
  },
  {
   "cell_type": "markdown",
   "metadata": {},
   "source": [
    "OpenJijはインターフェースはpythonで記述されていますが、内部はC++で実装されています。これらのC++インターフェースを直接呼び出しているインターフェースがcxxjijです。\n",
    "\n",
    "今までチュートリアルで取り扱ってきたインターフェースはcxxjijを内部で呼び出す形で実装されています。"
   ]
  },
  {
   "cell_type": "markdown",
   "metadata": {},
   "source": [
    "## Ising model 再訪"
   ]
  },
  {
   "cell_type": "markdown",
   "metadata": {},
   "source": [
    "以前のチュートリアル (第一章)で紹介したIsingモデル\n",
    "\n",
    "$$H(\\{\\sigma_i\\}) = \\sum_{i > j} J_{ij}\\sigma_i \\sigma_j + \\sum_{i=1}^N h_i \\sigma_i$$\n",
    "$$\\sigma_i \\in \\{-1, 1\\}, i=1,\\cdots N$$\n",
    "\n",
    "の基底状態をcxxjijを用いて計算してみましょう。\n",
    "\n",
    "第一章と同じく、変数の数が$N=5$で\n",
    "\n",
    "$$h_i = -1~\\text{for} ~\\forall i, ~ J_{ij} = -1~\\text{for} ~\\forall i, j$$\n",
    "\n",
    "の場合を考えます。この場合の基底状態は$\\{\\sigma_i\\} = \\{1, 1, 1, 1, 1\\}$となります。\n",
    "\n",
    "cxxjijによる実装では以下のような形式になります。"
   ]
  },
  {
   "cell_type": "code",
   "execution_count": 18,
   "metadata": {},
   "outputs": [
    {
     "name": "stdout",
     "output_type": "stream",
     "text": [
      "[1, 1, 1, 1, 1]\n"
     ]
    }
   ],
   "source": [
    "#cxxjijをインポートするには以下のように記述します。\n",
    "import cxxjij as cj\n",
    "\n",
    "#問題を表す縦磁場と相互作用を作ります。\n",
    "#cxxjijでは専用のグラフを表すクラスを利用します。\n",
    "import cxxjij.graph as G\n",
    "N = 5\n",
    "\n",
    "#密結合グラフを定義します。JijがスパースなモデルではSparseクラスを利用したほうが良いです。\n",
    "J = G.Dense(N)\n",
    "\n",
    "#Jij\n",
    "for i in range(N):\n",
    "    for j in range(i+1, N):\n",
    "        J[i,j] = -1\n",
    "\n",
    "#hi\n",
    "for i in range(N):\n",
    "    J[i] = -1\n",
    "    #J[i,i] = -1でも同じになります。\n",
    "    \n",
    "#問題を解くsystemを定義します。今回は古典イジングスピンモデルを作成します。\n",
    "import cxxjij.system as S\n",
    "system = S.make_classical_ising_Eigen(J.gen_spin(), J)\n",
    "\n",
    "#スケジュールリストを作成します。今回の例では、逆温度$\\beta=0.1$から\\beta=100まで、温度変化を100回に分けてアニーリングし、各温度で200モンテカルロステップ動かします。\n",
    "import cxxjij.utility as U\n",
    "schedule_list = U.make_classical_schedule_list(0.1, 100, 100, 200)\n",
    "\n",
    "#アニーリングを行います。今回はSingleSpinFlipアルゴリズムを用いてsystemを更新します。\n",
    "import cxxjij.algorithm as A\n",
    "A.Algorithm_SingleSpinFlip_run(system, schedule_list)\n",
    "\n",
    "#結果を取得します。\n",
    "import cxxjij.result as R\n",
    "result_spin = R.get_solution(system)\n",
    "\n",
    "print(result_spin)"
   ]
  },
  {
   "cell_type": "markdown",
   "metadata": {},
   "source": [
    "## cxxjijの解説\n",
    "\n",
    "次に上で書いたコードの解説をします。cxxjijでは主に`graph, system, algorithm`のモジュールから成り立っており、それぞれのモジュールを組み合わせることで様々な種類、アルゴリズムを用いてイジングモデルを計算することが可能になっており、また新たにアルゴリズムを実装する際に拡張が容易であるという特徴を備えています。\n",
    "\n",
    "### Graph\n",
    "\n",
    "イジングハミルトニアンの係数$J_{ij}$を保持するためのモジュールです。基本的に密結合 (全てのJijが0以外の値を持つモデルに適している)を扱う`Dense`と疎結合 (Jijの多くの値が0であるモデルに適している)`Sparse`の2種類が存在します。また、`Sparse`から継承された`Square` (正方格子)、`Chimera` (D-Waveのキメラグラフ)も備えています。内部のC++実装ではそれぞれの構造に合わせて最適なデータ構造で実装されています。"
   ]
  },
  {
   "cell_type": "code",
   "execution_count": 24,
   "metadata": {},
   "outputs": [
    {
     "name": "stdout",
     "output_type": "stream",
     "text": [
      "J_8,3 = 4.0\n"
     ]
    }
   ],
   "source": [
    "import cxxjij.graph as G\n",
    "\n",
    "#密結合 (サイズ10)\n",
    "dense = G.Dense(10)\n",
    "#疎結合 (サイズ10)\n",
    "sparse = G.Sparse(10)\n",
    "\n",
    "dense[3,8] = 4\n",
    "print(\"J_[8,3] = {}\".format(dense[8,3]))"
   ]
  },
  {
   "cell_type": "code",
   "execution_count": null,
   "metadata": {},
   "outputs": [],
   "source": []
  }
 ],
 "metadata": {
  "kernelspec": {
   "display_name": "Python 3",
   "language": "python",
   "name": "python3"
  },
  "language_info": {
   "codemirror_mode": {
    "name": "ipython",
    "version": 3
   },
   "file_extension": ".py",
   "mimetype": "text/x-python",
   "name": "python",
   "nbconvert_exporter": "python",
   "pygments_lexer": "ipython3",
   "version": "3.7.4"
  }
 },
 "nbformat": 4,
 "nbformat_minor": 2
}
