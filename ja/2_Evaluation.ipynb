{
  "nbformat": 4,
  "nbformat_minor": 0,
  "metadata": {
    "colab": {
      "name": "2_Evaluation_ver008.ipynb",
      "provenance": [],
      "collapsed_sections": [],
      "include_colab_link": true
    },
    "kernelspec": {
      "display_name": "Python 3",
      "language": "python",
      "name": "python3"
    },
    "language_info": {
      "codemirror_mode": {
        "name": "ipython",
        "version": 3
      },
      "file_extension": ".py",
      "mimetype": "text/x-python",
      "name": "python",
      "nbconvert_exporter": "python",
      "pygments_lexer": "ipython3",
      "version": "3.6.8"
    }
  },
  "cells": [
    {
      "cell_type": "markdown",
      "metadata": {
        "id": "view-in-github",
        "colab_type": "text"
      },
      "source": [
        "<a href=\"https://colab.research.google.com/github/kumagaimasahito/OpenJijTutorial/blob/master/ja/2_Evaluation.ipynb\" target=\"_parent\"><img src=\"https://colab.research.google.com/assets/colab-badge.svg\" alt=\"Open In Colab\"/></a>"
      ]
    },
    {
      "cell_type": "markdown",
      "metadata": {
        "colab_type": "text",
        "id": "V_NR6GiIBDP2"
      },
      "source": [
        "# 2-アニーリングアルゴリズムの評価"
      ]
    },
    {
      "cell_type": "markdown",
      "metadata": {
        "colab_type": "text",
        "id": "FbP_6wGgBDP6"
      },
      "source": [
        "アニーリングアルゴリズムはヒューリスティクスの一つなので毎回最適解を出せるとは限りません。近似解を出すためのアルゴリズムです。\n",
        "また、確率的アルゴリズムなので毎回解が異なります。  \n",
        "そのためアルゴリズムの評価をする際は様々な平均値を持って解を評価します。よく用いられる手法が\n",
        "\n",
        "- 成功確率 : Success probability\n",
        "- TTS : Time to solution\n",
        "- 残留エネルギー : Resudial energy\n",
        "\n",
        "の3つです。特にTTSは計算時間を表すので評価としてよく用いられます。残留エネルギーは最適解にどれくらい近づけたかを平均的に示す値です。"
      ]
    },
    {
      "cell_type": "markdown",
      "metadata": {
        "colab_type": "text",
        "id": "av11BMPjBDP8"
      },
      "source": [
        "## Time to solution\n",
        "\n",
        "アニーリングアルゴリズムはどの計算時間でも何かしらの解を出すことができます。しかし、いくら計算が速くても、誤った解が求まるようだと、意味がありません。\n",
        "\n",
        "そこで、必要な確率で最適解がでるための計算時間を指標とします。\n",
        "\n",
        "\"1-Introduction\"でも行なったようにアニーリングアルゴリズムは複数回行って解を探すため、計算時間を評価するには複数回行うことも考慮に入れなければなりません。\n",
        "\n",
        "複数回アニーリングを行うことも考慮に入れたのが**Time to solution(TTS)**です。TTSは簡単に導くことができます。"
      ]
    },
    {
      "cell_type": "markdown",
      "metadata": {
        "colab_type": "text",
        "id": "kqwBOHdVBDP9"
      },
      "source": [
        "ここで1回のアニーリング時間を$\\tau$とし、1回の$\\tau$時間のアニーリングで最適解を得る確率を$p_s(\\tau)$としましょう。この$p_s(\\tau)$が、アルゴリズムの評価に用いられる**成功確率**となります。\n",
        "すると$R$回$\\tau$時間のアニーリングを行って1回でも最適解を得る確率$p_R$は\n",
        "\n",
        "$$p_R = 1-(1-p_s(\\tau))^R$$\n",
        "\n",
        "となります。第二項は$R$回やっても最適解を得られない(間違える)確率なのでそれを1から引けば$R$回やって最適解を得られる確率になります。\n",
        "この式を$R$について解きましょう。すると\n",
        "\n",
        "$$R = \\frac{\\ln(1-p_R)}{\\ln(1-p_s(\\tau))}$$\n",
        "\n",
        "となります。これに1回の計算時間$\\tau$をかけるとトータルの計算時間となるのでそれがTime to solution (TTS)です。\n",
        "\n",
        "$$TTS(\\tau, p_R) = \\tau R = \\tau \\frac{\\ln(1-p_R)}{\\ln(1-p_s(\\tau))}$$\n",
        "\n",
        "$TTS(\\tau, p_R)$が示すのは計算時間が$\\tau$の一回のアニーリングで確率$p_s(\\tau)$で最適解が得られる時、確率$p_R$で最適解が得られるまでの繰り返し回数も考慮した総計算時間になります。"
      ]
    },
    {
      "cell_type": "markdown",
      "metadata": {
        "colab_type": "text",
        "id": "UH5K7TpfBDP-"
      },
      "source": [
        "実際の計算の評価では、$p_R$を定数で与えます。$p_R=0.99$などにすることが多いかと思います。そして様々なアニーリング時間$\\tau$で$p_s(\\tau)$を計算して、それらを使って$TTS(\\tau, p_R)$を計算します。"
      ]
    },
    {
      "cell_type": "markdown",
      "metadata": {
        "colab_type": "text",
        "id": "Y_aOax-OBDP_"
      },
      "source": [
        "### OpenJij で実験を行ってTTSを測る\n",
        "\n",
        "では以下では実際にOpenJijを使ってTTSを図ってみましょう。  \n",
        "1次元反強磁性モデルという問題を考えます。\n",
        "1次元反強磁性イジングモデルというのは以下のエネルギーです。\n",
        "\n",
        "$$H(\\{\\sigma_i\\}) = \\sum_{i=0}^{N-1} J_{i, i+1}\\sigma_i \\sigma_{i+1} + \\sum_{i=0}^{N-1} h_i \\sigma_i$$\n",
        "\n",
        "ここで$J_{ij} \\in [0.1, 1.0]$とし、$h_0 = -1$で他の縦磁場は0とします。$J_{ij} > 0$(反強磁性)なので各スピンは違う向きに向いた方がエネルギーが下がります。なので最適解となる$\\{\\sigma_i\\}$は$1, -1, 1,\\cdots$ のように値が交互になります。また$h_0=-1$としているので、最初のスピンは$\\sigma_0 =1$になります。よって最適解は $1, -1, 1, \\cdots$です。\n",
        "\n",
        "つまり$TTS$は$1, -1, 1, \\cdots$を得るためにかかる総計算時間となります。  \n",
        "以下では上記のIsing モデルをといて、1回の計算時間を延ばすとTTSがどう変化するかを見てみましょう。"
      ]
    },
    {
      "cell_type": "code",
      "metadata": {
        "colab_type": "code",
        "id": "rBhrr6OnBDQB",
        "colab": {}
      },
      "source": [
        "#!pip install -U cmake\n",
        "#!pip install openjij\n",
        "!pip show openjij  # openjij == 0.0.8 を仮定します"
      ],
      "execution_count": 0,
      "outputs": []
    },
    {
      "cell_type": "code",
      "metadata": {
        "colab_type": "code",
        "id": "p2qWKa8BBDQK",
        "colab": {}
      },
      "source": [
        "import random\n",
        "import numpy as np\n",
        "import matplotlib.pyplot as plt\n",
        "import openjij as oj"
      ],
      "execution_count": 0,
      "outputs": []
    },
    {
      "cell_type": "code",
      "metadata": {
        "colab_type": "code",
        "id": "bkldqdDxBDQO",
        "colab": {}
      },
      "source": [
        "# 反強磁性1次元イジングモデル を作る\n",
        "N = 30\n",
        "h = {0: -10}\n",
        "J = {(i, i+1): 1 for i in range(N-1)}"
      ],
      "execution_count": 0,
      "outputs": []
    },
    {
      "cell_type": "markdown",
      "metadata": {
        "colab_type": "text",
        "id": "63j1bHf1BDQR"
      },
      "source": [
        "## TTSを計算してみる\n",
        "\n",
        "TTSを計算してみます。openjijのsample_isingまたはsample_qubo から返ってくる Response クラスは `info` というメンバ変数を持っています。  \n",
        "`info`にはsamplerごとに異なった情報が辞書型で格納されています。ほとんどのSamplerには `['execution_time']`という名前で各アルゴリズムの1回の実行時間 (μs) が格納されています。  \n",
        "\n",
        "SASampler の場合は Simulated annealing の1回あたりの計算時間を格納しています。"
      ]
    },
    {
      "cell_type": "code",
      "metadata": {
        "colab_type": "code",
        "id": "K6_rtosUBDQS",
        "colab": {}
      },
      "source": [
        "# 最適解\n",
        "correct_state = [(-1)**i for i in range(N)]\n",
        "\n",
        "# TTS を計算するのに必要なp^R\n",
        "pR = 0.99\n",
        "\n",
        "# Samplerの引数のstep_num というパラメータに渡すリスト(step_num_list) \n",
        "# step_num はアニーリング中のパラメータ(温度, 横磁場)を下げていくときの分割数\n",
        "# なので増やせば増やすほどゆっくりアニーリングすることになってアニーリング時間が伸びる\n",
        "step_num_list = list(range(10, 51, 10))  # [10, 20, 30, 40, 50]\n",
        "\n",
        "TTS_list = []  # 各計算時間に対するTTSを格納しておくリスト\n",
        "tau_list = []  # 計算時間を格納しておくリスト\n",
        "\n",
        "#  計算の過程で、成功確率が求まるので、ついでにリストにしておきましょう\n",
        "ps_list = []  # 成功確率を格納しておくリスト\n",
        "\n",
        "iteration = 100  # 確率を計算するために1回のアニーリングを行う回数\n",
        "\n",
        "for step_num in step_num_list:\n",
        "    sampler = oj.SASampler(step_num=step_num, iteration=iteration)  \n",
        "    response = sampler.sample_ising(h, J)\n",
        "\n",
        "    # 返ってきた解であっている状態の数を数えて最適解を得た確率を計算する\n",
        "    tau = response.info['execution_time']\n",
        "    ps = sum([1 if state == correct_state else 0 for state in response.states])/iteration\n",
        "    \n",
        "    # ps=0だとTTSが無限大になってしまうのでそこは回避\n",
        "    if ps == 0:\n",
        "        continue\n",
        "    \n",
        "    # TTSを計算する\n",
        "    TTS_list.append(np.log(1-pR)/np.log(1-ps)*tau)\n",
        "    tau_list.append(tau)\n",
        "\n",
        "    # 成功確率を計算する\n",
        "    ps_list.append(ps)"
      ],
      "execution_count": 0,
      "outputs": []
    },
    {
      "cell_type": "code",
      "metadata": {
        "colab_type": "code",
        "id": "1Duej7O4BDQV",
        "outputId": "a49661b7-5662-4aab-ec12-f23fc9acb2bb",
        "colab": {
          "base_uri": "https://localhost:8080/",
          "height": 245
        }
      },
      "source": [
        "fig, (axL, axR) = plt.subplots(ncols=2, figsize=(15,3))\n",
        "plt.subplots_adjust(wspace=0.4)\n",
        "\n",
        "fontsize = 10\n",
        "axL.plot(tau_list, TTS_list)\n",
        "axL.set_xlabel('annealing time', fontsize=fontsize)\n",
        "axL.set_ylabel('TTS', fontsize=fontsize)\n",
        "\n",
        "axR.plot(tau_list, ps_list)\n",
        "axR.set_xlabel('annealing time', fontsize=fontsize)\n",
        "axR.set_ylabel('Success probability', fontsize=fontsize)"
      ],
      "execution_count": 0,
      "outputs": [
        {
          "output_type": "execute_result",
          "data": {
            "text/plain": [
              "Text(0, 0.5, 'Success probability')"
            ]
          },
          "metadata": {
            "tags": []
          },
          "execution_count": 96
        },
        {
          "output_type": "display_data",
          "data": {
            "image/png": "[encoded data removed]",
            "text/plain": [
              "<Figure size 1080x216 with 2 Axes>"
            ]
          },
          "metadata": {
            "tags": []
          }
        }
      ]
    },
    {
      "cell_type": "markdown",
      "metadata": {
        "colab_type": "text",
        "id": "ekqnlWy_BDQY"
      },
      "source": [
        "TTSと成功確率を計算することができました。\n",
        "横軸は、1回のアニーリングにかかる計算時間となっています。\n",
        "アニーリング時間が増加すると、TTSも増加する傾向にあります。\n",
        "しかし、必要な成功確率が補償できた時点で、アニーリングをやめるなどできるので、これらの指標は有効に使えそうですね！\n",
        "\n",
        "OpenJijにはデフォルトでTTS, 残留エネルギー, 成功確率を評価してくれる関数が付いています。  \n",
        "``openjij.solver_benchmark``\n",
        "です。  \n",
        "次は、このベンチマーク関数を用いて、これらを求めてみたいと思います。\n",
        "\n",
        "## benchmark 関数\n",
        "\n",
        "benchmark 関数では TTSと残留エネルギー、成功確率を計算してくれます。\n",
        "\n",
        "引数は以下です\n",
        "\n",
        "- solver: function  \n",
        "    Response クラスを返す関数です。time と iteration という引数を持つ必要があります。\n",
        "    time は計算時間を制御するパラメータにしてください。SASamplerの場合は step_num に相当します。\n",
        "    iteration は TTSや残留エネルギーなどを計算するときに必要なサンプリング回数を指定します。\n",
        "    また 関数の戻り値のResponse.info には、`time_name`という引数で指定する文字列をキーワードで持ち、`time_name`に紐づく値は1回あたりの計算時間が格納されている必要があります。\n",
        "- time_list: list  \n",
        "    solver の time 引数に入れる値のリストです。\n",
        "- solutions : list(list: state)  \n",
        "    基底状態となる状態のリストです。 縮退している場合は[state1, state2]のようにして複数入れます。\n",
        "- args : dict\n",
        "    solver にオプションで必要な場合につけます。デフォルトでは args = {} です。\n",
        "- p_r: 0 < float <= 1  \n",
        "    TTSを計算するために必要な値です。上記のTTSの説明のp_R に相当します。\n",
        "- ref_energy: float  \n",
        "    参照エネルギー。次のmeasure_with_energyと合わせて使います。デフォルトでは ref_energy = 0 です。\n",
        "- measure_with_energy :bool  \n",
        "    False : スピンの状態が基底状態と一致していれば、成功とカウントします。  \n",
        "    True : エネルギーが先ほどのref_energy以下だと、成功とカウントします。つまり、基底状態がわからない場合に使えます。  \n",
        "    デフォルトでは、Falseです。\n",
        "- time_name: str  \n",
        "    Response.info に入っている実行時間と紐づくキーを指定します。デフォルトでは`\"execution_time\"`です。\n",
        "    \n",
        "返り値はbenchmark計算の結果が以下のように辞書型で格納されています。\n",
        "\n",
        "- time: 実行時間のリスト。\n",
        "- success_prob: 成功確率のリスト。\n",
        "- tts: ttsのリスト。\n",
        "- residual_energy: 残留エネルギーのリスト。\n",
        "- info: (dict) ベンチマーク関数のパラメータ情報。"
      ]
    },
    {
      "cell_type": "code",
      "metadata": {
        "colab_type": "code",
        "id": "UsT_OrHpBDQZ",
        "scrolled": true,
        "colab": {}
      },
      "source": [
        "# 最適解\n",
        "correct_state = [(-1)**i for i in range(N)]\n",
        "\n",
        "# ステップ数とアニーリングの反復数を与えます\n",
        "step_num_list = list(range(10, 51, 10))  # [10, 20, 30, 40, 50]\n",
        "iteration = 100\n",
        "\n",
        "# benchmark 関数で TTS 残留エネルギー 成功確率を計算\n",
        "result = oj.solver_benchmark(\n",
        "                      solver=lambda time, **args: oj.SASampler(step_num=time, iteration=iteration).sample_ising(h,J), \n",
        "                      time_list=step_num_list, solutions=[correct_state], p_r=0.99\n",
        "            )"
      ],
      "execution_count": 0,
      "outputs": []
    },
    {
      "cell_type": "code",
      "metadata": {
        "colab_type": "code",
        "id": "cZ1cs-g1BDQc",
        "outputId": "faf086d7-83b4-48e8-f75a-d2eefbac563d",
        "colab": {
          "base_uri": "https://localhost:8080/",
          "height": 245
        }
      },
      "source": [
        "fig, (axL,axC,axR) = plt.subplots(ncols=3, figsize=(15,3))\n",
        "plt.subplots_adjust(wspace=0.4)\n",
        "\n",
        "fontsize = 10\n",
        "axL.plot(result['time'], result['tts'])\n",
        "axL.set_xlabel('annealing time', fontsize=fontsize)\n",
        "axL.set_ylabel('TTS', fontsize=fontsize)\n",
        "\n",
        "axC.plot(result['time'], result['residual_energy'])\n",
        "axC.set_xlabel('annealing time', fontsize=fontsize)\n",
        "axC.set_ylabel('Residual energy', fontsize=fontsize)\n",
        "\n",
        "axR.plot(result['time'], result['success_prob'])\n",
        "axR.set_xlabel('annealing time', fontsize=fontsize)\n",
        "axR.set_ylabel('Success probability', fontsize=fontsize)"
      ],
      "execution_count": 0,
      "outputs": [
        {
          "output_type": "execute_result",
          "data": {
            "text/plain": [
              "Text(0, 0.5, 'Success probability')"
            ]
          },
          "metadata": {
            "tags": []
          },
          "execution_count": 98
        },
        {
          "output_type": "display_data",
          "data": {
            "image/png": "[encoded data removed]",
            "text/plain": [
              "<Figure size 1080x216 with 3 Axes>"
            ]
          },
          "metadata": {
            "tags": []
          }
        }
      ]
    },
    {
      "cell_type": "markdown",
      "metadata": {
        "colab_type": "text",
        "id": "F1MP6xatBDQf"
      },
      "source": [
        "このようにしてベンチマークをとることができます。  \n",
        "先ほどと同様、反強磁性1次元イジングモデルを用いていますので、TTSと成功確率は、同様に単調増加のグラフが出力されたのではないでしょうか？\n",
        "（ヒューリスティックスな解法なので、厳密な計算結果は毎回変わります。）  \n",
        "残留エネルギーについてもアニーリング時間を増加すれば、いつかは収束しそうですね。\n",
        "\n",
        "solver に入れる関数は Responseクラスを返して、.info に計算時間を格納しておけばどのような関数でもよいです。適当なやつを作ってみましょう。\n",
        "\n",
        "次は、[1,1,1,...]と[1,-1,1,...]と[-1,1,-1,...]の3つのスピン状態から、ランダムに一つの状態を返す関数です。最適解を[1,-1,1,...]として、アニーリングアルゴリズムのベンチマークを取ってみましょう。"
      ]
    },
    {
      "cell_type": "code",
      "metadata": {
        "colab_type": "code",
        "id": "QDHCChaRBDQg",
        "colab": {}
      },
      "source": [
        "import time \n",
        "def anti_ferro_solver(time_param, iteration, h, J):\n",
        "    \"\"\"\n",
        "    すべて 1 と [1,-1,1,...] と [-1,1,-1,...] の3つの状態からランダムに選ぶ\n",
        "    \"\"\"\n",
        "    \n",
        "    # 入力された h と J から添字の集合をつくる\n",
        "    indices = set(h.keys())\n",
        "    indices = list(indices | set([key for keys in J.keys() for key in keys]))\n",
        "    \n",
        "    ones_state = list(np.ones(len(indices), dtype=int))        # all 1\n",
        "    \n",
        "    minus_plus_state = np.ones(len(indices), dtype=int)\n",
        "    minus_plus_state[::2] *= -1                                         # -1, 1, -1, 1, ...\n",
        "    plus_minus_state = -1 * minus_plus_state                   # 1, -1, 1, -1\n",
        "    \n",
        "    start = time.time()\n",
        "    _states = [ones_state, list(minus_plus_state), list(plus_minus_state)]\n",
        "    state_record = [_states[np.random.randint(3)] for _ in range(iteration)]   # 3つの状態からランダムにひとつ選ぶ\n",
        "    exec_time = (time.time()-start) * 10**6 * time_param                                # 適当に計算時間を伸ばしておきます\n",
        "    \n",
        "    energies = [sum(state) for state in state_record]                                     # エネルギーの計算はてきとうです\n",
        "    \n",
        "    \n",
        "    # Responseクラスに状態とエネルギーを格納します\n",
        "    response = oj.Response(indices=indices, var_type='SPIN')\n",
        "    response.update_ising_states_energies(state_record, energies)\n",
        "    response.info['execution_time'] = exec_time\n",
        "    \n",
        "    return response"
      ],
      "execution_count": 0,
      "outputs": []
    },
    {
      "cell_type": "code",
      "metadata": {
        "colab_type": "code",
        "id": "lO8DpCkyBDQk",
        "colab": {}
      },
      "source": [
        "# 最適解\n",
        "correct_state = [(-1)**i for i in range(N)]  # 1, -1, 1, -1\n",
        "\n",
        "# ステップ数とアニーリングの反復数を与えます\n",
        "time_param_list = list(range(10, 51, 10))  # [10, 20, 30, 40, 50]\n",
        "iteration = 2000\n",
        "\n",
        "# benchmark 関数で TTS 残留エネルギー 成功確率を計算。\n",
        "result = oj.solver_benchmark(\n",
        "                      solver= lambda time_param, **args: anti_ferro_solver(time_param, iteration, h, J), \n",
        "                      time_list=time_param_list, solutions=[correct_state], p_r=0.99\n",
        "              )"
      ],
      "execution_count": 0,
      "outputs": []
    },
    {
      "cell_type": "code",
      "metadata": {
        "colab_type": "code",
        "id": "v8feULpDBDQo",
        "outputId": "6a4eb208-1795-4aec-ed26-bde92d9c928c",
        "scrolled": true,
        "colab": {
          "base_uri": "https://localhost:8080/",
          "height": 245
        }
      },
      "source": [
        "fig, (axL,axC,axR) = plt.subplots(ncols=3, figsize=(15,3))\n",
        "plt.subplots_adjust(wspace=0.4)\n",
        "\n",
        "fontsize = 10\n",
        "axL.plot(result['time'], result['tts'])\n",
        "axL.set_xlabel('annealing time', fontsize=fontsize)\n",
        "axL.set_ylabel('TTS', fontsize=fontsize)\n",
        "\n",
        "axC.plot(result['time'], result['residual_energy'])\n",
        "axC.set_xlabel('annealing time', fontsize=fontsize)\n",
        "axC.set_ylabel('Residual energy', fontsize=fontsize)\n",
        "\n",
        "axR.plot(result['time'], result['success_prob'])\n",
        "axR.set_xlabel('annealing time', fontsize=fontsize)\n",
        "axR.set_ylabel('Success probability', fontsize=fontsize)"
      ],
      "execution_count": 0,
      "outputs": [
        {
          "output_type": "execute_result",
          "data": {
            "text/plain": [
              "Text(0, 0.5, 'Success probability')"
            ]
          },
          "metadata": {
            "tags": []
          },
          "execution_count": 106
        },
        {
          "output_type": "display_data",
          "data": {
            "image/png": "[encoded data removed]",
            "text/plain": [
              "<Figure size 1080x216 with 3 Axes>"
            ]
          },
          "metadata": {
            "tags": []
          }
        }
      ]
    },
    {
      "cell_type": "markdown",
      "metadata": {
        "colab_type": "text",
        "id": "c3T8GiiSBDQr"
      },
      "source": [
        "今、最適解は[1, -1, 1, -1, ...] です。  \n",
        "3つからランダムにひとつ1つ正解の状態を選んでいるので成功確率はだいたい1/3くらい。  \n",
        "上図右の成功確率もだいたいそれくらいになっています。\n",
        "\n",
        "このようにうまくsolver関数を作っておけばOpenJijのソルバーに限らず TTSと残留エネルギーと成功確率を計算してくれます。  "
      ]
    }
  ]
}