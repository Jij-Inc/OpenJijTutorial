{
 "cells": [
  {
   "cell_type": "markdown",
   "metadata": {},
   "source": [
    "# 9 巡回セールスマン問題"
   ]
  },
  {
   "cell_type": "markdown",
   "metadata": {},
   "source": [
    "この章では、非常に有名な組合せ最適化問題の一つ、巡回セールスマン問題(Traveling salesman problem: TSP)\n",
    "をPyQUBOでモデリングしてOpenJijを使って計算する方法を紹介します。\n",
    "\n",
    "## 巡回セールスマン問題 (TSP)\n",
    "\n",
    "ある都市をセールスマンが回って一周することを考えます。\n",
    "その際に一周する経路が最短距離となる経路を見つける問題です。  \n",
    "都市集合を$V$としましょう。そして都市$i, j \\in V$の間の距離を$d_{ij}$としましょう。  \n",
    "巡回セールスマン問題は以下のように定式化されます。\n",
    "\n",
    "0-1変数$x_{i,t} \\in \\{0, 1\\}$は、セールスマンが$t$番目に都市$i$を訪れるときに1、そうでないときに0となる変数です。  \n",
    "この変数を用いると経路の総距離$D$は以下のように定式化できます。\n",
    "\n",
    "$$\n",
    "D(\\{x_{i,t}\\}) = \\sum_t \\sum_{i < j} d_{ij}x_{i, t}x_{j, t+1}\n",
    "$$\n",
    "\n",
    "さらに$\\{x_{i,t}\\}$が1つの巡回路となるために以下の2つの制約条件が課されます。\n",
    "\n",
    "- $t$番目にセールスマンは複数都市にいてはならない。\n",
    "  $$\\sum_i x_{i,t} = 1,~\\forall t$$\n",
    "- 都市は1度だけ回る。\n",
    "  $$\\sum_t x_{i,t} = 1,~\\forall i \\in V$$\n",
    "  \n",
    "つまりTSPはこの制約条件の元で総距離$D(\\{x_{i,t}\\})$を最小化する$\\{x_{i,t}\\}$を探す問題です。\n",
    "\n",
    "### 2次制約無し2値最適化問題\n",
    "\n",
    "さてこれをOpenJijに投げるために2次制約無し2値最適化問題(QUBO)で最小化するコスト関数(エネルギー)すると以下のようになります。\n",
    "\n",
    "$$E = \n",
    "\\sum_t \\sum_{i < j} d_{ij}x_{i, t}x_{j, t+1}\n",
    "+ \\lambda_{time} \\sum_t \\left(\\sum_i x_{i,t} - 1\\right)^2\n",
    "+ \\lambda_{city} \\sum_i \\left(\\sum_t x_{i,t} - 1\\right)^2\n",
    "$$\n",
    "\n",
    "ここでは最もよく用いられているペナルティ法を用いました。\n",
    "第二項と第三項は、TSPの定式化の制約条件を表しており、制約を見たしていない時はエネルギーが増加するように、つまりペナルティがつくようになっています。\n",
    "等式制約は上記のように2次式でペナルティとすることが多いです。  \n",
    "不等式制約は扱うにはいくつかの工夫をしなくては行けません。  \n",
    "またペナルティ法以外にもQUBOへの定式化をする方法はいくつかあるのでぜひ他の方法も検討してみてください。\n",
    "\n",
    "今回は一番オーソドックスな上記の方法を用います。  \n",
    "ではこのQUBOをPyQUBOを用いて最適化してみましょう。\n",
    "\n",
    "まずは都市の集合をランダムに生成します。"
   ]
  },
  {
   "cell_type": "code",
   "execution_count": 1,
   "metadata": {},
   "outputs": [],
   "source": [
    "import numpy as np\n",
    "\n",
    "def city_set(n):\n",
    "    xy = np.random.uniform(0, 10, (n, 2))\n",
    "    x, y = xy.T\n",
    "    d = np.zeros((n, n))\n",
    "    for i, (_x, _y) in enumerate(xy[:-1]):\n",
    "        d[i, i+1:] = np.sqrt((_x - x[i+1:])**2 + (_y - y[i+1:])**2)\n",
    "    d = (d + d.T)/2\n",
    "    return d, xy"
   ]
  },
  {
   "cell_type": "code",
   "execution_count": 3,
   "metadata": {},
   "outputs": [
    {
     "data": {
      "image/png": "[encoded data removed]",
      "text/plain": [
       "<Figure size 432x288 with 1 Axes>"
      ]
     },
     "metadata": {
      "needs_background": "light"
     },
     "output_type": "display_data"
    }
   ],
   "source": [
    "import matplotlib.pyplot as plt\n",
    "\n",
    "d, xy = city_set(10)\n",
    "plt.scatter(xy.T[0], xy.T[1])\n",
    "plt.show()"
   ]
  },
  {
   "cell_type": "markdown",
   "metadata": {},
   "source": [
    "#### PyQUBO を使ったモデリング\n",
    "\n",
    "ではPyQUBOを使って上記のQUBOモデルをモデリングしてみましょう。\n",
    "\n",
    "TSPの最適解となる巡回路はスタート地点を変えることによって解が複数存在することになります。  \n",
    "なので都市の集合$V=\\{0,...,n-1\\}$のうち$i=n-1$をスタート地点かつゴール地点だとします。  \n",
    "なので総距離は、\n",
    "$$\n",
    "\\sum_{j=0}^{n-2}d_{n-1, j}x_{j,0}\n",
    "+\\sum_{t=0}^{n-2} \\sum_{i=0}^{n-2}\\sum_{j=i+1}^{n-1} d_{ij}x_{i,t}x_{j,t+1}\n",
    "+\\sum_{j=0}^{n-2}d_{j,n-1}x_{n-2, j}\n",
    "$$\n",
    "となります。これでモデリングしてみましょう。"
   ]
  },
  {
   "cell_type": "code",
   "execution_count": 4,
   "metadata": {},
   "outputs": [],
   "source": [
    "from pyqubo import Array, Constraint, Placeholder, Sum\n",
    "def make_tsp_model(d):\n",
    "    n = len(d)\n",
    "    x = Array.create('x', (n-1, n-1), 'BINARY')\n",
    "    \n",
    "    cost = Sum(0, n-1, lambda j: d[n-1][j]*x[j][0])\n",
    "    cost += Sum(0, n-2, lambda t: Sum(0, n-2, lambda i: Sum(i+1, n-1, lambda j: d[i][j]*x[i][t]*x[j][t+1])))\n",
    "    cost += Sum(0, n-1, lambda j: d[j][n-1]*x[j][n-2])\n",
    "    \n",
    "    # time constraint\n",
    "    time_const = Constraint(\n",
    "        Sum(0, n-1, lambda t: (Sum(0, n-1, lambda i: x[i][t])-1)**2),\n",
    "        label='time'\n",
    "    )\n",
    "    \n",
    "    # city constraint\n",
    "    city_const = Constraint(\n",
    "        Sum(0, n-1, lambda i: (Sum(0, n-1, lambda t: x[i][t]) - 1)**2),\n",
    "        label='city'\n",
    "    )\n",
    "    \n",
    "    total = cost + Placeholder('lam_t')*time_const + Placeholder('lam_c')*city_const\n",
    "    \n",
    "    return total.compile()"
   ]
  },
  {
   "cell_type": "markdown",
   "metadata": {},
   "source": [
    "## OpenJijを使って解く\n",
    "\n",
    "ではOpenJijを使ってTSPを解いてみます。"
   ]
  },
  {
   "cell_type": "code",
   "execution_count": 87,
   "metadata": {},
   "outputs": [],
   "source": [
    "from pyqubo import solve_qubo\n",
    "import openjij as oj\n",
    "\n",
    "class TSPModel:\n",
    "    def __init__(self, sampler):\n",
    "        self.sampler = sampler\n",
    "    \n",
    "    def make_instance(self, n):\n",
    "        d, xy = city_set(n)\n",
    "        self.d = d\n",
    "        self.xy = xy\n",
    "        self.model = make_tsp_model(d)\n",
    "        \n",
    "    def solve(self, lam_t, lam_c):\n",
    "        self.feed_dict = {'lam_t': lam_t, 'lam_c': lam_c}\n",
    "        qubo, bias = self.model.to_qubo(feed_dict=self.feed_dict)\n",
    "        response = self.sampler.sample_qubo(qubo,num_reads=10, num_sweeps=1000)\n",
    "        self.response = response\n",
    "#         return [solve_qubo(qubo) for _ in range(10)]\n",
    "        return response.samples()\n",
    "        \n",
    "    def get_path(self, sol):\n",
    "        n = len(self.d)\n",
    "        path = [n-1]\n",
    "        cost = 0.0\n",
    "        for t in range(n-1):\n",
    "            for i in range(n-1):\n",
    "                if sol['x'][i][t] == 1:\n",
    "                    cost += self.d[i][path[-1]]\n",
    "                    path.append(i)\n",
    "                    break\n",
    "        path.append(n-1)\n",
    "        return path, cost\n",
    "        \n",
    "    def decode(self, samples):\n",
    "        path_list, cost_list = [], []\n",
    "        for s in samples:\n",
    "            sol, broken, e = self.model.decode_solution(\n",
    "                dict(s), vartype='BINARY', feed_dict=self.feed_dict\n",
    "            )\n",
    "            if len(broken) == 0:\n",
    "                path, cost = self.get_path(sol)\n",
    "                cost_list.append(cost)\n",
    "                path_list.append(path)\n",
    "        self.cost_list = cost_list\n",
    "        self.path_list = path_list\n",
    "        \n",
    "        min_p = np.argmin(self.cost_list)\n",
    "        self.min_path = self.path_list[min_p]\n",
    "        \n",
    "    def plot_min_path(self):\n",
    "        self._plot_path(self.min_path)\n",
    "        \n",
    "    def _plot_path(self, path):\n",
    "        _xy = self.xy.T\n",
    "        plt.plot(_xy[0][path], _xy[1][path])\n",
    "        plt.scatter(_xy[0], _xy[1])\n",
    "        \n",
    "    def run(self, n, remake=True):\n",
    "        if remake:\n",
    "            print('make instance')\n",
    "            self.make_instance(n)t\n",
    "        print('solve problem ...')\n",
    "        samples = self.solve(lam_t=10, lam_c=10)\n",
    "        print('decode solution')\n",
    "        self.decode(samples)\n",
    "        \n",
    "tsp_model = TSPModel(oj.SASampler(num_sweeps=1000))"
   ]
  },
  {
   "cell_type": "code",
   "execution_count": 88,
   "metadata": {},
   "outputs": [
    {
     "name": "stdout",
     "output_type": "stream",
     "text": [
      "make instance\n",
      "solve problem ...\n",
      "decode solution\n"
     ]
    }
   ],
   "source": [
    "tsp_model.run(n=8)"
   ]
  },
  {
   "cell_type": "code",
   "execution_count": 89,
   "metadata": {},
   "outputs": [
    {
     "data": {
      "image/png": "[encoded data removed]",
      "text/plain": [
       "<Figure size 432x288 with 1 Axes>"
      ]
     },
     "metadata": {
      "needs_background": "light"
     },
     "output_type": "display_data"
    }
   ],
   "source": [
    "tsp_model.plot_min_path()"
   ]
  },
  {
   "cell_type": "code",
   "execution_count": 14,
   "metadata": {},
   "outputs": [],
   "source": [
    "n = len(tsp_model.min_path) - 2\n",
    "x = {'x[{}][{}]'.format(i, t): int(tsp_model.min_path[t] == i) for i in range(n) for t in range(n)}\n",
    "sol, broken, e = tsp_model.model.decode_solution(x, vartype='BINARY', feed_dict={'lam_t': 0, 'lam_c': 0})"
   ]
  },
  {
   "cell_type": "code",
   "execution_count": 15,
   "metadata": {},
   "outputs": [
    {
     "data": {
      "text/plain": [
       "6.251282670576894"
      ]
     },
     "execution_count": 15,
     "metadata": {},
     "output_type": "execute_result"
    }
   ],
   "source": [
    "e"
   ]
  },
  {
   "cell_type": "code",
   "execution_count": 17,
   "metadata": {},
   "outputs": [
    {
     "data": {
      "text/plain": [
       "[8.396913411233738,\n",
       " 8.491971296076294,\n",
       " 11.20739414373753,\n",
       " 12.846042531701402,\n",
       " 10.94744747097928,\n",
       " 7.935831720636358,\n",
       " 11.511164143375957,\n",
       " 10.471143420747952,\n",
       " 10.831070706081402,\n",
       " 13.507430544589758]"
      ]
     },
     "execution_count": 17,
     "metadata": {},
     "output_type": "execute_result"
    }
   ],
   "source": [
    "tsp_model.cost_list"
   ]
  },
  {
   "cell_type": "code",
   "execution_count": null,
   "metadata": {},
   "outputs": [],
   "source": []
  }
 ],
 "metadata": {
  "kernelspec": {
   "display_name": "Python 3",
   "language": "python",
   "name": "python3"
  },
  "language_info": {
   "codemirror_mode": {
    "name": "ipython",
    "version": 3
   },
   "file_extension": ".py",
   "mimetype": "text/x-python",
   "name": "python",
   "nbconvert_exporter": "python",
   "pygments_lexer": "ipython3",
   "version": "3.6.7"
  }
 },
 "nbformat": 4,
 "nbformat_minor": 4
}
