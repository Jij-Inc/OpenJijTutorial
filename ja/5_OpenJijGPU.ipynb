{
  "nbformat": 4,
  "nbformat_minor": 0,
  "metadata": {
    "colab": {
      "name": "5-OpenJijGPU.ipynb",
      "version": "0.3.2",
      "provenance": [],
      "include_colab_link": true
    },
    "kernelspec": {
      "name": "python3",
      "display_name": "Python 3"
    },
    "accelerator": "GPU"
  },
  "cells": [
    {
      "cell_type": "markdown",
      "metadata": {
        "id": "view-in-github",
        "colab_type": "text"
      },
      "source": [
        "<a href=\"https://colab.research.google.com/github/OpenJij/OpenJijTutorial/blob/master/5_OpenJijGPU.ipynb\" target=\"_parent\"><img src=\"https://colab.research.google.com/assets/colab-badge.svg\" alt=\"Open In Colab\"/></a>"
      ]
    },
    {
      "cell_type": "markdown",
      "metadata": {
        "id": "tcLyUtUqhkTr",
        "colab_type": "text"
      },
      "source": [
        "# 5-OpenJij GPU\n",
        "\n",
        "[![Open in Colab](https://colab.research.google.com/assets/colab-badge.svg)](https://colab.research.google.com/github/OpenJij/OpenJijTutorial/blob/master/ja/5-OpenJijGPU.ipynb)"
      ]
    },
    {
      "cell_type": "markdown",
      "metadata": {
        "id": "Vrd0CwLJhvVQ",
        "colab_type": "text"
      },
      "source": [
        "OpenJijでは現在(0.0.6)キメラグラフ構造のみGPUでのSQAに対応しています。\n",
        "\n",
        "このセクションではGPUでSQAを行ってきます。\n",
        "\n",
        "\n",
        "一般にPCにはGPGPUは載っていないのでこのノートブックは実行できないことが多いかもしれませんが、Google colaboratory を使えば誰でもGPGPUを使うことができます。\n",
        "\n",
        "このノートブックを Google colaboratory で開いて、\n",
        "\n",
        "```\n",
        "ランタイム -> ランタイムのタイプを変更　-> ハードウェアアクセラレータをGPUに選択\n",
        "```\n",
        "\n",
        "を行います。そのあとにopenjijをインストールすればGPU向けのコンパイルが行われるのでGPUのSamplerが使えるようになります。"
      ]
    },
    {
      "cell_type": "code",
      "metadata": {
        "id": "o8UaiBs1hkwh",
        "colab_type": "code",
        "colab": {
          "base_uri": "https://localhost:8080/",
          "height": 311
        },
        "outputId": "633594ee-f863-467b-d633-e68ee2343af6"
      },
      "source": [
        "!pip install openjij\n",
        "!pip show openjij  # openjij == 0.0.6 を仮定します"
      ],
      "execution_count": 1,
      "outputs": [
        {
          "output_type": "stream",
          "text": [
            "Requirement already satisfied: openjij in /usr/local/lib/python3.6/dist-packages (0.0.6)\n",
            "Requirement already satisfied: numpy in /usr/local/lib/python3.6/dist-packages (from openjij) (1.16.3)\n",
            "Requirement already satisfied: requests in /usr/local/lib/python3.6/dist-packages (from openjij) (2.21.0)\n",
            "Requirement already satisfied: urllib3<1.25,>=1.21.1 in /usr/local/lib/python3.6/dist-packages (from requests->openjij) (1.24.3)\n",
            "Requirement already satisfied: idna<2.9,>=2.5 in /usr/local/lib/python3.6/dist-packages (from requests->openjij) (2.8)\n",
            "Requirement already satisfied: chardet<3.1.0,>=3.0.2 in /usr/local/lib/python3.6/dist-packages (from requests->openjij) (3.0.4)\n",
            "Requirement already satisfied: certifi>=2017.4.17 in /usr/local/lib/python3.6/dist-packages (from requests->openjij) (2019.3.9)\n",
            "Name: openjij\n",
            "Version: 0.0.6\n",
            "Summary: Framework for the Ising model and QUBO\n",
            "Home-page: https://openjij.github.io/OpenJij/\n",
            "Author: Jij Inc.\n",
            "Author-email: openjij@j-ij.com\n",
            "License: Apache License 2.0\n",
            "Location: /usr/local/lib/python3.6/dist-packages\n",
            "Requires: requests, numpy\n",
            "Required-by: \n"
          ],
          "name": "stdout"
        }
      ]
    },
    {
      "cell_type": "markdown",
      "metadata": {
        "id": "JMgqfmZ-h8X3",
        "colab_type": "text"
      },
      "source": [
        "## キメラグラフ\n",
        "\n",
        "OpenJijのGPUではキメラグラフのみが扱えます。  \n",
        "キメラグラフは以下の画像のような形です。\n",
        "\n",
        "キメラグラフを満たさない添字の相互作用を指定するとエラーになります。\n",
        "`GPUSQASampler` では\n",
        "\n",
        "- キメラグラフのノードに一つずつ番号をつけた添字\n",
        "\n",
        "が使えます。\n",
        "\n",
        "早速具体的なコードをみてみましょう。\n",
        "\n",
        "まずは GPUSQASampler のインスタンスを作ります。"
      ]
    },
    {
      "cell_type": "code",
      "metadata": {
        "id": "TYhWp0eqh3Yb",
        "colab_type": "code",
        "colab": {}
      },
      "source": [
        "import openjij as oj\n",
        "\n",
        "sampler=oj.GPUSQASampler(iteration=100, unit_num_L=2)"
      ],
      "execution_count": 0,
      "outputs": []
    },
    {
      "cell_type": "markdown",
      "metadata": {
        "id": "oOmEWWBxh_3O",
        "colab_type": "text"
      },
      "source": [
        "ここで `unit_num_L` はキメラユニットセルが並ぶ2次元格子の1辺の長さを指定します。  \n",
        " `unit_num_L=2`では 2×2=4つのキメラユニットセルが並んでいる系を作ることになります。\n",
        "  \n",
        "GPUSQASampler では のちに sample_qubo などで少ない変数を指定しても、\n",
        "ここで作ったキメラグラフの系のサイズだけ SQAを回すので `unit_num_L`は無駄に大きすぎないようにしてください。\n",
        "\n",
        "また`unit_num_L`はコンストラクタで指定しなくても、`sample_qubo`を実行するときに引数に指定できます。\n",
        "\n",
        "ではSQAを回してみましょう。他のsampler と一緒で sample_qubo (or sample_ising) でOKです。"
      ]
    },
    {
      "cell_type": "code",
      "metadata": {
        "id": "_XIsZ9z2h_Rv",
        "colab_type": "code",
        "colab": {
          "base_uri": "https://localhost:8080/",
          "height": 69
        },
        "outputId": "f724bfc5-fc59-434b-ccb7-155b4549874a"
      },
      "source": [
        "Q = {(0, 4): -1, (0, 5): -1, (4, 12): 1}\n",
        "response = sampler.sample_qubo(Q)\n",
        "response"
      ],
      "execution_count": 3,
      "outputs": [
        {
          "output_type": "execute_result",
          "data": {
            "text/plain": [
              "iteration : 100, minimum energy : -2.0, var_type : BINARY\n",
              "indices: [0, 12, 4, 5] \n",
              "minmum energy state sample : [1, 0, 1, 1]"
            ]
          },
          "metadata": {
            "tags": []
          },
          "execution_count": 3
        }
      ]
    }
  ]
}