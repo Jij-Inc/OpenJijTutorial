{
 "cells": [
  {
   "cell_type": "markdown",
   "metadata": {},
   "source": [
    "# 6-量子アニーリングによる機械学習"
   ]
  },
  {
   "cell_type": "markdown",
   "metadata": {},
   "source": [
    "このチュートリアルでは、量子アニーリングの最適化の応用の一例として機械学習(クラスタリング、Qboost)を取り上げます。  \n",
    "まず、前半部分ではPyQUBOとOpenjijを利用したクラスタリングを行います。  \n",
    "後半では、PyQUBOとD-Waveのサンプラーを用いてQboostというアンサンブル学習を行います。\n"
   ]
  },
  {
   "cell_type": "markdown",
   "metadata": {},
   "source": [
    "## クラスタリング"
   ]
  },
  {
   "cell_type": "markdown",
   "metadata": {},
   "source": [
    "クラスタリングとは与えられたデータを 𝑛 個のクラスターに分けるというタスクです。( 𝑛 は外部から与えられているとします。)\n",
    "今回は　クラスター数が2の場合を考えていきます。"
   ]
  },
  {
   "cell_type": "code",
   "execution_count": 1,
   "metadata": {},
   "outputs": [],
   "source": [
    "# ライブラリのインポート\n",
    "import numpy as np\n",
    "from matplotlib import pyplot as plt\n",
    "from sklearn import cluster\n",
    "import pandas as pd\n",
    "from scipy.spatial import distance_matrix \n",
    "from pyqubo import Array, Constraint, Placeholder, solve_qubo\n",
    "import openjij as oj"
   ]
  },
  {
   "cell_type": "markdown",
   "metadata": {},
   "source": [
    "### 人工データを作成する"
   ]
  },
  {
   "cell_type": "markdown",
   "metadata": {},
   "source": [
    "今回は人工的に、二次元平面上の明らかに線形分離可能なデータを生成し、それをクラスタリングします。"
   ]
  },
  {
   "cell_type": "code",
   "execution_count": 2,
   "metadata": {},
   "outputs": [],
   "source": [
    "data = []\n",
    "label = []\n",
    "for i in range(100):\n",
    "    p = np.random.uniform(0, 1)\n",
    "    cls =1 if p>0.5 else -1\n",
    "    data.append(np.random.normal(0, 0.5, 2) + np.array([cls, cls]))\n",
    "    label.append(cls)\n",
    "    \n",
    "df1 = pd.DataFrame(data, columns=[\"x\", \"y\"], index=range(len(data)))\n",
    "df1[\"label\"] = label"
   ]
  },
  {
   "cell_type": "code",
   "execution_count": 3,
   "metadata": {},
   "outputs": [
    {
     "data": {
      "image/png": "[encoded data removed]",
      "text/plain": [
       "<Figure size 432x288 with 1 Axes>"
      ]
     },
     "metadata": {
      "needs_background": "light"
     },
     "output_type": "display_data"
    }
   ],
   "source": [
    "# データセットの確認\n",
    "df1.plot(kind='scatter', x=\"x\", y=\"y\")\n",
    "plt.show()"
   ]
  },
  {
   "cell_type": "markdown",
   "metadata": {},
   "source": [
    "今回は、以下のハミルトニアンを最小化することでクラスタリングを行います。"
   ]
  },
  {
   "cell_type": "markdown",
   "metadata": {},
   "source": [
    "$$\n",
    "H = - \\sum_{i, j} \\frac{1}{2}d_{i,j}(1 - \\sigma _i \\sigma_j)\n",
    "$$\n"
   ]
  },
  {
   "cell_type": "markdown",
   "metadata": {},
   "source": [
    "$i, j$はサンプルの番号、$d_{i,j}$は２つのサンプル間の距離、$\\sigma_i=\\{-1,1\\}$です。この$\\sigma _i $は２つのクラスターのどちらかに属しているかを表しています。\n",
    "このハミルトニアンの和の各項は   \n",
    "- $\\sigma_i  = \\sigma_j $のとき、0\n",
    "- $\\sigma_i  \\neq \\sigma_j $のとき、$d_{i,j}$  \n",
    "\n",
    "になるので、右辺のマイナスに注意すると、ハミルトニアン全体では「異なるクラスに属しているサンプル同士の距離を最大にする$\\{\\sigma _1, \\sigma _2 \\ldots \\}$の組を選べ 」という問題に帰着することがわかります。"
   ]
  },
  {
   "cell_type": "markdown",
   "metadata": {},
   "source": [
    "###  PyQUBOによるクラスタリング"
   ]
  },
  {
   "cell_type": "markdown",
   "metadata": {},
   "source": [
    "まずは、PyQUBOで上のハミルトニアンを定式化し、さらに、 ``solve_qubo``を用いてシュミレーテッドアニーリングを行います。"
   ]
  },
  {
   "cell_type": "code",
   "execution_count": 4,
   "metadata": {},
   "outputs": [],
   "source": [
    "def clustering_pyqubo(df):\n",
    "    # 距離行列\n",
    "    d_ij = distance_matrix(df, df)\n",
    "\n",
    "    # spin\n",
    "    spin = Array.create(\"spin\", shape= len(df), vartype=\"SPIN\")\n",
    "\n",
    "    # ハミルトニアン\n",
    "    H = - 0.5* sum(\n",
    "        [d_ij[i,j]* (1 - spin[i]* spin[j]) for i in range(len(df)) for j in range(len(df))]\n",
    "    )\n",
    "\n",
    "    model = H.compile()\n",
    "    qubo, offset = model.to_qubo()\n",
    "    # 解を求める\n",
    "    raw_solution = solve_qubo(qubo, num_reads=10)\n",
    "\n",
    "    decoded_solution, broken, energy= model.decode_solution(raw_solution, vartype=\"SPIN\")\n",
    "\n",
    "    labels = [decoded_solution[\"spin\"][idx] for idx  in range(len(df))]\n",
    "    return labels, energy"
   ]
  },
  {
   "cell_type": "code",
   "execution_count": 5,
   "metadata": {},
   "outputs": [
    {
     "name": "stdout",
     "output_type": "stream",
     "text": [
      "label [0.0, 1.0, 0.0, 0.0, 0.0, 1.0, 1.0, 0.0, 1.0, 1.0, 0.0, 0.0, 1.0, 0.0, 1.0, 0.0, 0.0, 0.0, 0.0, 1.0, 0.0, 0.0, 1.0, 1.0, 1.0, 0.0, 0.0, 1.0, 1.0, 1.0, 1.0, 0.0, 1.0, 1.0, 0.0, 0.0, 0.0, 1.0, 0.0, 0.0, 1.0, 0.0, 1.0, 1.0, 1.0, 1.0, 0.0, 0.0, 0.0, 0.0, 1.0, 1.0, 1.0, 0.0, 1.0, 1.0, 1.0, 0.0, 0.0, 1.0, 1.0, 0.0, 1.0, 0.0, 0.0, 1.0, 1.0, 1.0, 1.0, 1.0, 0.0, 1.0, 1.0, 1.0, 1.0, 1.0, 0.0, 0.0, 0.0, 1.0, 1.0, 0.0, 1.0, 1.0, 0.0, 1.0, 1.0, 1.0, 0.0, 1.0, 0.0, 0.0, 0.0, 0.0, 0.0, 0.0, 1.0, 0.0, 0.0, 1.0]\n",
      "energy -8098.296906302581\n"
     ]
    }
   ],
   "source": [
    "labels, energy =clustering_pyqubo(df1[[\"x\", \"y\"]])\n",
    "print(\"label\", labels)\n",
    "print(\"energy\", energy)"
   ]
  },
  {
   "cell_type": "markdown",
   "metadata": {},
   "source": [
    "可視化をしてみましょう"
   ]
  },
  {
   "cell_type": "code",
   "execution_count": 6,
   "metadata": {},
   "outputs": [
    {
     "data": {
      "image/png": "[encoded data removed]",
      "text/plain": [
       "<Figure size 432x288 with 1 Axes>"
      ]
     },
     "metadata": {
      "needs_background": "light"
     },
     "output_type": "display_data"
    }
   ],
   "source": [
    "for idx, label in  enumerate(labels):\n",
    "    if label:\n",
    "        plt.scatter(df1.loc[idx][\"x\"], df1.loc[idx][\"y\"], color=\"b\")  \n",
    "    else:\n",
    "        plt.scatter(df1.loc[idx][\"x\"], df1.loc[idx][\"y\"], color=\"r\")"
   ]
  },
  {
   "cell_type": "markdown",
   "metadata": {},
   "source": [
    "## Openjijのソルバーを用いたクラスタリング"
   ]
  },
  {
   "cell_type": "markdown",
   "metadata": {},
   "source": [
    "次はOpenjijのソルバーを用いてクラスタリングをしてみましょう。なお、QUBOの定式化のためにPyQUBOも併用します。"
   ]
  },
  {
   "cell_type": "code",
   "execution_count": 7,
   "metadata": {},
   "outputs": [],
   "source": [
    "def clustering_openjij(df):\n",
    "    # 距離行列\n",
    "    d_ij = distance_matrix(df, df)\n",
    "\n",
    "    # spin\n",
    "    spin = Array.create(\"spin\", shape= len(df), vartype=\"SPIN\")\n",
    "\n",
    "    # ハミルトニアン\n",
    "    H = - 0.5* sum(\n",
    "        [d_ij[i,j]* (1 - spin[i]* spin[j]) for i in range(len(df)) for j in range(len(df))]\n",
    "    )\n",
    "\n",
    "    model = H.compile()\n",
    "    qubo, offset = model.to_qubo()\n",
    "    # 解を求める\n",
    "    sampler = oj.SQASampler(iteration=10, step_num=100)\n",
    "    response = sampler.sample_qubo(qubo)\n",
    "    raw_solution = dict(zip(response.indices, response.states[np.argmin(response.energies)]))\n",
    "\n",
    "\n",
    "    decoded_solution, broken, energy= model.decode_solution(raw_solution, vartype=\"SPIN\")\n",
    "    labels = [int(decoded_solution[\"spin\"][idx] ) for idx  in range(len(df))]\n",
    "    return labels,  sum(response.energies)"
   ]
  },
  {
   "cell_type": "code",
   "execution_count": 8,
   "metadata": {},
   "outputs": [
    {
     "name": "stdout",
     "output_type": "stream",
     "text": [
      "label [0, 1, 0, 0, 0, 1, 1, 0, 1, 1, 0, 0, 1, 0, 1, 0, 0, 0, 0, 1, 0, 0, 1, 1, 1, 0, 0, 1, 1, 1, 1, 0, 1, 1, 0, 0, 0, 1, 0, 0, 1, 0, 1, 1, 1, 1, 0, 0, 0, 0, 1, 1, 1, 0, 1, 1, 1, 0, 0, 1, 1, 0, 1, 0, 0, 1, 1, 1, 1, 1, 0, 1, 1, 1, 1, 1, 0, 0, 0, 1, 1, 0, 1, 1, 0, 1, 1, 1, 0, 1, 0, 0, 0, 0, 0, 0, 1, 0, 0, 1]\n",
      "energy -143516.3648495398\n"
     ]
    }
   ],
   "source": [
    "labels, energy =clustering_openjij(df1[[\"x\", \"y\"]])\n",
    "\n",
    "print(\"label\", labels)\n",
    "print(\"energy\", energy)"
   ]
  },
  {
   "cell_type": "markdown",
   "metadata": {},
   "source": [
    "こちらも、可視化をしてみましょう。"
   ]
  },
  {
   "cell_type": "code",
   "execution_count": null,
   "metadata": {},
   "outputs": [],
   "source": [
    "for idx, label in  enumerate(labels):\n",
    "    if label:\n",
    "        plt.scatter(df1.loc[idx][\"x\"], df1.loc[idx][\"y\"], color=\"b\")  \n",
    "    else:\n",
    "        plt.scatter(df1.loc[idx][\"x\"], df1.loc[idx][\"y\"], color=\"r\")"
   ]
  },
  {
   "cell_type": "markdown",
   "metadata": {},
   "source": [
    "## QBoost"
   ]
  },
  {
   "cell_type": "markdown",
   "metadata": {},
   "source": [
    "QBoostは量子アニーリングを用いたアンサンブル学習の一つです。  \n",
    "アンサンブル学習は弱い予測器を多数用意して、その予測器の各予測結果の組み合わせて最終的な予測結果を得ます。 \n",
    "  \n",
    "QBoostでは、与えられた学習データに対して最適な学習器の組み合わせを量子アニーリングを用いて最適化します。今回は分類問題を扱います。  \n",
    "まず、$D$個の学習データの集合を$\\{\\vec x^{(d)}\\}(d=1, ..., D)$、対応するラベルを$\\{y^{(d)}\\}(d=1, ..., D), y^{(d)}\\in \\{-1, 1\\}$とします。また、$N$個の弱学習器の（関数の）集合を$\\{C_i\\}(i=1, ..., N)$とします。なお、あるデータ$\\vec x^{(d)}$　に対して、$C_i(\\vec x^{(d)})\\in \\{-1, 1\\}$です。このとき、最終的な分類のラベルは以下のようになります。\n",
    "$$y_d ={\\rm sgn}\\left( \\sum_{i=1}^{N} w_i C_i(x_d)\\right)  $$\n",
    "ただし、$w_i\\in\\{0, 1\\} (N=1, ..., N)$とし、各予測器の重み(予測器を最終的な予測に採用するか採用しないかのbool値)とします。  \n",
    "QBoostではこの$w_i$を弱学習器の個数を刈り込みつつ、最終的な予測が教師データに一致する組み合わせを最適化を行います。\n",
    "この問題におけるハミルトニアンは、以下のようになります。\n",
    "$$H(\\vec w) = \\sum_{d=1}^{D} \\left( \\frac{1}{N}\\sum_{i=1}^{N} w_i C_i(\\vec x^{(d)}) \\right)^2 + \\lambda \\sum _i^N w_i$$\n",
    "このハミルトニアンのだいい"
   ]
  },
  {
   "cell_type": "code",
   "execution_count": null,
   "metadata": {},
   "outputs": [],
   "source": []
  },
  {
   "cell_type": "code",
   "execution_count": null,
   "metadata": {},
   "outputs": [],
   "source": [
    "\n"
   ]
  },
  {
   "cell_type": "code",
   "execution_count": null,
   "metadata": {},
   "outputs": [],
   "source": []
  }
 ],
 "metadata": {
  "kernelspec": {
   "display_name": "Python 3",
   "language": "python",
   "name": "python3"
  },
  "language_info": {
   "codemirror_mode": {
    "name": "ipython",
    "version": 3
   },
   "file_extension": ".py",
   "mimetype": "text/x-python",
   "name": "python",
   "nbconvert_exporter": "python",
   "pygments_lexer": "ipython3",
   "version": "3.7.3"
  }
 },
 "nbformat": 4,
 "nbformat_minor": 2
}
