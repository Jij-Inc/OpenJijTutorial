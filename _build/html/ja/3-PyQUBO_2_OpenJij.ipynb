{
 "cells": [
  {
   "cell_type": "markdown",
   "metadata": {},
   "source": [
    "# 3-PyQUBO with OpenJij\n",
    "\n",
    "\n",
    "[![Open in Colab](https://colab.research.google.com/assets/colab-badge.svg)](https://colab.research.google.com/github/OpenJij/OpenJijTutorial/blob/master/ja/3-PyQUBO_2_OpenJij.ipynb)\n",
    "ここでは，PyQUBOによるコスト関数のQUBOへの変換方法とSimulated Annealing，OpenJijへの変数受け渡しなど についてクリーク被覆問題を例に紹介します。"
   ]
  },
  {
   "cell_type": "markdown",
   "metadata": {},
   "source": [
    "pip で openjij と pyqubo をインストールしましょう。  "
   ]
  },
  {
   "cell_type": "code",
   "execution_count": 1,
   "metadata": {},
   "outputs": [],
   "source": [
    "#!pip install openjij\n",
    "# !pip install pyqubo"
   ]
  },
  {
   "cell_type": "code",
   "execution_count": 2,
   "metadata": {},
   "outputs": [
    {
     "name": "stdout",
     "output_type": "stream",
     "text": [
      "Name: openjij\r\n",
      "Version: 0.0.5\r\n",
      "Summary: Framework for ising model and QUBO\r\n",
      "Home-page: https://openjij.github.io/OpenJij/\r\n",
      "Author: Jij Inc.\r\n",
      "Author-email: openjij@j-ij.com\r\n",
      "License: Apache License 2.0\r\n",
      "Location: /usr/local/miniconda3/lib/python3.6/site-packages\r\n",
      "Requires: requests, numpy\r\n",
      "Required-by: \r\n"
     ]
    }
   ],
   "source": [
    "!pip show openjij  # openjij == 0.0.5 を仮定する"
   ]
  },
  {
   "cell_type": "code",
   "execution_count": 3,
   "metadata": {},
   "outputs": [
    {
     "name": "stdout",
     "output_type": "stream",
     "text": [
      "Name: pyqubo\r\n",
      "Version: 0.3.0\r\n",
      "Summary: PyQUBO allows you to create QUBOs or Ising models from mathematical expressions.\r\n",
      "Home-page: https://github.com/recruit-communications/pyqubo\r\n",
      "Author: Recruit Communications Co., Ltd.\r\n",
      "Author-email: rco_pyqubo@ml.cocorou.jp\r\n",
      "License: Apache 2.0\r\n",
      "Location: /usr/local/miniconda3/lib/python3.6/site-packages\r\n",
      "Requires: six, numpy, dimod, dwave-neal\r\n",
      "Required-by: \r\n"
     ]
    }
   ],
   "source": [
    "!pip show pyqubo  # pyqubo == 0.3.0 を仮定する"
   ]
  },
  {
   "cell_type": "markdown",
   "metadata": {},
   "source": [
    "## PyQUBO を使った QUBOの定式化\n",
    "\n",
    "PyQUBOは直感的にQUBOやIsingモデルを定式化するライブラリです。  \n",
    "PyQUBOがない場合は QUBOなどを定式化したあと自分で式を展開してpythonのコードに落とし込んでいましたが、PyQUBOのおかげでその手間をなくすことができます。\n",
    "PyQUBOで計算ミスや、実装ミスを減らすことができる便利なライブラリです。\n",
    "\n",
    "今回はクリーク被覆問題という問題を例にしてPyQUBOを使ってみます。\n",
    "\n",
    "クリーク被覆問題に関しては、[こちら (T-Wave:クリーク被覆問題)](https://qard.is.tohoku.ac.jp/T-Wave/?p=434) が参考になります。"
   ]
  },
  {
   "cell_type": "markdown",
   "metadata": {},
   "source": [
    "クリーク被覆問題のQUBO表現による定式化を紹介します。\n",
    "グラフ $G=(V, E)$を$n$個のクリークで被覆できるかという問題です。\n",
    "QUBO表現は以下になります([ここ:T-Wave](https://qard.is.tohoku.ac.jp/T-Wave/?p=434) と同じ記法を用います)。\n",
    "\n",
    "$$H = A\\sum_v \\left(1-\\sum^n_{i=1} x_{v, i}\\right)^2 \n",
    "+ B \\sum^n_{i=1}\\left[\n",
    "\\frac{1}{2}\\left(-1+\\sum_{v \\in V} x_{v,i}\\right)\\sum_{v \\in V} x_{v, i} \n",
    "- \\sum_{(u, v)\\in E} x_{u,i} x_{v, i}\\right]$$\n",
    "\n",
    "\n",
    "第一項は各頂点に1色だけ塗るという制約で、第二項は分割した部分グラフがどれだけクリーク(完全グラフ)に近いかを示します。\n",
    "どちらの項も0にならなければならないが、ここでは第一項をペナルティ項、第二項をコスト項として扱うことにします。\n",
    "このQUBOをPyQUBOを使って表現してみましょう。"
   ]
  },
  {
   "cell_type": "markdown",
   "metadata": {},
   "source": [
    "今回はグラフとクリークの数$n$を以下のように与えます。"
   ]
  },
  {
   "cell_type": "code",
   "execution_count": 4,
   "metadata": {},
   "outputs": [],
   "source": [
    "#頂点の数\n",
    "N_VER = 8\n",
    "#色の数\n",
    "N_COLOR = 4\n",
    "#グラフを定義．0~7の頂点があったときに，どの頂点同士が線で結ばれているかを定義している．\n",
    "graph = [(0,1), (0,2), (1,2), (5,6), (2,3), (2,5), (3,4), (5,7), (7, 6)]"
   ]
  },
  {
   "cell_type": "markdown",
   "metadata": {},
   "source": [
    "### PyQUBOによる定式化\n",
    "\n",
    "PyQUBOから必要となるクラスをimport しておきます。"
   ]
  },
  {
   "cell_type": "code",
   "execution_count": 5,
   "metadata": {},
   "outputs": [],
   "source": [
    "from pyqubo import Array, Constraint, solve_qubo"
   ]
  },
  {
   "cell_type": "markdown",
   "metadata": {},
   "source": [
    "まずQUBOを表現する変数を用意しましょう。Arrayを使って変数列を作ります。\n",
    "今回は 頂点の数 × 色の数が必要なので その分の shape で用意しましょう。"
   ]
  },
  {
   "cell_type": "code",
   "execution_count": 6,
   "metadata": {},
   "outputs": [],
   "source": [
    "x = Array.create('x', shape=(N_VER,N_COLOR), vartype='BINARY')"
   ]
  },
  {
   "cell_type": "markdown",
   "metadata": {},
   "source": [
    "次にQUBOを作ります。比較的数式通りに記述することができます。"
   ]
  },
  {
   "cell_type": "code",
   "execution_count": 7,
   "metadata": {},
   "outputs": [],
   "source": [
    "# 第一項\n",
    "H_A = Constraint(sum((1-sum(x[v,i] for i in range(1,N_COLOR)))**2 for v in range(N_VER)), label='HA')\n",
    "# 第二項\n",
    "H_B = sum((-1+sum(x[v,i] for v in range (N_VER)))/2*(sum(x[v,i] for v in range (N_VER))) - sum(x[u,i]*x[v,i] for (u,v) in graph) for i in range (1,N_COLOR))\n",
    "\n",
    "#コスト関数\n",
    "Q = H_A+H_B"
   ]
  },
  {
   "cell_type": "markdown",
   "metadata": {},
   "source": [
    "作成したコスト関数は，以下のように`Q.compile().to_qubo()` で簡単にQUBO(Pythonの辞書型)に変換することができます。OpenJijやD-Wave Ocean ではQUBOはPythonの辞書型で表現されることが前提になっているのでcompile すればあとはそのまま各ソルバーに投げることができます。"
   ]
  },
  {
   "cell_type": "code",
   "execution_count": 8,
   "metadata": {},
   "outputs": [],
   "source": [
    "# モデルをコンパイル\n",
    "model = Q.compile()\n",
    "qubo, offset = model.to_qubo()"
   ]
  },
  {
   "cell_type": "markdown",
   "metadata": {},
   "source": [
    "PyQUBOにもSimulated Annealingのソルバーが付いています。D-Wave Ocean SDKの中のnealというライブラリを中で呼んでいます。\n",
    "`solve_qubo(qubo)`を用いることでSAを実行できます。\n",
    "\n",
    "また出てきた解をデコードして読みやすい形に整えてくれるメソッドがあるのでそれを使ってデコードします。"
   ]
  },
  {
   "cell_type": "code",
   "execution_count": 9,
   "metadata": {},
   "outputs": [],
   "source": [
    "#PyQUBOによるSA\n",
    "raw_solution = solve_qubo(qubo)\n",
    "# 得られた結果をデコードする\n",
    "decoded_solution, broken, energy = model.decode_solution(raw_solution, vartype=\"BINARY\")"
   ]
  },
  {
   "cell_type": "code",
   "execution_count": 10,
   "metadata": {},
   "outputs": [
    {
     "data": {
      "text/plain": [
       "{0: {1: 1, 2: 0, 3: 0},\n",
       " 1: {1: 1, 2: 0, 3: 0},\n",
       " 2: {1: 1, 2: 0, 3: 0},\n",
       " 3: {1: 0, 2: 0, 3: 1},\n",
       " 4: {1: 0, 2: 0, 3: 1},\n",
       " 5: {1: 0, 2: 1, 3: 0},\n",
       " 6: {1: 0, 2: 1, 3: 0},\n",
       " 7: {1: 0, 2: 1, 3: 0}}"
      ]
     },
     "execution_count": 10,
     "metadata": {},
     "output_type": "execute_result"
    }
   ],
   "source": [
    "decoded_solution['x']"
   ]
  },
  {
   "cell_type": "markdown",
   "metadata": {},
   "source": [
    "(0,1,2) と (3, 4), (5,6,7) のグループに分けられたようです。これは今回与えたグラフ上でちゃんとそれぞれクリークになっています。\n",
    "\n",
    "また broken はペナルティ項(今回は第一項)が破れていると(0じゃないと)どのように破れたかを記録してくれます。  \n",
    "decodeの機能はこのように制約が満たされているかを自動的にチェックでき、非常に便利な関数です。"
   ]
  },
  {
   "cell_type": "markdown",
   "metadata": {},
   "source": [
    "## OpenJij に投げる\n",
    "\n",
    "ではOpenJijに投げてみましょう。  \n",
    "OpenJijでもSAを実行できますが、せっかくなのでPyQUBOには実装されていないSQA(Simulated quantum annealing)を使って解いてみます。"
   ]
  },
  {
   "cell_type": "code",
   "execution_count": 11,
   "metadata": {},
   "outputs": [],
   "source": [
    "import openjij as oj\n",
    "\n",
    "sampler = oj.SQASampler()\n",
    "response = sampler.sample_qubo(Q=qubo)"
   ]
  },
  {
   "cell_type": "markdown",
   "metadata": {},
   "source": [
    "sampler の部分を取り替えれば他のアルゴリズムやマシンに投げることができるので試してみてください。\n",
    "\n",
    "ではOpenJijで返ってきた結果をPyQUBOのデコーダーを使ってデコードしてみましょう。\n",
    "PyQUBOのデコーダーは引数としてsolverの結果を、コンパイルして作った辞書型QUBOの持つindexをキーとし、値を2値変数の値とした辞書型であると期待しています。\n",
    "\n",
    "なので辞書型で渡してやれば良いです。具体的には以下のようにします。"
   ]
  },
  {
   "cell_type": "code",
   "execution_count": 12,
   "metadata": {},
   "outputs": [
    {
     "data": {
      "text/plain": [
       "{0: {1: 0, 2: 0, 3: 1},\n",
       " 1: {1: 0, 2: 0, 3: 1},\n",
       " 2: {1: 0, 2: 0, 3: 1},\n",
       " 3: {1: 1, 2: 0, 3: 0},\n",
       " 4: {1: 1, 2: 0, 3: 0},\n",
       " 5: {1: 0, 2: 1, 3: 0},\n",
       " 6: {1: 0, 2: 1, 3: 0},\n",
       " 7: {1: 0, 2: 1, 3: 0}}"
      ]
     },
     "execution_count": 12,
     "metadata": {},
     "output_type": "execute_result"
    }
   ],
   "source": [
    "dict_solution = response.samples[0]\n",
    "decoded_solution, broken, energy = model.decode_solution(dict_solution, vartype=\"BINARY\")\n",
    "\n",
    "# openjijの内部の処理で順番が崩れてしまうので sort して見やすくしておく\n",
    "x_solution = dict(sorted(decoded_solution['x'].items()))\n",
    "{key:dict(sorted(value.items())) for key, value in x_solution.items()}"
   ]
  },
  {
   "cell_type": "markdown",
   "metadata": {},
   "source": [
    "## まとめ\n",
    "\n",
    "PyQUBOを使って定式化する方法とOpenJijとの連携を見ました。\n",
    "\n",
    "手順としては\n",
    "\n",
    "1. pyqubo.Array で変数を用意\n",
    "2. QUBOを定式化\n",
    "3. QUBOをコンパイルして辞書型に変換\n",
    "4. 辞書型QUBOを受け付けるOpenJijなどのソルバーに投げて最適化問題を解く\n",
    "5. 返ってきた解を添字をキーとした辞書型にしてdecodeする\n",
    "\n",
    "という流れになります。\n",
    "PyQUBOは定式化、制約の評価で非常に便利なツールです。  \n",
    "様々なソルバーを提供するOpenJijとうまく組み合わせて使うことでより快適な開発ができると思います。"
   ]
  },
  {
   "cell_type": "markdown",
   "metadata": {},
   "source": [
    "参考：PyQUBO公式ドキュメント\n",
    "https://pyqubo.readthedocs.io/en/latest/reference/array.html?highlight=arry%20create"
   ]
  }
 ],
 "metadata": {
  "kernelspec": {
   "display_name": "Python 3",
   "language": "python",
   "name": "python3"
  },
  "language_info": {
   "codemirror_mode": {
    "name": "ipython",
    "version": 3
   },
   "file_extension": ".py",
   "mimetype": "text/x-python",
   "name": "python",
   "nbconvert_exporter": "python",
   "pygments_lexer": "ipython3",
   "version": "3.6.7"
  }
 },
 "nbformat": 4,
 "nbformat_minor": 2
}
