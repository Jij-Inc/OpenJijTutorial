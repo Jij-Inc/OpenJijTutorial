{
 "cells": [
  {
   "cell_type": "markdown",
   "metadata": {
    "colab_type": "text",
    "id": "view-in-github"
   },
   "source": [
    "<a href=\"https://colab.research.google.com/github/OpenJij/OpenJijTutorial/blob/master/ja/1-Introduction.ipynb\" target=\"_parent\"><img src=\"https://colab.research.google.com/assets/colab-badge.svg\" alt=\"Open In Colab\"/></a>"
   ]
  },
  {
   "cell_type": "markdown",
   "metadata": {
    "colab_type": "text",
    "id": "Y4hVgt6yQyOa"
   },
   "source": [
    "# 1-OpenJij 入門\n",
    "\n",
    "[![Open in Colab](https://colab.research.google.com/assets/colab-badge.svg)](https://colab.research.google.com/github/OpenJij/OpenJijTutorial/blob/master/ja/1-Introduction.ipynb)\n",
    "\n",
    "OpenJijは Isingモデル, QUBOのヒューリステック最適化ライブラリです。  \n",
    "最適化のコア部分はC++で実装されていますが、Pythonインターフェースを備えているため、Pythonで簡単に書くことができます。\n",
    "\n",
    "インストールにはpipを使用します。ただし、numpy を事前にインストールしておいてください。"
   ]
  },
  {
   "cell_type": "code",
   "execution_count": 1,
   "metadata": {
    "colab": {},
    "colab_type": "code",
    "id": "JZW9IAE9QyOd"
   },
   "outputs": [],
   "source": [
    "# !pip install openjij"
   ]
  },
  {
   "cell_type": "code",
   "execution_count": 2,
   "metadata": {
    "colab": {},
    "colab_type": "code",
    "id": "wyu_ZSisQyOg",
    "outputId": "09252d51-5c0a-43c7-af4f-95edea5170af"
   },
   "outputs": [
    {
     "name": "stdout",
     "output_type": "stream",
     "text": [
      "Name: openjij\r\n",
      "Version: 0.0.11\r\n",
      "Summary: Framework for the Ising model and QUBO\r\n",
      "Home-page: https://openjij.github.io/OpenJij/\r\n",
      "Author: Jij Inc.\r\n",
      "Author-email: openjij@j-ij.com\r\n",
      "License: Apache License 2.0\r\n",
      "Location: /Users/shonakamura/.pyenv/versions/3.6.9/lib/python3.6/site-packages\r\n",
      "Requires: numpy, dimod, requests\r\n",
      "Required-by: \r\n"
     ]
    }
   ],
   "source": [
    "# 以下のコマンドでOpenJijの情報を見ることができます。実行環境によって出力は異なります。\n",
    "!pip show openjij"
   ]
  },
  {
   "cell_type": "markdown",
   "metadata": {
    "colab_type": "text",
    "id": "x9a_Imk1QyOn"
   },
   "source": [
    "### Ising model\n",
    "\n",
    "Ising model は統計物理学で扱われるモデルで、以下のように書かれます。\n",
    "\n",
    "$$H(\\{\\sigma_i\\}) = \\sum_{i > j} J_{ij}\\sigma_i \\sigma_j + \\sum_{i=1}^N h_i \\sigma_i$$\n",
    "$$\\sigma_i \\in \\{-1, 1\\}, i=1,\\cdots N$$\n",
    "\n",
    "ここで$H(\\{\\sigma_i\\})$はハミルトニアンと呼ばれます。エネルギーやコスト関数だと考えてください。  \n",
    "$\\sigma_i$は2値$(1, -1)$を取る変数です。  \n",
    "\n",
    "> $\\sigma_i$は物理ではスピンという物理量に対応するため、スピン変数もしくは単純にスピンと呼ばれることもあります。  \n",
    "> スピンとは小さな磁石のようなものです。-1 が磁石が上向き、1が下向きのように変数の値と物理(磁石の向き)が対応します。\n",
    "\n",
    "\n",
    "$H$は変数の組み合わせ$\\{\\sigma_i\\} = \\{\\sigma_1, \\sigma_2, \\cdots, \\sigma_N\\}$に依存します。  \n",
    "$J_{ij}, h_i$が与えられる問題を表しています。それぞれ相互作用係数、縦磁場と呼ばれます。\n",
    "\n",
    "OpenJijは$J_{ij} と h_i$が与えられたときに$H(\\{\\sigma_i\\})$を最小化するスピン変数の組み$\\{\\sigma_i\\}$を探してくれる数値計算ライブラリです。\n",
    "\n",
    "具体的な例を一つ見ましょう。"
   ]
  },
  {
   "cell_type": "markdown",
   "metadata": {
    "colab_type": "text",
    "id": "j0iZqoWtQyOn"
   },
   "source": [
    "## OpenJijに問題を投げてみる\n",
    "\n",
    "変数の数が$N=5$で縦磁場と相互作用が\n",
    "\n",
    "$$h_i = -1~\\text{for} ~\\forall i, ~ J_{ij} = -1~\\text{for} ~\\forall i, j$$\n",
    "\n",
    "の問題を考えてみましょう。全ての相互作用がマイナスなので、各スピン変数は同じ値をとった方がエネルギーは低くなることがわかります。また縦磁場は全てマイナスなので、各スピンは1の値をとった方がエネルギーが低くなります。  \n",
    "よってこの答えは $\\{\\sigma_i\\} = \\{1, 1, 1, 1, 1\\}$になります。\n",
    "\n",
    "ではこれを再現することをOpenJijを用いて計算しましょう。"
   ]
  },
  {
   "cell_type": "code",
   "execution_count": 3,
   "metadata": {},
   "outputs": [
    {
     "name": "stdout",
     "output_type": "stream",
     "text": [
      "h_i:  {0: -1, 1: -1, 2: -1, 3: -1, 4: -1}\n",
      "Jij:  {(0, 1): -1, (0, 2): -1, (0, 3): -1, (0, 4): -1, (1, 2): -1, (1, 3): -1, (1, 4): -1, (2, 3): -1, (2, 4): -1, (3, 4): -1}\n"
     ]
    }
   ],
   "source": [
    "import openjij as oj\n",
    "\n",
    "# 問題を表す縦磁場と相互作用を作ります。OpenJijでは辞書型で問題を受け付けます。\n",
    "N = 5\n",
    "h = {i: -1 for i in range(N)}\n",
    "J = {(i, j): -1 for i in range(N) for j in range(i+1, N)}\n",
    "\n",
    "print('h_i: ', h)\n",
    "print('Jij: ', J)"
   ]
  },
  {
   "cell_type": "code",
   "execution_count": 4,
   "metadata": {},
   "outputs": [
    {
     "name": "stdout",
     "output_type": "stream",
     "text": [
      "[[1 1 1 1 1]]\n",
      "[{0: 1, 1: 1, 2: 1, 3: 1, 4: 1}]\n"
     ]
    }
   ],
   "source": [
    "# まず問題を解いてくれるSamplerのインスタンスを作ります。\n",
    "# このインスタンスの選択で問題を解くアルゴリズムを選択できます。\n",
    "sampler = oj.SASampler(num_reads=1)\n",
    "# samplerのメソッドに問題(h, J)を投げて問題を解きます。\n",
    "response = sampler.sample_ising(h, J)\n",
    "\n",
    "# 計算した結果(状態)は response.states に入っています。\n",
    "print(response.states)\n",
    "\n",
    "# もしくは添字付きでみるには samples関数 を用います。\n",
    "print([s for s in response.samples()])"
   ]
  },
  {
   "cell_type": "markdown",
   "metadata": {
    "colab_type": "text",
    "id": "feViwN6zQyO0"
   },
   "source": [
    "## OpenJijの解説\n",
    "\n",
    "上述のコードの解説をします。  \n",
    "OpenJijは現在インターフェースを2つ備えており、上記で使ったものはD-Wave Oceanと同じインターフェースになっています。そのため、OpenJijで慣れておけばD-Wave Oceanへの変更がスムーズです。\n",
    "\n",
    "> もう一つのインターフェースについてはここでは解説しませんが、OpenJijの仕組み`graph, method, algorithm`を直接使うことで拡張のしやすさを備えています。ここでは上のセルで扱ったインターフェースを使えるようになれば十分でしょう。\n",
    "\n",
    "### Sampler\n",
    "\n",
    "先ほどは問題を辞書型で作ったあとに、Samplerのインスタンスを作りました。\n",
    "```python\n",
    "sampler = oj.SASampler(num_reads=1)\n",
    "```\n",
    "ここでこのSamplerというのがどのようなアルゴリズム、マシンを使うかを選択しています。他のアルゴリズムを試したい時はこのSamplerを変更します。また`num_reads`引数に整数を入れることで、一度に解く回数(iteration回数)を指定することができます(詳細は後述)。\n",
    "\n",
    "> OpenJijで扱っているアルゴリズムはヒューリスティックな確率アルゴリズムです。問題を解くたびに返す解が違ったり、必ずしも最適解を得ることができません。\n",
    "> よって複数回問題を解き、その中でよい解を探すという手法をとります。そのため、ここでは解をサンプリングするという気持ちを込めてSamplerと呼んでいます。\n",
    "\n",
    "> num_readsの値を明記しない場合、デフォルトのnum_reads=1で実行されます。\n",
    "\n",
    "上のセルで用いた`SASampler`は`Simulated Annealing`というアルゴリズムを用いて、解をサンプリングしてくるSamplerです。  \n",
    "他にも\n",
    "\n",
    "- SQASampler : Simulated Quantum Annealing(SQA) という量子アニーリングを古典コンピュータでシミュレーションするアルゴリズム\n",
    "- GPUSQASampler : SQAをGPUで実行するSamplerです。Chimeraグラフという特殊な構造のみが現状扱える\n",
    "\n",
    "のSamplerが用意されています。\n",
    "\n",
    "### sample_ising(h, J)\n",
    "上述のとおり、問題を解く際は`.sample_ising(h, J)`のように縦磁場と相互作用を変数として代入して投入します。\n",
    "\n",
    "後述しますた、Isingモデルと等価なQUBOの最適化を行う時は`.sample_qubo(Q)`を用います。\n",
    "\n",
    "### Response\n",
    "\n",
    "`.sample_ising(h, J)`はResponseクラスを返します。ResponseクラスにはSamplerが解いて出てきた解と各解のエネルギーが入っています。\n",
    "\n",
    "- .states :\n",
    "    - type : list(list(int))\n",
    "    - num_reads回数の解が格納されている\n",
    "    > 物理ではスピンの配列(解)を状態と呼ぶことがあります。.statesにはnum_reads回だけ解いた解が格納されているので複数の状態を格納しているという気持ちを込めて .states としています。\n",
    "- .energies:\n",
    "    - type : list(float)\n",
    "    - num_reads回数分の各解のエネルギーが格納されている\n",
    "- .indices:\n",
    "    - type: list(object)\n",
    "    - 解がlistでstatesに入っているが、それに対応する各スピンの添字を格納されている\n",
    "- .first.sample:\n",
    "    - type: dict\n",
    "    - 最小エネルギー状態を取るときの状態が格納されている\n",
    "- .first.energy:\n",
    "    - type: float\n",
    "    - 最小エネルギーの値\n",
    "\n",
    "> ResponseクラスはD-WaveのdimodのSampleSetクラスを継承しています。より詳細な情報は以下のリンクに記述されています。  \n",
    "> [dimodドキュメント、SampleSet](https://docs.ocean.dwavesys.com/projects/dimod/en/latest/reference/sampleset.html)\n",
    "\n",
    "というパラメータが参照できます。実際にコードを見てみましょう。"
   ]
  },
  {
   "cell_type": "code",
   "execution_count": 5,
   "metadata": {},
   "outputs": [
    {
     "name": "stdout",
     "output_type": "stream",
     "text": [
      "{'a': 1, 'b': 1, 'c': -1}\n",
      "-4.0\n"
     ]
    }
   ],
   "source": [
    "# 実は h, J の添字を示す、辞書のkeyは数値以外も扱うことができます。\n",
    "h = {'a': -1, 'b': -1}\n",
    "J = {('a', 'b'): -1, ('b', 'c'): 1}\n",
    "# num_reads 引数に値を代入することで、SAを10回試行する計算を一度の命令で解くことができます。\n",
    "sampler = oj.SASampler(num_reads=10)  \n",
    "response = sampler.sample_ising(h, J)\n",
    "print(response.first.sample)\n",
    "print(response.first.energy)"
   ]
  },
  {
   "cell_type": "code",
   "execution_count": 6,
   "metadata": {},
   "outputs": [
    {
     "name": "stdout",
     "output_type": "stream",
     "text": [
      "[[ 1  1 -1]\n",
      " [ 1  1 -1]\n",
      " [ 1  1 -1]\n",
      " [ 1  1 -1]\n",
      " [ 1  1 -1]\n",
      " [ 1  1 -1]\n",
      " [ 1  1 -1]\n",
      " [ 1  1 -1]\n",
      " [ 1  1 -1]\n",
      " [ 1  1 -1]]\n"
     ]
    }
   ],
   "source": [
    "# response.states を見てみましょう。10回分の解が入っていることがわかります。\n",
    "print(response.states)"
   ]
  },
  {
   "cell_type": "markdown",
   "metadata": {
    "colab_type": "text",
    "id": "4mekWlvTQyO4"
   },
   "source": [
    "> num_reads などコンストラクタで渡すパラメータは`.sample_ising`などのサンプリングを実行するメソッドで上書きすることができます。\n",
    "> ```\n",
    "> response = sampler.sample_ising(h, J, num_reads=2)\n",
    "> response.states\n",
    "> > [[1, 1, -1],[1, 1, -1]]\n",
    "> ```\n",
    "\n",
    "今回は問題が簡単なので、10回とも同じ答え [1,1,-1] になっていることがわかります。"
   ]
  },
  {
   "cell_type": "code",
   "execution_count": 7,
   "metadata": {},
   "outputs": [
    {
     "data": {
      "text/plain": [
       "array([-4., -4., -4., -4., -4., -4., -4., -4., -4., -4.])"
      ]
     },
     "execution_count": 7,
     "metadata": {},
     "output_type": "execute_result"
    }
   ],
   "source": [
    "# 次にエネルギーを見てみましょう。\n",
    "response.energies"
   ]
  },
  {
   "cell_type": "markdown",
   "metadata": {
    "colab_type": "text",
    "id": "NYAnma_WQyO7"
   },
   "source": [
    "エネルギーの値を10回とも同じ値を取っていることがわかります。  \n",
    "`response.states`に入っている解はリストになっているため、問題をセットした時の `a, b, c`という文字列との対応がわかりません。それを調べるために`response.indices`を見てみましょう。"
   ]
  },
  {
   "cell_type": "code",
   "execution_count": 8,
   "metadata": {},
   "outputs": [
    {
     "data": {
      "text/plain": [
       "['a', 'b', 'c']"
      ]
     },
     "execution_count": 8,
     "metadata": {},
     "output_type": "execute_result"
    }
   ],
   "source": [
    "response.indices"
   ]
  },
  {
   "cell_type": "markdown",
   "metadata": {
    "colab_type": "text",
    "id": "5rf7wB7LQyPJ"
   },
   "source": [
    "最小のエネルギー値を持った状態のみが知りたい場合には `.first` が便利です。"
   ]
  },
  {
   "cell_type": "code",
   "execution_count": 9,
   "metadata": {
    "colab": {},
    "colab_type": "code",
    "id": "-J1utQATQyPK",
    "outputId": "839e1260-3b1c-432d-a4b6-7b318ba1048c"
   },
   "outputs": [
    {
     "data": {
      "text/plain": [
       "Sample(sample={'a': 1, 'b': 1, 'c': -1}, energy=-4.0, num_occurrences=1)"
      ]
     },
     "execution_count": 9,
     "metadata": {},
     "output_type": "execute_result"
    }
   ],
   "source": [
    "response.first"
   ]
  },
  {
   "cell_type": "markdown",
   "metadata": {
    "colab_type": "text",
    "id": "zxyro6tTQyPN"
   },
   "source": [
    "## QUBOを解いてみる\n",
    "\n",
    "社会の実問題を解きたい場合には、Ising modelよりも QUBO(Quadratic unconstraited binary optimization)として定式化した方が素直な場合が多いです。基本的には上述のIsing modelを使って解いた場合と同じです。\n",
    "\n",
    "QUBOは以下のように書かれます。\n",
    "\n",
    "$$H(\\{q_i\\}) = \\sum_{i\\geq j} Q_{ij}q_i q_j$$\n",
    "$$q_i \\in \\{0, 1\\}$$\n",
    "\n",
    "Ising modelとの違いは、2値変数が0 と 1のバイナリ変数であることです。$\\sum, Q_{ij}$の取り方には他にもやり方(例えば$Q_{ij}$を対称行列にするなど)がありますが、今回は上式のように定式化しておきましょう。\n",
    "\n",
    "> Ising モデル と QUBO は相互変換が可能という意味で等価です。\n",
    "> $q_i = (\\sigma_i + 1)/2$という変換式を用いることで、変換が可能です。\n",
    "\n",
    "QUBOでは$Q_{ij}$が与える問題で、$H(\\{q_i\\})$を最小化する0, 1の組み合わせ$\\{q_i\\}$を探しましょうという問題になります。ほぼIsing modelと一緒です。\n",
    "\n",
    "また$q_i$はバイナリ変数なので、$q_i^2 = q_i$であることがわかります。よって上式を以下のように書き分けることができます。\n",
    "\n",
    "$$H(\\{q_i\\}) = \\sum_{i > j} Q_{ij}q_i q_j + \\sum_i Q_{ii} q_i$$\n",
    "\n",
    "$Q_{ij}$の添字が同じところは $q_i$の1次の項の係数に対応します。\n",
    "\n",
    "これをOpenJijで解いてみましょう。"
   ]
  },
  {
   "cell_type": "code",
   "execution_count": 10,
   "metadata": {},
   "outputs": [
    {
     "name": "stdout",
     "output_type": "stream",
     "text": [
      "[[1 1 0]]\n"
     ]
    }
   ],
   "source": [
    "# Q_ij を辞書型でつくります。\n",
    "Q = {(0, 0): -1, (0, 1): -1, (1, 2): 1, (2, 2): 1}\n",
    "sampler = oj.SASampler()\n",
    "# QUBOを解く時は .sample_qubo を使います。\n",
    "response = sampler.sample_qubo(Q)\n",
    "print(response.states)"
   ]
  },
  {
   "cell_type": "markdown",
   "metadata": {
    "colab_type": "text",
    "id": "CxbDNkSuQyPU"
   },
   "source": [
    "QUBOでは変数が 0, 1のため、解も 0, 1で出力されていることがわかります。  \n",
    "このようにOpenJij を用いて Ising modelとQUBOの最適化問題を解くことができます。"
   ]
  },
  {
   "cell_type": "markdown",
   "metadata": {
    "colab_type": "text",
    "id": "8IRw4pHOQyPV"
   },
   "source": [
    "## 少し難しい問題を解いてみる\n",
    "\n",
    "これまで解いてきた問題は簡単すぎたので、少し難しい問題を解いてみましょう。\n",
    "\n",
    "今度は変数の数が50個でランダムに$Q_{ij}$が振られたQUBOを解いてみたいと思います。"
   ]
  },
  {
   "cell_type": "code",
   "execution_count": 11,
   "metadata": {},
   "outputs": [],
   "source": [
    "N = 50\n",
    "# ランダムにQij を作る\n",
    "import random\n",
    "Q = {(i, j): random.uniform(-1, 1) for i in range(N) for j in range(i+1, N)}\n",
    "\n",
    "# OpenJijで解く\n",
    "sampler = oj.SASampler()\n",
    "response = sampler.sample_qubo(Q, num_reads=100)"
   ]
  },
  {
   "cell_type": "code",
   "execution_count": 12,
   "metadata": {},
   "outputs": [
    {
     "data": {
      "text/plain": [
       "array([-58.52024684, -58.00899992, -58.52024684, -58.52024684,\n",
       "       -58.00899992])"
      ]
     },
     "execution_count": 12,
     "metadata": {},
     "output_type": "execute_result"
    }
   ],
   "source": [
    "# エネルギーを少しみてみます。\n",
    "response.energies[:5]"
   ]
  },
  {
   "cell_type": "markdown",
   "metadata": {
    "colab_type": "text",
    "id": "syclwqyyQyPg"
   },
   "source": [
    "エネルギーを見てみると、先ほどの例とは異なり違う値をとっていることがわかります。  \n",
    "ランダムにQij を与えた場合、一般に問題は難しくなります。よってSASamplerも毎回同じ解を出しません。  \n",
    "ではどのような解がでたのかを、エネルギーのヒストグラムで可視化してみましょう。"
   ]
  },
  {
   "cell_type": "code",
   "execution_count": 13,
   "metadata": {},
   "outputs": [
    {
     "data": {
      "image/png": "[encoded data removed]",
      "text/plain": [
       "<Figure size 432x288 with 1 Axes>"
      ]
     },
     "metadata": {
      "needs_background": "light"
     },
     "output_type": "display_data"
    }
   ],
   "source": [
    "import matplotlib.pyplot as plt\n",
    "plt.hist(response.energies, bins=15)\n",
    "plt.xlabel('Energy', fontsize=15)\n",
    "plt.ylabel('Frequency', fontsize=15)\n",
    "plt.show()"
   ]
  },
  {
   "cell_type": "markdown",
   "metadata": {
    "colab_type": "text",
    "id": "K61nEm6fQyPl"
   },
   "source": [
    "エネルギーが低いほど良い状態を算出したことになりますが、稀にエネルギーが高い状態も算出されていることが上のヒストグラムからわかります。しかし大半の計算結果はエネルギーが最低の状態を算出しています。\n",
    "解いた(サンプルした)状態のうち一番低い解が最適解に近いはずなので、その解を.statesから探しましょう。\n",
    "> 注意: SAは必ずしも最適解を導くものではありません。よってエネルギーが一番低い解を選んでも最適解であるという保証はありません。あくまで近似解です。"
   ]
  },
  {
   "cell_type": "code",
   "execution_count": 14,
   "metadata": {},
   "outputs": [
    {
     "data": {
      "text/plain": [
       "Sample(sample={0: 1, 1: 1, 2: 1, 3: 1, 4: 1, 5: 0, 6: 1, 7: 0, 8: 0, 9: 1, 10: 1, 11: 1, 12: 1, 13: 0, 14: 0, 15: 0, 16: 1, 17: 1, 18: 0, 19: 0, 20: 0, 21: 1, 22: 1, 23: 1, 24: 1, 25: 0, 26: 0, 27: 0, 28: 1, 29: 0, 30: 1, 31: 1, 32: 1, 33: 0, 34: 1, 35: 1, 36: 0, 37: 1, 38: 1, 39: 1, 40: 1, 41: 0, 42: 1, 43: 0, 44: 1, 45: 1, 46: 0, 47: 0, 48: 1, 49: 1}, energy=-58.520246836411424, num_occurrences=1)"
      ]
     },
     "execution_count": 14,
     "metadata": {},
     "output_type": "execute_result"
    }
   ],
   "source": [
    "import numpy as np\n",
    "\n",
    "min_samples = response.first\n",
    "min_samples"
   ]
  },
  {
   "cell_type": "markdown",
   "metadata": {
    "colab_type": "text",
    "id": "XBp8gWZEQyPr"
   },
   "source": [
    "これでエネルギーが最も低い解を得ることができました。この`.first`に入っている状態が、今回得られた近似解です。これで「問題を近似的に解いた」ということになります。\n",
    "\n",
    "`num_occurrences`は計算の結果その状態が何回出力されたかを表しています。\n",
    "\n",
    "次回は \"2-Evaluation\" で Time to Solution や残留エネルギーなど、解をはかる指標について説明します。"
   ]
  },
  {
   "cell_type": "code",
   "execution_count": null,
   "metadata": {},
   "outputs": [],
   "source": []
  }
 ],
 "metadata": {
  "colab": {
   "include_colab_link": true,
   "name": "1-Introduction.ipynb",
   "provenance": [],
   "version": "0.3.2"
  },
  "kernelspec": {
   "display_name": "Python 3",
   "language": "python",
   "name": "python3"
  },
  "language_info": {
   "codemirror_mode": {
    "name": "ipython",
    "version": 3
   },
   "file_extension": ".py",
   "mimetype": "text/x-python",
   "name": "python",
   "nbconvert_exporter": "python",
   "pygments_lexer": "ipython3",
   "version": "3.6.9"
  }
 },
 "nbformat": 4,
 "nbformat_minor": 4
}
