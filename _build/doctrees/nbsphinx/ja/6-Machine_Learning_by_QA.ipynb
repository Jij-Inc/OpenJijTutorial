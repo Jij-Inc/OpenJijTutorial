{
 "cells": [
  {
   "cell_type": "markdown",
   "metadata": {},
   "source": [
    "# 6-量子アニーリングによる機械学習"
   ]
  },
  {
   "cell_type": "markdown",
   "metadata": {},
   "source": [
    "このチュートリアルでは、量子アニーリングの最適化の応用の一例として機械学習(クラスタリング、Qboost)を取り上げます。  \n",
    "まず、前半部分ではPyQUBOとOpenjijを利用したクラスタリングを行います。  \n",
    "後半では、PyQUBOとD-Waveのサンプラーを用いてQboostというアンサンブル学習を行います。\n"
   ]
  },
  {
   "cell_type": "markdown",
   "metadata": {},
   "source": [
    "## クラスタリング"
   ]
  },
  {
   "cell_type": "markdown",
   "metadata": {},
   "source": [
    "クラスタリングとは与えられたデータを 𝑛 個のクラスターに分けるというタスクです。( 𝑛 は外部から与えられているとします。)\n",
    "今回は　クラスター数が2の場合を考えていきます。"
   ]
  },
  {
   "cell_type": "code",
   "execution_count": 1,
   "metadata": {},
   "outputs": [],
   "source": [
    "# ライブラリのインポート\n",
    "import numpy as np\n",
    "from matplotlib import pyplot as plt\n",
    "from sklearn import cluster\n",
    "import pandas as pd\n",
    "from scipy.spatial import distance_matrix \n",
    "from pyqubo import Array, Constraint, Placeholder, solve_qubo\n",
    "import openjij as oj\n",
    "from sklearn.model_selection import train_test_split"
   ]
  },
  {
   "cell_type": "markdown",
   "metadata": {},
   "source": [
    "### 人工データを作成する"
   ]
  },
  {
   "cell_type": "markdown",
   "metadata": {},
   "source": [
    "今回は人工的に、二次元平面上の明らかに線形分離可能なデータを生成し、それをクラスタリングします。"
   ]
  },
  {
   "cell_type": "code",
   "execution_count": 2,
   "metadata": {},
   "outputs": [],
   "source": [
    "data = []\n",
    "label = []\n",
    "for i in range(100):\n",
    "    p = np.random.uniform(0, 1)\n",
    "    cls =1 if p>0.5 else -1\n",
    "    data.append(np.random.normal(0, 0.5, 2) + np.array([cls, cls]))\n",
    "    label.append(cls)\n",
    "    \n",
    "df1 = pd.DataFrame(data, columns=[\"x\", \"y\"], index=range(len(data)))\n",
    "df1[\"label\"] = label"
   ]
  },
  {
   "cell_type": "code",
   "execution_count": 3,
   "metadata": {},
   "outputs": [
    {
     "data": {
      "image/png": "[encoded data removed]",
      "text/plain": [
       "<Figure size 432x288 with 1 Axes>"
      ]
     },
     "metadata": {
      "needs_background": "light"
     },
     "output_type": "display_data"
    }
   ],
   "source": [
    "# データセットの確認\n",
    "df1.plot(kind='scatter', x=\"x\", y=\"y\")\n",
    "plt.show()"
   ]
  },
  {
   "cell_type": "markdown",
   "metadata": {},
   "source": [
    "今回は、以下のハミルトニアンを最小化することでクラスタリングを行います。"
   ]
  },
  {
   "cell_type": "markdown",
   "metadata": {},
   "source": [
    "$$\n",
    "H = - \\sum_{i, j} \\frac{1}{2}d_{i,j}(1 - \\sigma _i \\sigma_j)\n",
    "$$\n"
   ]
  },
  {
   "cell_type": "markdown",
   "metadata": {},
   "source": [
    "$i, j$はサンプルの番号、$d_{i,j}$は２つのサンプル間の距離、$\\sigma_i=\\{-1,1\\}$です。この$\\sigma _i $は２つのクラスターのどちらかに属しているかを表しています。\n",
    "このハミルトニアンの和の各項は   \n",
    "- $\\sigma_i  = \\sigma_j $のとき、0\n",
    "- $\\sigma_i  \\neq \\sigma_j $のとき、$d_{i,j}$  \n",
    "\n",
    "になるので、右辺のマイナスに注意すると、ハミルトニアン全体では「異なるクラスに属しているサンプル同士の距離を最大にする$\\{\\sigma _1, \\sigma _2 \\ldots \\}$の組を選べ 」という問題に帰着することがわかります。"
   ]
  },
  {
   "cell_type": "markdown",
   "metadata": {},
   "source": [
    "###  PyQUBOによるクラスタリング"
   ]
  },
  {
   "cell_type": "markdown",
   "metadata": {},
   "source": [
    "まずは、PyQUBOで上のハミルトニアンを定式化し、さらに、 ``solve_qubo``を用いてシュミレーテッドアニーリングを行います。"
   ]
  },
  {
   "cell_type": "code",
   "execution_count": 4,
   "metadata": {},
   "outputs": [],
   "source": [
    "def clustering_pyqubo(df):\n",
    "    # 距離行列\n",
    "    d_ij = distance_matrix(df, df)\n",
    "\n",
    "    # spin\n",
    "    spin = Array.create(\"spin\", shape= len(df), vartype=\"SPIN\")\n",
    "\n",
    "    # ハミルトニアン\n",
    "    H = - 0.5* sum(\n",
    "        [d_ij[i,j]* (1 - spin[i]* spin[j]) for i in range(len(df)) for j in range(len(df))]\n",
    "    )\n",
    "\n",
    "    model = H.compile()\n",
    "    qubo, offset = model.to_qubo()\n",
    "    # 解を求める\n",
    "    raw_solution = solve_qubo(qubo, num_reads=10)\n",
    "\n",
    "    decoded_solution, broken, energy= model.decode_solution(raw_solution, vartype=\"SPIN\")\n",
    "\n",
    "    labels = [decoded_solution[\"spin\"][idx] for idx  in range(len(df))]\n",
    "    return labels, energy"
   ]
  },
  {
   "cell_type": "code",
   "execution_count": 5,
   "metadata": {},
   "outputs": [
    {
     "name": "stdout",
     "output_type": "stream",
     "text": [
      "label [0.0, 1.0, 1.0, 1.0, 1.0, 1.0, 0.0, 0.0, 0.0, 0.0, 1.0, 0.0, 1.0, 0.0, 0.0, 1.0, 1.0, 1.0, 1.0, 0.0, 1.0, 1.0, 0.0, 0.0, 1.0, 1.0, 0.0, 1.0, 1.0, 1.0, 1.0, 0.0, 0.0, 1.0, 1.0, 1.0, 0.0, 0.0, 1.0, 0.0, 1.0, 1.0, 1.0, 1.0, 1.0, 1.0, 1.0, 1.0, 0.0, 0.0, 0.0, 1.0, 0.0, 1.0, 0.0, 1.0, 1.0, 0.0, 0.0, 1.0, 0.0, 0.0, 1.0, 1.0, 0.0, 1.0, 1.0, 0.0, 0.0, 0.0, 1.0, 0.0, 0.0, 0.0, 1.0, 0.0, 0.0, 0.0, 0.0, 0.0, 1.0, 0.0, 1.0, 1.0, 1.0, 1.0, 1.0, 1.0, 0.0, 1.0, 1.0, 1.0, 1.0, 0.0, 0.0, 0.0, 0.0, 1.0, 1.0, 1.0]\n",
      "energy -7998.514395335311\n"
     ]
    }
   ],
   "source": [
    "labels, energy =clustering_pyqubo(df1[[\"x\", \"y\"]])\n",
    "print(\"label\", labels)\n",
    "print(\"energy\", energy)"
   ]
  },
  {
   "cell_type": "markdown",
   "metadata": {},
   "source": [
    "可視化をしてみましょう"
   ]
  },
  {
   "cell_type": "code",
   "execution_count": 6,
   "metadata": {},
   "outputs": [
    {
     "data": {
      "image/png": "[encoded data removed]",
      "text/plain": [
       "<Figure size 432x288 with 1 Axes>"
      ]
     },
     "metadata": {
      "needs_background": "light"
     },
     "output_type": "display_data"
    }
   ],
   "source": [
    "for idx, label in  enumerate(labels):\n",
    "    if label:\n",
    "        plt.scatter(df1.loc[idx][\"x\"], df1.loc[idx][\"y\"], color=\"b\")  \n",
    "    else:\n",
    "        plt.scatter(df1.loc[idx][\"x\"], df1.loc[idx][\"y\"], color=\"r\")"
   ]
  },
  {
   "cell_type": "markdown",
   "metadata": {},
   "source": [
    "### Openjijのソルバーを用いたクラスタリング"
   ]
  },
  {
   "cell_type": "markdown",
   "metadata": {},
   "source": [
    "次はOpenjijのソルバーを用いてクラスタリングをしてみましょう。なお、QUBOの定式化のためにPyQUBOも併用します。"
   ]
  },
  {
   "cell_type": "code",
   "execution_count": 7,
   "metadata": {},
   "outputs": [],
   "source": [
    "def clustering_openjij(df):\n",
    "    # 距離行列\n",
    "    d_ij = distance_matrix(df, df)\n",
    "\n",
    "    # spin\n",
    "    spin = Array.create(\"spin\", shape= len(df), vartype=\"SPIN\")\n",
    "\n",
    "    # ハミルトニアン\n",
    "    H = - 0.5* sum(\n",
    "        [d_ij[i,j]* (1 - spin[i]* spin[j]) for i in range(len(df)) for j in range(len(df))]\n",
    "    )\n",
    "\n",
    "    model = H.compile()\n",
    "    qubo, offset = model.to_qubo()\n",
    "    # 解を求める\n",
    "    sampler = oj.SQASampler(iteration=10, step_num=100)\n",
    "    response = sampler.sample_qubo(qubo)\n",
    "    raw_solution = dict(zip(response.indices, response.states[np.argmin(response.energies)]))\n",
    "\n",
    "\n",
    "    decoded_solution, broken, energy= model.decode_solution(raw_solution, vartype=\"SPIN\")\n",
    "    labels = [int(decoded_solution[\"spin\"][idx] ) for idx  in range(len(df))]\n",
    "    return labels,  sum(response.energies)"
   ]
  },
  {
   "cell_type": "code",
   "execution_count": 8,
   "metadata": {},
   "outputs": [
    {
     "name": "stdout",
     "output_type": "stream",
     "text": [
      "label [0, 1, 1, 1, 1, 1, 0, 0, 0, 0, 1, 0, 1, 0, 0, 1, 1, 1, 1, 0, 1, 1, 0, 0, 1, 1, 0, 1, 1, 1, 1, 0, 0, 1, 1, 1, 0, 0, 1, 0, 1, 1, 1, 1, 1, 1, 1, 1, 0, 0, 0, 1, 0, 1, 0, 1, 1, 0, 0, 1, 0, 0, 1, 1, 0, 1, 1, 0, 0, 0, 1, 0, 0, 0, 1, 0, 0, 0, 0, 0, 1, 0, 1, 1, 1, 1, 1, 1, 0, 1, 1, 1, 1, 0, 0, 0, 0, 1, 1, 1]\n",
      "energy -143621.47753649444\n"
     ]
    }
   ],
   "source": [
    "labels, energy =clustering_openjij(df1[[\"x\", \"y\"]])\n",
    "\n",
    "print(\"label\", labels)\n",
    "print(\"energy\", energy)"
   ]
  },
  {
   "cell_type": "markdown",
   "metadata": {},
   "source": [
    "こちらも、可視化をしてみましょう。"
   ]
  },
  {
   "cell_type": "code",
   "execution_count": 9,
   "metadata": {},
   "outputs": [
    {
     "data": {
      "image/png": "[encoded data removed]",
      "text/plain": [
       "<Figure size 432x288 with 1 Axes>"
      ]
     },
     "metadata": {
      "needs_background": "light"
     },
     "output_type": "display_data"
    }
   ],
   "source": [
    "for idx, label in  enumerate(labels):\n",
    "    if label:\n",
    "        plt.scatter(df1.loc[idx][\"x\"], df1.loc[idx][\"y\"], color=\"b\")  \n",
    "    else:\n",
    "        plt.scatter(df1.loc[idx][\"x\"], df1.loc[idx][\"y\"], color=\"r\")"
   ]
  },
  {
   "cell_type": "markdown",
   "metadata": {},
   "source": [
    "## QBoost"
   ]
  },
  {
   "cell_type": "markdown",
   "metadata": {},
   "source": [
    "QBoostは量子アニーリングを用いたアンサンブル学習の一つです。  \n",
    "アンサンブル学習は弱い予測器を多数用意して、その予測器の各予測結果の組み合わせて最終的な予測結果を得ます。 \n",
    "  \n",
    "QBoostでは、与えられた学習データに対して最適な学習器の組み合わせを量子アニーリングを用いて最適化します。今回は分類問題を扱います。  \n",
    "まず、$D$個の学習データの集合を$\\{\\vec x^{(d)}\\}(d=1, ..., D)$、対応するラベルを$\\{y^{(d)}\\}(d=1, ..., D), y^{(d)}\\in \\{-1, 1\\}$とします。また、$N$個の弱学習器の（関数の）集合を$\\{C_i\\}(i=1, ..., N)$とします。なお、あるデータ$\\vec x^{(d)}$　に対して、$C_i(\\vec x^{(d)})\\in \\{-1, 1\\}$です。このとき、最終的な分類のラベルは以下のようになります。\n",
    "$$y^{(d)} ={\\rm sgn}\\left( \\sum_{i=1}^{N} w_i C_i(x_d)\\right)  $$\n",
    "ただし、$w_i\\in\\{0, 1\\} (N=1, ..., N)$とし、各予測器の重み(予測器を最終的な予測に採用するか採用しないかのbool値)とします。  \n",
    "QBoostではこの$w_i$を弱学習器の個数を刈り込みつつ、最終的な予測が教師データに一致する組み合わせを最適化を行います。\n",
    "この問題におけるハミルトニアンは、以下のようになります。\n",
    "$$H(\\vec w) = \\sum_{d=1}^{D} \\left( \\frac{1}{N}\\sum_{i=1}^{N} w_i C_i(\\vec x^{(d)})-y^{(d)} \\right)^2 + \\lambda \\sum _i^N w_i$$\n",
    "このハミルトニアンの第一項目は弱分類器と正解ラベルの差を表しており、第二項目は最終的な分類器に採用する弱分類器の個数の程度を表しています。なお、$\\lambda$は第二項の弱分類器の個数がハミルトニアンにどのくらい影響するかを調節する正則化パラメータになっています。  \n",
    "このハミルトニアンを量子アニーリングで最小化することにより、学習データに最も適合するような弱分類器の組み合わせを得ることができます。"
   ]
  },
  {
   "cell_type": "markdown",
   "metadata": {},
   "source": [
    "それでは、実際にQBoostを試してみましょう。今回は、scikit-learnの癌識別のデータセットを使用します。なお、簡単のために、学習に用いるのは\"0\"と\"1\"の２つの文字種とします。"
   ]
  },
  {
   "cell_type": "code",
   "execution_count": 10,
   "metadata": {},
   "outputs": [],
   "source": [
    "# ライブラリをインポート\n",
    "import pandas as pd \n",
    "from scipy import stats \n",
    "from sklearn import datasets\n",
    "from sklearn import metrics"
   ]
  },
  {
   "cell_type": "code",
   "execution_count": 11,
   "metadata": {},
   "outputs": [],
   "source": [
    "# 今回は2クラスで分類します。\n",
    "# データのロードを行います。\n",
    "cancerdata = datasets.load_breast_cancer()\n",
    "# 学習用データと検証用データの個数です\n",
    "num_train = 450"
   ]
  },
  {
   "cell_type": "markdown",
   "metadata": {},
   "source": [
    "今回はデモンストレーションのために、ノイズとなる特徴量がある場合を考えます。"
   ]
  },
  {
   "cell_type": "code",
   "execution_count": 12,
   "metadata": {},
   "outputs": [
    {
     "name": "stdout",
     "output_type": "stream",
     "text": [
      "(569, 60)\n"
     ]
    }
   ],
   "source": [
    "data_noisy= np.concatenate((cancerdata.data, np.random.rand(cancerdata.data.shape[0], 30)), axis=1)\n",
    "print(data_noisy.shape)"
   ]
  },
  {
   "cell_type": "code",
   "execution_count": 13,
   "metadata": {},
   "outputs": [],
   "source": [
    "# labelを{0, 1}から{-1, 1}につけ直します\n",
    "labels = (cancerdata.target -0.5 )*2"
   ]
  },
  {
   "cell_type": "code",
   "execution_count": 14,
   "metadata": {},
   "outputs": [],
   "source": [
    "# データセットを学習用と検証用に分割します\n",
    "X_train =data_noisy[:num_train, :]\n",
    "X_test = data_noisy[num_train:, :]\n",
    "y_train = labels[:num_train]\n",
    "y_test = labels[num_train:]"
   ]
  },
  {
   "cell_type": "code",
   "execution_count": 15,
   "metadata": {},
   "outputs": [],
   "source": [
    "# 弱学習器の結果から\n",
    "def aggre_mean(Y_list):\n",
    "    return ( (np.mean(Y_list,  axis=0) > 0) - 0.5) *2"
   ]
  },
  {
   "cell_type": "markdown",
   "metadata": {},
   "source": [
    "### 弱学習器の作成"
   ]
  },
  {
   "cell_type": "markdown",
   "metadata": {},
   "source": [
    "ます、はじめにscikit-learnで弱分類器を作成します。今回は、弱分類器として、decision stumpを用います。decision stumpとは、一層の決定木のことを指します。今回は、弱分類器として用いるので分割に用いる特徴量はランダムに選ぶこととします。(一層のランダムフォレストを行うという理解で良いと思います。)"
   ]
  },
  {
   "cell_type": "code",
   "execution_count": 16,
   "metadata": {},
   "outputs": [],
   "source": [
    "num_clf = 32 #弱分類機の個数\n",
    "sample_train = 40 # bootstrap samplingで一つのサンプルに対して取り出すサンプルの個数\n",
    "\n",
    "from sklearn.tree import DecisionTreeClassifier as DTC\n",
    "\n",
    "models = [ DTC(splitter=\"random\",max_depth=1) for i in range(num_clf)]\n",
    "\n",
    "for model in models:\n",
    "    train_idx = np.random.choice(np.arange(X_train.shape[0]), sample_train)\n",
    "    model.fit(X=X_train[train_idx], y=y_train[train_idx])\n",
    "    \n",
    "y_pred_list_train = []\n",
    "for model in models:\n",
    "    y_pred_list_train.append(model.predict(X_train))\n",
    "    \n",
    "y_pred_list_train = np.asanyarray(y_pred_list_train)\n",
    "y_pred_train =np.sign(y_pred_list_train)"
   ]
  },
  {
   "cell_type": "markdown",
   "metadata": {},
   "source": [
    "すべての弱学習器を最終的な分類器として、精度を見てみましょう。以後、この組み合わせをbaselineとします。"
   ]
  },
  {
   "cell_type": "code",
   "execution_count": 17,
   "metadata": {},
   "outputs": [
    {
     "name": "stdout",
     "output_type": "stream",
     "text": [
      "0.957983193277311\n"
     ]
    }
   ],
   "source": [
    "y_pred_list_test = []\n",
    "for model in models:\n",
    "    y_pred_list_test.append(model.predict(X_test))\n",
    "    \n",
    "y_pred_list_test = np.array(y_pred_list_test)\n",
    "y_pred_test = np.sign(np.sum(y_pred_list_test,axis=0))\n",
    "\n",
    "acc_test_base = metrics.accuracy_score(y_true=y_test, y_pred=y_pred_test)\n",
    "print(acc_test_base)"
   ]
  },
  {
   "cell_type": "markdown",
   "metadata": {},
   "source": [
    "### PyQUBOでQUBOを定義する"
   ]
  },
  {
   "cell_type": "code",
   "execution_count": 18,
   "metadata": {},
   "outputs": [],
   "source": [
    "class QBoost():\n",
    "    def __init__(self, y_train, ys_pred):\n",
    "        self.num_clf = ys_pred.shape[0]\n",
    "        # spinを定義\n",
    "        self.Ws = Array.create(\"weight\", shape = self.num_clf, vartype=\"BINARY\")\n",
    "\n",
    "        # 正規化項の大きさ\n",
    "        self.param_lamda = Placeholder(\"norm\")\n",
    "\n",
    "        #　弱分類器の組み合わせのハミルトニアン\n",
    "        self.H_clf = sum( [ (1/self.num_clf * sum([W*C for W, C in zip(self.Ws, y_clf)])- y_true)**2 for y_true, y_clf in zip(y_train, ys_pred.T)\n",
    "        ])\n",
    " \n",
    "        # 正規化項のハミルトニアン\n",
    "        self.H_norm = Constraint(sum([W for W in self.Ws]), \"norm\")\n",
    "\n",
    "        # ハミルトニアンの全体\n",
    "        self.H = self.H_clf + self.H_norm * self.param_lamda\n",
    "\n",
    "        # モデルをコンパイル\n",
    "        self.model = self.H.compile()\n",
    "        \n",
    "    def to_qubo(self, norm_param= 1):\n",
    "        self.feed_dict = {'norm': norm_param}\n",
    "        return self.model.to_qubo(feed_dict=self.feed_dict)\n",
    "       "
   ]
  },
  {
   "cell_type": "code",
   "execution_count": 19,
   "metadata": {},
   "outputs": [],
   "source": [
    "qboost = QBoost(y_train=y_train, ys_pred=y_pred_list_train)\n",
    "qubo = qboost.to_qubo(3)[0]"
   ]
  },
  {
   "cell_type": "markdown",
   "metadata": {},
   "source": [
    "### D-WaveサンプラーでQBoostを実行する"
   ]
  },
  {
   "cell_type": "code",
   "execution_count": 20,
   "metadata": {},
   "outputs": [],
   "source": [
    "from dwave.system.samplers import DWaveSampler\n",
    "from dwave.system.composites import EmbeddingComposite"
   ]
  },
  {
   "cell_type": "code",
   "execution_count": 21,
   "metadata": {},
   "outputs": [],
   "source": [
    "# サンプラーを設定\n",
    "endpoint = 'https://cloud.dwavesys.com/xxxxxxxxxxx'\n",
    "token = \"xxxxxxxxxxxxxxxxxxxxxxxx\"\n",
    "solver = 'xxxxxxxxxxxxxxxxxxxxxxx\n",
    "sampler = EmbeddingComposite(DWaveSampler(endpoint=endpoint, token=token, solver=solver))"
   ]
  },
  {
   "cell_type": "code",
   "execution_count": 22,
   "metadata": {},
   "outputs": [],
   "source": [
    "# 計算を実行\n",
    "# num_readsで何回D-Waveのサンプラーで計算を実行するかを指定します\n",
    "sampleset = sampler.sample_qubo(qubo, num_reads=100)"
   ]
  },
  {
   "cell_type": "code",
   "execution_count": 23,
   "metadata": {},
   "outputs": [
    {
     "name": "stdout",
     "output_type": "stream",
     "text": [
      "Response(rec.array([([1, 1, 1, 1, 1, 1, 1, 1, 1, 1, 1, 1, 1, 1, 1, 0, 0, 1, 0, 0, 1, 1, 1, 1, 1, 1, 1, 1, 1, 1, 1, 0], -257.12304688, 4, 0.375  ),\n",
      "           ([1, 1, 1, 1, 1, 1, 1, 1, 1, 1, 1, 1, 1, 1, 1, 0, 0, 1, 1, 0, 1, 1, 1, 0, 1, 1, 1, 1, 1, 1, 1, 0], -254.76367188, 2, 0.375  ),\n",
      "           ([1, 1, 1, 1, 1, 1, 1, 1, 0, 1, 1, 1, 1, 1, 1, 0, 0, 1, 1, 0, 1, 1, 1, 0, 1, 1, 1, 1, 1, 1, 1, 0], -253.3984375 , 2, 0.40625),\n",
      "           ([1, 1, 1, 1, 1, 1, 1, 1, 1, 1, 1, 1, 1, 1, 1, 0, 0, 1, 1, 0, 1, 1, 1, 1, 1, 1, 1, 1, 1, 1, 1, 0], -257.02734375, 1, 0.375  ),\n",
      "           ([1, 1, 1, 1, 1, 1, 1, 1, 0, 1, 1, 1, 1, 1, 1, 0, 0, 1, 1, 0, 1, 1, 1, 1, 1, 1, 1, 1, 1, 1, 1, 0], -256.23242188, 2, 0.40625),\n",
      "           ([1, 1, 1, 1, 1, 1, 1, 1, 1, 1, 1, 1, 1, 1, 1, 0, 0, 1, 0, 0, 1, 1, 1, 1, 1, 1, 1, 1, 1, 1, 1, 0], -257.12304688, 1, 0.375  ),\n",
      "           ([1, 1, 1, 1, 1, 1, 1, 1, 1, 1, 1, 1, 1, 1, 1, 0, 0, 1, 1, 0, 1, 1, 1, 0, 1, 1, 1, 1, 1, 1, 1, 0], -254.76367188, 1, 0.375  ),\n",
      "           ([1, 1, 1, 1, 1, 1, 1, 1, 1, 1, 1, 1, 1, 1, 1, 0, 0, 1, 0, 0, 1, 1, 1, 0, 1, 1, 1, 1, 1, 1, 1, 0], -254.59375   , 1, 0.375  ),\n",
      "           ([1, 1, 1, 1, 1, 1, 1, 1, 0, 1, 1, 1, 1, 1, 1, 0, 0, 1, 1, 0, 1, 1, 1, 0, 1, 1, 1, 1, 1, 1, 1, 0], -253.3984375 , 3, 0.40625),\n",
      "           ([1, 1, 1, 1, 1, 1, 1, 1, 1, 1, 1, 1, 1, 1, 1, 0, 0, 1, 0, 0, 1, 1, 1, 1, 1, 1, 1, 1, 1, 1, 1, 0], -257.12304688, 1, 0.34375),\n",
      "           ([1, 1, 1, 1, 1, 1, 1, 1, 0, 1, 1, 1, 1, 1, 1, 0, 0, 1, 1, 0, 1, 1, 1, 0, 1, 1, 1, 1, 1, 1, 1, 0], -253.3984375 , 1, 0.40625),\n",
      "           ([1, 1, 1, 1, 1, 1, 1, 1, 0, 1, 1, 1, 1, 1, 1, 0, 0, 1, 1, 0, 1, 1, 1, 0, 1, 1, 1, 1, 1, 1, 1, 0], -253.3984375 , 1, 0.40625),\n",
      "           ([1, 1, 1, 1, 1, 1, 1, 1, 1, 1, 1, 1, 1, 1, 1, 0, 0, 1, 1, 0, 1, 1, 1, 0, 1, 1, 1, 1, 1, 1, 1, 0], -254.76367188, 4, 0.40625),\n",
      "           ([1, 1, 1, 1, 1, 1, 1, 1, 0, 1, 1, 1, 1, 1, 1, 0, 0, 1, 1, 0, 1, 1, 1, 1, 1, 1, 1, 1, 1, 1, 1, 0], -256.23242188, 1, 0.40625),\n",
      "           ([1, 1, 1, 1, 1, 1, 1, 1, 0, 1, 1, 1, 1, 1, 1, 0, 0, 1, 1, 0, 1, 1, 1, 0, 1, 1, 1, 1, 1, 1, 1, 0], -253.3984375 , 4, 0.4375 ),\n",
      "           ([1, 1, 1, 1, 1, 1, 1, 1, 1, 1, 1, 1, 1, 1, 1, 0, 0, 1, 1, 0, 1, 1, 1, 1, 1, 1, 1, 1, 1, 1, 1, 0], -257.02734375, 4, 0.40625),\n",
      "           ([1, 1, 1, 1, 1, 1, 1, 1, 0, 1, 1, 1, 1, 1, 1, 0, 0, 1, 1, 0, 1, 1, 1, 0, 1, 1, 1, 1, 1, 1, 1, 0], -253.3984375 , 1, 0.375  ),\n",
      "           ([1, 1, 1, 1, 1, 1, 1, 1, 1, 1, 1, 1, 1, 1, 1, 0, 0, 1, 1, 0, 1, 1, 1, 1, 1, 1, 1, 1, 1, 1, 1, 0], -257.02734375, 1, 0.34375),\n",
      "           ([1, 1, 1, 1, 1, 1, 1, 1, 0, 1, 1, 1, 1, 1, 1, 0, 0, 1, 1, 0, 1, 1, 1, 1, 1, 1, 1, 1, 1, 1, 1, 0], -256.23242188, 3, 0.4375 ),\n",
      "           ([1, 1, 1, 1, 1, 1, 1, 1, 1, 1, 1, 1, 1, 1, 1, 0, 0, 1, 0, 0, 1, 1, 1, 1, 1, 1, 1, 1, 1, 1, 1, 0], -257.12304688, 1, 0.40625),\n",
      "           ([1, 1, 1, 1, 1, 1, 1, 1, 1, 1, 1, 1, 1, 1, 1, 0, 0, 1, 1, 0, 1, 1, 1, 0, 1, 1, 1, 1, 1, 1, 1, 0], -254.76367188, 1, 0.40625),\n",
      "           ([1, 1, 1, 1, 1, 1, 1, 1, 0, 1, 1, 1, 1, 1, 1, 0, 0, 1, 1, 0, 1, 1, 1, 0, 1, 1, 1, 1, 1, 1, 1, 0], -253.3984375 , 4, 0.4375 ),\n",
      "           ([1, 1, 1, 1, 1, 1, 1, 1, 0, 1, 1, 1, 1, 1, 1, 0, 0, 1, 1, 0, 1, 1, 1, 0, 1, 1, 1, 1, 1, 1, 1, 0], -253.3984375 , 1, 0.4375 ),\n",
      "           ([1, 1, 1, 1, 1, 1, 1, 1, 1, 1, 1, 1, 1, 1, 1, 0, 0, 1, 0, 0, 1, 1, 1, 1, 1, 1, 1, 1, 1, 1, 1, 0], -257.12304688, 1, 0.40625),\n",
      "           ([1, 1, 1, 1, 1, 1, 1, 1, 1, 1, 1, 1, 1, 1, 1, 0, 0, 1, 0, 0, 1, 1, 1, 1, 1, 1, 1, 1, 1, 1, 1, 0], -257.12304688, 5, 0.40625),\n",
      "           ([1, 1, 1, 1, 1, 1, 1, 1, 0, 1, 1, 1, 1, 1, 1, 0, 0, 1, 1, 0, 1, 1, 1, 0, 1, 1, 1, 1, 1, 1, 1, 0], -253.3984375 , 1, 0.40625),\n",
      "           ([1, 1, 1, 1, 1, 1, 1, 1, 1, 1, 1, 1, 1, 1, 1, 0, 0, 1, 1, 0, 1, 1, 1, 0, 1, 1, 1, 1, 1, 1, 1, 0], -254.76367188, 1, 0.40625),\n",
      "           ([1, 1, 1, 1, 1, 1, 1, 1, 1, 1, 1, 1, 1, 1, 1, 0, 0, 1, 1, 0, 1, 1, 1, 0, 1, 1, 1, 1, 1, 1, 1, 0], -254.76367188, 2, 0.40625),\n",
      "           ([1, 1, 1, 1, 1, 1, 1, 1, 0, 1, 1, 1, 1, 1, 1, 0, 0, 1, 1, 0, 1, 1, 1, 0, 1, 1, 1, 1, 1, 1, 1, 0], -253.3984375 , 1, 0.4375 ),\n",
      "           ([1, 1, 1, 1, 1, 1, 1, 1, 1, 1, 1, 1, 1, 1, 1, 0, 0, 1, 0, 0, 1, 1, 1, 1, 1, 1, 1, 1, 1, 1, 1, 0], -257.12304688, 1, 0.375  ),\n",
      "           ([1, 1, 1, 1, 1, 1, 1, 1, 1, 1, 1, 1, 1, 1, 1, 0, 0, 1, 1, 0, 1, 1, 1, 0, 1, 1, 1, 1, 1, 1, 1, 0], -254.76367188, 1, 0.4375 ),\n",
      "           ([1, 1, 1, 1, 1, 1, 1, 1, 0, 1, 1, 1, 1, 1, 1, 0, 0, 1, 1, 0, 1, 1, 1, 1, 1, 1, 1, 1, 1, 1, 1, 0], -256.23242188, 1, 0.4375 ),\n",
      "           ([1, 1, 1, 1, 1, 1, 1, 1, 1, 1, 1, 1, 1, 1, 1, 0, 0, 1, 0, 0, 1, 1, 1, 1, 1, 1, 1, 1, 1, 1, 1, 0], -257.12304688, 1, 0.40625),\n",
      "           ([1, 1, 1, 1, 1, 1, 1, 1, 1, 1, 1, 1, 1, 1, 1, 0, 0, 1, 1, 0, 1, 1, 1, 1, 1, 1, 1, 1, 1, 1, 1, 0], -257.02734375, 1, 0.375  ),\n",
      "           ([1, 1, 1, 1, 1, 1, 1, 1, 1, 1, 1, 1, 1, 1, 1, 0, 0, 1, 1, 0, 1, 1, 1, 0, 1, 1, 1, 1, 1, 1, 1, 0], -254.76367188, 1, 0.40625),\n",
      "           ([1, 1, 1, 1, 1, 1, 1, 1, 1, 1, 1, 1, 1, 1, 1, 0, 0, 1, 0, 0, 1, 1, 1, 1, 1, 1, 1, 1, 1, 1, 1, 0], -257.12304688, 2, 0.40625),\n",
      "           ([1, 1, 1, 1, 1, 1, 1, 1, 1, 1, 1, 1, 1, 1, 1, 0, 0, 1, 1, 0, 1, 1, 1, 1, 1, 1, 1, 1, 1, 1, 1, 0], -257.02734375, 1, 0.375  ),\n",
      "           ([1, 1, 1, 1, 1, 1, 1, 1, 0, 1, 1, 1, 1, 1, 1, 0, 0, 1, 1, 0, 1, 1, 1, 1, 1, 1, 1, 1, 1, 1, 1, 0], -256.23242188, 1, 0.4375 ),\n",
      "           ([1, 1, 1, 1, 1, 1, 1, 1, 1, 1, 1, 1, 1, 1, 1, 0, 0, 1, 1, 0, 1, 1, 1, 1, 1, 1, 1, 1, 1, 1, 1, 0], -257.02734375, 1, 0.40625),\n",
      "           ([1, 1, 1, 1, 1, 1, 1, 1, 1, 1, 1, 1, 1, 1, 1, 0, 0, 1, 1, 0, 1, 1, 1, 0, 1, 1, 1, 1, 1, 1, 1, 0], -254.76367188, 2, 0.4375 ),\n",
      "           ([1, 1, 1, 1, 1, 1, 1, 1, 1, 1, 1, 1, 1, 1, 1, 0, 0, 1, 1, 0, 1, 1, 1, 0, 1, 1, 1, 1, 1, 1, 1, 0], -254.76367188, 1, 0.375  ),\n",
      "           ([1, 1, 1, 1, 1, 1, 1, 1, 1, 1, 1, 1, 1, 1, 1, 0, 0, 1, 0, 0, 1, 1, 1, 1, 1, 1, 1, 1, 1, 1, 1, 1], -258.78515625, 1, 0.375  ),\n",
      "           ([1, 1, 1, 1, 1, 1, 1, 1, 0, 1, 1, 1, 1, 1, 1, 0, 0, 1, 1, 0, 1, 1, 1, 0, 1, 1, 1, 1, 1, 1, 1, 0], -253.3984375 , 3, 0.46875),\n",
      "           ([1, 1, 1, 1, 1, 1, 1, 1, 0, 1, 1, 1, 1, 1, 1, 0, 0, 1, 1, 0, 1, 1, 1, 1, 1, 1, 1, 1, 1, 1, 1, 0], -256.23242188, 1, 0.46875),\n",
      "           ([1, 1, 1, 1, 1, 1, 1, 1, 0, 1, 1, 1, 1, 1, 1, 0, 0, 1, 1, 0, 1, 1, 1, 1, 1, 1, 1, 1, 1, 1, 1, 0], -256.23242188, 1, 0.40625),\n",
      "           ([1, 1, 1, 1, 1, 1, 1, 1, 1, 1, 1, 1, 1, 1, 1, 0, 0, 1, 1, 0, 1, 1, 1, 1, 1, 1, 1, 1, 1, 1, 1, 0], -257.02734375, 1, 0.375  ),\n",
      "           ([1, 1, 1, 1, 1, 1, 1, 1, 0, 1, 1, 1, 1, 1, 1, 0, 0, 1, 1, 0, 1, 1, 1, 1, 1, 1, 1, 1, 1, 1, 1, 0], -256.23242188, 1, 0.40625),\n",
      "           ([1, 1, 1, 1, 1, 1, 1, 1, 1, 1, 1, 1, 1, 1, 1, 0, 0, 1, 1, 0, 1, 1, 1, 1, 1, 1, 1, 1, 1, 1, 1, 0], -257.02734375, 1, 0.40625),\n",
      "           ([1, 1, 1, 1, 1, 1, 1, 1, 1, 1, 1, 1, 1, 1, 1, 0, 0, 1, 1, 0, 1, 1, 1, 0, 1, 1, 1, 1, 1, 1, 1, 0], -254.76367188, 1, 0.4375 ),\n",
      "           ([1, 1, 1, 1, 1, 1, 1, 1, 0, 1, 1, 1, 1, 1, 1, 0, 0, 1, 1, 0, 1, 1, 1, 0, 1, 1, 1, 1, 1, 1, 1, 0], -253.3984375 , 1, 0.46875),\n",
      "           ([1, 1, 1, 1, 1, 1, 1, 1, 1, 1, 1, 1, 1, 1, 1, 0, 0, 1, 1, 0, 1, 1, 1, 1, 1, 1, 1, 1, 1, 1, 1, 0], -257.02734375, 1, 0.4375 ),\n",
      "           ([1, 1, 1, 1, 1, 1, 1, 1, 1, 1, 1, 1, 1, 1, 1, 0, 0, 1, 1, 0, 1, 1, 1, 1, 1, 1, 1, 1, 1, 1, 1, 0], -257.02734375, 1, 0.4375 ),\n",
      "           ([1, 1, 1, 1, 1, 1, 1, 1, 0, 1, 1, 1, 1, 1, 1, 0, 0, 1, 1, 0, 1, 1, 1, 0, 1, 1, 1, 1, 1, 1, 1, 0], -253.3984375 , 1, 0.4375 ),\n",
      "           ([1, 1, 1, 1, 1, 1, 1, 1, 0, 1, 1, 1, 1, 1, 1, 0, 0, 1, 1, 0, 1, 1, 1, 0, 1, 1, 1, 1, 1, 1, 1, 0], -253.3984375 , 1, 0.4375 ),\n",
      "           ([1, 1, 1, 1, 1, 1, 1, 1, 0, 1, 1, 1, 1, 1, 1, 0, 0, 1, 1, 0, 1, 1, 1, 0, 1, 1, 1, 1, 1, 1, 1, 1], -256.08398438, 1, 0.4375 ),\n",
      "           ([1, 1, 1, 1, 1, 1, 1, 1, 0, 1, 1, 1, 1, 1, 1, 0, 0, 1, 1, 0, 1, 1, 1, 1, 1, 1, 1, 1, 1, 1, 1, 0], -256.23242188, 1, 0.4375 ),\n",
      "           ([1, 1, 1, 1, 1, 1, 1, 1, 0, 1, 1, 1, 1, 1, 1, 0, 0, 1, 1, 0, 1, 1, 1, 0, 1, 1, 1, 1, 1, 1, 1, 0], -253.3984375 , 1, 0.46875),\n",
      "           ([1, 1, 1, 1, 1, 1, 1, 1, 1, 1, 1, 1, 1, 1, 1, 0, 0, 1, 1, 0, 1, 1, 1, 0, 1, 1, 1, 1, 1, 1, 1, 0], -254.76367188, 1, 0.4375 ),\n",
      "           ([1, 1, 1, 1, 1, 1, 1, 1, 0, 1, 1, 1, 1, 1, 1, 0, 0, 1, 1, 0, 1, 1, 1, 1, 1, 1, 1, 1, 1, 1, 1, 0], -256.23242188, 1, 0.46875),\n",
      "           ([1, 1, 1, 1, 1, 1, 1, 1, 0, 1, 1, 1, 1, 1, 1, 0, 0, 1, 1, 0, 1, 1, 1, 0, 1, 1, 1, 1, 1, 1, 1, 0], -253.3984375 , 1, 0.46875),\n",
      "           ([1, 1, 1, 1, 1, 1, 1, 1, 0, 1, 1, 1, 1, 1, 1, 0, 0, 1, 1, 0, 1, 1, 1, 0, 1, 1, 1, 1, 1, 1, 1, 0], -253.3984375 , 1, 0.4375 ),\n",
      "           ([1, 1, 1, 1, 1, 1, 1, 1, 1, 1, 1, 1, 1, 1, 1, 0, 0, 1, 1, 0, 1, 1, 1, 1, 1, 1, 1, 1, 1, 1, 1, 0], -257.02734375, 1, 0.4375 ),\n",
      "           ([1, 1, 1, 1, 1, 1, 1, 1, 1, 1, 1, 1, 1, 1, 1, 0, 0, 1, 1, 0, 1, 1, 1, 1, 1, 1, 1, 1, 1, 1, 1, 0], -257.02734375, 1, 0.40625),\n",
      "           ([1, 1, 1, 1, 1, 1, 1, 1, 1, 1, 1, 1, 1, 1, 1, 0, 0, 1, 1, 0, 1, 1, 1, 0, 1, 1, 1, 1, 1, 1, 1, 0], -254.76367188, 1, 0.4375 ),\n",
      "           ([1, 1, 1, 1, 1, 1, 1, 1, 0, 1, 1, 1, 1, 1, 1, 0, 0, 1, 1, 0, 1, 1, 1, 0, 1, 1, 1, 1, 1, 1, 1, 0], -253.3984375 , 1, 0.46875),\n",
      "           ([1, 1, 1, 1, 1, 1, 1, 1, 1, 1, 1, 1, 1, 1, 1, 0, 0, 1, 0, 0, 0, 1, 1, 1, 1, 1, 1, 1, 1, 1, 1, 0], -256.1171875 , 1, 0.375  ),\n",
      "           ([1, 1, 1, 1, 1, 1, 1, 1, 0, 1, 1, 1, 1, 1, 1, 0, 0, 1, 1, 0, 1, 1, 1, 0, 1, 1, 1, 1, 1, 1, 1, 0], -253.3984375 , 1, 0.46875),\n",
      "           ([1, 1, 1, 1, 1, 1, 1, 1, 1, 1, 1, 1, 1, 1, 1, 0, 0, 1, 0, 0, 1, 1, 1, 1, 1, 1, 1, 1, 1, 1, 1, 0], -257.12304688, 1, 0.4375 ),\n",
      "           ([1, 1, 1, 1, 1, 1, 1, 1, 1, 1, 1, 1, 1, 1, 1, 0, 0, 1, 1, 0, 0, 1, 1, 0, 1, 1, 1, 1, 1, 1, 1, 0], -253.26171875, 1, 0.4375 )],\n",
      "          dtype=[('sample', 'i1', (32,)), ('energy', '<f8'), ('num_occurrences', '<i8'), ('chain_break_fraction', '<f8')]), ['weight[0]', 'weight[1]', 'weight[2]', 'weight[3]', 'weight[4]', 'weight[5]', 'weight[6]', 'weight[7]', 'weight[8]', 'weight[9]', 'weight[10]', 'weight[11]', 'weight[12]', 'weight[13]', 'weight[14]', 'weight[15]', 'weight[16]', 'weight[17]', 'weight[18]', 'weight[19]', 'weight[20]', 'weight[21]', 'weight[22]', 'weight[23]', 'weight[24]', 'weight[25]', 'weight[26]', 'weight[27]', 'weight[28]', 'weight[29]', 'weight[30]', 'weight[31]'], {'timing': {'qpu_sampling_time': 31496, 'qpu_anneal_time_per_sample': 20, 'qpu_readout_time_per_sample': 274, 'qpu_access_time': 41308, 'qpu_access_overhead_time': 1604, 'qpu_programming_time': 9812, 'qpu_delay_time_per_sample': 21, 'total_post_processing_time': 10906, 'post_processing_overhead_time': 10906, 'total_real_time': 41308, 'run_time_chip': 31496, 'anneal_time_per_run': 20, 'readout_time_per_run': 274}}, 'BINARY')\n"
     ]
    }
   ],
   "source": [
    "# 結果を確認します\n",
    "print(sampleset)"
   ]
  },
  {
   "cell_type": "code",
   "execution_count": 24,
   "metadata": {},
   "outputs": [],
   "source": [
    "# openjijのconvert_responseでPyQUBOでdecode可能な形式に変換\n",
    "response= oj.convert_response(sampleset)"
   ]
  },
  {
   "cell_type": "code",
   "execution_count": 25,
   "metadata": {},
   "outputs": [],
   "source": [
    "# 各計算結果についてPyQUBOでdecodeします\n",
    "decoded_solutions = []\n",
    "brokens = []\n",
    "energies =[]\n",
    "for sample in response.samples:\n",
    "    # pyquboのdecoded_solutionでデコードされた解、壊れたスピン、エネルギーを得る\n",
    "    decoded_solution, broken, energy= qboost.model.decode_solution(sample, vartype=\"BINARY\", feed_dict=qboost.feed_dict)\n",
    "    decoded_solutions.append(decoded_solution)\n",
    "    brokens.append(broken)\n",
    "    energies.append(energy)"
   ]
  },
  {
   "cell_type": "markdown",
   "metadata": {},
   "source": [
    "D-Waveで得られた弱分類器の組み合わせを使った場合の、学習データ/検証データでの精度を確認しましょう"
   ]
  },
  {
   "cell_type": "code",
   "execution_count": 26,
   "metadata": {},
   "outputs": [],
   "source": [
    "accs_train_Dwaves = []\n",
    "accs_test_Dwaves = []\n",
    "\n",
    "\n",
    "for decoded_solution in decoded_solutions:\n",
    "    idx_clf_DWave=[]\n",
    "    for key, val in decoded_solution[\"weight\"].items():\n",
    "        if val == 1:\n",
    "            idx_clf_DWave.append(int(key))\n",
    "            \n",
    "    y_pred_train_DWave = np.sign(np.sum(y_pred_list_train[idx_clf_DWave, :], axis=0))\n",
    "    y_pred_test_DWave = np.sign(np.sum(y_pred_list_test[idx_clf_DWave, :], axis=0))\n",
    "    acc_train_DWave = metrics.accuracy_score(y_true=y_train, y_pred=y_pred_train_DWave)\n",
    "    acc_test_DWave= metrics.accuracy_score(y_true=y_test, y_pred=y_pred_test_DWave)\n",
    "    accs_train_Dwaves.append(acc_train_DWave)\n",
    "    accs_test_Dwaves.append(acc_test_DWave)\n"
   ]
  },
  {
   "cell_type": "markdown",
   "metadata": {},
   "source": [
    "エネルギーと精度の関係をグラフにしてみましょう。"
   ]
  },
  {
   "cell_type": "code",
   "execution_count": 27,
   "metadata": {},
   "outputs": [
    {
     "data": {
      "image/png": "[encoded data removed]",
      "text/plain": [
       "<Figure size 864x576 with 1 Axes>"
      ]
     },
     "metadata": {
      "needs_background": "light"
     },
     "output_type": "display_data"
    }
   ],
   "source": [
    "plt.figure(figsize=(12, 8))\n",
    "plt.scatter(response.energies, accs_train_Dwaves, label=\"train\" )\n",
    "plt.scatter(response.energies, accs_test_Dwaves, label=\"test\")\n",
    "plt.xlabel(\"energy: D-wave\")\n",
    "plt.ylabel(\"accuracy\")\n",
    "plt.title(\"relationship between energy and accuracy\")\n",
    "plt.grid()\n",
    "plt.legend()\n",
    "plt.show()"
   ]
  },
  {
   "cell_type": "code",
   "execution_count": 28,
   "metadata": {},
   "outputs": [
    {
     "name": "stdout",
     "output_type": "stream",
     "text": [
      "base accuracy is 0.957983193277311\n",
      "max accuracy　of QBoost is 0.9663865546218487\n",
      "average accuracy　of QBoost is 0.9542016806722686\n"
     ]
    }
   ],
   "source": [
    "print(\"base accuracy is {}\".format(acc_test_base))\n",
    "print(\"max accuracy　of QBoost is {}\".format(max(accs_test_Dwaves)))\n",
    "print(\"average accuracy　of QBoost is {}\".format(np.mean(np.asarray(accs_test_Dwaves))))"
   ]
  },
  {
   "cell_type": "markdown",
   "metadata": {},
   "source": [
    "D-Waveによるサンプリングは短時間で数百サンプリング以上サンプリングできるので、精度が最大になる結果を使えば、baselineよりも高精度の分類器を作成できます。"
   ]
  }
 ],
 "metadata": {
  "kernelspec": {
   "display_name": "Python 3",
   "language": "python",
   "name": "python3"
  },
  "language_info": {
   "codemirror_mode": {
    "name": "ipython",
    "version": 3
   },
   "file_extension": ".py",
   "mimetype": "text/x-python",
   "name": "python",
   "nbconvert_exporter": "python",
   "pygments_lexer": "ipython3",
   "version": "3.7.3"
  }
 },
 "nbformat": 4,
 "nbformat_minor": 2
}
