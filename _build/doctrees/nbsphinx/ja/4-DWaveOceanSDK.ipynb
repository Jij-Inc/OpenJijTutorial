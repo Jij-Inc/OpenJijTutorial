{
 "cells": [
  {
   "cell_type": "markdown",
   "metadata": {},
   "source": [
    "# 4-D-Wave Ocean SDK 入門\n",
    "\n",
    "[![Open in Colab](https://colab.research.google.com/assets/colab-badge.svg)](https://colab.research.google.com/github/OpenJij/OpenJijTutorial/blob/master/ja/4-DWaveOceanSDK.ipynb)\n",
    "\n",
    "D-Wave Ocean SDK(以下、Ocean) は、D-Waveマシンを使用するソフトウェアがまとまっている開発キットです。Pythonから各種機能を簡単に利用することができます。\n",
    "\n",
    "Github: https://github.com/dwavesystems/dwave-ocean-sdk  \n",
    "Document: https://docs.ocean.dwavesys.com/en/latest/\n",
    "\n",
    "インストールするには上にある通り、pipを使用するかgithubのリポジトリをクローンします。"
   ]
  },
  {
   "cell_type": "code",
   "execution_count": null,
   "metadata": {},
   "outputs": [],
   "source": [
    "!pip install dwave-ocean-sdk"
   ]
  },
  {
   "cell_type": "code",
   "execution_count": null,
   "metadata": {},
   "outputs": [],
   "source": [
    "!git clone https://github.com/dwavesystems/dwave-ocean-sdk.git\n",
    "!cd dwave-ocean-sdk\n",
    "!python setup.py install"
   ]
  },
  {
   "cell_type": "markdown",
   "metadata": {},
   "source": [
    "以降では、数分割問題を通して以下の内容について説明していきます。\n",
    "\n",
    "- QUBOまたはイジングモデルの作り方\n",
    "- Oceanの使い方\n",
    "- アニーリングパラメータを変えた場合の最適化"
   ]
  },
  {
   "cell_type": "markdown",
   "metadata": {},
   "source": [
    "<br>"
   ]
  },
  {
   "cell_type": "markdown",
   "metadata": {},
   "source": [
    "## 定式化\n",
    "D-Waveマシンに投げることができる形式は、イジングモデルとQUBOがあります。ここで詳細には触れず、Oceanを使用する上で最低限必要なことを説明します。\n",
    "\n",
    "### QUBOとイジングモデル\n",
    "QUBOの場合、2値変数$q_{i} \\in \\{0, 1\\}$に対して、以下のハミルトニアンを考えます。\n",
    "\n",
    "$$\n",
    "H\\left(\\left\\{q_{i}\\right\\}\\right)= \\sum_{i} Q_{i i} q_{i} + \\sum_{i>j} Q_{i j} q_{i} q_{j}\n",
    "$$\n",
    "\n",
    "QUBOを解く際には、上の式の$Q_{i i}$と$Q_{i j}$を古典コンピュータで計算し、D-Waveマシンに与えることになります。  \n",
    "イジングモデルの場合、2値変数$\\sigma_{i} \\in \\{1, -1\\}$に対して、以下のハミルトニアンを考えます。\n",
    "\n",
    "$$\n",
    "H\\left(\\left\\{\\sigma_{i}\\right\\}\\right)=\\sum_{i} h_{i} \\sigma_{i} + \\sum_{i>j} J_{i j} \\sigma_{i} \\sigma_{j}\n",
    "$$\n",
    "\n",
    "イジングモデルを解く際には、上の式の$h_{i}$と$J_{i j}$を古典コンピュータで計算し、D-Waveマシンに与えることになります。  QUBOとイジングモデルは、$q_{i} = (\\sigma_{i} + 1) / 2$という変換式によって相互変換が可能です。  \n",
    "この点において、どちらで定式化しても問題はないので、対象の問題から考えやすい方を選びましょう。  ただし、同じ問題の2種類の形式に対して、D-Waveマシンの振る舞いが異なる場合があります。"
   ]
  },
  {
   "cell_type": "markdown",
   "metadata": {},
   "source": [
    "### 数分割問題\n",
    "与えられた整数の集合を、2つのグループに分けることを考えます。各グループの総和が同じになるように分ける問題を、数分割問題といいます。  \n",
    "例として、以下の整数の集合$C$を2つのグループに分けることを考えます。"
   ]
  },
  {
   "cell_type": "code",
   "execution_count": 3,
   "metadata": {
    "ExecuteTime": {
     "end_time": "2019-04-15T12:30:57.465840Z",
     "start_time": "2019-04-15T12:30:57.462152Z"
    }
   },
   "outputs": [],
   "source": [
    "# 整数の集合\n",
    "C = [2, 10, 3, 8, 5, 7, 9, 5, 3, 2]\n",
    "N = len(C)"
   ]
  },
  {
   "cell_type": "markdown",
   "metadata": {},
   "source": [
    "この場合、それぞれの総和の差がゼロになる最適解は23通り存在します (エネルギーが同じで解が違う状態があることを「縮退している」といいます)。  \n",
    "例えば、$\\{2,5,3,10,7\\}, \\{2,5,3,9,8\\}$(総和は27)があります。"
   ]
  },
  {
   "cell_type": "markdown",
   "metadata": {},
   "source": [
    "#### QUBO\n",
    "数分割問題を最小化問題として考えると、2つのグループの総和の差を最小にすることを目指します。\n",
    "\n",
    "<p style=\"text-align: center\">グループAに属する数字の総和 - グループBに属する数字の総和 = 0</p>\n",
    "\n",
    "そこで、2値変数$q_{i}$を用意し、ある数字がグループAに属する場合$q_{i} = 0$、グループBに属する場合$q_{i} = 1$とします。グループAに属する数字の総和は$\\sum_{i=1}^{N}c_{i}q_{i}$、グループBに属する数字の総和は$\\sum_{i=1}^{N}c_{i}(1 - q_{i})$と表されるので、先ほどの式は\n",
    "\n",
    "$$\\sum_{i=1}^{N} c_{i} q_{i}-\\sum_{i=1}^{N} c_{i}\\left(1-q_{i}\\right)=0$$\n",
    "\n",
    "となります。このような等式制約を素直に表現する場合、罰金法を用いることが多いです。\n",
    "\n",
    "> (罰金法) 最小化したいコスト関数を$f(x)$、制約条件を$g(x) = 0$とすると、罰金係数$\\lambda$を用いて以下の項を追加する  \n",
    "> $$\\min_{x} \\left\\{ f(x) + \\lambda g(x)^2\\right\\}$$\n",
    "\n",
    "したがって、数分割問題に対するQUBOは以下のようになります。\n",
    "\n",
    "$$\n",
    "H\\left(\\left\\{\\sigma_{i}\\right\\}\\right)=\\left(\\sum_{i=1}^{N} c_{i} q_{i}-\\sum_{i=1}^{N} c_{i}\\left(1-q_{i}\\right)\\right)^{2}\n",
    "$$\n",
    "\n",
    "D-Waveマシンに問題を投げるために$Q_{i j}$の値を求めたいので、$H\\left(\\left\\{\\sigma_{i}\\right\\}\\right)$を展開していきます。\n",
    "\n",
    "\n",
    "$$\n",
    "H\\left(\\left\\{\\sigma_{i}\\right\\}\\right)=\\left(2\\sum_{i=1}^{N} c_{i} q_{i} - \\sum_{i=1}^{N} c_{i} \\right)^{2} =4 \\sum_{i=1}^{N} c_{i} \\left( c_{i} - \\sum_{j=1}^{N} c_{j}\\right) q_{i}+8 \\sum_{i=1}^{N} \\sum_{j=i+1}^{N} c_{i} c_{j} q_{i} q_{j}+\\left(\\sum_{i=1}^{N} c_{i}\\right)^{2}\n",
    "$$\n",
    "\n",
    "よって、\n",
    "\n",
    "$$Q_{i i} = 4 c_{i} \\left( c_{i} - \\sum_{j=1}^{N} c_{j}\\right)$$\n",
    "$$Q_{i j} = 8 c_{i} c_{j}$$\n",
    "\n",
    "となります。"
   ]
  },
  {
   "cell_type": "code",
   "execution_count": 4,
   "metadata": {
    "ExecuteTime": {
     "end_time": "2019-04-15T12:30:57.472827Z",
     "start_time": "2019-04-15T12:30:57.469113Z"
    }
   },
   "outputs": [],
   "source": [
    "Q = {}\n",
    "\n",
    "for i in range(N):\n",
    "    Q[i, i] = 4 * C[i] * (C[i] - sum(C))\n",
    "    for j in range(i + 1, N):\n",
    "        Q[i, j] = 8 * C[i] * C[j]"
   ]
  },
  {
   "cell_type": "markdown",
   "metadata": {},
   "source": [
    "QUBOを可視化すると以下のようになります。対角成分が$Q_{i i}$、非対角成分が$Q_{i j}$です。可視化することで、結合の度合いや係数比など対象の問題を理解しやすくなります。数分割問題については定式化の時点で明らかですが、全ての量子ビット間に相互作用が存在する、全結合の問題である事が分かります。"
   ]
  },
  {
   "cell_type": "code",
   "execution_count": 5,
   "metadata": {
    "ExecuteTime": {
     "end_time": "2019-04-15T12:30:58.871404Z",
     "start_time": "2019-04-15T12:30:57.476381Z"
    }
   },
   "outputs": [],
   "source": [
    "import numpy as np\n",
    "import matplotlib.cm as cm\n",
    "import matplotlib.pyplot as plt\n",
    "%matplotlib inline"
   ]
  },
  {
   "cell_type": "code",
   "execution_count": 6,
   "metadata": {
    "ExecuteTime": {
     "end_time": "2019-04-15T12:30:58.881716Z",
     "start_time": "2019-04-15T12:30:58.873657Z"
    }
   },
   "outputs": [],
   "source": [
    "def show_qubo(qubo, cmap=cm.GnBu, save_path=None):\n",
    "    n_qubo = max(sorted(qubo.keys())[-1][0], sorted(qubo.keys(), key=lambda x: x[1])[-1][1]) + 1\n",
    "\n",
    "    np_qubo = np.zeros((n_qubo, n_qubo))\n",
    "    for (pos_x, pos_y), coeff in qubo.items():\n",
    "        np_qubo[pos_x][pos_y] = coeff\n",
    "\n",
    "    plt.imshow(np_qubo, cmap=cmap)\n",
    "    plt.colorbar()\n",
    "    if save_path is not None:\n",
    "        plt.savefig(save_path)\n",
    "    plt.show()"
   ]
  },
  {
   "cell_type": "code",
   "execution_count": 7,
   "metadata": {
    "ExecuteTime": {
     "end_time": "2019-04-15T12:30:59.101750Z",
     "start_time": "2019-04-15T12:30:58.885051Z"
    }
   },
   "outputs": [
    {
     "data": {
      "image/png": "[encoded data removed]",
      "text/plain": [
       "<Figure size 432x288 with 2 Axes>"
      ]
     },
     "metadata": {
      "needs_background": "light"
     },
     "output_type": "display_data"
    }
   ],
   "source": [
    "show_qubo(Q)"
   ]
  },
  {
   "cell_type": "markdown",
   "metadata": {},
   "source": [
    "#### イジングモデル\n",
    "数分割問題をイジングモデルで表すと、以下のような式で簡潔に表されます。\n",
    "\n",
    "$$\n",
    "H\\left(\\left\\{\\sigma_{i}\\right\\}\\right) = \\left(\\sum_{i} c_{i} \\sigma_{i}\\right)^2\n",
    "$$\n",
    "\n",
    "同様に、D-Waveマシンに問題を投げるためには$h_{i}$と$J_{i j}$の値が必要です。$\\sigma_{i}^2 = 1$であることに注意して、$H\\left(\\left{\\sigma_{i}\\right\\}\\right)$を展開していきます。\n",
    "\n",
    "$$\n",
    "H\\left(\\left\\{\\sigma_{i}\\right\\}\\right) = \\sum_{i} c_{i}^2 \\sigma_{i}^2 + 2 \\sum_{i < j} c_{i} c_{j} \\sigma_{i} \\sigma_{j} = \\sum_{i} c_{i}^2 + 2 \\sum_{i < j} c_{i} c_{j} \\sigma_{i} \\sigma_{j}\n",
    "$$\n",
    "\n",
    "よって、\n",
    "\n",
    "$$h_{i} = 0$$\n",
    "\n",
    "$$J_{i j} = 2 c_{i} c_{j}$$\n",
    "\n",
    "となります。"
   ]
  },
  {
   "cell_type": "code",
   "execution_count": 8,
   "metadata": {
    "ExecuteTime": {
     "end_time": "2019-04-15T12:30:59.108701Z",
     "start_time": "2019-04-15T12:30:59.103910Z"
    }
   },
   "outputs": [],
   "source": [
    "h = {}\n",
    "J = {}\n",
    "\n",
    "for i in range(N):\n",
    "    for j in range(i + 1, N):\n",
    "        J[i, j] = 2 * C[i] * C[j]"
   ]
  },
  {
   "cell_type": "markdown",
   "metadata": {},
   "source": [
    "ちなみに、Oceanの基本的なライブラリであるdimodを用いることで、イジングモデルとQUBOの相互変換が可能です。"
   ]
  },
  {
   "cell_type": "code",
   "execution_count": 9,
   "metadata": {
    "ExecuteTime": {
     "end_time": "2019-04-15T12:30:59.185784Z",
     "start_time": "2019-04-15T12:30:59.111952Z"
    }
   },
   "outputs": [],
   "source": [
    "import dimod"
   ]
  },
  {
   "cell_type": "code",
   "execution_count": 10,
   "metadata": {
    "ExecuteTime": {
     "end_time": "2019-04-15T12:30:59.194658Z",
     "start_time": "2019-04-15T12:30:59.188913Z"
    },
    "scrolled": true
   },
   "outputs": [],
   "source": [
    "# イジングモデルからQUBOへの変換\n",
    "model = dimod.BinaryQuadraticModel(h, J, 0.0, vartype=dimod.SPIN)\n",
    "qubo, offset = model.to_qubo()"
   ]
  },
  {
   "cell_type": "code",
   "execution_count": 11,
   "metadata": {
    "ExecuteTime": {
     "end_time": "2019-04-15T12:30:59.337789Z",
     "start_time": "2019-04-15T12:30:59.197763Z"
    }
   },
   "outputs": [
    {
     "data": {
      "image/png": "[encoded data removed]",
      "text/plain": [
       "<Figure size 432x288 with 2 Axes>"
      ]
     },
     "metadata": {
      "needs_background": "light"
     },
     "output_type": "display_data"
    }
   ],
   "source": [
    "show_qubo(qubo)"
   ]
  },
  {
   "cell_type": "markdown",
   "metadata": {},
   "source": [
    "ここまで、$Q_{i i}, Q_{i j}$や$h_{i}, J_{i j}$といった係数行列を求めるために、構成したコスト関数を展開しました。しかし、より複雑なコスト関数を扱う場合、この手計算を人間が行うのは煩わしく、計算ミスが生じる可能性があります。  \n",
    "そこで、(株)リクルートコミュニケーションズが開発しているドメイン固有言語 PyQUBO を使用することで、コスト関数を展開することなくQUBOやイジングモデルを作成する事ができます。PyQUBOの使い方については、別のチュートリアルを公開しています。\n",
    "\n",
    "Github: https://github.com/recruit-communications/pyqubo  \n",
    "Document: https://pyqubo.readthedocs.io/en/latest/\n",
    "\n",
    "OpenJijTutorial: https://github.com/OpenJij/OpenJijTutorial/blob/master/3-PyQUBO_2_OpenJij.ipynb  \n",
    "Qiita: https://qiita.com/ynntech/items/fcfe7caf49f6a8eb3c53"
   ]
  },
  {
   "cell_type": "markdown",
   "metadata": {},
   "source": [
    "<br>"
   ]
  },
  {
   "cell_type": "markdown",
   "metadata": {},
   "source": [
    "## D-Waveマシンによる最適化\n",
    "上記の数分割問題について、D-Waveマシンを用いて最適化を行います。ここでは、(1)単純に解く場合、(2)読み取り回数を変えた場合、  \n",
    "(3)アニーリングタイムを変えた場合を見ていきます。\n",
    "\n",
    "### イジングモデルを解く\n",
    "D-WaveマシンのサンプラーはDWaveSampler()を使用し、さらに問題をD-Waveマシンのグラフに埋め込む場合は  \n",
    "EmbeddingComposite()を使用します。"
   ]
  },
  {
   "cell_type": "code",
   "execution_count": 12,
   "metadata": {
    "ExecuteTime": {
     "end_time": "2019-04-15T12:31:01.159068Z",
     "start_time": "2019-04-15T12:30:59.340179Z"
    }
   },
   "outputs": [],
   "source": [
    "from dwave.system.samplers import DWaveSampler\n",
    "from dwave.system.composites import EmbeddingComposite"
   ]
  },
  {
   "cell_type": "code",
   "execution_count": 13,
   "metadata": {
    "ExecuteTime": {
     "end_time": "2019-04-15T12:31:02.135118Z",
     "start_time": "2019-04-15T12:31:01.161905Z"
    }
   },
   "outputs": [],
   "source": [
    "# ローカルに接続情報を設定している場合\n",
    "sampler = EmbeddingComposite(DWaveSampler())\n",
    "\n",
    "# 接続情報をオプションとして渡す場合\n",
    "# endpoint = 'https://cloud.dwavesys.com/sapi'\n",
    "# token = 'XXXXXXXXXXXXXX'\n",
    "# solver = 'DW_2000Q_2_1'\n",
    "# sampler = EmbeddingComposite(DWaveSampler(endpoint=endpoint, token=token, solver=solver))"
   ]
  },
  {
   "cell_type": "code",
   "execution_count": 14,
   "metadata": {
    "ExecuteTime": {
     "end_time": "2019-04-15T12:31:03.906310Z",
     "start_time": "2019-04-15T12:31:02.137216Z"
    }
   },
   "outputs": [],
   "source": [
    "response = {}\n",
    "\n",
    "# イジングモデルの場合\n",
    "response['default'] = sampler.sample_ising(h, J, num_reads=100)\n",
    "\n",
    "# QUBOの場合\n",
    "# response['default'] = sampler.sample_qubo(Q, num_reads=100)"
   ]
  },
  {
   "cell_type": "markdown",
   "metadata": {},
   "source": [
    "ひとまず、得られた結果を確認してみましょう。解はリストとして samples_matrix に格納されています。  \n",
    "このリストの大きさは、(得られた解の個数) $\\times$ (量子ビット数) となっています。"
   ]
  },
  {
   "cell_type": "code",
   "execution_count": 15,
   "metadata": {
    "ExecuteTime": {
     "end_time": "2019-04-15T12:31:03.913301Z",
     "start_time": "2019-04-15T12:31:03.908557Z"
    }
   },
   "outputs": [
    {
     "data": {
      "text/plain": [
       "(87, 10)"
      ]
     },
     "execution_count": 15,
     "metadata": {},
     "output_type": "execute_result"
    }
   ],
   "source": [
    "response['default'].samples_matrix.shape"
   ]
  },
  {
   "cell_type": "markdown",
   "metadata": {},
   "source": [
    "上の通り、87個の解が得られました。この中に、最適解がどのくらい含まれているか見てみましょう。ここでは最適解かどうかを判別するために、それぞれの解のエネルギー値を求めます。"
   ]
  },
  {
   "cell_type": "code",
   "execution_count": 16,
   "metadata": {
    "ExecuteTime": {
     "end_time": "2019-04-15T12:31:03.922283Z",
     "start_time": "2019-04-15T12:31:03.916047Z"
    }
   },
   "outputs": [],
   "source": [
    "def calcurate_energy(solution, vartype='BINARY'):\n",
    "    if vartype == 'BINARY':\n",
    "        ene = sum(C) ** 2  # offset\n",
    "        for i in range(N):\n",
    "            ene += Q[i, i] * solution[i]\n",
    "            for j in range(i + 1, N):\n",
    "                ene += Q[i, j] * solution[i] * solution[j]\n",
    "    elif vartype == 'SPIN':\n",
    "        ene = sum(C[i] ** 2 for i in range(N))\n",
    "        for i in range(N):\n",
    "            for j in range(i + 1, N):\n",
    "                ene += J[i, j] * solution[i] * solution[j]\n",
    "    else:\n",
    "        raise ValueError(\"vartype mast be 'BINARY' or 'SPIN'.\")\n",
    "\n",
    "    return ene"
   ]
  },
  {
   "cell_type": "code",
   "execution_count": 17,
   "metadata": {
    "ExecuteTime": {
     "end_time": "2019-04-15T12:31:03.941499Z",
     "start_time": "2019-04-15T12:31:03.924895Z"
    },
    "scrolled": false
   },
   "outputs": [],
   "source": [
    "gs_indices = []\n",
    "for i in range(len(response['default'].samples_matrix)):\n",
    "    ene = calcurate_energy(response['default'].samples_matrix[i], vartype='SPIN')\n",
    "#     print(i, response['default'].samples_matrix[i], 'Energy=', ene)\n",
    "    if ene == 0:  # エネルギー値が0であれば最適解\n",
    "        gs_indices.append(i)"
   ]
  },
  {
   "cell_type": "code",
   "execution_count": 18,
   "metadata": {
    "ExecuteTime": {
     "end_time": "2019-04-15T12:31:03.948076Z",
     "start_time": "2019-04-15T12:31:03.944016Z"
    }
   },
   "outputs": [
    {
     "name": "stdout",
     "output_type": "stream",
     "text": [
      "5\n"
     ]
    }
   ],
   "source": [
    "print(len(gs_indices))"
   ]
  },
  {
   "cell_type": "markdown",
   "metadata": {},
   "source": [
    "最適解が重複を含めて5個得られました。2つのグループは以下のようになっています。全く同じ解もあれば、異なる分け方があったりと、解がいくつか得られたことが分かります。"
   ]
  },
  {
   "cell_type": "code",
   "execution_count": 19,
   "metadata": {
    "ExecuteTime": {
     "end_time": "2019-04-15T12:31:03.959148Z",
     "start_time": "2019-04-15T12:31:03.950704Z"
    },
    "scrolled": false
   },
   "outputs": [
    {
     "name": "stdout",
     "output_type": "stream",
     "text": [
      "39 [ 1 -1 -1  1  1  1 -1  1 -1 -1]\n",
      "Group A: [2, 8, 5, 7, 5] , Sum = 27\n",
      "Group B: [10, 3, 9, 3, 2] , Sum = 27\n",
      "41 [-1  1  1 -1 -1 -1  1 -1  1  1]\n",
      "Group A: [10, 3, 9, 3, 2] , Sum = 27\n",
      "Group B: [2, 8, 5, 7, 5] , Sum = 27\n",
      "50 [ 1 -1 -1  1  1  1 -1  1 -1 -1]\n",
      "Group A: [2, 8, 5, 7, 5] , Sum = 27\n",
      "Group B: [10, 3, 9, 3, 2] , Sum = 27\n",
      "57 [-1 -1  1 -1  1 -1  1  1  1  1]\n",
      "Group A: [3, 5, 9, 5, 3, 2] , Sum = 27\n",
      "Group B: [2, 10, 8, 7] , Sum = 27\n",
      "84 [ 1 -1 -1  1  1  1 -1  1 -1 -1]\n",
      "Group A: [2, 8, 5, 7, 5] , Sum = 27\n",
      "Group B: [10, 3, 9, 3, 2] , Sum = 27\n"
     ]
    }
   ],
   "source": [
    "for i in gs_indices:\n",
    "    optimal_solution = response['default'].samples_matrix[i]\n",
    "    group_A = [C[i] for i, s in enumerate(optimal_solution) if s == 1]\n",
    "    group_B = [C[i] for i, s in enumerate(optimal_solution) if s == -1]\n",
    "\n",
    "    print(i, optimal_solution)\n",
    "    print('Group A:', group_A, ', Sum =', sum(group_A))\n",
    "    print('Group B:', group_B, ', Sum =', sum(group_B))"
   ]
  },
  {
   "cell_type": "markdown",
   "metadata": {},
   "source": [
    "2つのグループの総和がいずれも等しい、最適解を得ることができました。  \n",
    "また、D-Waveマシンから返される結果には、解以外にも様々な情報が含まれています (document: [SampleSet](https://docs.ocean.dwavesys.com/projects/dimod/en/latest/reference/sampleset.html#dimod.SampleSet))。\n",
    "\n",
    "**data_vectors**\n",
    "- energy: 埋め込んだD-Waveマシンのグラフにおけるエネルギー値\n",
    "- num_occurrences: 解の出現頻度\n",
    "- chain_break_fraction: D-Waveマシンのグラフにおいて壊れたチェーンの割合\n",
    "\n",
    "**info**  \n",
    "実行時のQPU(Quantum Processing Unit)に関する情報"
   ]
  },
  {
   "cell_type": "code",
   "execution_count": 20,
   "metadata": {
    "ExecuteTime": {
     "end_time": "2019-04-15T12:31:03.970593Z",
     "start_time": "2019-04-15T12:31:03.961694Z"
    }
   },
   "outputs": [
    {
     "data": {
      "text/plain": [
       "{'energy': array([-114., -174., -270., -270., -270., -114., -270., -270., -114.,\n",
       "        -270., -270., -270., -270., -306., -334., -270., -306., -270.,\n",
       "          30.,  786.,   30., 1230., -354., -114., -114., -334., -226.,\n",
       "        -306.,  530., -334.,   30., -354., -354.,   30.,  306., -114.,\n",
       "        -226., -226., -114., -370., -366., -370., -354., -354., -354.,\n",
       "        -334.,   30., -270., -114., -114., -370., -114.,  306.,  114.,\n",
       "          30.,  306., -174., -370., -226., -366., -270., -366., -334.,\n",
       "        -114.,  530., -114.,   30., -334.,  -46., -354.,   30., -114.,\n",
       "        -354., -270.,  -46., -114., -270., -354., -366.,  114., -270.,\n",
       "        -226., -354., -114., -370., -270., -366.]),\n",
       " 'num_occurrences': array([2, 1, 1, 1, 1, 2, 1, 1, 1, 1, 1, 1, 2, 1, 3, 1, 1, 1, 1, 1, 1, 1,\n",
       "        1, 1, 1, 2, 1, 1, 1, 1, 1, 2, 1, 1, 1, 1, 3, 1, 1, 1, 2, 1, 1, 1,\n",
       "        1, 1, 2, 1, 1, 1, 1, 2, 1, 1, 1, 1, 1, 1, 1, 1, 1, 1, 1, 1, 1, 1,\n",
       "        1, 1, 2, 1, 1, 1, 1, 1, 1, 1, 1, 1, 1, 1, 1, 1, 1, 1, 1, 1, 1]),\n",
       " 'chain_break_fraction': array([0.8, 0.8, 0.8, 0.8, 0.8, 0.8, 0.8, 0.9, 0.9, 0.9, 0.9, 0.9, 1. ,\n",
       "        0.9, 0.9, 0.8, 0.9, 0.8, 1. , 1. , 1. , 1. , 0.9, 0.9, 0.9, 1. ,\n",
       "        0.9, 1. , 0.9, 0.9, 1. , 0.9, 1. , 1. , 0.9, 1. , 1. , 1. , 1. ,\n",
       "        0.8, 0.8, 0.8, 0.8, 0.8, 0.9, 0.7, 0.7, 0.7, 0.7, 0.8, 1. , 1. ,\n",
       "        0.8, 0.8, 1. , 0.9, 0.8, 1. , 0.9, 0.8, 0.9, 0.8, 0.8, 0.8, 0.8,\n",
       "        0.8, 0.9, 0.9, 0.8, 0.9, 1. , 0.9, 1. , 1. , 1. , 1. , 1. , 0.9,\n",
       "        1. , 0.9, 0.9, 1. , 0.8, 0.8, 1. , 0.8, 0.9])}"
      ]
     },
     "execution_count": 20,
     "metadata": {},
     "output_type": "execute_result"
    }
   ],
   "source": [
    "response['default'].data_vectors"
   ]
  },
  {
   "cell_type": "code",
   "execution_count": 21,
   "metadata": {
    "ExecuteTime": {
     "end_time": "2019-04-15T12:31:03.978576Z",
     "start_time": "2019-04-15T12:31:03.973416Z"
    }
   },
   "outputs": [
    {
     "data": {
      "text/plain": [
       "{'timing': {'total_real_time': 24029,\n",
       "  'qpu_access_overhead_time': 2490,\n",
       "  'anneal_time_per_run': 20,\n",
       "  'post_processing_overhead_time': 981,\n",
       "  'qpu_sampling_time': 16396,\n",
       "  'readout_time_per_run': 123,\n",
       "  'qpu_delay_time_per_sample': 21,\n",
       "  'qpu_anneal_time_per_sample': 20,\n",
       "  'total_post_processing_time': 981,\n",
       "  'qpu_programming_time': 7633,\n",
       "  'run_time_chip': 16396,\n",
       "  'qpu_access_time': 24029,\n",
       "  'qpu_readout_time_per_sample': 123}}"
      ]
     },
     "execution_count": 21,
     "metadata": {},
     "output_type": "execute_result"
    }
   ],
   "source": [
    "response['default'].info"
   ]
  },
  {
   "cell_type": "markdown",
   "metadata": {},
   "source": [
    "### 読み取り回数を変えてみる\n",
    "次に、読み取り回数を変えた場合に得られる解がどのように変わるかを見てみましょう。  \n",
    "sample_ising()、またはsample_qubo()のnum_readsに値を設定することで、読み取り回数を指定できます。  \n",
    "num_readsのデフォルト値は1で、先ほどは100回で実行しました。今度は、1000回で行なってみましょう。"
   ]
  },
  {
   "cell_type": "code",
   "execution_count": 22,
   "metadata": {
    "ExecuteTime": {
     "end_time": "2019-04-15T12:31:05.895143Z",
     "start_time": "2019-04-15T12:31:03.981543Z"
    }
   },
   "outputs": [],
   "source": [
    "# イジングモデルの場合\n",
    "response['num_reads'] = sampler.sample_ising(h, J, num_reads=1000)\n",
    "\n",
    "# QUBOの場合\n",
    "# response['num_reads'] = sampler.sample_qubo(Q, num_reads=1000)"
   ]
  },
  {
   "cell_type": "code",
   "execution_count": 23,
   "metadata": {
    "ExecuteTime": {
     "end_time": "2019-04-15T12:31:05.904935Z",
     "start_time": "2019-04-15T12:31:05.897429Z"
    }
   },
   "outputs": [
    {
     "data": {
      "text/plain": [
       "(675, 10)"
      ]
     },
     "execution_count": 23,
     "metadata": {},
     "output_type": "execute_result"
    }
   ],
   "source": [
    "response['num_reads'].samples_matrix.shape"
   ]
  },
  {
   "cell_type": "code",
   "execution_count": 24,
   "metadata": {
    "ExecuteTime": {
     "end_time": "2019-04-15T12:31:06.091610Z",
     "start_time": "2019-04-15T12:31:05.907217Z"
    }
   },
   "outputs": [],
   "source": [
    "gs_indices = []\n",
    "for i in range(len(response['num_reads'].samples_matrix)):\n",
    "    ene = calcurate_energy(response['num_reads'].samples_matrix[i], vartype='SPIN')\n",
    "#     print(i, response['default'].samples_matrix[i], 'Energy=', ene)\n",
    "    if ene == 0:  # エネルギー値が0であれば最適解\n",
    "        gs_indices.append(i)"
   ]
  },
  {
   "cell_type": "code",
   "execution_count": 25,
   "metadata": {
    "ExecuteTime": {
     "end_time": "2019-04-15T12:31:06.099249Z",
     "start_time": "2019-04-15T12:31:06.094114Z"
    }
   },
   "outputs": [
    {
     "data": {
      "text/plain": [
       "44"
      ]
     },
     "execution_count": 25,
     "metadata": {},
     "output_type": "execute_result"
    }
   ],
   "source": [
    "len(gs_indices)"
   ]
  },
  {
   "cell_type": "markdown",
   "metadata": {},
   "source": [
    "単純ですが読み取り回数を増やすことで、得られた最適解の個数が増加しました。一方で、アニーリングタイム(1回のアニーリングに要する時間)が 20$\\mu s$ (デフォルト値)と短く、読み取り回数を増加させても実時間ではそれほど差はありません。"
   ]
  },
  {
   "cell_type": "code",
   "execution_count": 26,
   "metadata": {
    "ExecuteTime": {
     "end_time": "2019-04-15T12:31:06.107619Z",
     "start_time": "2019-04-15T12:31:06.101804Z"
    }
   },
   "outputs": [
    {
     "data": {
      "text/plain": [
       "{'timing': {'total_real_time': 171559,\n",
       "  'qpu_access_overhead_time': 1277,\n",
       "  'anneal_time_per_run': 20,\n",
       "  'post_processing_overhead_time': 691,\n",
       "  'qpu_sampling_time': 163960,\n",
       "  'readout_time_per_run': 123,\n",
       "  'qpu_delay_time_per_sample': 21,\n",
       "  'qpu_anneal_time_per_sample': 20,\n",
       "  'total_post_processing_time': 691,\n",
       "  'qpu_programming_time': 7599,\n",
       "  'run_time_chip': 163960,\n",
       "  'qpu_access_time': 171559,\n",
       "  'qpu_readout_time_per_sample': 123}}"
      ]
     },
     "execution_count": 26,
     "metadata": {},
     "output_type": "execute_result"
    }
   ],
   "source": [
    "response['num_reads'].info"
   ]
  },
  {
   "cell_type": "markdown",
   "metadata": {},
   "source": [
    "### アニーリングタイムを変えてみる\n",
    "最後に、アニーリングタイムを変えた場合に得られる解がどのように変わるかを見てみましょう。\n",
    "sample_ising()、またはsample_qubo()のannealing_timeに値を設定することで、アニーリングタイムを指定できます。  先ほどは、デフォルト値の 20$\\mu s$ で実行しました。今度は、100$\\mu s$ でアニーリングを行なってみましょう。"
   ]
  },
  {
   "cell_type": "code",
   "execution_count": 27,
   "metadata": {
    "ExecuteTime": {
     "end_time": "2019-04-15T12:31:07.588543Z",
     "start_time": "2019-04-15T12:31:06.110248Z"
    }
   },
   "outputs": [],
   "source": [
    "# イジングモデルの場合\n",
    "response['annealing_time'] = sampler.sample_ising(h, J, num_reads=100, annealing_time=50)\n",
    "\n",
    "# QUBOの場合\n",
    "# response['annealing_time'] = sampler.sample_qubo(Q, num_reads=100, annealing_time=100)"
   ]
  },
  {
   "cell_type": "code",
   "execution_count": 28,
   "metadata": {
    "ExecuteTime": {
     "end_time": "2019-04-15T12:31:07.597648Z",
     "start_time": "2019-04-15T12:31:07.592274Z"
    }
   },
   "outputs": [
    {
     "data": {
      "text/plain": [
       "(97, 10)"
      ]
     },
     "execution_count": 28,
     "metadata": {},
     "output_type": "execute_result"
    }
   ],
   "source": [
    "response['annealing_time'].samples_matrix.shape"
   ]
  },
  {
   "cell_type": "code",
   "execution_count": 29,
   "metadata": {
    "ExecuteTime": {
     "end_time": "2019-04-15T12:31:07.619897Z",
     "start_time": "2019-04-15T12:31:07.599936Z"
    }
   },
   "outputs": [],
   "source": [
    "gs_indices = []\n",
    "for i in range(len(response['annealing_time'].samples_matrix)):\n",
    "    ene = calcurate_energy(response['annealing_time'].samples_matrix[i], vartype='SPIN')\n",
    "#     print(i, response['default'].samples_matrix[i], 'Energy=', ene)\n",
    "    if ene == 0:  # エネルギー値が0であれば最適解\n",
    "        gs_indices.append(i)"
   ]
  },
  {
   "cell_type": "code",
   "execution_count": 30,
   "metadata": {
    "ExecuteTime": {
     "end_time": "2019-04-15T12:31:07.627347Z",
     "start_time": "2019-04-15T12:31:07.622746Z"
    }
   },
   "outputs": [
    {
     "data": {
      "text/plain": [
       "3"
      ]
     },
     "execution_count": 30,
     "metadata": {},
     "output_type": "execute_result"
    }
   ],
   "source": [
    "len(gs_indices)"
   ]
  },
  {
   "cell_type": "markdown",
   "metadata": {},
   "source": [
    "アニーリングタイムを変えたことで、得られた解に何か違いがないか調べてみます。ここでは、解のエネルギーのヒストグラムを見てみましょう。"
   ]
  },
  {
   "cell_type": "code",
   "execution_count": 37,
   "metadata": {
    "ExecuteTime": {
     "end_time": "2019-04-15T12:46:43.665208Z",
     "start_time": "2019-04-15T12:46:43.454787Z"
    }
   },
   "outputs": [
    {
     "data": {
      "image/png": "[encoded data removed]",
      "text/plain": [
       "<Figure size 432x288 with 1 Axes>"
      ]
     },
     "metadata": {
      "needs_background": "light"
     },
     "output_type": "display_data"
    }
   ],
   "source": [
    "plt.hist([calcurate_energy(solution, vartype='SPIN') for solution in response['default'].samples_matrix], alpha=0.5, label='20μs')\n",
    "plt.hist([calcurate_energy(solution, vartype='SPIN') for solution in response['annealing_time'].samples_matrix], alpha=0.5, label='50μs')\n",
    "plt.xlabel('Energy')\n",
    "plt.ylabel('Frequency')\n",
    "plt.legend()\n",
    "plt.show()"
   ]
  },
  {
   "cell_type": "markdown",
   "metadata": {
    "ExecuteTime": {
     "end_time": "2019-04-15T12:42:17.112182Z",
     "start_time": "2019-04-15T12:42:17.104935Z"
    }
   },
   "source": [
    "上のヒストグラムから、アニーリングタイムを増加させたことで得られた最適解の個数は減少しましたが、低いエネルギーの解を多く見つけていることが分かります。ただし、アニーリングタイムを大きくすればいいという単純な話ではありません。アニーリングタイムが小さい場合の方が最適化がうまくいくこともあり、それぞれの問題に依ります。  \n",
    "また、量子アニーリングをはじめとするアニーリング法はメタヒューリスティックスなアルゴリズムであるため、実行するたびに得られる結果は異なることも注意しなければなりません。"
   ]
  },
  {
   "cell_type": "markdown",
   "metadata": {},
   "source": [
    "<br>"
   ]
  },
  {
   "cell_type": "markdown",
   "metadata": {},
   "source": [
    "## まとめ\n",
    "数分割問題の最適化を通して、Oceanの使い方を紹介しました。このチュートリアルで説明したことを押さえるだけでも、様々なことができるようになります。例えば、以下のことを調べられるでしょう。\n",
    "- 読み取り回数、アニーリングタイムに対する成功確率(最適解が得られる割合)\n",
    "- 読み取り回数、アニーリングタイムに対するエネルギー値\n",
    "- 複数の最適解が存在する数分割問題に対して、得られる最適解の割合\n",
    "\n",
    "2019年4月現在、1ヶ月1分間無料でD-Waveマシンを利用することができます。ぜひ利用して、上の項目について実験してみてください。\n",
    "\n",
    "D-Wave Leap: https://cloud.dwavesys.com/leap/\n",
    "\n",
    "このチュートリアルでは触れることができませんでしたが、他にもアニーリングパラメータが存在します。例えば、アニーリングのスケジュールを指定することで、リバースアニーリングなど通常のアニーリングとは異なる手法を実行することができます。気になった方は、D-Waveのドキュメントを読んでみてください。"
   ]
  }
 ],
 "metadata": {
  "_draft": {
   "nbviewer_url": "https://gist.github.com/c98df8dc4fdf3cf70537f9a4e82ccbda"
  },
  "gist": {
   "data": {
    "description": "4-DWaveOceanSDK.ipynb",
    "public": false
   },
   "id": "c98df8dc4fdf3cf70537f9a4e82ccbda"
  },
  "kernelspec": {
   "display_name": "Python 3",
   "language": "python",
   "name": "python3"
  },
  "language_info": {
   "codemirror_mode": {
    "name": "ipython",
    "version": 3
   },
   "file_extension": ".py",
   "mimetype": "text/x-python",
   "name": "python",
   "nbconvert_exporter": "python",
   "pygments_lexer": "ipython3",
   "version": "3.6.7"
  },
  "latex_envs": {
   "LaTeX_envs_menu_present": true,
   "autoclose": false,
   "autocomplete": true,
   "bibliofile": "biblio.bib",
   "cite_by": "apalike",
   "current_citInitial": 1,
   "eqLabelWithNumbers": true,
   "eqNumInitial": 1,
   "hotkeys": {
    "equation": "Ctrl-E",
    "itemize": "Ctrl-I"
   },
   "labels_anchors": false,
   "latex_user_defs": false,
   "report_style_numbering": false,
   "user_envs_cfg": false
  },
  "toc": {
   "base_numbering": 1,
   "nav_menu": {},
   "number_sections": true,
   "sideBar": true,
   "skip_h1_title": false,
   "title_cell": "Table of Contents",
   "title_sidebar": "Contents",
   "toc_cell": false,
   "toc_position": {
    "height": "calc(100% - 180px)",
    "left": "10px",
    "top": "150px",
    "width": "288px"
   },
   "toc_section_display": true,
   "toc_window_display": true
  }
 },
 "nbformat": 4,
 "nbformat_minor": 2
}
