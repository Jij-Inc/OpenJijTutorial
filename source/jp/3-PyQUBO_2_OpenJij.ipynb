{
 "cells": [
  {
   "cell_type": "markdown",
   "metadata": {},
   "source": [
    "# 3 OpenJij + PyQUBO\n",
    "\n",
    "本稿では，PyQUBOによるコスト関数のQUBOへの変換方法とSimulated Annealing，OpenJijへの変数受け渡しなど についてクリーク被覆問題を例に説明する"
   ]
  },
  {
   "cell_type": "markdown",
   "metadata": {},
   "source": [
    "まず，PyQUBOのみによるSAの方法を説明する．"
   ]
  },
  {
   "cell_type": "markdown",
   "metadata": {},
   "source": [
    "**環境構築**\n",
    "使用する環境は以下の通り．\n",
    "```\n",
    "numpy==1.15.4\n",
    "dimod==0.7.9\n",
    "six==1.11.0\n",
    "\n",
    "dwave-cloud-client==0.4.16\n",
    "dwave-neal==0.4.2\n",
    "dwave-networkx==0.6.9\n",
    "dwave-ocean-sdk==1.0.3\n",
    "dwave-qbsolv==0.2.7\n",
    "dwave-system==0.5.4\n",
    "dwavebinarycsp==0.0.10\n",
    "```\n",
    "順番を間違えるとバージョンが異なるものに書き換えられる可能性もあるので，最後に\n",
    "`pip freeze` \n",
    "で必ず確認する。"
   ]
  },
  {
   "cell_type": "markdown",
   "metadata": {},
   "source": [
    "**配列を作成する際の例**"
   ]
  },
  {
   "cell_type": "code",
   "execution_count": null,
   "metadata": {},
   "outputs": [],
   "source": [
    " x = Array.create('x', shape=4, vartype='BINARY')\n",
    "```\n",
    "shape=4で4つの1次元配列をつくる。\n",
    "\n",
    "ちなみに，２次元配列を作るときは以下のとおり．\n",
    "```python\n",
    ">>> from pyqubo import Array, Binary\n",
    ">>> Array.create('x', shape=(2, 2), vartype='BINARY')\n",
    "Array([[Binary(x[0][0]), Binary(x[0][1])],\n",
    "       [Binary(x[1][0]), Binary(x[1][1])]])"
   ]
  },
  {
   "cell_type": "markdown",
   "metadata": {},
   "source": [
    " shape=(2, 2)で2×2の上記のような2次元配列を作っている。"
   ]
  },
  {
   "cell_type": "markdown",
   "metadata": {},
   "source": [
    "***PyQUBOによるSimulated Annealing***\n",
    "ここから，実際にPyQUBOを用いて最適化問題をSAで解く方法を説明していく．\n",
    "まずコスト関数をQUBOに変換する方法を紹介する．ここではクリーク被覆問題を例に説明する．\n",
    "\n",
    "まず，PyQUBOをimport．"
   ]
  },
  {
   "cell_type": "code",
   "execution_count": null,
   "metadata": {},
   "outputs": [],
   "source": [
    "#PyQUBO\n",
    "from pyqubo import Array, Constraint, Placeholder, solve_qubo"
   ]
  },
  {
   "cell_type": "markdown",
   "metadata": {},
   "source": [
    "今回はクリーク被覆問題の初期条件を以下のように与える．"
   ]
  },
  {
   "cell_type": "code",
   "execution_count": null,
   "metadata": {},
   "outputs": [],
   "source": [
    "#頂点の数\n",
    "N_VER = 8\n",
    "#色の数\n",
    "N_COLOR = 3\n",
    "#グラフを定義．0~7とうい名前の頂点があったときに，どの頂点同士が線で結ばれているかを定義している．\n",
    "graph = [(0,1), (0,2), (1,3), (5,6), (2,3), (2,5), (3,4), (5,7)]"
   ]
  },
  {
   "cell_type": "markdown",
   "metadata": {},
   "source": [
    "`PyQUBO(N_VER,N_COLOR,graph)` という，PyQUBOを用いてSAした結果を返す関数を定義する．"
   ]
  },
  {
   "cell_type": "markdown",
   "metadata": {},
   "source": [
    "ここからは，PyQUBO関数の中身について説明していく．\n",
    "\n",
    "まず，コスト関数に用いるxを以下のように定義．"
   ]
  },
  {
   "cell_type": "code",
   "execution_count": null,
   "metadata": {},
   "outputs": [],
   "source": [
    "    # BINARY変数 PyQUBOでは，以下のようにArray.createとう関数で配列を作ることができる．\n",
    "    x = Array.create('x', shape=(N_VER,N_VER), vartype='BINARY')"
   ]
  },
  {
   "cell_type": "markdown",
   "metadata": {},
   "source": [
    "次に，最小化項とペナルティ項を以下のように打ち込み，コスト関数を定義する．\n",
    "通常のQUBOを作成する方法とはことなり，式をそのまま直感的に打つこむことができる．\n"
   ]
  },
  {
   "cell_type": "code",
   "execution_count": null,
   "metadata": {},
   "outputs": [],
   "source": [
    "    #最小化項        \n",
    "    H_A = sum((1-sum(x[v,i] for i in range(1,N_COLOR)))**2 for v in range(N_VER))\n",
    "    #ペナルティ項\n",
    "    H_B = sum((-1+sum(x[v,i] for v in range (N_VER)))/2*(sum(x[v,i] for v in range (N_VER))) - sum(x[u,i]*x[v,i] for (u,v) in graph) for i in range (1,N_COLOR))\n",
    "\n",
    "    #コスト関数\n",
    "    Q = H_A+H_B"
   ]
  },
  {
   "cell_type": "markdown",
   "metadata": {},
   "source": [
    "作成したコスト関数は，以下のように`Q.compile().to_qubo()` で簡単にQUBOに変換することができる．"
   ]
  },
  {
   "cell_type": "code",
   "execution_count": null,
   "metadata": {},
   "outputs": [],
   "source": [
    "    # モデルをコンパイル\n",
    "    model = Q.compile()\n",
    "    qubo, offset = model.to_qubo()"
   ]
  },
  {
   "cell_type": "markdown",
   "metadata": {},
   "source": [
    "PyQUBOによってSimulated Annealingするには，\n",
    "`solve_qubo(qubo)`を用いる．"
   ]
  },
  {
   "cell_type": "code",
   "execution_count": null,
   "metadata": {},
   "outputs": [],
   "source": [
    "    #PyQUBOによるSA\n",
    "    raw_solution = solve_qubo(qubo)\n",
    "    # 得られた結果をデコードする\n",
    "    decoded_solution, broken, energy = model.decode_solution(raw_solution, vartype=\"BINARY\")"
   ]
  },
  {
   "cell_type": "markdown",
   "metadata": {},
   "source": [
    "これらの結果をつなげると，以下のようなコードになる．\n",
    "**クリーク被覆問題 実装例**"
   ]
  },
  {
   "cell_type": "code",
   "execution_count": 1,
   "metadata": {},
   "outputs": [
    {
     "name": "stdout",
     "output_type": "stream",
     "text": [
      "{'x': {0: {1: 0, 2: 0}, 1: {1: 0, 2: 0}, 2: {1: 0, 2: 1}, 3: {1: 0, 2: 1}, 4: {1: 0, 2: 0}, 5: {1: 1, 2: 0}, 6: {1: 1, 2: 0}, 7: {1: 0, 2: 0}}}\n"
     ]
    }
   ],
   "source": [
    "# coding: utf-8\n",
    "#PyQUBO\n",
    "from pyqubo import Array, Constraint, Placeholder, solve_qubo\n",
    "\n",
    "#頂点の数\n",
    "N_VER = 8\n",
    "#色の数\n",
    "N_COLOR = 3\n",
    "#グラフを定義．0~7とうい名前の頂点があったときに，どの頂点同士が線で結ばれているかを定義している．\n",
    "graph = [(0,1), (0,2), (1,3), (5,6), (2,3), (2,5), (3,4), (5,7)]\n",
    "\n",
    "def PyQUBO(N_VER,N_COLOR,graph):\n",
    "    # BINARY変数 PyQUBOでは，以下のようにArray.createとう関数で配列を作ることができる．\n",
    "    x = Array.create('x', shape=(N_VER,N_VER), vartype='BINARY')\n",
    "\n",
    "    #最小化項        \n",
    "    H_A = sum((1-sum(x[v,i] for i in range(1,N_COLOR)))**2 for v in range(N_VER))\n",
    "    #ペナルティ項\n",
    "    H_B = sum((-1+sum(x[v,i] for v in range (N_VER)))/2*(sum(x[v,i] for v in range (N_VER))) - sum(x[u,i]*x[v,i] for (u,v) in graph) for i in range (1,N_COLOR))\n",
    "    #コスト関数\n",
    "    Q = H_A+H_B \n",
    "    \n",
    "    # モデルをコンパイル\n",
    "    model = Q.compile()\n",
    "    qubo, offset = model.to_qubo()\n",
    "    \n",
    "    #PyQUBOによるSA\n",
    "    raw_solution = solve_qubo(qubo)\n",
    "    # 得られた結果をデコードする\n",
    "    decoded_solution, broken, energy = model.decode_solution(raw_solution, vartype=\"BINARY\")\n",
    "    return decoded_solution\n",
    "\n",
    "\n",
    "resultPyQUBO = PyQUBO(N_VER,N_COLOR,graph)\n",
    "print(resultPyQUBO)"
   ]
  },
  {
   "cell_type": "markdown",
   "metadata": {},
   "source": [
    "***PyQUBOによってQUBOに変換したモデルのOpenJijによる評価***\n",
    "次に，上のコードに追記する形で，OpenJijにQUBOを受け渡し，SQAで解く方法を以下で紹介する．\n",
    "まずPyQUBO関数の中で，QUBOも返すように変更する．\n",
    "   ` return qubo,decoded_solution`\n",
    "\n",
    "そして，関数の外で，以下のようにQUBOを受け渡すことでOpenJijによる評価ができるようになる．"
   ]
  },
  {
   "cell_type": "code",
   "execution_count": null,
   "metadata": {},
   "outputs": [],
   "source": [
    "#quboをQという変数に格納．\n",
    "Q,resultPyQUBO = PyQUBO(N_VER,N_COLOR,graph)\n",
    "\n",
    "#あとは通常のQUBOを作成してOpenJijで評価する場合と同じ．\n",
    "sampler = oj.SQASampler(iteration=10, step_num=100)\n",
    "response = sampler.sample_qubo(Q)\n",
    "#結果を出力．\n",
    "print(response.states)"
   ]
  },
  {
   "cell_type": "markdown",
   "metadata": {},
   "source": [
    "まとめると，以下のようになる．"
   ]
  },
  {
   "cell_type": "code",
   "execution_count": 2,
   "metadata": {},
   "outputs": [
    {
     "name": "stdout",
     "output_type": "stream",
     "text": [
      "[[1, 1, 1, 0, 0, 0, 0, 0, 0, 0, 1, 0, 0, 1, 0, 0], [0, 0, 1, 0, 1, 0, 0, 1, 1, 0, 0, 1, 0, 0, 1, 0], [1, 0, 1, 0, 0, 0, 0, 0, 1, 0, 0, 1, 0, 0, 1, 0], [0, 0, 1, 0, 0, 0, 0, 0, 1, 0, 0, 1, 0, 0, 1, 0], [0, 0, 0, 1, 0, 1, 0, 0, 0, 0, 0, 0, 1, 1, 0, 0], [1, 0, 1, 0, 0, 0, 0, 0, 0, 0, 1, 0, 0, 0, 1, 0], [1, 0, 0, 1, 0, 1, 0, 0, 0, 0, 1, 0, 1, 0, 0, 0], [0, 1, 1, 0, 0, 0, 0, 1, 1, 0, 0, 1, 0, 0, 0, 0], [0, 0, 1, 0, 1, 0, 0, 1, 1, 1, 0, 1, 0, 0, 0, 0], [0, 0, 1, 0, 1, 0, 0, 1, 1, 0, 0, 1, 0, 0, 1, 0]]\n"
     ]
    }
   ],
   "source": [
    "# coding: utf-8\n",
    "#openJijを使用。\n",
    "import openjij as oj\n",
    "#PyQUBO\n",
    "from pyqubo import Array, Constraint, Placeholder, solve_qubo\n",
    "\n",
    "#頂点の数\n",
    "N_VER = 8\n",
    "#色の数\n",
    "N_COLOR = 3\n",
    "graph = [(0,1), (0,2), (1,3), (5,6), (2,3), (2,5), (3,4), (5,7)]\n",
    "def PyQUBO(N_VER,N_COLOR,graph):\n",
    "    #イジング変数の数\n",
    "    N = N_VER * N_COLOR\n",
    "    # BINARY変数\n",
    "    x = Array.create('x', shape=(N_VER,N_VER), vartype='BINARY')\n",
    "    #最小化項        \n",
    "    H_A = sum((1-sum(x[v,i] for i in range(1,N_COLOR)))**2 for v in range(N_VER))\n",
    "    #ペナルティ項\n",
    "    H_B = sum((-1+sum(x[v,i] for v in range (N_VER)))/2*(sum(x[v,i] for v in range (N_VER))) - sum(x[u,i]*x[v,i] for (u,v) in graph) for i in range (1,N_COLOR))\n",
    "    #コスト関数\n",
    "    Q = H_A+H_B \n",
    "    \n",
    "    # モデルをコンパイル\n",
    "    model = Q.compile()\n",
    "    qubo, offset = model.to_qubo()\n",
    "    \n",
    "    #PyQUBOによるSA\n",
    "    raw_solution = solve_qubo(qubo)\n",
    "    # 得られた結果をデコードする\n",
    "    decoded_solution, broken, energy = model.decode_solution(raw_solution, vartype=\"BINARY\")\n",
    "    #ここでQUBOも返すように変更する．\n",
    "    return qubo,decoded_solution\n",
    "    \n",
    "\n",
    "Q,resultPyQUBO = PyQUBO(N_VER,N_COLOR,graph)\n",
    "sampler = oj.SASampler(iteration=10, step_num=100)\n",
    "response = sampler.sample_qubo(Q)\n",
    "\n",
    "#PyQUBOによるSAの結果出力\n",
    "#print(resultPyQUBO)\n",
    "\n",
    "#OpenJijによるSQAの結果出力\n",
    "print(response.states)"
   ]
  },
  {
   "cell_type": "markdown",
   "metadata": {},
   "source": [
    "参考：PyQUBO公式ドキュメント\n",
    "https://pyqubo.readthedocs.io/en/latest/reference/array.html?highlight=arry%20create\n",
    "\n",
    "※余談として，.pyipynbは.pyファイルに以下のように変換できるよう．\n",
    "`$ jupyter nbconvert --to script [YOUR_NOTEBOOK].ipynb`"
   ]
  }
 ],
 "metadata": {
  "kernelspec": {
   "display_name": "Python 3",
   "language": "python",
   "name": "python3"
  },
  "language_info": {
   "codemirror_mode": {
    "name": "ipython",
    "version": 3
   },
   "file_extension": ".py",
   "mimetype": "text/x-python",
   "name": "python",
   "nbconvert_exporter": "python",
   "pygments_lexer": "ipython3",
   "version": "3.6.7"
  }
 },
 "nbformat": 4,
 "nbformat_minor": 2
}
