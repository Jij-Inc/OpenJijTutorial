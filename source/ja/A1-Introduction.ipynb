{
    "cells": [
        {
            "cell_type": "markdown",
            "metadata": {},
            "source": [
                "# A1 - OpenJij core interface\u5165\u9580 (core python interface)"
            ]
        },
        {
            "cell_type": "markdown",
            "metadata": {
                "colab_type": "text",
                "id": "view-in-github"
            },
            "source": [
                "[![Open in Colab](https://colab.research.google.com/assets/colab-badge.svg)](https://colab.research.google.com/github/OpenJij/OpenJijTutorial/blob/master/source/ja/A1-Introduction.ipynb)"
            ]
        },
        {
            "cell_type": "markdown",
            "metadata": {},
            "source": [
                "\u3053\u306e\u7ae0\u3067\u306fOpenJij\u306ecore interface (core python interface)\u306e\u4f7f\u3044\u65b9\u3092\u8aac\u660e\u3057\u3001\u7c21\u5358\u306a\u8a08\u7b97\u306e\u30c7\u30e2\u30f3\u30b9\u30c8\u30ec\u30fc\u30b7\u30e7\u30f3\u3092\u884c\u3044\u307e\u3059\u3002\n",
                "\n",
                "core interface\u306f\u524d\u56de\u307e\u3067\u306e\u30c1\u30e5\u30fc\u30c8\u30ea\u30a2\u30eb\u3088\u308a\u3082\u4e0b\u90e8\u306e\u30ec\u30a4\u30e4\u30fc\u306eAPI\u3068\u306a\u308b\u305f\u3081\u3001\u5bfe\u8c61\u8aad\u8005\u3068\u3057\u3066\u306f\u524d\u56de\u307e\u3067\u306eOpenJij\u30c1\u30e5\u30fc\u30c8\u30ea\u30a2\u30eb\u3092\u4e00\u901a\u308a\u7d42\u3048\u3066\u3001\u30a4\u30b8\u30f3\u30b0\u30e2\u30c7\u30eb\u3084\u30e2\u30f3\u30c6\u30ab\u30eb\u30ed\u6cd5\u306a\u3069\u306e\u7528\u8a9e\u3092\u77e5\u3063\u3066\u3044\u308b\u65b9\u3092\u60f3\u5b9a\u3057\u3066\u304a\u308a\u3001\n",
                "\n",
                "* \u6700\u9069\u5316\u554f\u984c\u3060\u3051\u3067\u306a\u304f\u30b5\u30f3\u30d7\u30ea\u30f3\u30b0\u3084\u7814\u7a76\u7528\u9014\u306a\u3069\u3088\u308a\u5c02\u9580\u7684\u306a\u7528\u9014\u306bOpenJij\u3092\u7528\u3044\u305f\u3044\n",
                "* \u30a2\u30cb\u30fc\u30ea\u30f3\u30b0\u30b9\u30b1\u30b8\u30e5\u30fc\u30eb\u306e\u8a2d\u5b9a\u3084\u4f7f\u7528\u3059\u308b\u30a2\u30eb\u30b4\u30ea\u30ba\u30e0\u7b49\u3092\u76f4\u63a5\u89e6\u308a\u305f\u3044\n",
                "\n",
                "\u3068\u3044\u3063\u305f\u76ee\u7684\u306b\u4f7f\u7528\u3067\u304d\u307e\u3059\u3002"
            ]
        },
        {
            "cell_type": "markdown",
            "metadata": {},
            "source": [
                "## OpenJij core interface \u306b\u3064\u3044\u3066\n",
                "\n",
                "\u524d\u56de\u307e\u3067\u306e\u30c1\u30e5\u30fc\u30c8\u30ea\u30a2\u30eb\u3067\u306fOpenJij\u3092\u7528\u3044\u305f\u69d8\u3005\u306a\u554f\u984c\u306e\u89e3\u304d\u65b9\u3084\u30d9\u30f3\u30c1\u30de\u30fc\u30af\u306e\u53d6\u308a\u65b9\u306a\u3069\u3092\u7d39\u4ecb\u3057\u3066\u304d\u307e\u3057\u305f\u304c\u3001OpenJij\u306f\u6700\u4e0b\u5c64\u306e\u90e8\u5206\u306f\u7d71\u8a08\u7269\u7406\u5b66\u306e\u6570\u5024\u8a08\u7b97\u624b\u6cd5\u3067\u3042\u308b\u30de\u30eb\u30b3\u30d5\u9023\u9396\u30e2\u30f3\u30c6\u30ab\u30eb\u30ed\u6cd5\u3092\u30d9\u30fc\u30b9\u306bC++\u3092\u7528\u3044\u3066\u5b9f\u88c5\u3055\u308c\u3066\u304a\u308a\u3001\u4eca\u307e\u3067\u89e6\u308c\u3066\u304d\u305fpython\u30e2\u30b8\u30e5\u30fc\u30eb\u306f\u3053\u306eC++\u30a4\u30f3\u30bf\u30fc\u30d5\u30a7\u30fc\u30b9\u3092\u76f4\u63a5\u30e9\u30c3\u30d7\u3057\u305fpython\u30e9\u30a4\u30d6\u30e9\u30ea\u3067\u3042\u308b**cxxjij**\u3092\u547c\u3073\u51fa\u3059\u5f62\u3067\u5b9f\u88c5\u3055\u308c\u3066\u3044\u307e\u3059\u3002\u56f3\u306b\u3059\u308b\u3068\u6b21\u306e\u3088\u3046\u306a\u5305\u542b\u95a2\u4fc2\u304c\u3042\u308a\u307e\u3059\u3002\n",
                "\n",
                "![OpenJij hierarchy](images/hierarchy.png){ width=80%}\n",
                "\n",
                "core interface\u3092\u7528\u3044\u308b\u3053\u3068\u3067OpenJij\u4e0a\u306e\u5168\u3066\u306e\u6a5f\u80fd\u3092\u4f7f\u7528\u3059\u308b\u3053\u3068\u304c\u3067\u304d\u308b\u305f\u3081\u3001\u6700\u9069\u5316\u554f\u984c\u306e\u307f\u306a\u3089\u305a\u3001**\u7d71\u8a08\u7269\u7406\u5b66\u306e\u6570\u5024\u8a08\u7b97\u30c4\u30fc\u30eb**\u3068\u3057\u3066\u7814\u7a76\u7528\u9014\u3067\u4f7f\u7528\u3059\u308b\u3053\u3068\u3082\u3067\u304d\u307e\u3059\u3002\n",
                "\u307e\u305f\u3001C++\u30a4\u30f3\u30bf\u30fc\u30d5\u30a7\u30fc\u30b9\u3092\u7528\u3044\u308b\u3053\u3068\u3067\u3088\u308a\u9ad8\u901f\u306a\u6f14\u7b97\u3092\u884c\u3046\u3053\u3068\u304c\u3067\u304d\u307e\u3059\u3002\n",
                "\n",
                "\u672c\u30c1\u30e5\u30fc\u30c8\u30ea\u30a2\u30eb\u3067\u306fpython\u30a4\u30f3\u30bf\u30fc\u30d5\u30a7\u30fc\u30b9\u306ecxxjij\u3068\u3001C++\u30a4\u30f3\u30bf\u30fc\u30d5\u30a7\u30fc\u30b9\u306e\u4e21\u65b9\u3092\u7d39\u4ecb\u3057\u307e\u3059\u3002\n",
                "\u30a4\u30f3\u30b9\u30c8\u30fc\u30eb\u306b\u306fpip\u3092\u4f7f\u7528\u3057\u307e\u3059\u3002"
            ]
        },
        {
            "cell_type": "code",
            "execution_count": 1,
            "metadata": {},
            "outputs": [
                {
                    "name": "stdout",
                    "output_type": "stream",
                    "text": [
                        "Defaulting to user installation because normal site-packages is not writeable\n",
                        "Requirement already satisfied: openjij in /home/jiko/.local/lib/python3.8/site-packages (0.0.11)\n",
                        "Requirement already satisfied: requests in /home/jiko/.local/lib/python3.8/site-packages (from openjij) (2.23.0)\n",
                        "Requirement already satisfied: dimod==0.8.21 in /home/jiko/.local/lib/python3.8/site-packages (from openjij) (0.8.21)\n",
                        "Requirement already satisfied: numpy>=1.16.0 in /home/jiko/.local/lib/python3.8/site-packages (from openjij) (1.18.1)\n",
                        "Requirement already satisfied: idna<3,>=2.5 in /home/jiko/.local/lib/python3.8/site-packages (from requests->openjij) (2.9)\n",
                        "Requirement already satisfied: certifi>=2017.4.17 in /home/jiko/.local/lib/python3.8/site-packages (from requests->openjij) (2019.11.28)\n",
                        "Requirement already satisfied: chardet<4,>=3.0.2 in /home/jiko/.local/lib/python3.8/site-packages (from requests->openjij) (3.0.4)\n",
                        "Requirement already satisfied: urllib3!=1.25.0,!=1.25.1,<1.26,>=1.21.1 in /home/jiko/.local/lib/python3.8/site-packages (from requests->openjij) (1.25.8)\n",
                        "Requirement already satisfied: six<2.0.0,>=1.10.0 in /home/jiko/.local/lib/python3.8/site-packages (from dimod==0.8.21->openjij) (1.14.0)\n",
                        "Name: openjij\n",
                        "Version: 0.0.11\n",
                        "Summary: Framework for the Ising model and QUBO\n",
                        "Home-page: https://openjij.github.io/OpenJij/\n",
                        "Author: Jij Inc.\n",
                        "Author-email: openjij@j-ij.com\n",
                        "License: Apache License 2.0\n",
                        "Location: /home/jiko/.local/lib/python3.8/site-packages\n",
                        "Requires: numpy, dimod, requests\n",
                        "Required-by: \n"
                    ]
                }
            ],
            "source": [
                "!pip install openjij\n",
                "!pip show openjij"
            ]
        },
        {
            "cell_type": "markdown",
            "metadata": {},
            "source": [
                "## \u554f\u984c\u3092\u6295\u3052\u3066\u307f\u308b\n",
                "\n",
                "\u30c1\u30e5\u30fc\u30c8\u30ea\u30a2\u30eb\u3068\u3057\u3066\u307e\u305a\u306f\u5909\u6570\u306e\u30b5\u30a4\u30ba\u304c$N=5$\u306e\u53e4\u5178\u30b9\u30d4\u30f3 ($\\sigma = \\pm 1$)\u30a4\u30b8\u30f3\u30b0\u554f\u984c\u3092\u30a2\u30cb\u30fc\u30ea\u30f3\u30b0\u3067\u89e3\u3044\u3066\u307f\u307e\u3057\u3087\u3046\u3002\n",
                "\u30cf\u30df\u30eb\u30c8\u30cb\u30a2\u30f3\u306f\u4ee5\u4e0b\u306e\u3088\u3046\u306b\u306a\u308a\u307e\u3059\u3002\n",
                "\\begin{align}\n",
                "H &= \\sum_{i<j}J_{ij}\\sigma_i \\sigma_j + \\sum_{i=1}^{N}h_i \\sigma_i \\\\\n",
                "\\sigma_i &= \\pm 1 (i=1 \\cdots N)\n",
                "\\end{align}\n",
                "\n",
                "\u7e26\u78c1\u5834\u3068\u76f8\u4e92\u4f5c\u7528\u304c\n",
                "\n",
                "\\begin{align}\n",
                "h_i = -1 \\ \\mathrm{for\\ } \\forall i,\\ J_{ij} = -1\u3000\\ \\mathrm{for\\ } \\forall i,\\ j\n",
                "\\end{align}\n",
                "\n",
                "\u306e\u5834\u5408\u3001\u5404\u30b9\u30d4\u30f3\u306f1\u306e\u5024\u3092\u3068\u3063\u305f\u65b9\u304c\u30a8\u30cd\u30eb\u30ae\u30fc\u304c\u4f4e\u304f\u306a\u308b\u305f\u3081\u3001$\\{\\sigma_i\\} = \\{1,1,1,1,1\\}$\u304c\u6700\u9069\u89e3\u3068\u306a\u308a\u307e\u3059\u3002\u3053\u306e\u554f\u984c\u3092\u89e3\u3044\u3066\u307f\u307e\u3057\u3087\u3046\u3002\n",
                "python\u30b3\u30fc\u30c9\u3092\u7528\u3044\u305f\u4e00\u901a\u308a\u306e\u6d41\u308c\u306f\u6b21\u306e\u3088\u3046\u306b\u306a\u308a\u307e\u3059\u3002\n",
                "\n",
                "> core interface\u306f\u30a4\u30b8\u30f3\u30b0\u554f\u984c\u306b\u7279\u5316\u3057\u305f\u30bd\u30eb\u30d0\u306e\u305f\u3081\u3001QUBO\u3068\u306e\u5909\u63db\u306f\u5b9f\u88c5\u3055\u308c\u3066\u3044\u307e\u305b\u3093\u3002QUBO\u3068\u306e\u5909\u63db\u3092\u884c\u3046\u306b\u306f\u4eca\u307e\u3067\u306e\u30c1\u30e5\u30fc\u30c8\u30ea\u30a2\u30eb\u3092\u53c2\u7167\u3057\u3001core interface\u3092\u547c\u3076\u524d\u306bQUBO\u304b\u3089\u30a4\u30b8\u30f3\u30b0\u554f\u984c\u3078\u5909\u63db\u3057\u3066\u304f\u3060\u3055\u3044\u3002"
            ]
        },
        {
            "cell_type": "code",
            "execution_count": 2,
            "metadata": {},
            "outputs": [
                {
                    "name": "stdout",
                    "output_type": "stream",
                    "text": [
                        "The solution is [1, 1, 1, 1, 1].\n"
                    ]
                }
            ],
            "source": [
                "# core interface\u3067\u306fopenjij\u306e\u4ee3\u308f\u308a\u306bcxxjij\u3092\u30a4\u30f3\u30dd\u30fc\u30c8\u3057\u307e\u3059\u3002\n",
                "import cxxjij as cj\n",
                "\n",
                "# \u307e\u305a\u76f8\u4e92\u4f5c\u7528\u884c\u5217\u3092\u4f5c\u6210\u3057\u3066\u3042\u3052\u307e\u3059\u3002Graph\u30e2\u30b8\u30e5\u30fc\u30eb\u3092\u4f7f\u3044\u307e\u3059\u3002\n",
                "import cxxjij.graph as G\n",
                "\n",
                "# \u554f\u984c\u30b5\u30a4\u30baN=5\u306e\u5bc6\u7d50\u5408\u30b0\u30e9\u30d5(Dense)\u3092\u5b9a\u7fa9\u3057\u307e\u3059\u3002\n",
                "N = 5\n",
                "J = G.Dense(N)\n",
                "# \u76f8\u4e92\u4f5c\u7528\u3092\u8a2d\u5b9a\u3057\u3066\u3042\u3052\u307e\u3059\u3002\n",
                "for i in range(N):\n",
                "    for j in range(N):\n",
                "        #J[i,i]\u4ee5\u5916\u306b-1\u3092\u5165\u529b\n",
                "        J[i,j] = 0 if i == j else -1.0\n",
                "\n",
                "# \u7e26\u78c1\u5834\u3092\u8a2d\u5b9a\u3057\u3066\u3042\u3052\u307e\u3059\u3002\n",
                "for i in range(N):\n",
                "    # J[i,i] = -1\u3067\u3082\u540c\u3058\u7d50\u679c\u3068\u306a\u308a\u307e\u3059\u3002\n",
                "    J[i] = -1\n",
                "\n",
                "# \u7d9a\u3044\u3066Graph\u304b\u3089\u8a08\u7b97\u3092\u884c\u3046\u305f\u3081\u306eSystem\u3092\u4f5c\u6210\u3057\u307e\u3059\u3002\n",
                "import cxxjij.system as S\n",
                "\n",
                "# \u4eca\u56de\u306f\u901a\u5e38\u306e\u53e4\u5178\u30e2\u30f3\u30c6\u30ab\u30eb\u30ed\u8a08\u7b97\u306e\u30b7\u30b9\u30c6\u30e0\u3092\u4f7f\u7528\u3057\u307e\u3059\u3002\n",
                "system = S.make_classical_ising(J.gen_spin(), J)\n",
                "# \u30a2\u30cb\u30fc\u30ea\u30f3\u30b0\u30b9\u30b1\u30b8\u30e5\u30fc\u30eb\u3092\u8a2d\u5b9a\u3057\u307e\u3059\u3002Utility\u30e2\u30b8\u30e5\u30fc\u30eb\u3092\u4f7f\u7528\u3057\u307e\u3059\u3002\n",
                "import cxxjij.utility as U\n",
                "schedule = U.make_classical_schedule_list(0.1, 100, 10, 10)\n",
                "\n",
                "# \u5b9f\u969b\u306b\u30a2\u30cb\u30fc\u30ea\u30f3\u30b0\u3092\u8d70\u3089\u305b\u307e\u3059\u3002Algorithm\u30e2\u30b8\u30e5\u30fc\u30eb\u3092\u4f7f\u7528\u3057\u307e\u3059\u3002\n",
                "# \u30e2\u30f3\u30c6\u30ab\u30eb\u30ed\u30b9\u30c6\u30c3\u30d7\u306e\u66f4\u65b0\u65b9\u6cd5\u3068\u3057\u3066\u5358\u7d14\u306aSingleSpinFlip\u3092\u7528\u3044\u307e\u3059\u3002\n",
                "import cxxjij.algorithm as A\n",
                "A.Algorithm_SingleSpinFlip_run(system, schedule)\n",
                "\n",
                "# \u7d50\u679c\u3092\u53d6\u5f97\u3057\u307eA\u3059\u3002Result\u30e2\u30b8\u30e5\u30fc\u30eb\u306b\u3042\u308bget_solution\u3092\u7528\u3044\u307e\u3059\u3002\n",
                "import cxxjij.result as R\n",
                "print(\"The solution is {}.\".format(R.get_solution(system)))"
            ]
        },
        {
            "cell_type": "markdown",
            "metadata": {},
            "source": [
                "\u51fa\u3066\u304d\u305f\u7b54\u3048\u304c$[1,1,1,1,1]$\u306b\u306a\u3063\u305f\u306e\u304c\u78ba\u8a8d\u3067\u304d\u307e\u3059\u3002\n",
                "\u4f4e\u30ec\u30a4\u30e4\u30fc\u306eAPI\u306e\u305f\u3081\u3001\u8a2d\u5b9a\u3059\u308b\u9805\u76ee\u306f\u591a\u3044\u3067\u3059\u304c\u305d\u306e\u5206\u8a73\u7d30\u306a\u8a2d\u5b9a\u304c\u53ef\u80fd\u3068\u306a\u308a\u307e\u3059\u3002\n",
                "\n",
                "## \u30e2\u30b8\u30e5\u30fc\u30eb\u4e00\u89a7\n",
                "\n",
                "\u30b3\u30fc\u30c9\u4f8b\u306b\u51fa\u3066\u304d\u305f\u3088\u3046\u306b\u3001OpenJij core interface\u3067\u306f\u4e3b\u306b`graph`, `system`, `algorithm`\u306a\u3069\u306e\u30e2\u30b8\u30e5\u30fc\u30eb\u304b\u3089\u6210\u308a\u7acb\u3063\u3066\u304a\u308a\u3001\u305d\u308c\u305e\u308c\u306e\u30e2\u30b8\u30e5\u30fc\u30eb\u3092\u7d44\u307f\u5408\u308f\u305b\u308b\u3053\u3068\u3067\u69d8\u3005\u306a\u7a2e\u985e\u3001\u30a2\u30eb\u30b4\u30ea\u30ba\u30e0\u3092\u7528\u3044\u3066\u30a4\u30b8\u30f3\u30b0\u30e2\u30c7\u30eb\u3092\u8a08\u7b97\u3059\u308b\u3053\u3068\u304c\u53ef\u80fd\u306b\u306a\u3063\u3066\u3044\u307e\u3059\u3002\u307e\u305f\u65b0\u305f\u306b\u30a2\u30eb\u30b4\u30ea\u30ba\u30e0\u3092\u5b9f\u88c5\u3059\u308b\u969b\u306b\u62e1\u5f35\u304c\u5bb9\u6613\u3067\u3042\u308b\u3068\u3044\u3046\u7279\u5fb4\u3092\u5099\u3048\u3066\u3044\u307e\u3059\u3002\u6b21\u7ae0\u4ee5\u964d\u3067\u8a73\u7d30\u306a\u8aac\u660e\u3092\u884c\u3044\u307e\u3059\u3002\n",
                "\n",
                "### Graph\n",
                "\n",
                "\u30a4\u30b8\u30f3\u30b0\u30cf\u30df\u30eb\u30c8\u30cb\u30a2\u30f3\u306e\u4fc2\u6570$J_{ij}$\u3092\u4fdd\u6301\u3059\u308b\u305f\u3081\u306e\u30e2\u30b8\u30e5\u30fc\u30eb\u3067\u3059\u3002\u57fa\u672c\u7684\u306b\u5bc6\u7d50\u5408 (\u5168\u3066\u306eJij\u304c0\u4ee5\u5916\u306e\u5024\u3092\u6301\u3064\u30e2\u30c7\u30eb\u306b\u9069\u3057\u3066\u3044\u308b)\u3092\u6271\u3046`Dense`\u3068\u758e\u7d50\u5408 (Jij\u306e\u591a\u304f\u306e\u5024\u304c0\u3067\u3042\u308b\u30e2\u30c7\u30eb\u306b\u9069\u3057\u3066\u3044\u308b)`Sparse`\u306a\u3069\u304c\u3042\u308a\u307e\u3059\u3002\n",
                "\n",
                "### System\n",
                "\n",
                "`system`\u3067\u306f\u30e2\u30f3\u30c6\u30ab\u30eb\u30ed\u7b49\u306e\u8a08\u7b97\u306b\u304a\u3051\u308b\u3001\u73fe\u5728\u306e\u30b7\u30b9\u30c6\u30e0\u306e\u72b6\u614b\u3092\u4fdd\u6301\u3059\u308b\u305f\u3081\u306e\u30c7\u30fc\u30bf\u69cb\u9020\u304c\u5b9a\u7fa9\u3055\u308c\u3066\u3044\u307e\u3059\u3002\u5177\u4f53\u7684\u306b\u306f\n",
                "\n",
                "- \u53e4\u5178\u30a4\u30b8\u30f3\u30b0\u30e2\u30c7\u30eb (\u30b9\u30d4\u30f3\u914d\u5217)\n",
                "- \u6a2a\u78c1\u5834\u30a4\u30b8\u30f3\u30b0\u30e2\u30c7\u30eb (\u30c8\u30ed\u30c3\u30bf\u30fc\u5206\u89e3\u3082\u542b\u3093\u3060\u30b9\u30d4\u30f3\u914d\u5217)\n",
                "- GPU\u5b9f\u88c5\u53e4\u5178\u3001\u91cf\u5b50\u30a4\u30b8\u30f3\u30b0\u30e2\u30c7\u30eb\n",
                "\n",
                "\u7b49\u304c\u5b9a\u7fa9\u3055\u308c\u3066\u3044\u307e\u3059\u3002\u30e2\u30f3\u30c6\u30ab\u30eb\u30ed\u6cd5\u3092\u59cb\u3081\u3068\u3059\u308b\u8a08\u7b97\u624b\u6cd5\u306b\u306f\u69d8\u3005\u306a\u624b\u6cd5\u304c\u3042\u308b (\u3082\u3057\u304f\u306f\u4eca\u5f8c\u65b0\u3057\u3044\u624b\u6cd5\u304c\u958b\u767a\u3055\u308c\u3066\u3044\u304f)\u305f\u3081\u3001OpenJij\u3067\u306f\u5404\u3005\u306e\u8a08\u7b97\u624b\u6cd5\u306b\u5bfe\u5fdc\u3059\u308b\u30c7\u30fc\u30bf\u69cb\u9020\u3068\u30a2\u30eb\u30b4\u30ea\u30ba\u30e0\u3001\u307e\u305f\u8a08\u7b97\u7d50\u679c\u306e\u53d6\u5f97\u30a4\u30f3\u30bf\u30fc\u30d5\u30a7\u30fc\u30b9\u3092\u5206\u96e2\u3059\u308b\u3053\u3068\u306b\u3088\u308a\u3001\u69d8\u3005\u306a\u30a2\u30eb\u30b4\u30ea\u30ba\u30e0\u3092\u8ffd\u52a0\u3059\u308b\u3053\u3068\u304c\u5bb9\u6613\u306b\u884c\u3048\u308b\u3088\u3046\u306b\u8a2d\u8a08\u3055\u308c\u3066\u3044\u307e\u3059\u3002\n",
                "\n",
                "### Updater\n",
                "\n",
                "\u3069\u306e\u3088\u3046\u306a\u624b\u6cd5\u3067`system`\u3092\u66f4\u65b0\u3057\u3066\u3044\u304f\u304b\u3092\u5b9a\u7fa9\u3057\u307e\u3059\u3002\u5177\u4f53\u7684\u306b\u306f\n",
                "\n",
                "- SingleSpinFlip Update\n",
                "- SwendsenWang Update\n",
                "\n",
                "\u306a\u3069\u306e\u624b\u6cd5\u304c\u5b9f\u88c5\u3055\u308c\u3066\u3044\u307e\u3059\u3002System\u306e\u7a2e\u985e\u306b\u3088\u3063\u3066\u4f7f\u7528\u3067\u304d\u308bUpdater\u306f\u6c7a\u307e\u3063\u3066\u304a\u308a\u3001\n",
                "\n",
                "> core python interface\u3067\u306f`algorithm`\u3068\u7d71\u5408\u3055\u308c\u3066\u3044\u307e\u3059\u3002\n",
                "\n",
                "### Algorithm\n",
                "\n",
                "`updater`\u3092\u7528\u3044\u3066\u3069\u306e\u3088\u3046\u306a\u30b9\u30b1\u30b8\u30e5\u30fc\u30eb\u3067\u30a2\u30cb\u30fc\u30ea\u30f3\u30b0\u30a2\u30eb\u30b4\u30ea\u30ba\u30e0\u3092\u5b9f\u884c\u3059\u308b\u304b\u7b49\u3001\u30a2\u30eb\u30b4\u30ea\u30ba\u30e0\u3092\u5b9f\u884c\u3059\u308b\u5f79\u5272\u3092\u62c5\u3044\u307e\u3059\u3002\n",
                "`Algorithm_[Updater\u306e\u7a2e\u985e]_run`\u3067\u3001\u5bfe\u5fdc\u3057\u305fUpdater\u3092\u7528\u3044\u3066\u5b9f\u884c\u3059\u308b\u3053\u3068\u304c\u3067\u304d\u307e\u3059\u3002\n",
                "\n",
                "### Result\n",
                "\n",
                "`system`\u304b\u3089\u30b9\u30d4\u30f3\u914d\u4f4d\u306a\u3069\u306e\u60c5\u5831\u3092\u5f97\u308b\u305f\u3081\u306b\u4f7f\u7528\u3055\u308c\u307e\u3059\u3002\n",
                "\n",
                "### \u30b3\u30fc\u30c7\u30a3\u30f3\u30b0\u30d5\u30ed\u30fc\n",
                "\n",
                "\u57fa\u672c\u7684\u306b\u4ee5\u4e0b\u306e\u6d41\u308c\u3068\u306a\u308a\u307e\u3059\u3002\u554f\u984c\u306e\u898f\u6a21\u304c\u5927\u304d\u304f\u306a\u3063\u3066\u3082\u3053\u306e\u6d41\u308c\u306f\u57fa\u672c\u7684\u306b\u5909\u308f\u308a\u307e\u305b\u3093\u3002\n",
                "\n",
                "- `graph`\u30e2\u30b8\u30e5\u30fc\u30eb\u3067$J_{ij}, h_{i}$\u3092\u5b9a\u7fa9\n",
                "- `graph`\u30e2\u30b8\u30e5\u30fc\u30eb\u3092\u5143\u306b`system`\u306e\u4f5c\u6210\n",
                "- `system`\u306b\u5bfe\u5fdc\u3059\u308b`updater`\u3092\u9078\u629e\u3057\u3001`Algorithm_[Updater\u306e\u7a2e\u985e]_run`\u3067\u30a2\u30eb\u30b4\u30ea\u30ba\u30e0\u306e\u5b9f\u884c\n",
                "- `result.get_solution(system)`\u3067\u30b7\u30b9\u30c6\u30e0\u306e\u30b9\u30d4\u30f3\u914d\u4f4d\u3092\u53d6\u5f97\u3001\u3082\u3057\u304f\u306f`system`\u304b\u3089\u76f4\u306b\u53d6\u5f97"
            ]
        }
    ],
    "metadata": {
        "kernelspec": {
            "display_name": "Python 3",
            "language": "python",
            "name": "python3"
        },
        "language_info": {
            "codemirror_mode": {
                "name": "ipython",
                "version": 3
            },
            "file_extension": ".py",
            "mimetype": "text/x-python",
            "name": "python",
            "nbconvert_exporter": "python",
            "pygments_lexer": "ipython3",
            "version": "3.8.2"
        }
    },
    "nbformat": 4,
    "nbformat_minor": 4
}