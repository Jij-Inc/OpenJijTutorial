{
 "cells": [
  {
   "cell_type": "markdown",
   "metadata": {},
   "source": [
    "# A3 - 古典イジング模型"
   ]
  },
  {
   "cell_type": "markdown",
   "metadata": {
    "colab_type": "text",
    "id": "view-in-github"
   },
   "source": [
    "[![Open in Colab](https://colab.research.google.com/assets/colab-badge.svg)](https://colab.research.google.com/github/OpenJij/OpenJijTutorial/blob/master/source/ja/A3-LargeScaleMC.ipynb)"
   ]
  },
  {
   "cell_type": "markdown",
   "metadata": {},
   "source": [
    "この章ではOpenJijのcore interface (core python interface)のより詳細な使い方を説明します。\n",
    "\n",
    "まずはグラフクラスを宣言します。"
   ]
  },
  {
   "cell_type": "code",
   "execution_count": 2,
   "metadata": {},
   "outputs": [],
   "source": [
    "import cxxjij.graph as G\n",
    "#問題サイズを100とします。\n",
    "N = 100\n",
    "\n",
    "graph = G.Dense(N)\n",
    "#sparseの場合\n",
    "#graph = G.Sparse(N)"
   ]
  },
  {
   "cell_type": "markdown",
   "metadata": {},
   "source": [
    "$J_{ij}, h_i$を設定します。今回は平均0、標準偏差1のGauss分布から生成される値を設定します。"
   ]
  },
  {
   "cell_type": "code",
   "execution_count": 2,
   "metadata": {},
   "outputs": [
    {
     "name": "stdout",
     "output_type": "stream",
     "text": [
      "Defaulting to user installation because normal site-packages is not writeable\n",
      "Requirement already satisfied: numpy in /usr/lib/python3.8/site-packages (1.18.4)\n"
     ]
    }
   ],
   "source": [
    "!pip install numpy #乱数生成にnumpyを使います。"
   ]
  },
  {
   "cell_type": "code",
   "execution_count": 3,
   "metadata": {},
   "outputs": [],
   "source": [
    "import numpy as np\n",
    "mu, sigma = 0, 1\n",
    "\n",
    "for i in range(N):\n",
    "    for j in range(N):\n",
    "        #Jijの値が大きくなりすぎてしまうので、全体の係数を1/Nしています。\n",
    "        graph[i,j] = 0 if i == j else np.random.normal()/N\n",
    "\n",
    "for i in range(N):\n",
    "    graph[i] = np.random.normal()/N"
   ]
  },
  {
   "cell_type": "markdown",
   "metadata": {},
   "source": [
    "ここで、縦磁場に関しては、`graph[i]`でも、`graph[i,i]`でもどちらでもアクセスできます。\n",
    "\n",
    "また、イジングモデルの定義上、$J_{ij}$と$J_{ji}$は自動で同じ値となります。"
   ]
  },
  {
   "cell_type": "code",
   "execution_count": 4,
   "metadata": {},
   "outputs": [
    {
     "name": "stdout",
     "output_type": "stream",
     "text": [
      "0.5\n",
      "0.5\n",
      "-0.6\n",
      "-0.6\n"
     ]
    }
   ],
   "source": [
    "graph[20] = 0.5\n",
    "print(graph[20,20])\n",
    "print(graph[20])\n",
    "graph[12,34] = -0.6\n",
    "print(graph[12,34])\n",
    "print(graph[34,12])"
   ]
  },
  {
   "cell_type": "markdown",
   "metadata": {},
   "source": [
    "## システムの設定 - System -\n",
    "\n",
    "続いて計算を行うためのシステムを定義します。ここで古典イジング模型か横磁場イジング模型か、また別の模型にするか等を選べます。\n",
    "\n",
    "まずは古典イジング模型のシステムを作成してみます。`system.make_classical_ising`で作成できます。"
   ]
  },
  {
   "cell_type": "code",
   "execution_count": 8,
   "metadata": {},
   "outputs": [],
   "source": [
    "import cxxjij.system as S\n",
    "\n",
    "mysystem = S.make_classical_ising(graph.gen_spin(), graph)"
   ]
  },
  {
   "cell_type": "markdown",
   "metadata": {},
   "source": [
    "ここで、引数の1つめにはランダムに生成したスピン、2つめはGraphそのものを代入しています。  \n",
    "これにより初期スピン配位が`graph.gen_spin()`となる古典イジング模型のシステムが作成できます。\n",
    "\n",
    "システムに直接アクセスして、値を読むこともできます。\n",
    "\n",
    "> システムに実装されているスピン等のデータ構造は各々のシステムに依存します。`ClassicalIsing`のシステムでは`numpy.ndarray`型の`interaction`と`spin`等が実装されています。"
   ]
  },
  {
   "cell_type": "code",
   "execution_count": 25,
   "metadata": {},
   "outputs": [
    {
     "name": "stdout",
     "output_type": "stream",
     "text": [
      "[-1. -1.  1.  1. -1.  1. -1.  1.  1.  1.  1. -1.  1.  1.  1.  1.  1.  1.\n",
      " -1. -1. -1.  1.  1. -1. -1.  1.  1.  1.  1. -1.  1.  1. -1. -1.  1. -1.\n",
      " -1. -1.  1.  1.  1.  1. -1.  1. -1.  1. -1.  1. -1. -1.  1.  1. -1. -1.\n",
      "  1.  1.  1.  1.  1. -1.  1. -1.  1. -1.  1.  1. -1. -1. -1. -1.  1.  1.\n",
      "  1.  1. -1.  1.  1.  1.  1.  1.  1.  1. -1. -1.  1.  1.  1. -1.  1.  1.\n",
      "  1.  1. -1. -1. -1. -1.  1. -1. -1. -1.  1.]\n"
     ]
    }
   ],
   "source": [
    "print(mysystem.spin)"
   ]
  },
  {
   "cell_type": "markdown",
   "metadata": {},
   "source": [
    "古典イジング模型以外にも様々なシステムが用意されており、用途別に使うことが出来ます。また、Systemによって初期化の方法は多少異なります。  \n",
    "後ほど少しずつ紹介していきます。\n",
    "\n",
    "## アルゴリズムの実行 -Updater, Algorithm-\n",
    "\n",
    "Systemを定義した後はUpdaterを選択してAlgorithmを実行していきます。  \n",
    "Systemに大して使用できるUpdaterは決められており、古典イジング模型に対するUpdaterは主に\n",
    "\n",
    "- [SingleSpinFlip](https://github.com/OpenJij/OpenJij/blob/ec41aecfbac7e4c895e1e7a1718f06eb7ffae0ba/src/updater/single_spin_flip.hpp#L40) (メトロポリス・ヘイスティング法によるスピン1つずつのアップデート)\n",
    "- [SwendsenWang](https://github.com/OpenJij/OpenJij/blob/ec41aecfbac7e4c895e1e7a1718f06eb7ffae0ba/src/updater/swendsen_wang.hpp#L45) (SwendsenWang法によるクラスターアップデート)\n",
    "\n",
    "が用意されています。  \n",
    "Algorithmを実行するにはまず**スケジュールリスト**が必要となるため、まずスケジュールリストを作成するところから始めます。\n",
    "\n",
    "### スケジュールリスト\n",
    "\n",
    "スケジュールリストは`(パラメータ, モンテカルロステップ数)`のリストで与えられ、パラメータにいれる値はSystemによって異なります。例えば古典イジング模型ならばパラメータとして温度の逆数である逆温度$\\beta$を設定します。\n",
    "例えばスケジュールリストとして"
   ]
  },
  {
   "cell_type": "code",
   "execution_count": 26,
   "metadata": {},
   "outputs": [],
   "source": [
    "schedule_list = [(0.01, 10),(10, 80),(0.1, 30)]"
   ]
  },
  {
   "cell_type": "markdown",
   "metadata": {},
   "source": [
    "と設定された場合、逆温度$\\beta=0.01$で10モンテカルロステップ、$\\beta=10$で80ステップ、$\\beta=0.1$で30ステップの計120モンテカルロステップを実行することを意味します。\n",
    "\n",
    "アニーリングを実行するにあたっては、逆温度は等比級数で増加させていくことが多いため、`utility`にある`make_classical_schedule_list`を使うと便利です。"
   ]
  },
  {
   "cell_type": "code",
   "execution_count": 27,
   "metadata": {},
   "outputs": [
    {
     "name": "stdout",
     "output_type": "stream",
     "text": [
      "[((beta: 0.100000) mcs: 20), ((beta: 0.199474) mcs: 20), ((beta: 0.397897) mcs: 20), ((beta: 0.793701) mcs: 20), ((beta: 1.583223) mcs: 20), ((beta: 3.158114) mcs: 20), ((beta: 6.299605) mcs: 20), ((beta: 12.566053) mcs: 20), ((beta: 25.065966) mcs: 20), ((beta: 50.000000) mcs: 20)]\n"
     ]
    }
   ],
   "source": [
    "import cxxjij.utility as U\n",
    "schedule_list = U.make_classical_schedule_list(0.1, 50, 20, 10)\n",
    "print(schedule_list)"
   ]
  },
  {
   "cell_type": "markdown",
   "metadata": {},
   "source": [
    "上の例では$\\beta=0.1$から$\\beta=50$まで、各温度で20モンテカルロステップ計算しながら10段階で温度を変えていくため、計200モンテカルロステップの計算となります。\n",
    "\n",
    "### Algorithm\n",
    "\n",
    "続いて、Algorithmを実行していきます。`Algorithm_[Updater]_run`のように書くことで、指定したUpdaterで計算を行うことができます。次例ではSingleSpinFlipを用います。"
   ]
  },
  {
   "cell_type": "code",
   "execution_count": 34,
   "metadata": {},
   "outputs": [],
   "source": [
    "import cxxjij.algorithm as A\n",
    "A.Algorithm_SingleSpinFlip_run(mysystem, schedule_list)"
   ]
  },
  {
   "cell_type": "markdown",
   "metadata": {},
   "source": [
    "一瞬で処理が終わりましたが、この間に計200モンテカルロステップの計算が終わっています。\n",
    "> `A.Algorithm_SingleSpinFlip_run(mysystem, seed, schedule_list)`とすることで、seedを固定したまま計算を行うことができます。結果に再現性をもたせたい際に使うことができます。"
   ]
  },
  {
   "cell_type": "markdown",
   "metadata": {},
   "source": [
    "callbackを使用することでAlgorithmの実行中に1モンテカルロステップごとのシステムを取得することができます。古典イジング模型の場合は、システムとパラメータ (逆温度)を引数を持つ関数を作成すれば良いです。\n",
    "\n",
    "ためしにシステムのエネルギーの値を記録するcallbackを作ってみましょう"
   ]
  },
  {
   "cell_type": "code",
   "execution_count": 35,
   "metadata": {},
   "outputs": [],
   "source": [
    "energies = []\n",
    "\n",
    "def callback_log_energy(system, beta):\n",
    "    #graphは以前にGraphモジュールにて定義したオブジェクトです\n",
    "    energies.append(graph.calc_energy(system.spin))"
   ]
  },
  {
   "cell_type": "markdown",
   "metadata": {},
   "source": [
    "このcallbackを用いて同じAlgorithmを実行します。"
   ]
  },
  {
   "cell_type": "code",
   "execution_count": 36,
   "metadata": {},
   "outputs": [],
   "source": [
    "#スケジュールをもっと長く取ります (計20000モンテカルロステップ)\n",
    "schedule_list = U.make_classical_schedule_list(0.1, 50, 200, 100)\n",
    "A.Algorithm_SingleSpinFlip_run(mysystem, schedule_list, callback_log_energy)"
   ]
  },
  {
   "cell_type": "markdown",
   "metadata": {},
   "source": [
    "記録したシステムのエネルギーを横軸をモンテカルロステップ、縦軸をエネルギーでプロットすると次のようになります。"
   ]
  },
  {
   "cell_type": "code",
   "execution_count": 37,
   "metadata": {},
   "outputs": [
    {
     "name": "stdout",
     "output_type": "stream",
     "text": [
      "Defaulting to user installation because normal site-packages is not writeable\n",
      "Requirement already satisfied: matplotlib in /usr/lib/python3.8/site-packages (3.2.1)\n",
      "Requirement already satisfied: cycler>=0.10 in /usr/lib/python3.8/site-packages (from matplotlib) (0.10.0)\n",
      "Requirement already satisfied: kiwisolver>=1.0.1 in /usr/lib/python3.8/site-packages (from matplotlib) (1.1.0)\n",
      "Requirement already satisfied: numpy>=1.11 in /usr/lib/python3.8/site-packages (from matplotlib) (1.18.4)\n",
      "Requirement already satisfied: pyparsing!=2.0.4,!=2.1.2,!=2.1.6,>=2.0.1 in /usr/lib/python3.8/site-packages (from matplotlib) (2.4.7)\n",
      "Requirement already satisfied: python-dateutil>=2.1 in /usr/lib/python3.8/site-packages (from matplotlib) (2.8.1)\n",
      "Requirement already satisfied: six in /usr/lib/python3.8/site-packages (from cycler>=0.10->matplotlib) (1.14.0)\n",
      "Requirement already satisfied: setuptools in /usr/lib/python3.8/site-packages (from kiwisolver>=1.0.1->matplotlib) (46.1.3)\n"
     ]
    }
   ],
   "source": [
    "!pip install matplotlib"
   ]
  },
  {
   "cell_type": "code",
   "execution_count": 38,
   "metadata": {},
   "outputs": [
    {
     "data": {
      "image/png": "[encoded data removed]",
      "text/plain": [
       "<Figure size 432x288 with 1 Axes>"
      ]
     },
     "metadata": {
      "needs_background": "light"
     },
     "output_type": "display_data"
    }
   ],
   "source": [
    "%matplotlib inline\n",
    "import matplotlib.pyplot as plt\n",
    "plt.plot(range(len(energies)), energies)\n",
    "plt.xlabel('Monte Carlo step')\n",
    "plt.ylabel('energy')\n",
    "plt.show()"
   ]
  },
  {
   "cell_type": "markdown",
   "metadata": {},
   "source": [
    "このように、アニーリングが進むに連れ徐々にエネルギーが低くなっているのが分かります。Algorithmの動作中にシステムの様子を知りたい時に有用です。\n",
    "\n",
    "## 結果の取得 -Result-\n",
    "\n",
    "`result.get_solution`で計算結果であるスピン列を取得できます。古典イジング模型の場合は直接`mysystem.spin`を参照すればスピン列を取得できますが、`result.get_solution`はそれ以外のシステムについてもスピン列を取得できます。\n",
    "\n",
    "> 上に紹介したように、`mysystem.spin`を直接呼び出してもスピン列を取得できますが、この後紹介する量子イジング模型等の場合には直接スピン列を取り出せる構造になっておらず、結果を読み出すのに自前で関数を作成する必要があります。`result.get_solution`を用いるとそのような関数を自前で作らずに解を読み出すことができます。"
   ]
  },
  {
   "cell_type": "code",
   "execution_count": 39,
   "metadata": {},
   "outputs": [
    {
     "name": "stdout",
     "output_type": "stream",
     "text": [
      "[1, 1, -1, 1, 1, -1, 1, -1, -1, -1, -1, -1, -1, -1, 1, -1, -1, -1, 1, 1, -1, -1, -1, 1, 1, 1, -1, -1, -1, 1, -1, -1, 1, -1, -1, 1, 1, 1, -1, -1, 1, -1, 1, 1, -1, -1, 1, -1, -1, -1, -1, 1, 1, 1, 1, -1, 1, -1, 1, 1, -1, 1, 1, 1, -1, -1, 1, 1, 1, -1, -1, 1, 1, -1, 1, -1, -1, -1, 1, -1, -1, 1, 1, 1, -1, -1, -1, 1, 1, -1, 1, 1, 1, 1, 1, -1, -1, 1, 1, 1]\n"
     ]
    }
   ],
   "source": [
    "import cxxjij.result as R\n",
    "print(R.get_solution(mysystem))"
   ]
  },
  {
   "cell_type": "markdown",
   "metadata": {},
   "source": [
    "このスピン列がアニーリングによって得られた答えなので、ハミルトニアンの基底状態 (に近い状態)であることが期待されます。"
   ]
  },
  {
   "cell_type": "markdown",
   "metadata": {},
   "source": [
    "## C++ core interface\n",
    "\n",
    "C++ core interfaceでも上記とほぼ同じことが可能ですが、多少の違いがあり、\n",
    "\n",
    "- seed値を入れる引数には、乱数生成器 (C++11 random)を代入する必要があります。今までのコードはC++で次のようになります。\n",
    "- Graphクラスで、$J_{ij}, h_i$へのアクセス方法が多少異なります。\n",
    "\n",
    "今までの内容をC++ core interfaceで記述すると次のようになります。"
   ]
  },
  {
   "cell_type": "markdown",
   "metadata": {},
   "source": [
    "```cpp\n",
    "#include <graph/all.hpp>\n",
    "#include <system/all.hpp>\n",
    "#include <updater/all.hpp>\n",
    "#include <algorithm/all.hpp>\n",
    "#include <result/all.hpp>\n",
    "#include <utility/schedule_list.hpp>\n",
    "#include <utility/random.hpp>\n",
    "#include <random>\n",
    "\n",
    "#include <iostream>\n",
    "\n",
    "using namespace openjij;\n",
    "\n",
    "int main(void){\n",
    "\n",
    "    //generate dense graph with size N=100\n",
    "    constexpr std::size_t N = 100;\n",
    "    auto dense = graph::Dense<double>(N);\n",
    "\n",
    "    //generate random engine\n",
    "    auto rand_engine = std::mt19937(0x1234);\n",
    "    //of course you can specify another random generator that is compatible with C++ random generator, say utility::Xorshift,\n",
    "    //auto rand_engine = utility::Xorshift(0x1234);\n",
    "    \n",
    "    //Gaussian distribution\n",
    "    auto gauss = std::normal_distribution<>{0, 1};\n",
    "\n",
    "    //set interactions\n",
    "    for(std::size_t i=0; i<N; i++){\n",
    "        for(std::size_t j=0; j<N; j++){\n",
    "            dense.J(i, j) = (i == j) ? 0 : gauss(rand_engine)/N;\n",
    "        }\n",
    "    }\n",
    "\n",
    "    //set local fields\n",
    "    for(std::size_t i=0; i<N; i++){\n",
    "        dense.h(i) = gauss(rand_engine);\n",
    "    }\n",
    "\n",
    "    //create classical Ising system\n",
    "    auto system = system::make_classical_ising(dense.gen_spin(rand_engine), dense);\n",
    "\n",
    "    //generate schedule list\n",
    "    //from beta=0.1 to beta=50, 20 Monte Carlo step for each tempearature, 10 samples\n",
    "    auto schedule_list = utility::make_classical_schedule_list(0.1, 50, 200, 100);\n",
    "\n",
    "    //or in the case of classical system, you can specify arbitrary schedules by using a std::vector of utility::Schedule<system::classical_system>\n",
    "    //std::vector<utility::Schedule<system::classical_system>> schedule_list;\n",
    "    //utility::Schedule<system::classical_system> schedule;\n",
    "    //schedule.updater_parameter = {0.01};\n",
    "    //schedule.one_mc_step = 10; //number of Monte Carlo step per temperature\n",
    "    //schedule_list.push_back(schedule);\n",
    "    //\n",
    "    //schedule.updater_parameter = {10};\n",
    "    //schedule.one_mc_step = 80; //number of Monte Carlo step per temperature\n",
    "    //schedule_list.push_back(schedule);\n",
    "    //\n",
    "    //schedule.updater_parameter = {0.1};\n",
    "    //schedule.one_mc_step = 30; //number of Monte Carlo step per temperature\n",
    "    //schedule_list.push_back(schedule); //schedule_list -> [(0.01, 10), (10, 80), (0.1, 30)]\n",
    "\n",
    "\n",
    "    //do annealing (updater: SingleSpinFlip)\n",
    "    algorithm::Algorithm<updater::SingleSpinFlip>::run(system, rand_engine, schedule_list);\n",
    "\n",
    "    //show spins\n",
    "    std::cout << \"The result spins are [\";\n",
    "    for(auto&& elem : result::get_solution(system)){\n",
    "        std::cout << elem << \" \";\n",
    "    }\n",
    "\n",
    "    std::cout << \"]\" << std::endl;\n",
    "}\n",
    "\n",
    "```"
   ]
  },
  {
   "cell_type": "code",
   "execution_count": null,
   "metadata": {},
   "outputs": [],
   "source": []
  }
 ],
 "metadata": {
  "kernelspec": {
   "display_name": "Python 3",
   "language": "python",
   "name": "python3"
  },
  "language_info": {
   "codemirror_mode": {
    "name": "ipython",
    "version": 3
   },
   "file_extension": ".py",
   "mimetype": "text/x-python",
   "name": "python",
   "nbconvert_exporter": "python",
   "pygments_lexer": "ipython3",
   "version": "3.8.2"
  }
 },
 "nbformat": 4,
 "nbformat_minor": 4
}
