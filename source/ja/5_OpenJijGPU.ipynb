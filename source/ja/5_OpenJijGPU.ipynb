{
 "cells": [
  {
   "cell_type": "markdown",
   "metadata": {
    "colab_type": "text",
    "id": "tcLyUtUqhkTr"
   },
   "source": [
    "# 5-OpenJij GPU"
   ]
  },
  {
   "cell_type": "markdown",
   "metadata": {
    "colab_type": "text",
    "id": "view-in-github"
   },
   "source": [
    "[![Open in Colab](https://colab.research.google.com/assets/colab-badge.svg)](https://colab.research.google.com/github/OpenJij/OpenJijTutorial/blob/master/source/ja/5_OpenJijGPU.ipynb)"
   ]
  },
  {
   "cell_type": "markdown",
   "metadata": {},
   "source": [
    "このセクションではGPUを用いてSimulated Quantum Annealing(SQA)を行う方法をご紹介します。\n",
    "\n",
    "## Google Colabでの設定とインストール\n",
    "\n",
    "一般のPCにはCUDA環境が整っていない、もしくはCUDAに対応するNVIDIAのGPUが搭載されていないこともあります。しかし**Google colaboratory**を使えば誰でもGPGPUを使うことができます。\n",
    "\n",
    "### GPU設定\n",
    "\n",
    "GPU実行したいJupyter NotebookをGoogle Colabで開きます。  \n",
    "\n",
    "```\n",
    "ランタイム > ランタイムのタイプを変更 > ハードウェアアクセラレータをGPUに選択\n",
    "```\n",
    "\n",
    "この設定を行うことでGPUを用いたJupyter Notebookの実行が可能となります。\n",
    "\n",
    "### OpenJijのインストール\n",
    "\n",
    "Google ColabにプリインストールされているCMakeは古いバージョンです。まずはそれをバージョンアップしましょう。"
   ]
  },
  {
   "cell_type": "code",
   "execution_count": null,
   "metadata": {},
   "outputs": [],
   "source": [
    "!pip install -U cmake"
   ]
  },
  {
   "cell_type": "markdown",
   "metadata": {},
   "source": [
    "その後、OpenJijをインストールします。"
   ]
  },
  {
   "cell_type": "code",
   "execution_count": null,
   "metadata": {},
   "outputs": [],
   "source": [
    "!pip install openjij"
   ]
  },
  {
   "cell_type": "markdown",
   "metadata": {
    "colab_type": "text",
    "id": "JMgqfmZ-h8X3"
   },
   "source": [
    "## GPUSQA計算\n",
    "\n",
    "OpenJijのGPUでサポートしているのはキメラグラフ上でのモンテカルロ計算です。  \n",
    "まずは GPUSQASampler のインスタンスを作ります。"
   ]
  },
  {
   "cell_type": "code",
   "execution_count": null,
   "metadata": {
    "colab": {},
    "colab_type": "code",
    "id": "TYhWp0eqh3Yb"
   },
   "outputs": [],
   "source": [
    "import openjij as oj\n",
    "\n",
    "sampler = oj.GPUSQASampler(num_reads=100, unit_num_L=2)"
   ]
  },
  {
   "cell_type": "markdown",
   "metadata": {
    "colab_type": "text",
    "id": "oOmEWWBxh_3O"
   },
   "source": [
    "ここで `unit_num_L` はキメラユニットセルが並ぶ2次元格子の1辺の長さを指定します。  \n",
    "上の例では 2×2=4つのキメラユニットセルが並んでいる系を作成しています。キメラユニットセルは8bitで1つを構成しているため、総ビット数は\n",
    "  \n",
    "${\\rm total\\_num} = {\\rm unit\\_num\\_L}^2 \\times 8$\n",
    "\n",
    "のように計算されます。"
   ]
  },
  {
   "cell_type": "markdown",
   "metadata": {},
   "source": [
    "GPUSQASamplerでは、のちに sample_qubo などで少ない変数を指定しても、ここで作ったキメラグラフの系のサイズだけSQA計算を行います。  \n",
    "`unit_num_L`は無駄に大きすぎないように注意しましょう。また`unit_num_L`はコンストラクタで指定しなくても、`sample_qubo`を実行するときの引数としても指定できます。"
   ]
  },
  {
   "cell_type": "markdown",
   "metadata": {},
   "source": [
    "## 実行\n",
    "\n",
    "ではSQAを実行してみましょう。これまで紹介してきたSamplerと同様に、sample_qubo (or sample_ising) で計算を行うことができます。\n",
    "ただし、キメラグラフを満たさない添字の相互作用を指定するとエラーになります。"
   ]
  },
  {
   "cell_type": "code",
   "execution_count": null,
   "metadata": {},
   "outputs": [],
   "source": [
    "Q = {(0, 4): -1, (0, 5): -1, (4, 12): 1}\n",
    "response = sampler.sample_qubo(Q)\n",
    "response"
   ]
  },
  {
   "cell_type": "markdown",
   "metadata": {},
   "source": [
    "## 全結合模型のキメラグラフへの埋め込み\n",
    "\n",
    "これまで説明したものは、相互作用がキメラグラフ上に存在するもののみの計算でした。以下では全結合の問題のように、相互作用が複雑なものをキメラグラフに埋め込む場合のスクリプトをご紹介します。  \n",
    "キメラグラフへの埋め込みを行うために、`dwave`の`EmbeddingComposite`を併用しましょう。以下のようにスクリプトを作成します。"
   ]
  },
  {
   "cell_type": "code",
   "execution_count": null,
   "metadata": {},
   "outputs": [],
   "source": [
    "from dwave.system.composites import EmbeddingComposite\n",
    "\n",
    "gpusqa = oj.GPUSQASampler(num_reads=100, unit_num_L=2)\n",
    "sampler = EmbeddingComposite(gpusqa)"
   ]
  }
 ],
 "metadata": {
  "accelerator": "GPU",
  "colab": {
   "include_colab_link": true,
   "name": "5-OpenJijGPU.ipynb",
   "provenance": [],
   "version": "0.3.2"
  },
  "kernelspec": {
   "display_name": "Python 3",
   "language": "python",
   "name": "python3"
  },
  "language_info": {
   "codemirror_mode": {
    "name": "ipython",
    "version": 3
   },
   "file_extension": ".py",
   "mimetype": "text/x-python",
   "name": "python",
   "nbconvert_exporter": "python",
   "pygments_lexer": "ipython3",
   "version": "3.7.4"
  }
 },
 "nbformat": 4,
 "nbformat_minor": 1
}
