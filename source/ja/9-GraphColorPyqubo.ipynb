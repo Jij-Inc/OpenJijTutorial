{
 "cells": [
  {
   "cell_type": "markdown",
   "metadata": {},
   "source": [
    "## 9-Solving Graph Coloring Problem with PyQUBO\n",
    "この節では、[Ising formulations of many NP problems](https://arxiv.org/pdf/1302.5843v3.pdf) から6.1. Graph ColoringをPyQUBOを用いて解きます。"
   ]
  },
  {
   "cell_type": "markdown",
   "metadata": {},
   "source": [
    "### グラフ彩色問題\n",
    "グラフ彩色問題は以下のような状況の最適解を求める問題であり、NP完全問題の一つです。まずは具体的な問から考えてみましょう。"
   ]
  },
  {
   "cell_type": "markdown",
   "metadata": {},
   "source": [
    "### 具体例\n",
    "分かりやすくするために具体的に以下のような問を考えます。\n",
    "> 10個のノードと20本の枝を持つ無効グラフが与えられたとします。枝で繋がれたノード同士は異なる色となるようにノードを色分けする時、3色で全てのノードを塗ることは可能であるか考えます。\n",
    "> グラフは下のようになっているとします。"
   ]
  },
  {
   "cell_type": "markdown",
   "metadata": {},
   "source": [
    "<div>\n",
    "    <img src=\"images/graph_color.png\">\n",
    "</div>"
   ]
  },
  {
   "cell_type": "markdown",
   "metadata": {},
   "source": [
    "> 塗り分けた後のグラフは下のようになります。\n",
    "> このグラフから全てのノードは3色で塗り分けることができると分かります。"
   ]
  },
  {
   "cell_type": "markdown",
   "metadata": {},
   "source": [
    "<div>\n",
    "    <img src=\"images/graph_color_res.png\">\n",
    "</div>"
   ]
  },
  {
   "cell_type": "markdown",
   "metadata": {},
   "source": [
    "### 問題の一般化\n",
    "無効グラフ$G=(V,E)$が与えられるとします。辺で結ばれたノードの色が重複しないように全てのノードを$n$色で塗り分けることができるか考えます。\n",
    "\n",
    "全てのノードが$v$をindexとして持つとします。\n",
    "\n",
    "\n",
    "ノードの色分けはバイナリ変数$x$で表すことにしましょう。$x_{v,i}$はノード$v$が色$i$で塗られている時に1,その他の状態では0をとります。"
   ]
  },
  {
   "cell_type": "markdown",
   "metadata": {},
   "source": [
    "## QUBO行列への変換\n",
    "ハミルトニアンは以下のように定めることができます。\n",
    "\n",
    "$$H = A\\sum_{v=1}^V\\left(1-\\sum_{i=1}^n x_{v,i}\\right)^2\n",
    "+ A\\sum_{(uv)\\in E}\\sum_{i=1}^nx_{u,i}x_{v,i}$$\n",
    "\n",
    "第一項はそれぞれのノードは必ず一色に塗られるという制約です。第二項は辺で繋がれたノードの色は異なるという制約です。これらが破られる度に$H$は増加します。\n",
    "\n",
    "$H=0$となる状態が見つかった時、グラフ$G$は$n$色で塗ることが可能だと分かります。\n",
    "\n",
    "また、$x_{v,i}$でどのiの時$x_{v,i}=1$となるか調べることでノード$v$の色を調べることができます。"
   ]
  },
  {
   "cell_type": "markdown",
   "metadata": {},
   "source": [
    "## PyQUBOへの実装\n",
    "### QUBO行列の生成\n",
    "上記の例で示したグラフの彩色問題を実際にQUBO行列にしてPyQUBOを用いて解いてみます。\n",
    "まず、グラフの頂点数、塗り分けるのに使う色の数、辺を定義します。"
   ]
  },
  {
   "cell_type": "code",
   "execution_count": 39,
   "metadata": {},
   "outputs": [],
   "source": [
    "#頂点数\n",
    "N_VER = 10\n",
    "#色の数\n",
    "N_COLOR = 4\n",
    "#辺の数\n",
    "N_EDGE = 20\n",
    "#辺のリスト\n",
    "graph = [(7, 5), (1, 6), (9, 0), (8, 9), (1, 2), (0, 6), (3, 4), (8, 2), (7, 1), (1, 5), (7, 0), (2, 4), (9, 3), (2, 0), (0, 1)]"
   ]
  },
  {
   "cell_type": "markdown",
   "metadata": {},
   "source": [
    "次にバイナリ変数xを定義します。"
   ]
  },
  {
   "cell_type": "code",
   "execution_count": 40,
   "metadata": {},
   "outputs": [],
   "source": [
    "#PYQUBOをimportします\n",
    "from pyqubo import Array\n",
    "#QUBOを表現する変数(頂点数×色の数)\n",
    "x = Array.create('x', shape=(N_VER,N_COLOR), vartype='BINARY')"
   ]
  },
  {
   "cell_type": "markdown",
   "metadata": {},
   "source": [
    "この変数を用いてハミルトニアンを定義します。"
   ]
  },
  {
   "cell_type": "code",
   "execution_count": 41,
   "metadata": {},
   "outputs": [],
   "source": [
    "from pyqubo import Constraint\n",
    "# ハミルトニアンの第一項 (各頂点に1色だけ塗る)\n",
    "H_A = Constraint(sum((1-sum(x[v,i] for i in range(1,N_COLOR)))**2 for v in range(N_VER)), label='HA')\n",
    "# ハミルトニアンの第二項 (辺で結ばれた頂点が同じ色で塗られていないか)\n",
    "H_B = sum(sum(x[u,i] * x[v,i] for i in range (1,N_COLOR)) for u,v in graph)\n",
    "# ハミルトニアン全体を定義します\n",
    "Q = H_A+H_B"
   ]
  },
  {
   "cell_type": "markdown",
   "metadata": {},
   "source": [
    "### 実行結果\n",
    "\n",
    "ハミルトニアンをコンパイルしてto_qubo()でQUBOに変換します。\n",
    "quboにはPythonの辞書型で格納されたQUBOが、そしてoffsetにはQUBO化した際に現れる定数(無視してよい)が代入されます。\n",
    "\n",
    "では、これをSimulated Annealingのソルバーで解いて結果を見てみましょう。"
   ]
  },
  {
   "cell_type": "code",
   "execution_count": 85,
   "metadata": {},
   "outputs": [
    {
     "name": "stdout",
     "output_type": "stream",
     "text": [
      "[Result]\n",
      "\n",
      "{0: {1: 1, 2: 0, 3: 0}, 1: {1: 0, 2: 1, 3: 0}, 2: {1: 0, 2: 0, 3: 1}, 3: {1: 0, 2: 0, 3: 1}, 4: {1: 1, 2: 0, 3: 0}, 5: {1: 1, 2: 0, 3: 0}, 6: {1: 0, 2: 0, 3: 1}, 7: {1: 0, 2: 0, 3: 1}, 8: {1: 1, 2: 0, 3: 0}, 9: {1: 0, 2: 1, 3: 0}}\n",
      "\n",
      "broken\n",
      "{}\n",
      "\n",
      "['plum', 'skyblue', 'yellowgreen', 'yellowgreen', 'plum', 'plum', 'yellowgreen', 'yellowgreen', 'plum', 'skyblue']\n"
     ]
    },
    {
     "data": {
      "image/png": "[encoded data removed]",
      "text/plain": [
       "<Figure size 432x288 with 1 Axes>"
      ]
     },
     "metadata": {},
     "output_type": "display_data"
    }
   ],
   "source": [
    "model = Q.compile()\n",
    "qubo, offset = model.to_qubo()\n",
    "from pyqubo import solve_qubo\n",
    "\n",
    "# PyQUBOに備わっているSAを使います\n",
    "raw_solution = solve_qubo(qubo)\n",
    "decoded_solution, broken, energy = model.decode_solution(raw_solution, vartype=\"BINARY\")\n",
    "\n",
    "#結果の表示\n",
    "print(\"[Result]\")\n",
    "print()\n",
    "print(decoded_solution['x'])\n",
    "print()\n",
    "\n",
    "#制約を守れているか見ます\n",
    "print(\"broken\")\n",
    "print(broken)\n",
    "print()\n",
    "\n",
    "#グラフを表示します\n",
    "import networkx as nx\n",
    "\n",
    "G = nx.Graph()\n",
    "G.add_nodes_from([str(i) for i in range(1,11)])\n",
    "graph2 =[(str(a+1),str(b+1)) for a,b in graph]\n",
    "G.add_edges_from(graph2)\n",
    "cl=[\"plum\",\"skyblue\",\"yellowgreen\"]\n",
    "colors = []\n",
    "for i in range(0,N_VER):\n",
    "    for j in range(1,N_COLOR):\n",
    "        if decoded_solution['x'][i][j]==1:\n",
    "            colors.append(cl[j-1])\n",
    "print(colors)\n",
    "nx.draw(G, with_labels=True, font_weight='bold',node_color = colors)"
   ]
  },
  {
   "cell_type": "markdown",
   "metadata": {},
   "source": [
    "## OpenJijに投げる\n",
    "次にOpenJijのSAで解いてみましょう"
   ]
  },
  {
   "cell_type": "code",
   "execution_count": 82,
   "metadata": {},
   "outputs": [
    {
     "data": {
      "text/plain": [
       "{0: {1: 0, 2: 1, 3: 0},\n",
       " 1: {1: 0, 2: 0, 3: 1},\n",
       " 2: {1: 1, 2: 0, 3: 0},\n",
       " 3: {1: 0, 2: 0, 3: 1},\n",
       " 4: {1: 0, 2: 1, 3: 0},\n",
       " 5: {1: 0, 2: 1, 3: 0},\n",
       " 6: {1: 1, 2: 0, 3: 0},\n",
       " 7: {1: 1, 2: 0, 3: 0},\n",
       " 8: {1: 0, 2: 1, 3: 0},\n",
       " 9: {1: 1, 2: 0, 3: 0}}"
      ]
     },
     "execution_count": 82,
     "metadata": {},
     "output_type": "execute_result"
    }
   ],
   "source": [
    "# OpenJijのインポートをします\n",
    "import openjij as oj\n",
    "# SQAを使います。\n",
    "sampler = oj.SASampler()\n",
    "# PYQUBOで使ったquboを使います。\n",
    "response = sampler.sample_qubo(Q=qubo)\n",
    "# エネルギーが一番低い状態を取り出します。\n",
    "dict_solution = response.first.sample\n",
    "# デコードします。\n",
    "decoded_solution, broken, energy = model.decode_solution(dict_solution, vartype=\"BINARY\")\n",
    "# 辞書型をsortして見やすくする処理を追加します。\n",
    "x_solution = dict(sorted(decoded_solution['x'].items()))\n",
    "{key:dict(sorted(value.items())) for key, value in x_solution.items()}"
   ]
  },
  {
   "cell_type": "markdown",
   "metadata": {},
   "source": [
    "グラフがどのように色が塗られるか見てみましょう。"
   ]
  },
  {
   "cell_type": "code",
   "execution_count": 83,
   "metadata": {},
   "outputs": [
    {
     "name": "stdout",
     "output_type": "stream",
     "text": [
      "broken\n",
      "{}\n",
      "\n",
      "['skyblue', 'yellowgreen', 'plum', 'yellowgreen', 'skyblue', 'skyblue', 'plum', 'plum', 'skyblue', 'plum']\n"
     ]
    },
    {
     "data": {
      "image/png": "[encoded data removed]",
      "text/plain": [
       "<Figure size 432x288 with 1 Axes>"
      ]
     },
     "metadata": {},
     "output_type": "display_data"
    }
   ],
   "source": [
    "print(\"broken\")\n",
    "print(broken)\n",
    "print()\n",
    "cl=[\"plum\",\"skyblue\",\"yellowgreen\"]\n",
    "colors = []\n",
    "for i in range(0,N_VER):\n",
    "    for j in range(1,N_COLOR):\n",
    "        if decoded_solution['x'][i][j]==1:\n",
    "            colors.append(cl[j-1])\n",
    "print(colors)\n",
    "nx.draw(G, with_labels=True, font_weight='bold',node_color = colors)"
   ]
  },
  {
   "cell_type": "markdown",
   "metadata": {},
   "source": [
    "結果を見ると制約を満たしつつ全てのノードを3色で塗り分けられていると分かります。"
   ]
  }
 ],
 "metadata": {
  "kernelspec": {
   "display_name": "Python 3",
   "language": "python",
   "name": "python3"
  },
  "language_info": {
   "codemirror_mode": {
    "name": "ipython",
    "version": 3
   },
   "file_extension": ".py",
   "mimetype": "text/x-python",
   "name": "python",
   "nbconvert_exporter": "python",
   "pygments_lexer": "ipython3",
   "version": "3.7.4"
  }
 },
 "nbformat": 4,
 "nbformat_minor": 4
}
