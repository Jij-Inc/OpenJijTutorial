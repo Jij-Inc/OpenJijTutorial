{
 "cells": [
  {
   "cell_type": "markdown",
   "metadata": {},
   "source": [
    "# 7-MonteCarlo Sampling"
   ]
  },
  {
   "cell_type": "markdown",
   "metadata": {
    "colab_type": "text",
    "id": "view-in-github"
   },
   "source": [
    "[![Open in Colab](https://colab.research.google.com/assets/colab-badge.svg)](https://colab.research.google.com/github/OpenJij/OpenJijTutorial/blob/master/source/ja/7-MonteCarloSampling.ipynb)"
   ]
  },
  {
   "cell_type": "markdown",
   "metadata": {},
   "source": [
    "OpenJij は Simulated annealing を実行しますが、温度を一定に保てば、その温度でのボルツマン分布\n",
    "\n",
    "$$\n",
    "p(\\{\\sigma\\}) = \\frac{\\exp(-\\beta E(\\{\\sigma\\}))}{Z},~Z = \\sum_{\\{\\sigma\\}}\\exp(-\\beta E(\\{\\sigma\\}))\n",
    "$$\n",
    "\n",
    "からスピン配列をサンプルすることができます。\n",
    "\n",
    "以下では全結合の強磁性イジングモデル\n",
    "\n",
    "$$\n",
    "E(\\{\\sigma\\}) = \\frac{J}{N}\\sum_{i<j}\\sigma_i \\sigma_j (J < 0)\n",
    "$$\n",
    "\n",
    "を取り扱ってみます。項をシステムサイズの$N$で割っているのはハミルトニアンを$N$と同じ程度の大きさに規格化するためです。$J$はここでは-1としています。\n"
   ]
  },
  {
   "cell_type": "code",
   "execution_count": 1,
   "metadata": {},
   "outputs": [],
   "source": [
    "import openjij as oj\n",
    "import numpy as np\n",
    "sampler = oj.SASampler(num_reads=100)\n",
    "\n",
    "def fully_connected(n):\n",
    "    h, J = {}, {}\n",
    "    for i in range(n-1):\n",
    "        for j in range(i+1, n):\n",
    "            J[i, j] = -1/n\n",
    "    return h, J\n",
    "\n",
    "h, J = fully_connected(n=500)"
   ]
  },
  {
   "cell_type": "markdown",
   "metadata": {},
   "source": [
    "各温度での磁化\n",
    "\n",
    "$$ m = \\frac{1}{N}\\sum_{i}\\sigma_i$$\n",
    "\n",
    "を計算してみましょう。1に近いほどスピンが揃っている状態 (強磁性)、0に近いほどスピンがばらばらな状態 (常磁性)を表しています。\n",
    "温度を一定にしてOpenJijを回してみると、温度が1.0付近で磁化の値が0に近づいていくのが分かります。温度を上げるとスピンがばらばらになりやすいためです。"
   ]
  },
  {
   "cell_type": "code",
   "execution_count": 3,
   "metadata": {},
   "outputs": [
    {
     "name": "stdout",
     "output_type": "stream",
     "text": [
      "temperature = 0.01...\n",
      "temperature = 0.07862068965517241...\n",
      "temperature = 0.14724137931034484...\n",
      "temperature = 0.21586206896551724...\n",
      "temperature = 0.28448275862068967...\n",
      "temperature = 0.3531034482758621...\n",
      "temperature = 0.42172413793103447...\n",
      "temperature = 0.4903448275862069...\n",
      "temperature = 0.5589655172413793...\n",
      "temperature = 0.6275862068965518...\n",
      "temperature = 0.6962068965517242...\n",
      "temperature = 0.7648275862068966...\n",
      "temperature = 0.8334482758620689...\n",
      "temperature = 0.9020689655172414...\n",
      "temperature = 0.9706896551724138...\n",
      "temperature = 1.0393103448275862...\n",
      "temperature = 1.1079310344827586...\n",
      "temperature = 1.176551724137931...\n",
      "temperature = 1.2451724137931035...\n",
      "temperature = 1.313793103448276...\n",
      "temperature = 1.3824137931034484...\n",
      "temperature = 1.4510344827586208...\n",
      "temperature = 1.5196551724137932...\n",
      "temperature = 1.5882758620689656...\n",
      "temperature = 1.6568965517241379...\n",
      "temperature = 1.7255172413793103...\n",
      "temperature = 1.7941379310344827...\n",
      "temperature = 1.8627586206896551...\n",
      "temperature = 1.9313793103448276...\n",
      "temperature = 2.0...\n",
      "simulation completed.\n"
     ]
    }
   ],
   "source": [
    "temp_list = np.linspace(0.01, 2, 30)\n",
    "\n",
    "mag, mag_std = [], []\n",
    "for temp in temp_list:\n",
    "    print(\"temperature = {}...\".format(temp))\n",
    "    beta = 1.0/temp\n",
    "    schedule = [[beta, 100]]\n",
    "    response = sampler.sample_ising(h, J, schedule=schedule)\n",
    "    mag_list = [np.abs(np.mean(state)) for state in response.states]\n",
    "    mag_std.append(np.std(mag_list))\n",
    "    mag.append(np.mean(mag_list))\n",
    "\n",
    "print(\"simulation completed.\")"
   ]
  },
  {
   "cell_type": "code",
   "execution_count": 4,
   "metadata": {},
   "outputs": [
    {
     "data": {
      "image/png": "[encoded data removed]",
      "text/plain": [
       "<Figure size 432x288 with 1 Axes>"
      ]
     },
     "metadata": {
      "needs_background": "light"
     },
     "output_type": "display_data"
    }
   ],
   "source": [
    "import matplotlib.pyplot as plt\n",
    "\n",
    "plt.errorbar(temp_list, mag, yerr=mag_std)\n",
    "plt.plot(temp_list, mag)\n",
    "plt.xlabel('temperature', fontsize=15)\n",
    "plt.ylabel(r'$|m|$', fontsize=15)\n",
    "plt.show()"
   ]
  },
  {
   "cell_type": "markdown",
   "metadata": {},
   "source": [
    "ある温度を境に値が大きく変わるこのような現象は**相転移**とよばれる現象で、今回の模型では(システムのサイズを無限に近づけると)温度が1.0のときに相転移がおきることが理論的に証明されています。\n",
    "\n",
    "ただ、実際のモデルではどの程度の温度で相転移が起きるか理論的に計算できない場合が多々あるため、モンテカルロシミュレーションを用いて相転移に関する性質を数値的に研究する手法が多く取られています。"
   ]
  },
  {
   "cell_type": "markdown",
   "metadata": {},
   "source": [
    "## Binder cumulant\n",
    "\n",
    "それでは、仮に相転移する温度を事前に知らなかったとして、数値計算から(できるだけ正確に)相転移する温度を求めてみましょう。\n",
    "\n",
    "上の図をみただけでは、確かに磁化が温度が上がるにつれて0に近づいてはいますがどの温度が相転移点なのかまでははっきりしません。これは、相転移現象が理論的にはサイズが無限大のシステムで起こる現象であり、シミュレーションでは**有限サイズ**しか扱えないことにより理論との誤差が出てくるためです。これを**有限サイズ効果**と呼びます。\n",
    "\n",
    "サイズが無限大のシステムの解析を数値的に行うのは一見無理そうに見えますが、統計力学の数値計算分野において、有限のシステムサイズからサイズが無限大のシステムの情報を得る手法が開発されてきました。\n",
    "\n",
    "そのうちの一つが、**Binder cumulant**という量を使う方法です。\n",
    "\n",
    "$$U_4 = \\frac{1}{2}\\left(3 - \\frac{\\langle m^4\\rangle}{\\langle m^2\\rangle^2}\\right)$$"
   ]
  },
  {
   "cell_type": "code",
   "execution_count": 27,
   "metadata": {},
   "outputs": [],
   "source": [
    "def u_4(states):\n",
    "    m = np.array([np.mean(state) for state in states])\n",
    "    return 0.5*(3 - np.mean(m**4)/(np.mean(m**2)**2))"
   ]
  },
  {
   "cell_type": "markdown",
   "metadata": {},
   "source": [
    "詳細は省きますが、この量は強磁性(磁化が1に近づく)では1に近づき、常磁性 (磁化が0に近づく)では0に近づくことが示せ、さらに相転移点ではシステムのサイズによらない値を取ることが知られています。そのため、いくつかのシステムサイズで上で行ったような実験をし、$U_4$が1点で交わる箇所が相転移点であると言えます。実際にやってみましょう。"
   ]
  },
  {
   "cell_type": "code",
   "execution_count": 28,
   "metadata": {},
   "outputs": [
    {
     "name": "stdout",
     "output_type": "stream",
     "text": [
      "system size: 40, temperature: 0.5...\n",
      "system size: 40, temperature: 0.5344827586206896...\n",
      "system size: 40, temperature: 0.5689655172413793...\n",
      "system size: 40, temperature: 0.603448275862069...\n",
      "system size: 40, temperature: 0.6379310344827587...\n",
      "system size: 40, temperature: 0.6724137931034483...\n",
      "system size: 40, temperature: 0.7068965517241379...\n",
      "system size: 40, temperature: 0.7413793103448276...\n",
      "system size: 40, temperature: 0.7758620689655172...\n",
      "system size: 40, temperature: 0.8103448275862069...\n",
      "system size: 40, temperature: 0.8448275862068966...\n",
      "system size: 40, temperature: 0.8793103448275862...\n",
      "system size: 40, temperature: 0.9137931034482758...\n",
      "system size: 40, temperature: 0.9482758620689655...\n",
      "system size: 40, temperature: 0.9827586206896551...\n",
      "system size: 40, temperature: 1.0172413793103448...\n",
      "system size: 40, temperature: 1.0517241379310345...\n",
      "system size: 40, temperature: 1.0862068965517242...\n",
      "system size: 40, temperature: 1.1206896551724137...\n",
      "system size: 40, temperature: 1.1551724137931034...\n",
      "system size: 40, temperature: 1.1896551724137931...\n",
      "system size: 40, temperature: 1.2241379310344827...\n",
      "system size: 40, temperature: 1.2586206896551724...\n",
      "system size: 40, temperature: 1.293103448275862...\n",
      "system size: 40, temperature: 1.3275862068965516...\n",
      "system size: 40, temperature: 1.3620689655172413...\n",
      "system size: 40, temperature: 1.396551724137931...\n",
      "system size: 40, temperature: 1.4310344827586206...\n",
      "system size: 40, temperature: 1.4655172413793103...\n",
      "system size: 40, temperature: 1.5...\n",
      "system size: 80, temperature: 0.5...\n",
      "system size: 80, temperature: 0.5344827586206896...\n",
      "system size: 80, temperature: 0.5689655172413793...\n",
      "system size: 80, temperature: 0.603448275862069...\n",
      "system size: 80, temperature: 0.6379310344827587...\n",
      "system size: 80, temperature: 0.6724137931034483...\n",
      "system size: 80, temperature: 0.7068965517241379...\n",
      "system size: 80, temperature: 0.7413793103448276...\n",
      "system size: 80, temperature: 0.7758620689655172...\n",
      "system size: 80, temperature: 0.8103448275862069...\n",
      "system size: 80, temperature: 0.8448275862068966...\n",
      "system size: 80, temperature: 0.8793103448275862...\n",
      "system size: 80, temperature: 0.9137931034482758...\n",
      "system size: 80, temperature: 0.9482758620689655...\n",
      "system size: 80, temperature: 0.9827586206896551...\n",
      "system size: 80, temperature: 1.0172413793103448...\n",
      "system size: 80, temperature: 1.0517241379310345...\n",
      "system size: 80, temperature: 1.0862068965517242...\n",
      "system size: 80, temperature: 1.1206896551724137...\n",
      "system size: 80, temperature: 1.1551724137931034...\n",
      "system size: 80, temperature: 1.1896551724137931...\n",
      "system size: 80, temperature: 1.2241379310344827...\n",
      "system size: 80, temperature: 1.2586206896551724...\n",
      "system size: 80, temperature: 1.293103448275862...\n",
      "system size: 80, temperature: 1.3275862068965516...\n",
      "system size: 80, temperature: 1.3620689655172413...\n",
      "system size: 80, temperature: 1.396551724137931...\n",
      "system size: 80, temperature: 1.4310344827586206...\n",
      "system size: 80, temperature: 1.4655172413793103...\n",
      "system size: 80, temperature: 1.5...\n",
      "system size: 120, temperature: 0.5...\n",
      "system size: 120, temperature: 0.5344827586206896...\n",
      "system size: 120, temperature: 0.5689655172413793...\n",
      "system size: 120, temperature: 0.603448275862069...\n",
      "system size: 120, temperature: 0.6379310344827587...\n",
      "system size: 120, temperature: 0.6724137931034483...\n",
      "system size: 120, temperature: 0.7068965517241379...\n",
      "system size: 120, temperature: 0.7413793103448276...\n",
      "system size: 120, temperature: 0.7758620689655172...\n",
      "system size: 120, temperature: 0.8103448275862069...\n",
      "system size: 120, temperature: 0.8448275862068966...\n",
      "system size: 120, temperature: 0.8793103448275862...\n",
      "system size: 120, temperature: 0.9137931034482758...\n",
      "system size: 120, temperature: 0.9482758620689655...\n",
      "system size: 120, temperature: 0.9827586206896551...\n",
      "system size: 120, temperature: 1.0172413793103448...\n",
      "system size: 120, temperature: 1.0517241379310345...\n",
      "system size: 120, temperature: 1.0862068965517242...\n",
      "system size: 120, temperature: 1.1206896551724137...\n",
      "system size: 120, temperature: 1.1551724137931034...\n",
      "system size: 120, temperature: 1.1896551724137931...\n",
      "system size: 120, temperature: 1.2241379310344827...\n",
      "system size: 120, temperature: 1.2586206896551724...\n",
      "system size: 120, temperature: 1.293103448275862...\n",
      "system size: 120, temperature: 1.3275862068965516...\n",
      "system size: 120, temperature: 1.3620689655172413...\n",
      "system size: 120, temperature: 1.396551724137931...\n",
      "system size: 120, temperature: 1.4310344827586206...\n",
      "system size: 120, temperature: 1.4655172413793103...\n",
      "system size: 120, temperature: 1.5...\n",
      "simulation completed.\n"
     ]
    }
   ],
   "source": [
    "n_list = [40, 80, 120]\n",
    "temp_list = np.linspace(0.5, 1.5, 30)\n",
    "\n",
    "sampler = oj.SASampler(num_reads=300)\n",
    "\n",
    "u4_list_n = []\n",
    "for n in n_list:\n",
    "    # make instance\n",
    "    h, J = fully_connected(n)\n",
    "    u4_temp = []\n",
    "    for temp in temp_list:\n",
    "        print(\"system size: {}, temperature: {}...\".format(n, temp))\n",
    "        beta = 1.0/temp\n",
    "        schedule = [[beta, 100 if temp < 0.9 else 300]]\n",
    "    \n",
    "        response = sampler.sample_ising(h, J, \n",
    "                                        schedule=schedule, reinitialize_state=False,\n",
    "                                        num_reads=1000\n",
    "                                       )\n",
    "        u4_temp.append(u_4(response.states))\n",
    "    u4_list_n.append(u4_temp)\n",
    "\n",
    "print(\"simulation completed.\")"
   ]
  },
  {
   "cell_type": "code",
   "execution_count": 29,
   "metadata": {},
   "outputs": [
    {
     "data": {
      "image/png": "[encoded data removed]",
      "text/plain": [
       "<Figure size 432x288 with 1 Axes>"
      ]
     },
     "metadata": {
      "needs_background": "light"
     },
     "output_type": "display_data"
    }
   ],
   "source": [
    "import matplotlib.pyplot as plt\n",
    "\n",
    "for n,u4_beta in zip(n_list,u4_list_n):\n",
    "    plt.plot(temp_list, np.array(u4_beta), label='n={}'.format(n))\n",
    "\n",
    "plt.legend()\n",
    "plt.ylabel('$U_4$', fontsize=15)\n",
    "plt.xlabel('temperature', fontsize=15)\n",
    "plt.show()"
   ]
  },
  {
   "cell_type": "markdown",
   "metadata": {},
   "source": [
    "統計を十分に取っていないためデータにばらつきがありますが、おおよそ相転移点である温度が1付近で3つのシステムサイズのデータが1点で交わっていることが分かります。\n",
    "\n",
    "Binder cumulantによる相転移点の推定は数値解析の最前線の研究でもよく用いられる手法です。\n",
    "\n",
    "> 当然、学術的な研究をするためには、十分な統計を取るのはもちろん、誤差評価 (エラーバーの計算)なども真面目に行う必要があります。今回の計算は概要の説明だけにとどめてあるため、きっちりとした誤差評価等は省いてあります。"
   ]
  },
  {
   "cell_type": "code",
   "execution_count": null,
   "metadata": {},
   "outputs": [],
   "source": []
  }
 ],
 "metadata": {
  "kernelspec": {
   "display_name": "Python 3",
   "language": "python",
   "name": "python3"
  },
  "language_info": {
   "codemirror_mode": {
    "name": "ipython",
    "version": 3
   },
   "file_extension": ".py",
   "mimetype": "text/x-python",
   "name": "python",
   "nbconvert_exporter": "python",
   "pygments_lexer": "ipython3",
   "version": "3.8.2"
  }
 },
 "nbformat": 4,
 "nbformat_minor": 4
}
