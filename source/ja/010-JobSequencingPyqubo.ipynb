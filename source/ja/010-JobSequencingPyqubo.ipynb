{
    "cells": [
        {
            "cell_type": "markdown",
            "metadata": {},
            "source": [
                "# 10-Solving Job Sequencing Problem with PyQUBO\n",
                "\u3053\u306e\u7bc0\u3067\u306f\u3001[Ising formulations of many NP problems](https://arxiv.org/pdf/1302.5843v3.pdf) \u304b\u30896.3. Job Eequencing with Integer Lengths\u3092PyQUBO\u3092\u7528\u3044\u3066\u89e3\u304d\u307e\u3059\u3002"
            ]
        },
        {
            "cell_type": "markdown",
            "metadata": {
                "colab_type": "text",
                "id": "view-in-github"
            },
            "source": [
                "[![Open in Colab](https://colab.research.google.com/assets/colab-badge.svg)](https://colab.research.google.com/github/OpenJij/OpenJijTutorial/blob/master/source/ja/010-JobSequencingPyqubo.ipynb)"
            ]
        },
        {
            "cell_type": "markdown",
            "metadata": {},
            "source": [
                "### \u6574\u6570\u9577\u30b8\u30e7\u30d6\u30b9\u30b1\u30b8\u30e5\u30fc\u30ea\u30f3\u30b0\u554f\u984c\n",
                "\u6574\u6570\u9577\u30b8\u30e7\u30d6\u30b9\u30b1\u30b8\u30e5\u30fc\u30ea\u30f3\u30b0\u554f\u984c\u306f\u4ee5\u4e0b\u306e\u3088\u3046\u306a\u72b6\u6cc1\u306e\u6700\u9069\u89e3\u3092\u6c42\u3081\u308b\u554f\u984c\u3067\u3042\u308a\u3001NP\u56f0\u96e3\u306a\u554f\u984c\u306e\u4e00\u3064\u3067\u3059\u3002\u307e\u305a\u306f\u5177\u4f53\u7684\u306a\u554f\u304b\u3089\u8003\u3048\u3066\u307f\u307e\u3057\u3087\u3046\u3002"
            ]
        },
        {
            "cell_type": "markdown",
            "metadata": {},
            "source": [
                "### \u5177\u4f53\u4f8b\n",
                "\u5206\u304b\u308a\u3084\u3059\u304f\u3059\u308b\u305f\u3081\u306b\u5177\u4f53\u7684\u306b\u4ee5\u4e0b\u306e\u3088\u3046\u306a\u554f\u3092\u8003\u3048\u307e\u3059\u3002\n",
                "> 10\u500b\u306e\u4ed5\u4e8b\u30683\u500b\u306e\u30b3\u30f3\u30d4\u30e5\u30fc\u30bf\u304c\u3042\u308a\u307e\u3059\u300210\u500b\u306e\u4ed5\u4e8b\u306e\u9577\u3055\u306f$1,2,\\cdots,10$\u3067\u3059\u3002\n",
                "> \u3069\u306e\u3088\u3046\u306b\u30b3\u30f3\u30d4\u30e5\u30fc\u30bf\u306b\u4ed5\u4e8b\u3092\u5272\u308a\u632f\u308c\u3070\u4ed5\u4e8b\u306b\u304b\u304b\u308b\u6642\u9593\u306e\u6700\u5927\u5024$\\max M_\\alpha$\u3092\u6700\u5c0f\u5316\u3067\u304d\u308b\u304b\u8003\u3048\u307e\u3059\u3002\n",
                "> \u4f8b\u3048\u3070\u3001$V_1=\\{9,10\\},V_2=\\{1,2,7,8\\},V_3=\\{3,4,5,6\\}$\u3068\u3059\u308b\u3068$\\max(M_1,M_2,M_3)=19$\u3068\u306a\u3063\u3066\u554f\u306e\u6700\u9069\u89e3\u3068\u306a\u308a\u307e\u3059\u3002"
            ]
        },
        {
            "cell_type": "markdown",
            "metadata": {},
            "source": [
                "<div>\n",
                "    <img src=\"images/job_sequence.png\">\n",
                "</div>"
            ]
        },
        {
            "cell_type": "markdown",
            "metadata": {},
            "source": [
                "### \u554f\u984c\u306e\u4e00\u822c\u5316\n",
                "\u307e\u305a\u3001N\u500b\u306e\u4ed5\u4e8b$\\{1,2,\\dots ,N \\}$\u3068m\u500b\u306e\u30b3\u30f3\u30d4\u30e5\u30fc\u30bf\u304c\u3042\u308b\u3068\u3057\u307e\u3059\u3002\u5404\u4ed5\u4e8b\u304c$\\alpha$\u3092index\u3068\u3057\u3066\u6301\u3063\u3066\u3044\u308b\u3082\u306e\u3068\u8003\u3048\u307e\u3059\u3002\n",
                "\u4ed5\u4e8b\u306b\u304b\u304b\u308b\u6642\u9593\u306e\u30ea\u30b9\u30c8$L$\u3092\u4f5c\u308a\u307e\u3059\u3002\n",
                "\n",
                "$$L=\\{L_1,L_2,\\dots L_N\\}$$\n",
                "\n",
                "\u30b3\u30f3\u30d4\u30e5\u30fc\u30bf$\\alpha$\u3067\u884c\u308f\u308c\u308b\u4ed5\u4e8b\u306e\u96c6\u5408\u3092$V_\\alpha$\u3068\u3057\u305f\u3068\u304d\u3001\u30b3\u30f3\u30d4\u30e5\u30fc\u30bf$\\alpha$\u3067\u4ed5\u4e8b\u3092\u7d42\u3048\u308b\u307e\u3067\u306e\u6642\u9593\u306f$M_\\alpha = \\sum_{i\\in V_\\alpha} L_i$\u3068\u306a\u308a\u307e\u3059\u3002\u30b3\u30f3\u30d4\u30e5\u30fc\u30bf$\\alpha$\u3067\u884c\u3046\u4ed5\u4e8b\u3092\u8868\u3059\u30d0\u30a4\u30ca\u30ea\u5909\u6570\u3092$x_{i,\\alpha}$\u3068\u3057\u305f\u3068\u304d\u3001\u30b3\u30f3\u30d4\u30e5\u30fc\u30bf\u304c\u4ed5\u4e8b\u3092\u7d42\u308f\u3089\u3059\u305f\u3081\u306b\u304b\u304b\u308b\u6642\u9593\u306e\u6700\u5927\u5024\u306f\u4ee5\u4e0b\u306e\u3088\u3046\u306b\u8868\u3059\u3053\u3068\u304c\u3067\u304d\u307e\u3059\u3002\n",
                "\n",
                "$$max M_\\alpha=M_1 = \\sum_i L_ix_{i,1}\\tag{1}$$\n",
                "$$x_{i,\\alpha}=\\{0,1\\}\\tag{2}$$\n",
                "\n",
                "$$(\\forall \\alpha \\in \\{1,2,\\dots,N\\})$$\n",
                "\n",
                "\u3053\u306e$M_1$\u3092\u6700\u5c0f\u5316\u3059\u308b\u3053\u3068\u304c\u3053\u306e\u554f\u984c\u306e\u76ee\u7684\u3068\u306a\u308a\u307e\u3059\u3002"
            ]
        },
        {
            "cell_type": "markdown",
            "metadata": {},
            "source": [
                "## QUBO\u884c\u5217\u3078\u306e\u5909\u63db\u65b9\u6cd5\n",
                "\u307e\u305a\u3001$M_1 = \\max M_\\alpha$\u3068\u3057\u3066\u4e00\u822c\u6027\u3092\u5931\u308f\u306a\u3044\u3053\u3068\u306b\u6ce8\u610f\u3057\u307e\u3059\u3002\n",
                "[8-Solving Knapsack Problem with PyQUBO](https://openjij.github.io/OpenJijTutorial/build/html/ja/8-KnapsackPyqubo.html)\u3067\u3082\u89e3\u8aac\u3055\u308c\u3066\u3044\u308b\u3088\u3046\u306bQUBO\u884c\u5217\u3092\u8868\u73fe\u3059\u308b\u306b\u3042\u305f\u3063\u3066\u5f0f(1)\u3067\u5b9a\u7fa9\u3057\u305f\u30d0\u30a4\u30ca\u30ea\u5909\u6570$x_{i,\\alpha}$\u306b\u52a0\u3048\u3066\u30b3\u30f3\u30d4\u30e5\u30fc\u30bf\u304c\u4ed5\u4e8b\u306b\u304b\u304b\u308b\u6642\u9593\u3092\u8868\u73fe\u3059\u308b\u305f\u3081\u306e\u30b9\u30e9\u30c3\u30af\u5909\u6570y\u3092\u5c0e\u5165\u3057\u307e\u3059\u3002"
            ]
        },
        {
            "cell_type": "markdown",
            "metadata": {},
            "source": [
                "\n",
                "\n",
                "\n",
                "\n",
                "\n",
                "### One-hot encoding \u306b\u3088\u308a\u4ed5\u4e8b\u306b\u304b\u304b\u308b\u6700\u5927\u5024\u3068\u4ed6\u3068\u306e\u5dee\u3092\u8868\u73fe\u3057\u305f\u5236\u7d04\u9805(2)\u306e\u5b9a\u7fa9\n",
                "[Ising formulations of many NP problems](https://arxiv.org/pdf/1302.5843v3.pdf) \u3067\u306fOne-hot encoding\u3092\u7528\u3044\u3066\u4ed5\u4e8b\u306e\u5b9f\u884c\u6642\u9593\u3092\u8868\u3057\u3066\u3044\u307e\u3059\u3002\n",
                "\u30d0\u30a4\u30ca\u30ea\u5909\u6570$y_{n,\\alpha}$\u3092\u30ce\u30fc\u30c91\u3068\u30ce\u30fc\u30c9$\\alpha$\u306e\u4ed5\u4e8b\u306e\u9577\u3055\u306e\u5dee\u3092\u8868\u3059\u30d0\u30a4\u30ca\u30ea\u5909\u6570\u3068\u3057\u307e\u3059\u3002\n",
                "\n",
                "$$y_{n,\\alpha} = \\begin{cases}\n",
                "    1 & (M_1-M_\\alpha = n,\\alpha\\neq 1,n\\geq 0) \\\\\n",
                "    0 & (otherwise)\n",
                "  \\end{cases}\\tag{6}$$\n",
                "\n",
                "\u3088\u3063\u3066\u30b3\u30f3\u30d4\u30e5\u30fc\u30bf$\\alpha$\u306e\u5b9f\u884c\u6642\u9593\u304c\u30b3\u30f3\u30d4\u30e5\u30fc\u30bf1\u306e\u5b9f\u884c\u6642\u9593\u3088\u308a\u77ed\u3044\u70b9\u306b\u95a2\u3057\u3066\u4ee5\u4e0b\u306e\u5f0f\u304c\u6210\u308a\u7acb\u305f\u306a\u3051\u308c\u3070\u306a\u308a\u307e\u305b\u3093\u3002\n",
                "\n",
                "$$\\sum_{n=0}^{\\mathcal{M}}ny_{n,\\alpha} = \\sum_{i=1}^N L_i(x_{i,1}-x_{i,\\alpha})\\tag{7}$$\n",
                "\n",
                "$$H_{A1} = A\\sum_{\\alpha=2}^m\\left(\\sum_{n=0}^{\\mathcal{M}}ny_{n,\\alpha} - \\sum_{i=1}^N L_i(x_{i,1}-x_{i,\\alpha})\\right)^2\\tag{8}$$\n",
                "\n",
                "\u3053\u306e\u3088\u3046\u306b\u30cf\u30df\u30eb\u30c8\u30cb\u30a2\u30f3\u3092\u5b9a\u3081\u308b\u3053\u3068\u3067\u30a8\u30cd\u30eb\u30ae\u30fc\u304c\u6700\u5c0f\u3068\u306a\u3063\u305f\u969b\u306b\u3053\u306e\u5236\u7d04\u3092\u6e80\u305f\u3059\u3088\u3046\u306a\u30b9\u30d4\u30f3\u72b6\u614b\u3092\u5f97\u308b\u3053\u3068\u304c\u3067\u304d\u307e\u3059\u3002\n",
                "\n",
                "\u305d\u3057\u3066$\\alpha$\u3092\u56fa\u5b9a\u3057\u305f\u3068\u304d\u306b\u305f\u3060\u4e00\u3064\u3060\u3051\u306e$y_{n,\\alpha}$\u3060\u3051\u304c1\u3068\u306a\u308a\u3001\u4ed6\u306f0\u3068\u306a\u308b\u5fc5\u8981\u3082\u3042\u308a\u307e\u3059\u3002\n",
                "\n",
                "$$H_{A0} = A\\left(1-\\sum_{n=0}^{\\mathcal{M}}y_{n,\\alpha}\\right)^2\\tag{9}$$\n",
                "\n",
                "\u66f4\u306b\u3001\u3042\u308b\u4ed5\u4e8bi\u306f\u3044\u305a\u308c\u304b\u4e00\u3064\u306e\u30b3\u30f3\u30d4\u30e5\u30fc\u30bf\u3067\u884c\u308f\u308c\u308b\u3068\u3044\u3046\u5236\u7d04\u3082\u52a0\u3048\u308b\u5fc5\u8981\u304c\u3042\u308a\u307e\u3059\u3002\n",
                "\n",
                "$$H_{A2} = A\\left(1-\\sum_{i=1}^{N}x_{i,\\alpha}\\right)^2\\tag{10}$$\n",
                "\n",
                "\n",
                "\u3053\u308c\u3089\u3092\u8e0f\u307e\u3048\u308b\u3068\u30cf\u30df\u30eb\u30c8\u30cb\u30a2\u30f3\u306e\u5236\u7d04\u9805\u5168\u4f53\u306f\u6b63\u306e\u5b9a\u6570$A$\u3092\u7528\u3044\u3066\u6b21\u306e\u3088\u3046\u306b\u5b9a\u7fa9\u3055\u308c\u307e\u3059\u3002\n",
                "\n",
                "$$H_A = A(H_{A0}+H_{A1})+AH_{A2}\\tag{11}$$\n",
                "\n",
                "$\\mathcal{M}$\u306f\u30e6\u30fc\u30b6\u30fc\u306b\u3088\u3063\u3066\u9078\u3070\u308c\u308b\u5024\u3067\u3042\u308a\u3001\u30b3\u30f3\u30d4\u30e5\u30fc\u30bf$\\alpha$\n",
                "\u3068\u30b3\u30f3\u30d4\u30e5\u30fc\u30bf1\u306e\u5dee\u304c\u3069\u306e\u7a0b\u5ea6\u5b58\u5728\u3059\u308b\u304b\u8868\u3057\u3066\u3044\u307e\u3059\u3002\u6700\u60aa\u306e\u5834\u5408$\\mathcal{M}$\u306f$N\\max L_i$\u3068\u306a\u308a\u307e\u3059\u3002\n",
                "\n"
            ]
        },
        {
            "cell_type": "markdown",
            "metadata": {},
            "source": [
                "### Log encoding \u306b\u3088\u308b\u30b9\u30e9\u30c3\u30af\u5909\u6570\u3092\u7528\u3044\u305f\u5236\u7d04\u9805(2)\u306e\u5b9a\u7fa9\n",
                "#### Log encoding \u306b\u3088\u308b\u30b9\u30e9\u30c3\u30af\u5909\u6570\u3092\u7528\u3044\u308b\n",
                "[8-Solving Knapsack Problem with PyQUBO](https://openjij.github.io/OpenJijTutorial/build/html/ja/8-KnapsackPyqubo.html)\u306e\u3088\u3046\u306bLog encoding\u3092\u7528\u3044\u3066\u5236\u7d04\u9805\u3092\u8a2d\u5b9a\u3057\u3066\u307f\u307e\u3057\u3087\u3046\u3002\n",
                "$\\mathcal{M}$\u306f\u30b3\u30f3\u30d4\u30e5\u30fc\u30bf1\u3068\u30b3\u30f3\u30d4\u30e5\u30fc\u30bf$\\alpha$\u306e\u4ed5\u4e8b\u306e\u5b9f\u884c\u6642\u9593\u306e\u5dee\u306e\u4e0a\u9650\u3067\u3042\u308b\u305f\u3081\u4ee5\u4e0b\u306e\u4e0d\u7b49\u5f0f\u304c\u6210\u308a\u7acb\u3061\u307e\u3059\u3002\n",
                "$$\\mathcal{M}\\geq \\sum_{i=1}^N L_i(x_{i,1}-x_{i,\\alpha}) = M_1-M_\\alpha\\tag{13}$$\n",
                "\n",
                "\u3053\u3053\u3067\u30b3\u30f3\u30d4\u30e5\u30fc\u30bf\u3067\u884c\u308f\u308c\u308b\u4ed5\u4e8b\u304c\u4e00\u3064\u4ee5\u4e0a\u5272\u308a\u632f\u3089\u308c\u3001\u4ed5\u4e8b\u91cf\u304c1\u4ee5\u4e0a\u3067\u3042\u308b\u3068\u3057\u307e\u3059\u3002\u3059\u308b\u3068\u30b9\u30e9\u30c3\u30af\u5909\u6570Y\u3092$0\\leq Y \\leq \\mathcal{M}-1$\u3092\u6e80\u305f\u3059\u3068\u3057\u3066\u5b9a\u7fa9\u3059\u308b\u3053\u3068\u304c\u3067\u304d\u307e\u3059\u3002\n",
                "\n",
                "\u4e0a\u8a18\u4e0d\u7b49\u5f0f(13)\u306f\u7b49\u5f0f\u5236\u7d04\u306b\u5909\u63db\u3067\u304d\u308b\u3068\u5206\u304b\u308a\u307e\u3059\u3002\n",
                "$$\\mathcal{M} = Y + M_1-M_\\alpha\\tag{14}$$\n",
                "\u30b9\u30e9\u30c3\u30af\u5909\u6570Y\u3092\u5177\u4f53\u7684\u306b\u8a18\u8ff0\u3059\u308b\u3068\u4ee5\u4e0b\u306e\u3088\u3046\u306b\u306a\u308a\u307e\u3059\u3002\n",
                "$$Y = \\sum_{n=1}^{\\lfloor\\log_2(\\mathcal{M}-1)\\rfloor} 2^n y_n\\tag{15}$$\n",
                "\n",
                "\u5f0f(12)\u306e\u7b2c\u4e00\u9805\u3001\u7b2c\u4e8c\u9805\u306f\u4ee5\u4e0b\u306e\u9805\u306b\u7f6e\u304d\u63db\u3048\u308b\u3053\u3068\u304c\u3067\u304d\u307e\u3059\u3002\n",
                "$$\\sum_{\\alpha=2}^m \\left(\\mathcal{M}-\\sum_{i=1}^N L_i(x_{i,1}-x_{i,\\alpha}) - \\sum_{n=1}^{\\lfloor\\log_2(\\mathcal{M}-1)\\rfloor} 2^n y_n\\right)^2\\tag{16}$$\n",
                "\n",
                "#### \u3053\u306e\u65b9\u6cd5\u3092\u7528\u3044\u305f\u969b\u306e\u5229\u70b9\n",
                "\u3053\u306e\u65b9\u6cd5\u3092\u7528\u3044\u308b\u3068\u3001One-hot encoding\u306b\u6bd4\u3079\u3066\u5c11\u306a\u3044\u30d0\u30a4\u30ca\u30ea\u5909\u6570$(\\lfloor\\log_2(\\mathcal{M}-1)\\rfloor+1)$\u500b\u3067\u6574\u6570\u3092\u8868\u73fe\u3067\u304d\u308b\u4e0a\u306b\u8ffd\u52a0\u306e\u5236\u7d04\u9805\u304c\u4e0d\u8981\u306b\u306a\u308a\u307e\u3059\u3002\u5909\u6570Y\u306e\u6700\u5927\u5024\u306f$2^{\\lfloor\\log_2(\\mathcal{M}-1)\\rfloor}$\u3068\u306a\u3063\u3066\u3044\u308b\u304b\u3089\u3067\u3059\u3002\u307e\u305f\u3001\u30b9\u30e9\u30c3\u30af\u5909\u6570\u3092\u7528\u3044\u3066\u3044\u308b\u305f\u3081\u3001\u4ed5\u4e8b\u91cf\u306e\u5dee\u304c$\\mathcal{M}$\u3092\u4e0a\u56de\u308b\u3053\u3068\u3082\u3042\u308a\u307e\u305b\u3093\u3002"
            ]
        },
        {
            "cell_type": "markdown",
            "metadata": {},
            "source": [
                "### \u76ee\u7684\u9805(1)\u306e\u5b9a\u7fa9\n",
                "\u76ee\u7684\u9805\u306f\u30b3\u30f3\u30d4\u30e5\u30fc\u30bf\u3067\u4ed5\u4e8b\u3092\u7d42\u3048\u308b\u307e\u3067\u306e\u6700\u5927\u5b9f\u884c\u6642\u9593\u3092\u6700\u5c0f\u5316\u3059\u308b\u305f\u3081\u306e\u3082\u306e\u3067\u3059\u3002\n",
                "\u3088\u3063\u3066\u30cf\u30df\u30eb\u30c8\u30cb\u30a2\u30f3\u306f\u4ee5\u4e0b\u306e\u3088\u3046\u306b\u5b9a\u7fa9\u3059\u308b\u3068\u30a8\u30cd\u30eb\u30ae\u30fc\u304c\u6700\u5c0f\u306b\u306a\u3063\u305f\u3068\u304d\u306b\u6700\u5927\u5b9f\u884c\u6642\u9593\u3092\u6700\u5c0f\u5316\u3057\u305f\u89e3\u304c\u5f97\u3089\u308c\u307e\u3059\u3002\n",
                "$$H_B = B\\sum_{i=1}^N L_ix_{i,1}\\tag{17}$$\n",
                "\u305f\u3060\u3057\u5b9a\u6570A,B\u306f\u76ee\u7684\u9805$H_B$\u306b\u3088\u3063\u3066\u5236\u7d04\u9805$H_A$\u3092\u9055\u53cd\u3057\u3066\u306f\u3044\u3051\u306a\u3044\u305f\u3081\u3001$0<B \\max(L_i)<A$\u3092\u6e80\u305f\u3059\u5fc5\u8981\u304c\u3042\u308a\u307e\u3059\u3002"
            ]
        },
        {
            "cell_type": "markdown",
            "metadata": {},
            "source": [
                "### PyQUBO\u3078\u306e\u5b9f\u88c5\n",
                "#### PyQUBO\u306eInteger\u30af\u30e9\u30b9\n",
                "PyQUBO\u306e[Documentation](https://pyqubo.readthedocs.io/en/latest/reference/integer.html)\u3067\u306f\u3001\u30d0\u30a4\u30ca\u30ea\u5909\u6570\u3092\u6574\u6570\u306b\u5909\u63db\u3059\u308b\u305f\u3081\u306e4\u3064\u306e\u30af\u30e9\u30b9\u306b\u3064\u3044\u3066\u8aac\u660e\u3055\u308c\u3066\u3044\u307e\u3059\u3002\u305d\u306e\u4e2d\u306eLogEncInteger\u3092\u7528\u3044\u3066\u30b9\u30e9\u30c3\u30af\u5909\u6570\u3092\u5b9a\u7fa9\u3057\u307e\u3059\u3002\n",
                "[8-Solving Knapsack Problem with PyQUBO](https://openjij.github.io/OpenJijTutorial/build/html/ja/8-KnapsackPyqubo.html)\u3067\u3042\u308b\u3088\u3046\u306bLogEncInteger\u306e\u4f7f\u3044\u65b9\u306f\u4ee5\u4e0b\u306e\u3088\u3046\u306b\u306a\u3063\u3066\u3044\u3066\u3001\u6574\u6570\u306e\u3088\u3046\u306b\u6271\u3046\u3053\u3068\u304c\u3067\u304d\u307e\u3059\u3002"
            ]
        },
        {
            "cell_type": "markdown",
            "metadata": {},
            "source": [
                "```python\n",
                "y = LogEncInteger(\"\u30e9\u30d9\u30eb\u306e\u540d\u524d\",\u6700\u5c0f\u5024,\u6700\u5927\u5024)\n",
                "```"
            ]
        },
        {
            "cell_type": "markdown",
            "metadata": {},
            "source": [
                "\u3053\u306e\u6642\u3001y\u304c\u3068\u308a\u3046\u308b\u5024\u306e\u6700\u5927\u5024\u306f\u4e0a\u3067\u6307\u5b9a\u3057\u305f\u6570\u3067\u306f\u306a\u304f,$2^{\\lfloor\\log_2(\\mathcal{M}-1)\\rfloor+1}$\u3068\u306a\u308b\u3053\u3068\u306b\u6ce8\u610f\u3057\u3066\u304f\u3060\u3055\u3044\u3002\n",
                "#### QUBO\u884c\u5217\u306e\u751f\u6210\n",
                "\u3067\u306f\u3001\u5177\u4f53\u4f8b\u3067\u793a\u3057\u305f\u554f\u984c\u3092\u5b9f\u969b\u306bQUBO\u884c\u5217\u306b\u3057\u3066PyQUBO\u3067\u89e3\u3044\u3066\u307f\u307e\u3057\u3087\u3046\u3002\n",
                "\u307e\u305a\u3001\u4ed5\u4e8b\u306e\u500b\u6570N\u3068\u30b3\u30f3\u30d4\u30e5\u30fc\u30bf\u306e\u6570m,\u4ed5\u4e8b\u306e\u9577\u3055\u306e\u30ea\u30b9\u30c8L\u3092\u5b9a\u7fa9\u3057\u307e\u3059\u3002"
            ]
        },
        {
            "cell_type": "markdown",
            "metadata": {},
            "source": [
                "\n"
            ]
        },
        {
            "cell_type": "code",
            "execution_count": 205,
            "metadata": {},
            "outputs": [],
            "source": [
                "import numpy as np\n",
                "#\u30b3\u30f3\u30d4\u30e5\u30fc\u30bf\u306e\u6570\n",
                "m=3\n",
                "#\u4ed5\u4e8b\u306e\u9577\u3055\n",
                "L= [1, 2, 3, 4, 5, 6, 7, 8, 9, 10]\n",
                "#\u4ed5\u4e8b\u306e\u6570\n",
                "N=len(L)"
            ]
        },
        {
            "cell_type": "markdown",
            "metadata": {},
            "source": [
                "$\\mathcal{M}$\u3092\u9078\u3073\u3001M\u306b\u4ee3\u5165\u3057\u307e\u3059\u3002"
            ]
        },
        {
            "cell_type": "code",
            "execution_count": 206,
            "metadata": {},
            "outputs": [],
            "source": [
                "M = 3"
            ]
        },
        {
            "cell_type": "markdown",
            "metadata": {},
            "source": [
                "\u6b21\u306b\u30d0\u30a4\u30ca\u30ea\u5909\u6570\u3092\u5b9a\u7fa9\u3057\u307e\u3059\u3002\u30b9\u30e9\u30c3\u30af\u5909\u6570y\u306b\u5bfe\u3057\u3066\u306f\u5148\u307b\u3069\u306eLogEncInteger()\u3092\u4f7f\u3044\u307e\u3059\u3002"
            ]
        },
        {
            "cell_type": "code",
            "execution_count": 207,
            "metadata": {},
            "outputs": [],
            "source": [
                "#PYQUBO\u3092import\u3057\u307e\u3059\n",
                "from pyqubo import Array,LogEncInteger\n",
                "\n",
                "x = Array.create('x', shape=(N,m), vartype='BINARY')\n",
                "y =  LogEncInteger('y',0,M)"
            ]
        },
        {
            "cell_type": "markdown",
            "metadata": {},
            "source": [
                "#### \u30cf\u30df\u30eb\u30c8\u30cb\u30a2\u30f3\u306e\u4fee\u6b63\n",
                "\n",
                "\u4e0a\u306e\u5909\u6570\u3092\u7528\u3044\u3066\u5f0f(10),(16),(17)\u306b\u5f93\u3063\u3066\u30cf\u30df\u30eb\u30c8\u30cb\u30a2\u30f3\u3092\u5b9a\u7fa9\u3057\u307e\u3059\u3002\n",
                "\n",
                "$$H_{A1} = A\\sum_{\\alpha=2}^m \\left(\\mathcal{M}-\\sum_{i=1}^N L_i(x_{i,1}-x_{i,\\alpha}) - \\sum_{n=1}^{\\lfloor\\log_2(\\mathcal{M}-1)\\rfloor} 2^n y_n\\right)^2$$\n",
                "\n",
                "$$H_{A2} = A\\left(1-\\sum_{i=1}^{N}x_{i,\\alpha}\\right)^2$$\n",
                "\n",
                "$$H_A = AH_{A1} + AH_{A2}\\tag{18}$$\n",
                "\n",
                "\n",
                "\u3057\u304b\u3057,\u5f0f(18)\u306e\u30cf\u30df\u30eb\u30c8\u30cb\u30a2\u30f3\u3067\u306f\u826f\u3044\u89e3\u304c\u5f97\u3089\u308c\u307e\u305b\u3093\u3002\n",
                "\u305d\u3053\u3067$H_A$\u306e\u9805\u3092\u305d\u308c\u305e\u308c\u7570\u306a\u308b\u4fc2\u6570\u306b\u5206\u89e3\u3057\u3001\u305d\u308c\u305e\u308c\u8a2d\u5b9a\u3059\u308b\u3053\u3068\u306b\u3057\u307e\u3057\u3087\u3046\u3002\n",
                "\n",
                "$$H_A = A_1H_{A1} + A_2H_{A2}$$\n",
                "\n",
                "$$H_B = B\\sum_{i=1}^N L_ix_{i,1}$$\n",
                "\n",
                "$A_1,A_2,B$\u306f$0<B \\max(L_i)<A_1,A_2$\u3092\u6e80\u305f\u3059\u3088\u3046\u306b\u9078\u3073\u307e\u3059\u3002\u305d\u308c\u305e\u308c\u306e\u5927\u5c0f\u306e\u30d0\u30e9\u30f3\u30b9\u306f\u4fc2\u6570\u304c\u304b\u304b\u3063\u3066\u3044\u308b\u9805\u306e\u30b9\u30b1\u30fc\u30eb\u304c\u5747\u7b49\u306b\u306a\u308b\u3088\u3046\u306b\u8abf\u7bc0\u3057\u307e\u3059\u3002"
            ]
        },
        {
            "cell_type": "code",
            "execution_count": 402,
            "metadata": {},
            "outputs": [],
            "source": [
                "from pyqubo import Constraint\n",
                "A2=36\n",
                "\n",
                "A1=(A2/max(L) **2)/0.12\n",
                "\n",
                "B = (A2/max(L))/3.6\n",
                "\n",
                "# \u30cf\u30df\u30eb\u30c8\u30cb\u30a2\u30f3\u306e\u7b2c\u4e00\u9805\n",
                "const = 0\n",
                "for a in range(1,m):\n",
                "    const += (M - sum([L[i]*(x[i,0]-x[i,a]) for i in range(N)])-y)**2\n",
                "HA1 = Constraint(const, label='HA1')\n",
                "\n",
                "# \u30cf\u30df\u30eb\u30c8\u30cb\u30a2\u30f3\u306e\u7b2c\u4e8c\u9805 \n",
                "HA2 = Constraint(sum((1-sum(x[i,a] for a in range(m)))**2 for i in range(N)), label='HA2')\n",
                "\n",
                "# \u30cf\u30df\u30eb\u30c8\u30cb\u30a2\u30f3\u306e\u7b2c\u4e09\u9805\n",
                "HB = sum(L[i] * x[i,0] for i in range(N))\n",
                "\n",
                "# \u30cf\u30df\u30eb\u30c8\u30cb\u30a2\u30f3\u5168\u4f53\u3092\u5b9a\u7fa9\u3057\u307e\u3059\n",
                "Q = A1*HA1+A2*HA2+B*HB\n"
            ]
        },
        {
            "cell_type": "markdown",
            "metadata": {},
            "source": [
                "#### \u5b9f\u884c\u7d50\u679c\n",
                "\u4e0a\u8a18\u306e\u5f0f\u3092PyQUBO\u3067\u89e3\u304b\u305b\u305f\u7d50\u679c\u3092\u898b\u3066\u307f\u307e\u3057\u3087\u3046\u3002\n",
                "broken\u306f\u30da\u30ca\u30eb\u30c6\u30a3\u9805\u304c\u7834\u308c\u3066\u3044\u308b\u3068\u304d(0\u3067\u306a\u3044\u3068\u304d)\u3001\u3069\u306e\u3088\u3046\u306b\u7834\u308c\u305f\u304b\u3092\u8a18\u9332\u3057\u3066\u304f\u308c\u307e\u3059\u3002broken\u304c{}\u3067\u3042\u308b\u3068\u3001\u5236\u7d04\u304c\u7834\u3089\u308c\u3066\u3044\u306a\u3044\u3068\u5206\u304b\u308a\u307e\u3059\u3002"
            ]
        },
        {
            "cell_type": "code",
            "execution_count": 403,
            "metadata": {},
            "outputs": [
                {
                    "name": "stdout",
                    "output_type": "stream",
                    "text": [
                        "[Inputs]\n",
                        "\n",
                        "N (\u4ed5\u4e8b\u306e\u6570) : 10\u500b\n",
                        "m (\u30b3\u30f3\u30d4\u30e5\u30fc\u30bf\u306e\u6570): 3\n",
                        "\n",
                        "\u4ed5\u4e8b\u306e\u9577\u3055\u306e\u30ea\u30b9\u30c8\n",
                        "[1, 2, 3, 4, 5, 6, 7, 8, 9, 10]\n",
                        "\n",
                        "A1 : 3.0\n",
                        "A2 : 36\n",
                        "B : 1.0\n",
                        "\n",
                        "[Results]\n",
                        "\n",
                        "\u30b3\u30f3\u30d4\u30e5\u30fc\u30bf1\u3067\u884c\u308f\u308c\u308b\u4ed5\u4e8b\n",
                        "9\u756a\u76ee\u306e\u4ed5\u4e8b \u9577\u3055:9\n",
                        "10\u756a\u76ee\u306e\u4ed5\u4e8b \u9577\u3055:10\n",
                        "\u4ed5\u4e8b\u306e\u7dcf\u5b9f\u884c\u6642\u9593:19\n",
                        "\n",
                        "\u30b3\u30f3\u30d4\u30e5\u30fc\u30bf2\u3067\u884c\u308f\u308c\u308b\u4ed5\u4e8b\n",
                        "1\u756a\u76ee\u306e\u4ed5\u4e8b \u9577\u3055:1\n",
                        "4\u756a\u76ee\u306e\u4ed5\u4e8b \u9577\u3055:4\n",
                        "6\u756a\u76ee\u306e\u4ed5\u4e8b \u9577\u3055:6\n",
                        "7\u756a\u76ee\u306e\u4ed5\u4e8b \u9577\u3055:7\n",
                        "\u4ed5\u4e8b\u306e\u7dcf\u5b9f\u884c\u6642\u9593:18\n",
                        "\n",
                        "\u30b3\u30f3\u30d4\u30e5\u30fc\u30bf3\u3067\u884c\u308f\u308c\u308b\u4ed5\u4e8b\n",
                        "2\u756a\u76ee\u306e\u4ed5\u4e8b \u9577\u3055:2\n",
                        "3\u756a\u76ee\u306e\u4ed5\u4e8b \u9577\u3055:3\n",
                        "5\u756a\u76ee\u306e\u4ed5\u4e8b \u9577\u3055:5\n",
                        "8\u756a\u76ee\u306e\u4ed5\u4e8b \u9577\u3055:8\n",
                        "\u4ed5\u4e8b\u306e\u7dcf\u5b9f\u884c\u6642\u9593:18\n",
                        "\n",
                        "broken\n",
                        "{}\n"
                    ]
                }
            ],
            "source": [
                "from pyqubo import solve_qubo\n",
                "\n",
                "model = Q.compile()\n",
                "qubo, offset = model.to_qubo()\n",
                "\n",
                "# PyQUBO\u306b\u5099\u308f\u3063\u3066\u3044\u308bSA\u3092\u4f7f\u3044\u307e\u3059\n",
                "raw_solution = solve_qubo(qubo,num_reads=500)\n",
                "decoded_solution, broken, energy = model.decode_solution(raw_solution, vartype=\"BINARY\")\n",
                "#\u7d50\u679c\u306e\u8868\u793a\n",
                "print(\"[Inputs]\")\n",
                "print()\n",
                "print(\"N (\u4ed5\u4e8b\u306e\u6570) : \"+str(N)+\"\u500b\")\n",
                "print(\"m (\u30b3\u30f3\u30d4\u30e5\u30fc\u30bf\u306e\u6570): \"+str(m))\n",
                "print()\n",
                "print(\"\u4ed5\u4e8b\u306e\u9577\u3055\u306e\u30ea\u30b9\u30c8\")\n",
                "print(L)\n",
                "print()\n",
                "print(\"A1 : \"+str(A1))\n",
                "print(\"A2 : \"+str(A2))\n",
                "print(\"B : \"+str(B))\n",
                "print()\n",
                "print(\"[Results]\")\n",
                "print()\n",
                "job_length = [0] * m\n",
                "for i in range(0,m):\n",
                "    print(\"\u30b3\u30f3\u30d4\u30e5\u30fc\u30bf\"+str(i+1)+\"\u3067\u884c\u308f\u308c\u308b\u4ed5\u4e8b\")\n",
                "    for j in range(0,N):\n",
                "        if decoded_solution['x'][j][i]==1:\n",
                "            print(str(j+1)+\"\u756a\u76ee\u306e\u4ed5\u4e8b \u9577\u3055:\"+str(L[j]))\n",
                "            job_length[i] += L[j]\n",
                "    print(\"\u4ed5\u4e8b\u306e\u7dcf\u5b9f\u884c\u6642\u9593:\"+str(job_length[i]))\n",
                "    print()\n",
                "\n",
                "print(\"broken\")\n",
                "print(broken)"
            ]
        },
        {
            "cell_type": "markdown",
            "metadata": {},
            "source": [
                "### OpenJij\u306b\u6295\u3052\u308b\n",
                "\u6b21\u306bOpenJij\u306eSQA\u3092\u7528\u3044\u3066\u89e3\u3044\u3066\u307f\u307e\u3059\u3002"
            ]
        },
        {
            "cell_type": "code",
            "execution_count": 397,
            "metadata": {},
            "outputs": [
                {
                    "name": "stdout",
                    "output_type": "stream",
                    "text": [
                        "[Results]\n",
                        "\n",
                        "\u30b3\u30f3\u30d4\u30e5\u30fc\u30bf1\u3067\u884c\u308f\u308c\u308b\u4ed5\u4e8b\n",
                        "3\u756a\u76ee\u306e\u4ed5\u4e8b \u9577\u3055:3\n",
                        "6\u756a\u76ee\u306e\u4ed5\u4e8b \u9577\u3055:6\n",
                        "10\u756a\u76ee\u306e\u4ed5\u4e8b \u9577\u3055:10\n",
                        "\u4ed5\u4e8b\u306e\u7dcf\u5b9f\u884c\u6642\u9593:19\n",
                        "\n",
                        "\u30b3\u30f3\u30d4\u30e5\u30fc\u30bf2\u3067\u884c\u308f\u308c\u308b\u4ed5\u4e8b\n",
                        "2\u756a\u76ee\u306e\u4ed5\u4e8b \u9577\u3055:2\n",
                        "4\u756a\u76ee\u306e\u4ed5\u4e8b \u9577\u3055:4\n",
                        "5\u756a\u76ee\u306e\u4ed5\u4e8b \u9577\u3055:5\n",
                        "7\u756a\u76ee\u306e\u4ed5\u4e8b \u9577\u3055:7\n",
                        "\u4ed5\u4e8b\u306e\u7dcf\u5b9f\u884c\u6642\u9593:18\n",
                        "\n",
                        "\u30b3\u30f3\u30d4\u30e5\u30fc\u30bf3\u3067\u884c\u308f\u308c\u308b\u4ed5\u4e8b\n",
                        "1\u756a\u76ee\u306e\u4ed5\u4e8b \u9577\u3055:1\n",
                        "8\u756a\u76ee\u306e\u4ed5\u4e8b \u9577\u3055:8\n",
                        "9\u756a\u76ee\u306e\u4ed5\u4e8b \u9577\u3055:9\n",
                        "\u4ed5\u4e8b\u306e\u7dcf\u5b9f\u884c\u6642\u9593:18\n",
                        "\n",
                        "broken\n",
                        "{}\n"
                    ]
                }
            ],
            "source": [
                "# OpenJij\u306e\u30a4\u30f3\u30dd\u30fc\u30c8\u3092\u3057\u307e\u3059\n",
                "import openjij as oj\n",
                "# SQA\u3092\u4f7f\u3044\u307e\u3059\u3002\n",
                "sampler = oj.SQASampler(num_reads=300)\n",
                "# PYQUBO\u3067\u4f7f\u3063\u305fqubo\u3092\u4f7f\u3044\u307e\u3059\u3002\n",
                "response = sampler.sample_qubo(Q=qubo)\n",
                "# \u30a8\u30cd\u30eb\u30ae\u30fc\u304c\u4e00\u756a\u4f4e\u3044\u72b6\u614b\u3092\u53d6\u308a\u51fa\u3057\u307e\u3059\u3002\n",
                "dict_solution = response.first.sample\n",
                "# \u30c7\u30b3\u30fc\u30c9\u3057\u307e\u3059\u3002\n",
                "decoded_solution, broken, energy = model.decode_solution(dict_solution, vartype=\"BINARY\")\n",
                "#\u7d50\u679c\u306e\u8868\u793a\n",
                "print(\"[Results]\")\n",
                "print()\n",
                "job_length = [0] * m\n",
                "for i in range(0,m):\n",
                "    print(\"\u30b3\u30f3\u30d4\u30e5\u30fc\u30bf\"+str(i+1)+\"\u3067\u884c\u308f\u308c\u308b\u4ed5\u4e8b\")\n",
                "    for j in range(0,N):\n",
                "        if decoded_solution['x'][j][i]==1:\n",
                "            print(str(j+1)+\"\u756a\u76ee\u306e\u4ed5\u4e8b \u9577\u3055:\"+str(L[j]))\n",
                "            job_length[i] += L[j]\n",
                "    print(\"\u4ed5\u4e8b\u306e\u7dcf\u5b9f\u884c\u6642\u9593:\"+str(job_length[i]))\n",
                "    print()\n",
                "\n",
                "print(\"broken\")\n",
                "print(broken)"
            ]
        },
        {
            "cell_type": "markdown",
            "metadata": {},
            "source": [
                "### \u307e\u3068\u3081\n",
                "Job Eequencing with Integer Lengths\u3092PyQUBO,OpenJij\u3092\u4f7f\u3063\u3066\u89e3\u304f\u65b9\u6cd5\u306b\u3064\u3044\u3066\u89e3\u8aac\u3057\u307e\u3057\u305f\u3002\n",
                "\n",
                "\u4fc2\u6570\u3092\u8abf\u6574\u3059\u308b\u524d\u3067\u306f\u826f\u3044\u89e3\u304c\u5f97\u3089\u308c\u307e\u305b\u3093\u304c\u4fc2\u6570\u3092\u8abf\u6574\u3059\u308b\u3068\u5b89\u5b9a\u3057\u307e\u3057\u305f\u3002\n",
                "\n",
                "\u307e\u305f\u3001\u6574\u6570\u3092\u30d0\u30a4\u30ca\u30ea\u5909\u6570\u3067\u8868\u73fe\u3059\u308b\u65b9\u6cd5\u306f\u8907\u6570\u3042\u308a\u307e\u3059\u304c\u3001\u4eca\u56de\u306fLog encoding\u3092\u6271\u3044\u307e\u3057\u305f\u3002\n",
                "[8-Solving Knapsack Problem with PyQUBO](https://openjij.github.io/OpenJijTutorial/build/html/ja/8-KnapsackPyqubo.html)\u3068\u5408\u308f\u305b\u3066\u78ba\u8a8d\u3057\u3066\u307f\u3066\u304f\u3060\u3055\u3044\u3002"
            ]
        }
    ],
    "metadata": {
        "kernelspec": {
            "display_name": "Python 3",
            "language": "python",
            "name": "python3"
        },
        "language_info": {
            "codemirror_mode": {
                "name": "ipython",
                "version": 3
            },
            "file_extension": ".py",
            "mimetype": "text/x-python",
            "name": "python",
            "nbconvert_exporter": "python",
            "pygments_lexer": "ipython3",
            "version": "3.8.5"
        }
    },
    "nbformat": 4,
    "nbformat_minor": 4
}