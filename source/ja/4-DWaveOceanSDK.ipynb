{
    "cells": [
        {
            "cell_type": "markdown",
            "metadata": {},
            "source": [
                "# 4-D-Wave Ocean SDK \u5165\u9580"
            ]
        },
        {
            "cell_type": "markdown",
            "metadata": {
                "colab_type": "text",
                "id": "view-in-github"
            },
            "source": [
                "[![Open in Colab](https://colab.research.google.com/assets/colab-badge.svg)](https://colab.research.google.com/github/OpenJij/OpenJijTutorial/blob/master/source/ja/4-DWaveOceanSDK.ipynb)"
            ]
        },
        {
            "cell_type": "markdown",
            "metadata": {
                "colab_type": "text",
                "id": "view-in-github"
            },
            "source": [
                "D-Wave Ocean SDK(\u4ee5\u4e0b\u3001Ocean) \u306f\u3001D-Wave\u30de\u30b7\u30f3\u3092\u4f7f\u7528\u3059\u308b\u30bd\u30d5\u30c8\u30a6\u30a7\u30a2\u304c\u307e\u3068\u307e\u3063\u3066\u3044\u308b\u958b\u767a\u30ad\u30c3\u30c8\u3067\u3059\u3002Python\u304b\u3089\u5404\u7a2e\u6a5f\u80fd\u3092\u7c21\u5358\u306b\u5229\u7528\u3059\u308b\u3053\u3068\u304c\u3067\u304d\u307e\u3059\u3002\n",
                "\n",
                "Github: https://github.com/dwavesystems/dwave-ocean-sdk  \n",
                "Document: https://docs.ocean.dwavesys.com/en/latest/\n",
                "\n",
                "\u30a4\u30f3\u30b9\u30c8\u30fc\u30eb\u3059\u308b\u306b\u306f\u4e0a\u306b\u3042\u308b\u901a\u308a\u3001pip\u3092\u4f7f\u7528\u3059\u308b\u304bgithub\u306e\u30ea\u30dd\u30b8\u30c8\u30ea\u3092\u30af\u30ed\u30fc\u30f3\u3057\u307e\u3059\u3002"
            ]
        },
        {
            "cell_type": "code",
            "execution_count": null,
            "metadata": {},
            "outputs": [],
            "source": [
                "!pip install dwave-ocean-sdk"
            ]
        },
        {
            "cell_type": "code",
            "execution_count": null,
            "metadata": {},
            "outputs": [],
            "source": [
                "!git clone https://github.com/dwavesystems/dwave-ocean-sdk.git\n",
                "!cd dwave-ocean-sdk\n",
                "!python setup.py install"
            ]
        },
        {
            "cell_type": "markdown",
            "metadata": {},
            "source": [
                "\u4ee5\u964d\u3067\u306f\u3001\u6570\u5206\u5272\u554f\u984c\u3092\u901a\u3057\u3066\u4ee5\u4e0b\u306e\u5185\u5bb9\u306b\u3064\u3044\u3066\u8aac\u660e\u3057\u3066\u3044\u304d\u307e\u3059\u3002\n",
                "\n",
                "- QUBO\u307e\u305f\u306f\u30a4\u30b8\u30f3\u30b0\u30e2\u30c7\u30eb\u306e\u4f5c\u308a\u65b9\n",
                "- Ocean\u306e\u4f7f\u3044\u65b9\n",
                "- \u30a2\u30cb\u30fc\u30ea\u30f3\u30b0\u30d1\u30e9\u30e1\u30fc\u30bf\u3092\u5909\u3048\u305f\u5834\u5408\u306e\u6700\u9069\u5316"
            ]
        },
        {
            "cell_type": "markdown",
            "metadata": {},
            "source": [
                "## \u5b9a\u5f0f\u5316\n",
                "\n",
                "D-Wave\u30de\u30b7\u30f3\u306b\u6295\u3052\u308b\u3053\u3068\u304c\u3067\u304d\u308b\u5f62\u5f0f\u306b\u306f\u30a4\u30b8\u30f3\u30b0\u30e2\u30c7\u30eb\u3068QUBO\u304c\u3042\u308a\u307e\u3059\u3002\u3053\u3053\u3067\u306f\u8a73\u7d30\u306b\u306f\u89e6\u308c\u305a\u3001Ocean\u3092\u4f7f\u7528\u3059\u308b\u4e0a\u3067\u6700\u4f4e\u9650\u5fc5\u8981\u306a\u3053\u3068\u3092\u8aac\u660e\u3057\u307e\u3059\u3002\n",
                "\n",
                "### QUBO\u3068\u30a4\u30b8\u30f3\u30b0\u30e2\u30c7\u30eb\n",
                "\n",
                "#### QUBO\n",
                "\n",
                "QUBO\u306e\u5834\u5408\u30012\u5024\u5909\u6570(\u30d0\u30a4\u30ca\u30ea\u5909\u6570)$q_{i} \\in \\{0, 1\\}$\u306b\u5bfe\u3057\u3066\u3001\u4ee5\u4e0b\u306e\u30cf\u30df\u30eb\u30c8\u30cb\u30a2\u30f3\u3092\u8003\u3048\u307e\u3059\u3002\n",
                "\n",
                "$$\n",
                "H\\left(\\left\\{q_{i}\\right\\}\\right)= \\sum_{i} Q_{i i} q_{i} + \\sum_{i>j} Q_{i j} q_{i} q_{j}\n",
                "$$\n",
                "\n",
                "QUBO\u3092\u89e3\u304f\u969b\u306b\u306f\u3001\u4e0a\u306e\u5f0f\u306e$Q_{i i}$\u3068$Q_{i j}$\u3092\u53e4\u5178\u30b3\u30f3\u30d4\u30e5\u30fc\u30bf\u3067\u8a08\u7b97\u3057\u3001D-Wave\u30de\u30b7\u30f3\u306b\u4e0e\u3048\u308b\u3053\u3068\u306b\u306a\u308a\u307e\u3059\u3002\n",
                "\n",
                "#### \u30a4\u30b8\u30f3\u30b0\u30e2\u30c7\u30eb\n",
                "\n",
                "\u30a4\u30b8\u30f3\u30b0\u30e2\u30c7\u30eb\u306e\u5834\u5408\u30012\u5024\u5909\u6570$\\sigma_{i} \\in \\{1, -1\\}$\u306b\u5bfe\u3057\u3066\u3001\u4ee5\u4e0b\u306e\u30cf\u30df\u30eb\u30c8\u30cb\u30a2\u30f3\u3092\u8003\u3048\u307e\u3059\u3002\n",
                "\n",
                "$$\n",
                "H\\left(\\left\\{\\sigma_{i}\\right\\}\\right)=\\sum_{i} h_{i} \\sigma_{i} + \\sum_{i>j} J_{i j} \\sigma_{i} \\sigma_{j}\n",
                "$$\n",
                "\n",
                "\u30a4\u30b8\u30f3\u30b0\u30e2\u30c7\u30eb\u3092\u89e3\u304f\u969b\u306b\u306f\u3001\u4e0a\u306e\u5f0f\u306e$h_{i}$\u3068$J_{i j}$\u3092\u53e4\u5178\u30b3\u30f3\u30d4\u30e5\u30fc\u30bf\u3067\u8a08\u7b97\u3057\u3001D-Wave\u30de\u30b7\u30f3\u306b\u4e0e\u3048\u308b\u3053\u3068\u306b\u306a\u308a\u307e\u3059\u3002\n",
                "\n",
                "#### \u76f8\u4e92\u5909\u63db\n",
                "\n",
                "QUBO\u3068\u30a4\u30b8\u30f3\u30b0\u30e2\u30c7\u30eb\u306f\u3001$q_{i} = (\\sigma_{i} + 1) / 2$\u3068\u3044\u3046\u5909\u63db\u5f0f\u306b\u3088\u3063\u3066\u76f8\u4e92\u5909\u63db\u304c\u53ef\u80fd\u3067\u3059\u3002  \n",
                "\u3053\u306e\u70b9\u306b\u304a\u3044\u3066\u3001\u3069\u3061\u3089\u3067\u30cf\u30df\u30eb\u30c8\u30cb\u30a2\u30f3\u3092\u5b9a\u5f0f\u5316\u3057\u3066\u3082\u554f\u984c\u306f\u306a\u3044\u306e\u3067\u3001\u5bfe\u8c61\u306e\u554f\u984c\u304b\u3089\u8003\u3048\u3084\u3059\u3044\u65b9\u3092\u9078\u3073\u307e\u3057\u3087\u3046\u3002  \n",
                "\u305f\u3060\u3057\u540c\u3058\u554f\u984c\u306e2\u7a2e\u985e\u306e\u5f62\u5f0f\u306b\u5bfe\u3057\u3066\u3001D-Wave\u30de\u30b7\u30f3\u306e\u632f\u308b\u821e\u3044\u304c\u7570\u306a\u308b\u5834\u5408\u304c\u3042\u308b\u306e\u3067\u6ce8\u610f\u304c\u5fc5\u8981\u3067\u3059\u3002"
            ]
        },
        {
            "cell_type": "markdown",
            "metadata": {},
            "source": [
                "### \u6570\u5206\u5272\u554f\u984c\n",
                "\n",
                "\u4e0e\u3048\u3089\u308c\u305f\u6574\u6570\u306e\u96c6\u5408\u3092\u30012\u3064\u306e\u30b0\u30eb\u30fc\u30d7\u306b\u5206\u3051\u308b\u3053\u3068\u3092\u8003\u3048\u307e\u3059\u3002\u3053\u306e\u3068\u304d\u3001\u5404\u30b0\u30eb\u30fc\u30d7\u306e\u7dcf\u548c\u304c\u540c\u3058\u306b\u306a\u308b\u3088\u3046\u306b\u5206\u3051\u308b\u554f\u984c\u3092\u6570\u5206\u5272\u554f\u984c\u3068\u3044\u3044\u307e\u3059\u3002  \n",
                "\u4f8b\u3068\u3057\u3066\u3001\u4ee5\u4e0b\u306e\u6574\u6570\u306e\u96c6\u5408$C$\u30922\u3064\u306e\u30b0\u30eb\u30fc\u30d7\u306b\u5206\u3051\u308b\u3053\u3068\u3092\u76ee\u6a19\u306b\u3057\u3066\u307f\u307e\u3057\u3087\u3046\u3002"
            ]
        },
        {
            "cell_type": "code",
            "execution_count": 2,
            "metadata": {
                "ExecuteTime": {
                    "end_time": "2019-04-15T12:30:57.465840Z",
                    "start_time": "2019-04-15T12:30:57.462152Z"
                }
            },
            "outputs": [],
            "source": [
                "# \u6574\u6570\u306e\u96c6\u5408\u3092\u5b9a\u7fa9\u3057\u307e\u3059\u3002\n",
                "C = [2, 10, 3, 8, 5, 7, 9, 5, 3, 2]\n",
                "N = len(C)"
            ]
        },
        {
            "cell_type": "markdown",
            "metadata": {},
            "source": [
                "\u3053\u306e\u5834\u5408\u3001\u305d\u308c\u305e\u308c\u306e\u7dcf\u548c\u306e\u5dee\u304c\u30bc\u30ed\u306b\u306a\u308b\u6700\u9069\u89e3\u306f23\u901a\u308a\u5b58\u5728\u3057\u307e\u3059(\u7dcf\u548c\u306e\u5dee\u3068\u3044\u3046\u540d\u306e\u30a8\u30cd\u30eb\u30ae\u30fc\u304c\u540c\u3058\u5024\u3067\u3059\u304c\u3001\u89e3\u304c\u9055\u3046\u72b6\u614b\u304c\u8907\u6570\u3042\u308a\u307e\u3059\u3002\u3053\u306e\u3088\u3046\u306a\u72b6\u614b\u3092\u7269\u7406\u7528\u8a9e\u3067\u300c\u7e2e\u9000\u3057\u3066\u3044\u308b\u300d\u3068\u547c\u3073\u307e\u3059)\u3002  \n",
                "\u4f8b\u3048\u3070\u3001$\\{2,5,3,10,7\\}, \\{2,5,3,9,8\\}$(\u7dcf\u548c\u306f\u3069\u3061\u3089\u308227)\u304c\u3042\u308a\u307e\u3059\u3002"
            ]
        },
        {
            "cell_type": "markdown",
            "metadata": {},
            "source": [
                "#### QUBO\n",
                "\n",
                "2\u3064\u306e\u30b0\u30eb\u30fc\u30d7\u306e\u7dcf\u548c\u306e\u5dee\u30920\u306b\u3059\u308b\u3053\u3068\u3092\u76ee\u6307\u3057\u3066\u3001\u5b9a\u5f0f\u5316\u3092\u884c\u3044\u307e\u3057\u3087\u3046\u3002\n",
                "\n",
                "<p style=\"text-align: center\">\u30b0\u30eb\u30fc\u30d7A\u306b\u5c5e\u3059\u308b\u6570\u5b57\u306e\u7dcf\u548c - \u30b0\u30eb\u30fc\u30d7B\u306b\u5c5e\u3059\u308b\u6570\u5b57\u306e\u7dcf\u548c = 0</p>\n",
                "\n",
                "\u305d\u3053\u30672\u5024\u5909\u6570(\u30d0\u30a4\u30ca\u30ea\u5909\u6570)$q_{i}$\u3092\u7528\u610f\u3057\u3001$i$\u756a\u76ee\u306e\u6570\u5b57\u304c\u30b0\u30eb\u30fc\u30d7A\u306b\u5c5e\u3059\u308b\u5834\u5408$q_{i} = 0$\u3001\u30b0\u30eb\u30fc\u30d7B\u306b\u5c5e\u3059\u308b\u5834\u5408$q_{i} = 1$\u3068\u5b9a\u7fa9\u3057\u307e\u3059\u3002\u3053\u306e\u3068\u304d\u30b0\u30eb\u30fc\u30d7A\u306b\u5c5e\u3059\u308b\u6570\u5b57\u306e\u7dcf\u548c\u306f$\\sum_{i=1}^{N}c_{i}q_{i}$\u3001\u30b0\u30eb\u30fc\u30d7B\u306b\u5c5e\u3059\u308b\u6570\u5b57\u306e\u7dcf\u548c\u306f$\\sum_{i=1}^{N}c_{i}(1 - q_{i})$\u3068\u8868\u3055\u308c\u308b\u306e\u3067\u3001\u5148\u307b\u3069\u306e\u5f0f\u306f\n",
                "\n",
                "$$\\sum_{i=1}^{N} c_{i} q_{i}-\\sum_{i=1}^{N} c_{i}\\left(1-q_{i}\\right)=0$$\n",
                "\n",
                "\u3068\u306a\u308a\u307e\u3059\u3002\u3053\u306e\u7b49\u5f0f\u304c\u6210\u308a\u7acb\u3064\u3088\u3046\u306b\u554f\u984c\u3092\u89e3\u304d\u305f\u3044\u3068\u8003\u3048\u308b\u306e\u3067\u3001\u3053\u306e\u5f0f\u306f`\u5236\u7d04`\u3092\u8868\u3057\u3066\u3044\u308b\u3053\u3068\u304c\u308f\u304b\u308a\u307e\u3059\u3002\u3053\u306e\u3088\u3046\u306a\u7b49\u5f0f\u5236\u7d04\u3092\u7d20\u76f4\u306b\u8868\u73fe\u3059\u308b\u5834\u5408\u306b\u306f\u3001\u7f70\u91d1\u6cd5\u304c\u7528\u3044\u3089\u308c\u307e\u3059\u3002\n",
                "\n",
                "> (\u7f70\u91d1\u6cd5) \u6700\u5c0f\u5316\u3057\u305f\u3044\u30b3\u30b9\u30c8(\u76ee\u7684\u95a2\u6570)\u3092$f(x)$\u3001\u5236\u7d04\u6761\u4ef6\u3092$g(x) = 0$\u3068\u3059\u308b\u3068\u3001\u30cf\u30a4\u30d1\u30fc\u30d1\u30e9\u30e1\u30fc\u30bf$\\lambda$\u3092\u7528\u3044\u3066\u4ee5\u4e0b\u306e\u9805\u3092\u8ffd\u52a0\u3057\u3066\u6700\u9069\u5316\u554f\u984c\u3092\u89e3\u304f\u3053\u3068\u3092\u7f70\u91d1\u6cd5\u3068\u547c\u3073\u307e\u3059\u3002  \n",
                "> $$\\min_{x} \\left\\{ f(x) + \\lambda g(x)^2\\right\\}$$\n",
                "\n",
                "\u3088\u3063\u3066\u3001\u6570\u5206\u5272\u554f\u984c\u306b\u5bfe\u3059\u308bQUBO\u306f\u4ee5\u4e0b\u306e\u3088\u3046\u306b\u306a\u308a\u307e\u3059\u3002\n",
                "\n",
                "$$\n",
                "H\\left(\\left\\{q_{i}\\right\\}\\right)=\\left(\\sum_{i=1}^{N} c_{i} q_{i}-\\sum_{i=1}^{N} c_{i}\\left(1-q_{i}\\right)\\right)^{2}\n",
                "$$\n",
                "\n",
                "D-Wave\u30de\u30b7\u30f3\u306b\u554f\u984c\u3092\u6295\u3052\u308b\u305f\u3081\u306b\u306f$Q_{i j}$\u306e\u5024\u3092\u6c42\u3081\u308b\u5fc5\u8981\u304c\u3042\u308a\u307e\u3059\u3002\u305d\u306e\u305f\u3081\u306b$H\\left(\\left\\{\\sigma_{i}\\right\\}\\right)$\u3092\u5c55\u958b\u3057\u3001\u6574\u7406\u3092\u3057\u307e\u3057\u3087\u3046\u3002\n",
                "\n",
                "$$\n",
                "H\\left(\\left\\{q_{i}\\right\\}\\right)=\\left(2\\sum_{i=1}^{N} c_{i} q_{i} - \\sum_{i=1}^{N} c_{i} \\right)^{2} =4 \\sum_{i=1}^{N} c_{i} \\left( c_{i} - \\sum_{j=1}^{N} c_{j}\\right) q_{i}+8 \\sum_{i=1}^{N} \\sum_{j=i+1}^{N} c_{i} c_{j} q_{i} q_{j}+\\left(\\sum_{i=1}^{N} c_{i}\\right)^{2}\n",
                "$$\n",
                "\n",
                "\u3088\u3063\u3066\n",
                "\n",
                "$$Q_{i i} = 4 c_{i} \\left( c_{i} - \\sum_{j=1}^{N} c_{j}\\right)$$\n",
                "$$Q_{i j} = 8 c_{i} c_{j}$$\n",
                "\n",
                "\u3068\u306a\u308a\u307e\u3059\u3002\n",
                "\n",
                "> \u4e00\u756a\u6700\u5f8c\u306e\u9805\u306f$\\{ q_i\\}$\u306b\u4f9d\u5b58\u3057\u306a\u3044\u5b9a\u6570\u3067\u3042\u308b\u305f\u3081\u3001\u30cf\u30df\u30eb\u30c8\u30cb\u30a2\u30f3$H (\\{ q_i\\})$\u3092\u6700\u5c0f\u5316\u3059\u308b$\\{ q_i\\}$\u306e\u7d44\u307f\u5408\u308f\u305b\u3092\u63a2\u3059\u4e0a\u3067\u306f\u7121\u8996\u3057\u3066\u3082\u554f\u984c\u3042\u308a\u307e\u305b\u3093\u3002"
            ]
        },
        {
            "cell_type": "code",
            "execution_count": 6,
            "metadata": {
                "ExecuteTime": {
                    "end_time": "2019-04-15T12:30:57.472827Z",
                    "start_time": "2019-04-15T12:30:57.469113Z"
                }
            },
            "outputs": [],
            "source": [
                "# \u4e0a\u3067\u6c42\u3081\u305fQ_{ii}, Q_{ij}\u3092{(i, j): Q_{ij}}\u306e\u3088\u3046\u306a\u8f9e\u66f8\u578b\u3067\u5b9a\u7fa9\u3057\u307e\u3059\u3002\n",
                "Q = {}\n",
                "for i in range(N):\n",
                "    Q[i, i] = 4 * C[i] * (C[i] - sum(C))\n",
                "    for j in range(i + 1, N):\n",
                "        Q[i, j] = 8 * C[i] * C[j]"
            ]
        },
        {
            "cell_type": "markdown",
            "metadata": {},
            "source": [
                "\u7d50\u5408\u306e\u5ea6\u5408\u3044\u3084\u4fc2\u6570\u6bd4\u306a\u3069\u5bfe\u8c61\u306e\u554f\u984c\u3092\u7406\u89e3\u3059\u308b\u305f\u3081\u306b\u3001QUBO\u3092\u53ef\u8996\u5316\u3057\u3066\u307f\u307e\u3057\u3087\u3046\u3002"
            ]
        },
        {
            "cell_type": "code",
            "execution_count": 7,
            "metadata": {
                "ExecuteTime": {
                    "end_time": "2019-04-15T12:30:58.871404Z",
                    "start_time": "2019-04-15T12:30:57.476381Z"
                }
            },
            "outputs": [],
            "source": [
                "import numpy as np\n",
                "import matplotlib.cm as cm\n",
                "import matplotlib.pyplot as plt\n",
                "%matplotlib inline"
            ]
        },
        {
            "cell_type": "code",
            "execution_count": 8,
            "metadata": {
                "ExecuteTime": {
                    "end_time": "2019-04-15T12:30:58.881716Z",
                    "start_time": "2019-04-15T12:30:58.873657Z"
                }
            },
            "outputs": [],
            "source": [
                "def show_qubo(qubo, cmap=cm.GnBu, save_path=None):\n",
                "    n_qubo = max(sorted(qubo.keys())[-1][0], sorted(qubo.keys(), key=lambda x: x[1])[-1][1]) + 1\n",
                "\n",
                "    np_qubo = np.zeros((n_qubo, n_qubo))\n",
                "    for (pos_x, pos_y), coeff in qubo.items():\n",
                "        np_qubo[pos_x][pos_y] = coeff\n",
                "\n",
                "    plt.imshow(np_qubo, cmap=cmap)\n",
                "    plt.colorbar()\n",
                "    if save_path is not None:\n",
                "        plt.savefig(save_path)\n",
                "    plt.show()"
            ]
        },
        {
            "cell_type": "code",
            "execution_count": 9,
            "metadata": {
                "ExecuteTime": {
                    "end_time": "2019-04-15T12:30:59.101750Z",
                    "start_time": "2019-04-15T12:30:58.885051Z"
                }
            },
            "outputs": [
                {
                    "data": {
                        "image/png": "[encoded data removed]",
                        "text/plain": [
                            "<Figure size 432x288 with 2 Axes>"
                        ]
                    },
                    "metadata": {
                        "needs_background": "light"
                    },
                    "output_type": "display_data"
                }
            ],
            "source": [
                "show_qubo(Q)"
            ]
        },
        {
            "cell_type": "markdown",
            "metadata": {},
            "source": [
                "\u5bfe\u89d2\u6210\u5206\u304c$Q_{i i}$\u3001\u975e\u5bfe\u89d2\u6210\u5206\u304c$Q_{i j}$\u3067\u3059\u3002\u5b9a\u5f0f\u5316\u306e\u6642\u70b9\u304b\u3089\u660e\u3089\u304b\u3067\u3059\u304c\u3001\u6570\u5206\u5272\u554f\u984c\u306f\u5168\u3066\u306e\u91cf\u5b50\u30d3\u30c3\u30c8\u9593\u306b\u76f8\u4e92\u4f5c\u7528\u304c\u5b58\u5728\u3059\u308b\u3001\u5168\u7d50\u5408\u306e\u554f\u984c\u3067\u3042\u308b\u3053\u3068\u304c\u5206\u304b\u308a\u307e\u3059\u3002"
            ]
        },
        {
            "cell_type": "markdown",
            "metadata": {},
            "source": [
                "#### \u30a4\u30b8\u30f3\u30b0\u30e2\u30c7\u30eb\n",
                "\n",
                "\u30a4\u30b8\u30f3\u30b0\u30e2\u30c7\u30eb\u3068QUBO\u306e\u76f8\u4e92\u5909\u63db\u306e\u5f0f\u304b\u3089\u3001\u6570\u5206\u5272\u554f\u984c\u3092\u30a4\u30b8\u30f3\u30b0\u30e2\u30c7\u30eb\u3067\u8868\u3059\u3068\u4ee5\u4e0b\u306e\u3088\u3046\u306a\u7c21\u6f54\u306a\u5f0f\u3067\u8868\u3055\u308c\u307e\u3059\u3002\n",
                "\n",
                "$$\n",
                "H\\left(\\left\\{\\sigma_{i}\\right\\}\\right) = \\left(\\sum_{i} c_{i} \\sigma_{i}\\right)^2\n",
                "$$\n",
                "\n",
                "QUBO\u3068\u540c\u69d8\u306b\u3001D-Wave\u30de\u30b7\u30f3\u306b\u554f\u984c\u3092\u6295\u3052\u308b\u305f\u3081\u306b\u306f$h_{i}$\u3068$J_{i j}$\u306e\u5024\u304c\u5fc5\u8981\u3067\u3059\u3002$\\sigma_{i}^2 = 1$\u3067\u3042\u308b\u3053\u3068\u306b\u6ce8\u610f\u3057\u3066\u3001$H\\left(\\left{\\sigma_{i}\\right\\}\\right)$\u3092\u5c55\u958b\u3057\u307e\u3057\u3087\u3046\u3002\n",
                "\n",
                "$$\n",
                "H\\left(\\left\\{\\sigma_{i}\\right\\}\\right) = \\sum_{i} c_{i}^2 \\sigma_{i}^2 + 2 \\sum_{i < j} c_{i} c_{j} \\sigma_{i} \\sigma_{j} = \\sum_{i} c_{i}^2 + 2 \\sum_{i < j} c_{i} c_{j} \\sigma_{i} \\sigma_{j}\n",
                "$$\n",
                "\n",
                "\u3088\u3063\u3066\n",
                "\n",
                "$$h_{i} = 0$$\n",
                "\n",
                "$$J_{i j} = 2 c_{i} c_{j}$$\n",
                "\n",
                "\u3068\u306a\u308a\u307e\u3059\u3002\n",
                "\n",
                "> QUBO\u3067\u306e\u8b70\u8ad6\u3068\u540c\u69d8\u306b\u3001\u5b9a\u6570\u9805\u306f\u7121\u8996\u3057\u307e\u3059\u3002"
            ]
        },
        {
            "cell_type": "code",
            "execution_count": 10,
            "metadata": {
                "ExecuteTime": {
                    "end_time": "2019-04-15T12:30:59.108701Z",
                    "start_time": "2019-04-15T12:30:59.103910Z"
                }
            },
            "outputs": [],
            "source": [
                "# h_i\u3068J_ij\u3092\u5b9a\u7fa9\u3057\u307e\u3059\u3002\n",
                "h = {}\n",
                "J = {}\n",
                "for i in range(N):\n",
                "    h[i] = 0\n",
                "    for j in range(i + 1, N):\n",
                "        J[i, j] = 2 * C[i] * C[j]"
            ]
        },
        {
            "cell_type": "markdown",
            "metadata": {},
            "source": [
                "\u3061\u306a\u307f\u306b\u3001Ocean\u306e\u57fa\u672c\u7684\u306a\u30e9\u30a4\u30d6\u30e9\u30ea\u3067\u3042\u308bdimod\u306e.BinaryQuadraticModel()\u3092\u7528\u3044\u308b\u3053\u3068\u3067\u3001\u30a4\u30b8\u30f3\u30b0\u30e2\u30c7\u30eb\u3068QUBO\u306e\u76f8\u4e92\u5909\u63db\u304c\u53ef\u80fd\u3067\u3059\u3002\n",
                "\n",
                "- .BinaryQuadraticModel(linear, quadratic, offset, vartype)\n",
                "    * linear: dict, h_i(\u3082\u3057\u304f\u306fQ_{ii})\u3092\u8f9e\u66f8\u578b\u3067\u5165\u308c\u307e\u3059\u3002\n",
                "    * quadratic: dict, J_ij(\u3082\u3057\u304f\u306fQ_{ij})\u3092\u8f9e\u66f8\u578b\u3067\u5165\u308c\u307e\u3059\u3002\n",
                "    * offset: number, \u5909\u63db\u3059\u308b\u969b\u306e\u30a8\u30cd\u30eb\u30ae\u30fc\u30aa\u30d5\u30bb\u30c3\u30c8\u3092\u6307\u5b9a\u3057\u307e\u3059\u3002\n",
                "    * vartype: \u30a4\u30f3\u30d7\u30c3\u30c8\u3068\u3057\u3066\u5165\u308c\u308b\u5909\u6570\u304c\u30a4\u30b8\u30f3\u30b0\u30e2\u30c7\u30eb\u306e\u5834\u5408\u306f'SPIN'\u3092\u3001QUBO\u306e\u5834\u5408\u306f'BINARY'\u3092\u6307\u5b9a\u3057\u307e\u3059\u3002"
            ]
        },
        {
            "cell_type": "code",
            "execution_count": 14,
            "metadata": {
                "ExecuteTime": {
                    "end_time": "2019-04-15T12:30:59.185784Z",
                    "start_time": "2019-04-15T12:30:59.111952Z"
                }
            },
            "outputs": [],
            "source": [
                "import dimod"
            ]
        },
        {
            "cell_type": "code",
            "execution_count": 15,
            "metadata": {
                "ExecuteTime": {
                    "end_time": "2019-04-15T12:30:59.194658Z",
                    "start_time": "2019-04-15T12:30:59.188913Z"
                },
                "scrolled": true
            },
            "outputs": [],
            "source": [
                "# \u30a4\u30b8\u30f3\u30b0\u30e2\u30c7\u30eb\u304b\u3089QUBO\u3078\u306e\u5909\u63db\u3092\u884c\u3044\u307e\u3059\u3002\n",
                "model = dimod.BinaryQuadraticModel(h, J, 0.0, vartype='SPIN')\n",
                "qubo, offset = model.to_qubo()"
            ]
        },
        {
            "cell_type": "code",
            "execution_count": 16,
            "metadata": {
                "ExecuteTime": {
                    "end_time": "2019-04-15T12:30:59.337789Z",
                    "start_time": "2019-04-15T12:30:59.197763Z"
                }
            },
            "outputs": [
                {
                    "data": {
                        "image/png": "[encoded data removed]",
                        "text/plain": [
                            "<Figure size 432x288 with 2 Axes>"
                        ]
                    },
                    "metadata": {
                        "needs_background": "light"
                    },
                    "output_type": "display_data"
                }
            ],
            "source": [
                "show_qubo(qubo)"
            ]
        },
        {
            "cell_type": "markdown",
            "metadata": {},
            "source": [
                "\u3053\u3053\u307e\u3067\u3001$Q_{i i}, Q_{i j}$\u3084$h_{i}, J_{i j}$\u3068\u3044\u3063\u305f\u4fc2\u6570\u884c\u5217\u3092\u6c42\u3081\u308b\u305f\u3081\u306b\u3001\u69cb\u6210\u3057\u305f\u30cf\u30df\u30eb\u30c8\u30cb\u30a2\u30f3\u3092\u5c55\u958b\u3057\u307e\u3057\u305f\u3002\u3057\u304b\u3057\u3001\u3088\u308a\u8907\u96d1\u306a\u30cf\u30df\u30eb\u30c8\u30cb\u30a2\u30f3\u3092\u6271\u3046\u5834\u5408\u306b\u306f\u624b\u8a08\u7b97\u304c\u3088\u308a\u8907\u96d1\u306b\u306a\u308a\u3001\u8a08\u7b97\u30df\u30b9\u304c\u751f\u3058\u308b\u53ef\u80fd\u6027\u304c\u3042\u308a\u307e\u3059\u3002  \n",
                "\u305d\u3053\u3067\u3001(\u682a)\u30ea\u30af\u30eb\u30fc\u30c8\u30b3\u30df\u30e5\u30cb\u30b1\u30fc\u30b7\u30e7\u30f3\u30ba\u304c\u958b\u767a\u3057\u3066\u3044\u308b\u30c9\u30e1\u30a4\u30f3\u56fa\u6709\u8a00\u8a9e**PyQUBO**\u3092\u7528\u3044\u308b\u3053\u3068\u3067\u3001\u30cf\u30df\u30eb\u30c8\u30cb\u30a2\u30f3\u3092\u5c55\u958b\u3059\u308b\u3053\u3068\u306a\u304fQUBO\u3084\u30a4\u30b8\u30f3\u30b0\u30e2\u30c7\u30eb\u3092\u4f5c\u6210\u3059\u308b\u4e8b\u304c\u3067\u304d\u307e\u3059\u3002PyQUBO\u306e\u4f7f\u3044\u65b9\u306b\u3064\u3044\u3066\u306f\u4ee5\u4e0b\u306e\u30c9\u30ad\u30e5\u30e1\u30f3\u30c8\u3092\u53c2\u7167\u304f\u3060\u3055\u3044\u3002\n",
                "\n",
                "* Github: https://github.com/recruit-communications/pyqubo  \n",
                "* Document: https://pyqubo.readthedocs.io/en/latest/\n",
                "* OpenJijTutorial: https://github.com/OpenJij/OpenJijTutorial/blob/master/3-PyQUBO_2_OpenJij.ipynb  \n",
                "* Qiita: https://qiita.com/ynntech/items/fcfe7caf49f6a8eb3c53"
            ]
        },
        {
            "cell_type": "markdown",
            "metadata": {},
            "source": [
                "## D-Wave\u30de\u30b7\u30f3\u306b\u3088\u308b\u6700\u9069\u5316\n",
                "\n",
                "\u305d\u308c\u3067\u306f\u4e0a\u8a18\u306e\u6570\u5206\u5272\u554f\u984c\u3092\u3001D-Wave\u30de\u30b7\u30f3\u3092\u7528\u3044\u3066\u6700\u9069\u5316\u3059\u308b\u3053\u3068\u3092\u8003\u3048\u307e\u3057\u3087\u3046\u3002\u3053\u306e\u30c1\u30e5\u30fc\u30c8\u30ea\u30a2\u30eb\u3067\u306f\u3001(1)\u5358\u7d14\u306b\u89e3\u304f\u5834\u5408 (2)\u8aad\u307f\u53d6\u308a\u56de\u6570\u3092\u5909\u3048\u305f\u5834\u5408\u3001 (3)\u30a2\u30cb\u30fc\u30ea\u30f3\u30b0\u6642\u9593\u3092\u5909\u3048\u305f\u5834\u5408\u3092\u898b\u3066\u307f\u307e\u3059\u3002\n",
                "\n",
                "### \u30a4\u30b8\u30f3\u30b0\u30e2\u30c7\u30eb\u3092\u89e3\u304f\n",
                "\n",
                "D-Wave\u30de\u30b7\u30f3\u306e\u30b5\u30f3\u30d7\u30e9\u30fc\u306fDWaveSampler()\u3001\u3055\u3089\u306b\u554f\u984c\u3092D-Wave\u30de\u30b7\u30f3\u306e\u30ad\u30e1\u30e9\u30b0\u30e9\u30d5\u306b\u57cb\u3081\u8fbc\u3080\u305f\u3081\u306bEmbeddingComposite()\u3092\u4f7f\u7528\u3057\u307e\u3059\u3002"
            ]
        },
        {
            "cell_type": "code",
            "execution_count": 90,
            "metadata": {
                "ExecuteTime": {
                    "end_time": "2019-04-15T12:31:01.159068Z",
                    "start_time": "2019-04-15T12:30:59.340179Z"
                }
            },
            "outputs": [],
            "source": [
                "from dwave.system.samplers import DWaveSampler\n",
                "from dwave.system.composites import EmbeddingComposite"
            ]
        },
        {
            "cell_type": "code",
            "execution_count": 91,
            "metadata": {
                "ExecuteTime": {
                    "end_time": "2019-04-15T12:31:02.135118Z",
                    "start_time": "2019-04-15T12:31:01.161905Z"
                }
            },
            "outputs": [],
            "source": [
                "# \u63a5\u7d9a\u60c5\u5831\u3092\u30aa\u30d7\u30b7\u30e7\u30f3\u3068\u3057\u3066\u6e21\u3059\u5834\u5408\u306f\u4ee5\u4e0b\u306e\u3088\u3046\u306b\u3057\u307e\u3059\u3002\n",
                "endpoint = 'https://cloud.dwavesys.com/sapi'\n",
                "token = '##########'\n",
                "solver = 'DW_2000Q_VFYC_5'\n",
                "\n",
                "# DWaveSampler\u3092\u7528\u3044\u307e\u3059\u3002\n",
                "dw = DWaveSampler(endpoint=endpoint, token=token, solver=solver)\n",
                "# \u30ad\u30e1\u30e9\u30b0\u30e9\u30d5\u306b\u57cb\u3081\u8fbc\u307f\u3092\u884c\u3044\u307e\u3059\u3002\n",
                "sampler = EmbeddingComposite(dw)"
            ]
        },
        {
            "cell_type": "code",
            "execution_count": 107,
            "metadata": {
                "ExecuteTime": {
                    "end_time": "2019-04-15T12:31:03.906310Z",
                    "start_time": "2019-04-15T12:31:02.137216Z"
                }
            },
            "outputs": [],
            "source": [
                "# \u30a4\u30b8\u30f3\u30b0\u30e2\u30c7\u30eb\u306e\u5834\u5408\u306f\u4ee5\u4e0b\u3092\u4f7f\u7528\u3057\u307e\u3059\u3002\n",
                "response = sampler.sample_ising(h, J, num_reads=100)\n",
                "\n",
                "# QUBO\u306e\u5834\u5408\u306f\u4ee5\u4e0b\u3092\u4f7f\u7528\u3057\u307e\u3059\u3002\n",
                "# response = sampler.sample_qubo(Q, num_reads=100)"
            ]
        },
        {
            "cell_type": "markdown",
            "metadata": {},
            "source": [
                "\u5f97\u3089\u308c\u305f\u7d50\u679c\u3092\u78ba\u8a8d\u3057\u3066\u307f\u307e\u3057\u3087\u3046\u3002\u89e3\u306e\u72b6\u614b\u3001\u30a8\u30cd\u30eb\u30ae\u30fc\u3001\u305d\u306e\u72b6\u614b\u306e\u767a\u751f\u56de\u6570\u3001D-Wave\u30de\u30b7\u30f3\u306e\u30b0\u30e9\u30d5\u306b\u304a\u3044\u3066\u58ca\u308c\u305f\u30c1\u30a7\u30fc\u30f3\u306e\u5272\u5408\u3092.record\u3067\u898b\u308b\u3053\u3068\u304c\u3067\u304d\u307e\u3059\u3002"
            ]
        },
        {
            "cell_type": "code",
            "execution_count": 108,
            "metadata": {
                "ExecuteTime": {
                    "end_time": "2019-04-15T12:31:03.913301Z",
                    "start_time": "2019-04-15T12:31:03.908557Z"
                }
            },
            "outputs": [
                {
                    "data": {
                        "text/plain": [
                            "rec.array([([ 1, -1,  1,  1,  1,  1, -1,  1,  1, -1], -226., 1, 0.8),\n",
                            "           ([-1,  1, -1,  1,  1, -1,  1, -1,  1,  1],   30., 2, 0.8),\n",
                            "           ([-1,  1, -1,  1, -1, -1,  1, -1,  1,  1], -270., 1, 0.8),\n",
                            "           ([-1,  1, -1,  1, -1, -1,  1, -1,  1,  1], -270., 2, 0.8),\n",
                            "           ([-1,  1, -1,  1,  1, -1,  1, -1, -1,  1], -174., 1, 0.8),\n",
                            "           ([ 1, -1,  1, -1, -1,  1, -1,  1,  1, -1], -174., 1, 0.8),\n",
                            "           ([-1,  1, -1,  1,  1, -1,  1, -1,  1,  1],   30., 2, 0.8),\n",
                            "           ([ 1, -1,  1, -1, -1,  1, -1,  1,  1, -1], -174., 1, 0.8),\n",
                            "           ([ 1, -1,  1, -1,  1,  1, -1,  1, -1, -1], -270., 1, 0.8),\n",
                            "           ([ 1, -1,  1, -1, -1,  1, -1,  1,  1, -1], -174., 1, 0.8),\n",
                            "           ([-1,  1,  1,  1, -1, -1,  1, -1,  1,  1], -114., 1, 0.8),\n",
                            "           ([-1,  1,  1,  1,  1, -1,  1, -1, -1,  1],   30., 1, 0.8),\n",
                            "           ([ 1, -1,  1, -1,  1,  1, -1,  1, -1, -1], -270., 1, 0.8),\n",
                            "           ([-1,  1, -1,  1, -1, -1,  1, -1,  1,  1], -270., 2, 0.8),\n",
                            "           ([-1,  1, -1,  1, -1, -1,  1, -1,  1,  1], -270., 2, 0.8),\n",
                            "           ([ 1, -1,  1, -1, -1,  1, -1,  1,  1, -1], -174., 1, 0.8),\n",
                            "           ([-1,  1,  1,  1, -1, -1,  1, -1,  1,  1], -114., 1, 0.8),\n",
                            "           ([ 1, -1,  1,  1,  1,  1, -1,  1, -1, -1], -334., 1, 0.8),\n",
                            "           ([-1,  1, -1,  1,  1, -1,  1, -1,  1,  1],   30., 1, 0.8),\n",
                            "           ([ 1, -1,  1, -1,  1,  1, -1,  1, -1, -1], -270., 3, 0.8),\n",
                            "           ([-1,  1,  1,  1, -1, -1,  1, -1,  1,  1], -114., 1, 0.8),\n",
                            "           ([-1,  1, -1,  1,  1, -1,  1,  1, -1,  1],  206., 2, 0.8),\n",
                            "           ([-1,  1,  1,  1, -1, -1,  1, -1,  1,  1], -114., 2, 0.8),\n",
                            "           ([ 1, -1,  1,  1, -1,  1, -1,  1,  1, -1], -366., 1, 0.8),\n",
                            "           ([ 1, -1,  1,  1, -1,  1, -1,  1,  1, -1], -366., 1, 0.8),\n",
                            "           ([-1,  1,  1,  1,  1, -1,  1, -1, -1,  1],   30., 3, 0.8),\n",
                            "           ([ 1, -1,  1, -1,  1,  1, -1,  1,  1, -1], -354., 1, 0.8),\n",
                            "           ([-1,  1,  1,  1,  1, -1,  1, -1,  1,  1],  306., 1, 0.8),\n",
                            "           ([-1,  1, -1,  1,  1, -1, -1, -1,  1,  1], -366., 1, 0.8),\n",
                            "           ([-1,  1, -1,  1, -1, -1,  1,  1,  1,  1],   30., 3, 0.8),\n",
                            "           ([-1,  1,  1,  1,  1, -1,  1, -1, -1,  1],   30., 1, 0.8),\n",
                            "           ([ 1, -1,  1, -1,  1,  1,  1,  1, -1, -1], -306., 4, 0.8),\n",
                            "           ([ 1, -1, -1, -1,  1,  1, -1,  1,  1, -1], -270., 1, 0.8),\n",
                            "           ([ 1, -1,  1, -1, -1,  1,  1,  1,  1, -1], -354., 2, 0.8),\n",
                            "           ([-1,  1, -1,  1,  1, -1,  1, -1,  1,  1],   30., 2, 0.8),\n",
                            "           ([-1,  1,  1, -1,  1, -1,  1, -1,  1,  1], -270., 1, 0.8),\n",
                            "           ([-1,  1, -1,  1,  1, -1, -1, -1,  1,  1], -366., 4, 0.8),\n",
                            "           ([-1,  1,  1,  1,  1, -1,  1, -1, -1,  1],   30., 1, 0.8),\n",
                            "           ([-1,  1,  1,  1, -1, -1,  1, -1,  1,  1], -114., 2, 0.8),\n",
                            "           ([-1,  1,  1,  1, -1, -1,  1, -1,  1,  1], -114., 1, 0.8),\n",
                            "           ([ 1, -1,  1, -1,  1,  1, -1,  1,  1, -1], -354., 1, 0.8),\n",
                            "           ([ 1, -1,  1,  1,  1,  1, -1,  1, -1, -1], -334., 1, 0.8),\n",
                            "           ([-1,  1,  1,  1,  1, -1,  1, -1, -1,  1],   30., 1, 0.8),\n",
                            "           ([ 1, -1,  1, -1,  1,  1,  1,  1, -1, -1], -306., 1, 0.8),\n",
                            "           ([-1,  1, -1,  1, -1, -1,  1,  1,  1,  1],   30., 1, 0.8),\n",
                            "           ([ 1, -1,  1, -1,  1,  1, -1,  1,  1, -1], -354., 1, 0.8),\n",
                            "           ([ 1, -1,  1, -1, -1,  1,  1,  1,  1, -1], -354., 1, 0.8),\n",
                            "           ([-1,  1, -1,  1,  1, -1, -1, -1,  1,  1], -366., 1, 0.8),\n",
                            "           ([ 1, -1,  1, -1,  1,  1,  1,  1, -1, -1], -306., 1, 0.8),\n",
                            "           ([ 1, -1,  1,  1, -1,  1, -1,  1,  1, -1], -366., 2, 0.8),\n",
                            "           ([-1,  1, -1, -1,  1, -1,  1, -1,  1,  1], -354., 1, 0.8),\n",
                            "           ([-1,  1,  1, -1,  1, -1,  1, -1,  1,  1], -270., 2, 0.8),\n",
                            "           ([-1,  1, -1,  1,  1, -1,  1, -1,  1,  1],   30., 1, 0.8),\n",
                            "           ([ 1, -1, -1,  1, -1,  1, -1,  1,  1, -1], -354., 1, 1. ),\n",
                            "           ([-1,  1,  1,  1,  1, -1,  1, -1,  1,  1],  306., 3, 1. ),\n",
                            "           ([ 1, -1, -1,  1,  1,  1, -1,  1,  1, -1], -334., 1, 1. ),\n",
                            "           ([ 1, -1,  1,  1, -1,  1, -1,  1,  1, -1], -366., 1, 1. ),\n",
                            "           ([ 1, -1, -1, -1, -1,  1,  1,  1,  1, -1], -366., 1, 1. ),\n",
                            "           ([ 1, -1, -1,  1,  1,  1, -1,  1, -1, -1], -370., 1, 1. ),\n",
                            "           ([-1,  1,  1,  1, -1, -1, -1, -1,  1,  1], -366., 1, 1. ),\n",
                            "           ([ 1, -1,  1, -1,  1,  1,  1, -1,  1, -1], -354., 2, 1. ),\n",
                            "           ([ 1, -1,  1,  1,  1,  1, -1, -1,  1, -1], -366., 2, 1. ),\n",
                            "           ([-1,  1,  1, -1,  1, -1,  1, -1,  1,  1], -270., 1, 1. ),\n",
                            "           ([-1,  1,  1, -1, -1, -1,  1, -1,  1,  1], -370., 1, 1. ),\n",
                            "           ([-1,  1,  1,  1,  1, -1, -1, -1,  1,  1], -306., 1, 1. ),\n",
                            "           ([ 1, -1, -1,  1,  1,  1, -1,  1, -1, -1], -370., 1, 1. ),\n",
                            "           ([-1,  1,  1,  1,  1, -1, -1, -1,  1,  1], -306., 1, 1. ),\n",
                            "           ([-1,  1,  1,  1, -1, -1, -1, -1,  1,  1], -366., 1, 1. ),\n",
                            "           ([-1,  1, -1,  1,  1, -1, -1,  1, -1,  1], -334., 1, 1. ),\n",
                            "           ([-1,  1, -1,  1, -1, -1,  1,  1,  1,  1],   30., 1, 1. ),\n",
                            "           ([ 1, -1, -1,  1,  1,  1, -1,  1,  1, -1], -334., 1, 1. ),\n",
                            "           ([-1,  1,  1, -1,  1, -1,  1, -1,  1,  1], -270., 1, 1. )],\n",
                            "          dtype=[('sample', 'i1', (10,)), ('energy', '<f8'), ('num_occurrences', '<i8'), ('chain_break_fraction', '<f8')])"
                        ]
                    },
                    "execution_count": 108,
                    "metadata": {},
                    "output_type": "execute_result"
                }
            ],
            "source": [
                "response.record"
            ]
        },
        {
            "cell_type": "markdown",
            "metadata": {},
            "source": [
                "\u3053\u306e\u4e2d\u306b\u6700\u9069\u89e3\u304c\u3069\u306e\u304f\u3089\u3044\u542b\u307e\u308c\u3066\u3044\u308b\u304b\u3092\u8abf\u3079\u3066\u307f\u307e\u3057\u3087\u3046\u3002\u3053\u3053\u3067\u306f\u6700\u9069\u89e3\u304b\u3069\u3046\u304b\u3092\u5224\u5225\u3059\u308b\u305f\u3081\u306b\u3001\u305d\u308c\u305e\u308c\u306e\u89e3\u306e\u30a8\u30cd\u30eb\u30ae\u30fc\u5024\u3092\u6c42\u3081\u307e\u3059\u3002"
            ]
        },
        {
            "cell_type": "code",
            "execution_count": 109,
            "metadata": {
                "ExecuteTime": {
                    "end_time": "2019-04-15T12:31:03.922283Z",
                    "start_time": "2019-04-15T12:31:03.916047Z"
                }
            },
            "outputs": [],
            "source": [
                "def calcurate_energy(solution, vartype='BINARY'):\n",
                "    if vartype == 'BINARY':\n",
                "        ene = sum(C) ** 2  # offset\n",
                "        for i in range(N):\n",
                "            ene += Q[i, i] * solution[i]\n",
                "            for j in range(i + 1, N):\n",
                "                ene += Q[i, j] * solution[i] * solution[j]\n",
                "    elif vartype == 'SPIN':\n",
                "        ene = sum(C[i] ** 2 for i in range(N))\n",
                "        for i in range(N):\n",
                "            for j in range(i + 1, N):\n",
                "                ene += J[i, j] * solution[i] * solution[j]\n",
                "    else:\n",
                "        raise ValueError(\"vartype mast be 'BINARY' or 'SPIN'.\")\n",
                "\n",
                "    return ene"
            ]
        },
        {
            "cell_type": "code",
            "execution_count": 110,
            "metadata": {},
            "outputs": [],
            "source": [
                "# \u6700\u9069\u89e3\u304c\u51fa\u305f\u56de\u6570\u3092\u6570\u3048\u4e0a\u3052\u307e\u3059\u3002\n",
                "num_optimal_sol = 0\n",
                "optimal_sol = []\n",
                "twenty_sol = []\n",
                "for state in response.record:\n",
                "    # .record\u306e0\u756a\u76ee\u304c\u72b6\u614b\u306e\u30ea\u30b9\u30c8\u30012\u756a\u76ee\u304c\u305d\u306e\u72b6\u614b\u306e\u51fa\u73fe\u56de\u6570\u3067\u3059\u3002\n",
                "    solution = state[0]\n",
                "    num_oc = state[2]\n",
                "    # \u30a8\u30cd\u30eb\u30ae\u30fc\u3092\u8a08\u7b97\u3057\u307e\u3059\u3002\n",
                "    energy = calcurate_energy(solution, vartype='SPIN')\n",
                "    # \u30a8\u30cd\u30eb\u30ae\u30fc(\u7dcf\u548c\u306e\u5dee)\u304c0\u306e\u3068\u304d\u3092\u6570\u3048\u4e0a\u3052\u307e\u3059\u3002\n",
                "    if energy == 0.0:\n",
                "        num_optimal_sol += num_oc\n",
                "        optimal_sol.append(solution)\n",
                "    # 20 \u00b5s\u306e\u7d50\u679c\u3092\u4fdd\u5b58\u3057\u3066\u304a\u304d\u307e\u3059(\u3042\u3068\u3067\u4f7f\u7528\u3057\u307e\u3059)\u3002\n",
                "    twenty_sol.append(solution)"
            ]
        },
        {
            "cell_type": "code",
            "execution_count": 111,
            "metadata": {
                "ExecuteTime": {
                    "end_time": "2019-04-15T12:31:03.948076Z",
                    "start_time": "2019-04-15T12:31:03.944016Z"
                }
            },
            "outputs": [
                {
                    "data": {
                        "text/plain": [
                            "3"
                        ]
                    },
                    "execution_count": 111,
                    "metadata": {},
                    "output_type": "execute_result"
                }
            ],
            "source": [
                "num_optimal_sol"
            ]
        },
        {
            "cell_type": "markdown",
            "metadata": {},
            "source": [
                "\u6700\u9069\u89e3\u304c\u91cd\u8907\u3092\u542b\u3081\u30663\u500b\u5f97\u3089\u308c\u307e\u3057\u305f\u30022\u3064\u306e\u30b0\u30eb\u30fc\u30d7\u306f\u4ee5\u4e0b\u306e\u3088\u3046\u306b\u306a\u3063\u3066\u3044\u307e\u3059\u3002"
            ]
        },
        {
            "cell_type": "code",
            "execution_count": 113,
            "metadata": {},
            "outputs": [
                {
                    "name": "stdout",
                    "output_type": "stream",
                    "text": [
                        "[ 1 -1 -1  1  1  1 -1  1 -1 -1]\n",
                        "Group A:  [2, 8, 5, 7, 5] , Sum =  27\n",
                        "Group B:  [10, 3, 9, 3, 2] , Sum =  27\n",
                        "[-1  1  1 -1 -1 -1  1 -1  1  1]\n",
                        "Group A:  [10, 3, 9, 3, 2] , Sum =  27\n",
                        "Group B:  [2, 8, 5, 7, 5] , Sum =  27\n",
                        "[ 1 -1 -1  1  1  1 -1  1 -1 -1]\n",
                        "Group A:  [2, 8, 5, 7, 5] , Sum =  27\n",
                        "Group B:  [10, 3, 9, 3, 2] , Sum =  27\n"
                    ]
                }
            ],
            "source": [
                "for solution in optimal_sol:\n",
                "    group_A = [C[i] for i, s in enumerate(solution) if s==1]\n",
                "    group_B = [C[i] for i, s in enumerate(solution) if s==-1]\n",
                "    print(solution)\n",
                "    print('Group A: ', group_A, ', Sum = ', sum(group_A))\n",
                "    print('Group B: ', group_B, ', Sum = ', sum(group_B))"
            ]
        },
        {
            "cell_type": "markdown",
            "metadata": {},
            "source": [
                "2\u3064\u306e\u30b0\u30eb\u30fc\u30d7\u306e\u7dcf\u548c\u304c\u3044\u305a\u308c\u3082\u7b49\u3057\u3044\u3001\u6700\u9069\u89e3\u3092\u5f97\u308b\u3053\u3068\u304c\u3067\u304d\u307e\u3057\u305f\u3002  \n",
                "\u307e\u305f\u3001D-Wave\u30de\u30b7\u30f3\u304b\u3089\u8fd4\u3055\u308c\u308b\u7d50\u679c\u306b\u306f\u3001\u89e3\u4ee5\u5916\u306b\u3082\u69d8\u3005\u306a\u60c5\u5831\u304c\u542b\u307e\u308c\u3066\u3044\u307e\u3059\u3002\u8a73\u7d30\u306f[SampleSet](https://docs.ocean.dwavesys.com/projects/dimod/en/latest/reference/sampleset.html#dimod.SampleSet)\u306e\u30c9\u30ad\u30e5\u30e1\u30f3\u30c8\u3092\u53c2\u7167\u3057\u3066\u304f\u3060\u3055\u3044\u3002\n",
                "\n",
                "`data_vectors`\u3067\u306f\u30a8\u30cd\u30eb\u30ae\u30fc\u3001\u72b6\u614b\u306e\u51fa\u73fe\u56de\u6570\u3001D-Wave\u30de\u30b7\u30f3\u306e\u30b0\u30e9\u30d5\u306b\u304a\u3044\u3066\u58ca\u308c\u305f\u30c1\u30a7\u30fc\u30f3\u306e\u5272\u5408\u306e\u307f\u3092\u30ea\u30b9\u30c8\u3067\u78ba\u8a8d\u3059\u308b\u3053\u3068\u304c\u3067\u304d\u307e\u3059\u3002"
            ]
        },
        {
            "cell_type": "code",
            "execution_count": 114,
            "metadata": {
                "ExecuteTime": {
                    "end_time": "2019-04-15T12:31:03.970593Z",
                    "start_time": "2019-04-15T12:31:03.961694Z"
                }
            },
            "outputs": [
                {
                    "data": {
                        "text/plain": [
                            "{'energy': array([-226.,   30., -270., -270., -174., -174.,   30., -174., -270.,\n",
                            "        -174., -114.,   30., -270., -270., -270., -174., -114., -334.,\n",
                            "          30., -270., -114.,  206., -114., -366., -366.,   30., -354.,\n",
                            "         306., -366.,   30.,   30., -306., -270., -354.,   30., -270.,\n",
                            "        -366.,   30., -114., -114., -354., -334.,   30., -306.,   30.,\n",
                            "        -354., -354., -366., -306., -366., -354., -270.,   30., -354.,\n",
                            "         306., -334., -366., -366., -370., -366., -354., -366., -270.,\n",
                            "        -370., -306., -370., -306., -366., -334.,   30., -334., -270.]),\n",
                            " 'num_occurrences': array([1, 2, 1, 2, 1, 1, 2, 1, 1, 1, 1, 1, 1, 2, 2, 1, 1, 1, 1, 3, 1, 2,\n",
                            "        2, 1, 1, 3, 1, 1, 1, 3, 1, 4, 1, 2, 2, 1, 4, 1, 2, 1, 1, 1, 1, 1,\n",
                            "        1, 1, 1, 1, 1, 2, 1, 2, 1, 1, 3, 1, 1, 1, 1, 1, 2, 2, 1, 1, 1, 1,\n",
                            "        1, 1, 1, 1, 1, 1]),\n",
                            " 'chain_break_fraction': array([0.8, 0.8, 0.8, 0.8, 0.8, 0.8, 0.8, 0.8, 0.8, 0.8, 0.8, 0.8, 0.8,\n",
                            "        0.8, 0.8, 0.8, 0.8, 0.8, 0.8, 0.8, 0.8, 0.8, 0.8, 0.8, 0.8, 0.8,\n",
                            "        0.8, 0.8, 0.8, 0.8, 0.8, 0.8, 0.8, 0.8, 0.8, 0.8, 0.8, 0.8, 0.8,\n",
                            "        0.8, 0.8, 0.8, 0.8, 0.8, 0.8, 0.8, 0.8, 0.8, 0.8, 0.8, 0.8, 0.8,\n",
                            "        0.8, 1. , 1. , 1. , 1. , 1. , 1. , 1. , 1. , 1. , 1. , 1. , 1. ,\n",
                            "        1. , 1. , 1. , 1. , 1. , 1. , 1. ])}"
                        ]
                    },
                    "execution_count": 114,
                    "metadata": {},
                    "output_type": "execute_result"
                }
            ],
            "source": [
                "response.data_vectors"
            ]
        },
        {
            "cell_type": "markdown",
            "metadata": {},
            "source": [
                "`info`\u3067\u306f\u5b9f\u884c\u6642\u306eQPU(Quantum Processing Unit)\u306b\u95a2\u3059\u308b\u60c5\u5831\u306e\u4e00\u89a7\u3092\u78ba\u8a8d\u3059\u308b\u3053\u3068\u304c\u3067\u304d\u307e\u3059\u3002"
            ]
        },
        {
            "cell_type": "code",
            "execution_count": 115,
            "metadata": {
                "ExecuteTime": {
                    "end_time": "2019-04-15T12:31:03.978576Z",
                    "start_time": "2019-04-15T12:31:03.973416Z"
                }
            },
            "outputs": [
                {
                    "data": {
                        "text/plain": [
                            "{'timing': {'qpu_sampling_time': 31496,\n",
                            "  'qpu_anneal_time_per_sample': 20,\n",
                            "  'qpu_readout_time_per_sample': 274,\n",
                            "  'qpu_access_time': 40886,\n",
                            "  'qpu_access_overhead_time': 2407,\n",
                            "  'qpu_programming_time': 9390,\n",
                            "  'qpu_delay_time_per_sample': 21,\n",
                            "  'total_post_processing_time': 1355,\n",
                            "  'post_processing_overhead_time': 1355,\n",
                            "  'total_real_time': 40886,\n",
                            "  'run_time_chip': 31496,\n",
                            "  'anneal_time_per_run': 20,\n",
                            "  'readout_time_per_run': 274},\n",
                            " 'problem_id': '7a565c51-5378-430b-a5d3-c957cf832d02'}"
                        ]
                    },
                    "execution_count": 115,
                    "metadata": {},
                    "output_type": "execute_result"
                }
            ],
            "source": [
                "response.info"
            ]
        },
        {
            "cell_type": "markdown",
            "metadata": {},
            "source": [
                "### \u8aad\u307f\u53d6\u308a\u56de\u6570\u3092\u5909\u3048\u3066\u307f\u308b\n",
                "\n",
                "\u6b21\u306b\u3001\u8aad\u307f\u53d6\u308a\u56de\u6570\u3092\u5909\u3048\u305f\u5834\u5408\u306b\u5f97\u3089\u308c\u308b\u89e3\u304c\u3069\u306e\u3088\u3046\u306b\u5909\u308f\u308b\u304b\u3092\u898b\u3066\u307f\u307e\u3057\u3087\u3046\u3002  \n",
                "sample_ising()\u307e\u305f\u306fsample_qubo()\u306e`num_reads`\u306b\u5024\u3092\u8a2d\u5b9a\u3059\u308b\u3053\u3068\u3067\u3001\u8aad\u307f\u53d6\u308a\u56de\u6570\u3092\u6307\u5b9a\u3067\u304d\u307e\u3059\u3002  \n",
                "num_reads\u306e\u30c7\u30d5\u30a9\u30eb\u30c8\u5024\u306f1\u3067\u3059\u3002\u5148\u307b\u3069\u306f100\u56de\u3067\u3057\u305f\u306e\u3067\u3001\u4eca\u5ea6\u306f1000\u56de\u3067\u5b9f\u884c\u3057\u3066\u307f\u307e\u3057\u3087\u3046\u3002"
            ]
        },
        {
            "cell_type": "code",
            "execution_count": 122,
            "metadata": {
                "ExecuteTime": {
                    "end_time": "2019-04-15T12:31:05.895143Z",
                    "start_time": "2019-04-15T12:31:03.981543Z"
                }
            },
            "outputs": [],
            "source": [
                "# \u30a4\u30b8\u30f3\u30b0\u30e2\u30c7\u30eb\u306e\u5834\u5408\u306f\u4ee5\u4e0b\u3092\u7528\u3044\u307e\u3059\u3002\n",
                "response = sampler.sample_ising(h, J, num_reads=1000)\n",
                "\n",
                "# QUBO\u306e\u5834\u5408\u306f\u4ee5\u4e0b\u3092\u7528\u3044\u307e\u3059\u3002\n",
                "# response = sampler.sample_qubo(Q, num_reads=1000)"
            ]
        },
        {
            "cell_type": "code",
            "execution_count": 123,
            "metadata": {
                "ExecuteTime": {
                    "end_time": "2019-04-15T12:31:06.099249Z",
                    "start_time": "2019-04-15T12:31:06.094114Z"
                }
            },
            "outputs": [],
            "source": [
                "# \u6700\u9069\u89e3\u304c\u51fa\u305f\u56de\u6570\u3092\u6570\u3048\u4e0a\u3052\u307e\u3059\u3002\n",
                "num_optimal_sol = 0\n",
                "optimal_sol = []\n",
                "for state in response.record:\n",
                "    # .record\u306e0\u756a\u76ee\u304c\u72b6\u614b\u306e\u30ea\u30b9\u30c8\u30012\u756a\u76ee\u304c\u305d\u306e\u72b6\u614b\u306e\u51fa\u73fe\u56de\u6570\u3067\u3059\u3002\n",
                "    solution = state[0]\n",
                "    num_oc = state[2]\n",
                "    # \u30a8\u30cd\u30eb\u30ae\u30fc\u3092\u8a08\u7b97\u3057\u307e\u3059\u3002\n",
                "    energy = calcurate_energy(solution, vartype='SPIN')\n",
                "    # \u30a8\u30cd\u30eb\u30ae\u30fc(\u7dcf\u548c\u306e\u5dee)\u304c0\u306e\u3068\u304d\u3092\u6570\u3048\u4e0a\u3052\u307e\u3059\u3002\n",
                "    if energy == 0.0:\n",
                "        num_optimal_sol += num_oc\n",
                "        optimal_sol.append(solution)"
            ]
        },
        {
            "cell_type": "code",
            "execution_count": 124,
            "metadata": {},
            "outputs": [
                {
                    "data": {
                        "text/plain": [
                            "77"
                        ]
                    },
                    "execution_count": 124,
                    "metadata": {},
                    "output_type": "execute_result"
                }
            ],
            "source": [
                "num_optimal_sol"
            ]
        },
        {
            "cell_type": "markdown",
            "metadata": {},
            "source": [
                "\u8aad\u307f\u53d6\u308a\u56de\u6570\u3092\u5897\u3084\u3059\u3053\u3068\u3067\u3001\u5f97\u3089\u308c\u305f\u6700\u9069\u89e3\u306e\u500b\u6570\u304c\u5897\u52a0\u3057\u307e\u3057\u305f\u3002\u4e00\u65b9\u3067\u3001\u30a2\u30cb\u30fc\u30ea\u30f3\u30b0\u6642\u9593(1\u56de\u306e\u30a2\u30cb\u30fc\u30ea\u30f3\u30b0\u306b\u8981\u3059\u308b\u6642\u9593)\u304c20$\\mu s$ (\u30c7\u30d5\u30a9\u30eb\u30c8\u5024)\u3068\u77ed\u3044\u305f\u3081\u3001\u8aad\u307f\u53d6\u308a\u56de\u6570\u3092\u5897\u52a0\u3055\u305b\u3066\u3082\u5b9f\u6642\u9593\u306f\u305d\u308c\u307b\u3069\u5dee\u306f\u3042\u308a\u307e\u305b\u3093\u3002"
            ]
        },
        {
            "cell_type": "code",
            "execution_count": 125,
            "metadata": {
                "ExecuteTime": {
                    "end_time": "2019-04-15T12:31:06.107619Z",
                    "start_time": "2019-04-15T12:31:06.101804Z"
                }
            },
            "outputs": [
                {
                    "data": {
                        "text/plain": [
                            "{'timing': {'qpu_sampling_time': 314960,\n",
                            "  'qpu_anneal_time_per_sample': 20,\n",
                            "  'qpu_readout_time_per_sample': 274,\n",
                            "  'qpu_access_time': 324337,\n",
                            "  'qpu_access_overhead_time': 1875,\n",
                            "  'qpu_programming_time': 9377,\n",
                            "  'qpu_delay_time_per_sample': 21,\n",
                            "  'total_post_processing_time': 18907,\n",
                            "  'post_processing_overhead_time': 18907,\n",
                            "  'total_real_time': 324337,\n",
                            "  'run_time_chip': 314960,\n",
                            "  'anneal_time_per_run': 20,\n",
                            "  'readout_time_per_run': 274},\n",
                            " 'problem_id': 'ac673401-ba8e-4a86-a7ef-b9037f882250'}"
                        ]
                    },
                    "execution_count": 125,
                    "metadata": {},
                    "output_type": "execute_result"
                }
            ],
            "source": [
                "response.info"
            ]
        },
        {
            "cell_type": "markdown",
            "metadata": {},
            "source": [
                "### \u30a2\u30cb\u30fc\u30ea\u30f3\u30b0\u6642\u9593\u3092\u5909\u3048\u3066\u307f\u308b\n",
                "\n",
                "\u6700\u5f8c\u306b\u3001\u30a2\u30cb\u30fc\u30ea\u30f3\u30b0\u6642\u9593\u3092\u5909\u3048\u305f\u5834\u5408\u306b\u5f97\u3089\u308c\u308b\u89e3\u304c\u3069\u306e\u3088\u3046\u306b\u5909\u308f\u308b\u304b\u3092\u898b\u3066\u307f\u307e\u3057\u3087\u3046\u3002\n",
                "sample_ising()\u307e\u305f\u306fsample_qubo()\u306e`annealing_time`\u306b\u5024\u3092\u8a2d\u5b9a\u3059\u308b\u3053\u3068\u3067\u3001\u30a2\u30cb\u30fc\u30ea\u30f3\u30b0\u6642\u9593\u3092\u6307\u5b9a\u3067\u304d\u307e\u3059(\u5358\u4f4d\u306f$\\mu s$)\u3002\u5148\u307b\u3069\u306f\u30c7\u30d5\u30a9\u30eb\u30c8\u5024\u306e20$\\mu s$\u3067\u5b9f\u884c\u3057\u307e\u3057\u305f\u3002\u4eca\u5ea6\u306f50$\\mu s$\u3067\u30a2\u30cb\u30fc\u30ea\u30f3\u30b0\u3092\u884c\u306a\u3063\u3066\u307f\u307e\u3057\u3087\u3046\u3002"
            ]
        },
        {
            "cell_type": "code",
            "execution_count": 126,
            "metadata": {
                "ExecuteTime": {
                    "end_time": "2019-04-15T12:31:07.588543Z",
                    "start_time": "2019-04-15T12:31:06.110248Z"
                }
            },
            "outputs": [],
            "source": [
                "# \u30a4\u30b8\u30f3\u30b0\u30e2\u30c7\u30eb\u306e\u5834\u5408\u306f\u4ee5\u4e0b\u3092\u7528\u3044\u307e\u3059\u3002\n",
                "response = sampler.sample_ising(h, J, num_reads=100, annealing_time=50)\n",
                "\n",
                "# QUBO\u306e\u5834\u5408\u306f\u4ee5\u4e0b\u3092\u7528\u3044\u307e\u3059\u3002\n",
                "# response = sampler.sample_qubo(Q, num_reads=100, annealing_time=50)"
            ]
        },
        {
            "cell_type": "code",
            "execution_count": 127,
            "metadata": {},
            "outputs": [],
            "source": [
                "# \u6700\u9069\u89e3\u304c\u51fa\u305f\u56de\u6570\u3092\u6570\u3048\u4e0a\u3052\u307e\u3059\u3002\n",
                "num_optimal_sol = 0\n",
                "optimal_sol = []\n",
                "fifty_sol = []\n",
                "for state in response.record:\n",
                "    # .record\u306e0\u756a\u76ee\u304c\u72b6\u614b\u306e\u30ea\u30b9\u30c8\u30012\u756a\u76ee\u304c\u305d\u306e\u72b6\u614b\u306e\u51fa\u73fe\u56de\u6570\u3067\u3059\u3002\n",
                "    solution = state[0]\n",
                "    num_oc = state[2]\n",
                "    # \u30a8\u30cd\u30eb\u30ae\u30fc\u3092\u8a08\u7b97\u3057\u307e\u3059\u3002\n",
                "    energy = calcurate_energy(solution, vartype='SPIN')\n",
                "    # \u30a8\u30cd\u30eb\u30ae\u30fc(\u7dcf\u548c\u306e\u5dee)\u304c0\u306e\u3068\u304d\u3092\u6570\u3048\u4e0a\u3052\u307e\u3059\u3002\n",
                "    if energy == 0.0:\n",
                "        num_optimal_sol += num_oc\n",
                "        optimal_sol.append(solution)\n",
                "    # 50\u00b5s\u3067\u306e\u5b9f\u884c\u7d50\u679c\u3092\u4fdd\u5b58\u3057\u307e\u3059\u3002\n",
                "    fifty_sol.append(solution)"
            ]
        },
        {
            "cell_type": "code",
            "execution_count": 128,
            "metadata": {
                "ExecuteTime": {
                    "end_time": "2019-04-15T12:31:07.627347Z",
                    "start_time": "2019-04-15T12:31:07.622746Z"
                }
            },
            "outputs": [
                {
                    "data": {
                        "text/plain": [
                            "6"
                        ]
                    },
                    "execution_count": 128,
                    "metadata": {},
                    "output_type": "execute_result"
                }
            ],
            "source": [
                "num_optimal_sol"
            ]
        },
        {
            "cell_type": "markdown",
            "metadata": {},
            "source": [
                "\u6700\u9069\u89e3\u306e\u56de\u6570\u304c\u5287\u7684\u306b\u5897\u3048\u305f\u3088\u3046\u306b\u306f\u898b\u3048\u307e\u305b\u3093\u3002\u305d\u3053\u3067\u30a2\u30cb\u30fc\u30ea\u30f3\u30b0\u6642\u9593\u3092\u5909\u3048\u305f\u3053\u3068\u3067\u3001\u5f97\u3089\u308c\u305f\u89e3\u306b\u4f55\u304b\u9055\u3044\u304c\u306a\u3044\u304b\u8abf\u3079\u3066\u307f\u307e\u3059\u3002\u3053\u3053\u3067\u306f\u3001\u89e3\u306e\u30a8\u30cd\u30eb\u30ae\u30fc\u306e\u30d2\u30b9\u30c8\u30b0\u30e9\u30e0\u3092\u898b\u3066\u307f\u307e\u3057\u3087\u3046\u3002"
            ]
        },
        {
            "cell_type": "code",
            "execution_count": 129,
            "metadata": {
                "ExecuteTime": {
                    "end_time": "2019-04-15T12:46:43.665208Z",
                    "start_time": "2019-04-15T12:46:43.454787Z"
                }
            },
            "outputs": [
                {
                    "data": {
                        "image/png": "[encoded data removed]",
                        "text/plain": [
                            "<Figure size 432x288 with 1 Axes>"
                        ]
                    },
                    "metadata": {
                        "needs_background": "light"
                    },
                    "output_type": "display_data"
                }
            ],
            "source": [
                "plt.hist([calcurate_energy(solution, vartype='SPIN') for solution in twenty_sol], alpha=0.5, label='20\u03bcs')\n",
                "plt.hist([calcurate_energy(solution, vartype='SPIN') for solution in fifty_sol], alpha=0.5, label='50\u03bcs')\n",
                "plt.xlabel('Energy')\n",
                "plt.ylabel('Frequency')\n",
                "plt.legend()\n",
                "plt.show()"
            ]
        },
        {
            "cell_type": "markdown",
            "metadata": {
                "ExecuteTime": {
                    "end_time": "2019-04-15T12:42:17.112182Z",
                    "start_time": "2019-04-15T12:42:17.104935Z"
                }
            },
            "source": [
                "\u4e0a\u306e\u30d2\u30b9\u30c8\u30b0\u30e9\u30e0\u304b\u3089\u3001\u30a2\u30cb\u30fc\u30ea\u30f3\u30b0\u6642\u9593\u3092\u5897\u52a0\u3055\u305b\u305f\u3053\u3068\u3067\u5f97\u3089\u308c\u305f\u6700\u9069\u89e3\u306e\u500b\u6570\u306f\u6e1b\u5c11\u3057\u307e\u3057\u305f\u304c\u3001\u4f4e\u3044\u30a8\u30cd\u30eb\u30ae\u30fc\u306e\u89e3\u3092\u591a\u304f\u898b\u3064\u3051\u3066\u3044\u308b\u3053\u3068\u304c\u5206\u304b\u308a\u307e\u3059\u3002\u305f\u3060\u3057\u3001\u30a2\u30cb\u30fc\u30ea\u30f3\u30b0\u6642\u9593\u3092\u5927\u304d\u304f\u3059\u308c\u3070\u3044\u3044\u3068\u3044\u3046\u5358\u7d14\u306a\u8a71\u3067\u306f\u3042\u308a\u307e\u305b\u3093\u3002\u30a2\u30cb\u30fc\u30ea\u30f3\u30b0\u6642\u9593\u304c\u5c0f\u3055\u3044\u5834\u5408\u306e\u65b9\u304c\u6700\u9069\u5316\u304c\u3046\u307e\u304f\u3044\u304f\u3053\u3068\u3082\u3042\u308a\u3001\u305d\u306e\u4f9d\u5b58\u95a2\u4fc2\u306f\u305d\u308c\u305e\u308c\u306e\u554f\u984c\u306b\u4f9d\u308a\u307e\u3059\u3002  \n",
                "\u307e\u305f\u3001\u91cf\u5b50\u30a2\u30cb\u30fc\u30ea\u30f3\u30b0\u3092\u306f\u3058\u3081\u3068\u3059\u308b\u30a2\u30cb\u30fc\u30ea\u30f3\u30b0\u6cd5\u306f\u30e1\u30bf\u30d2\u30e5\u30fc\u30ea\u30b9\u30c6\u30a3\u30c3\u30af\u30b9\u306a\u30a2\u30eb\u30b4\u30ea\u30ba\u30e0\u3067\u3042\u308b\u305f\u3081\u3001\u5b9f\u884c\u3059\u308b\u305f\u3073\u306b\u5f97\u3089\u308c\u308b\u7d50\u679c\u306f\u7570\u306a\u308b\u70b9\u306b\u3082\u6ce8\u610f\u3057\u307e\u3057\u3087\u3046\u3002"
            ]
        },
        {
            "cell_type": "markdown",
            "metadata": {},
            "source": [
                "## \u7d50\u8a00\n",
                "\n",
                "\u6570\u5206\u5272\u554f\u984c\u306e\u6700\u9069\u5316\u3092\u901a\u3057\u3066\u3001D-Wave Ocean\u306e\u4f7f\u3044\u65b9\u3092\u7d39\u4ecb\u3057\u307e\u3057\u305f\u3002\u3053\u306e\u30c1\u30e5\u30fc\u30c8\u30ea\u30a2\u30eb\u3067\u8aac\u660e\u3057\u305f\u3053\u3068\u3092\u62bc\u3055\u3048\u308b\u3060\u3051\u3067\u3082\u3001\u69d8\u3005\u306a\u3053\u3068\u304c\u3067\u304d\u308b\u3088\u3046\u306b\u306a\u308a\u307e\u3059\u3002\u4f8b\u3048\u3070\u3001\u4ee5\u4e0b\u306e\u3053\u3068\u3092\u8abf\u3079\u3089\u308c\u308b\u3067\u3057\u3087\u3046\u3002\n",
                "\n",
                "- \u8aad\u307f\u53d6\u308a\u56de\u6570\u3001\u30a2\u30cb\u30fc\u30ea\u30f3\u30b0\u30bf\u30a4\u30e0\u306b\u5bfe\u3059\u308b\u6210\u529f\u78ba\u7387(\u6700\u9069\u89e3\u304c\u5f97\u3089\u308c\u308b\u5272\u5408)\n",
                "- \u8aad\u307f\u53d6\u308a\u56de\u6570\u3001\u30a2\u30cb\u30fc\u30ea\u30f3\u30b0\u30bf\u30a4\u30e0\u306b\u5bfe\u3059\u308b\u30a8\u30cd\u30eb\u30ae\u30fc\u5024\n",
                "- \u8907\u6570\u306e\u6700\u9069\u89e3\u304c\u5b58\u5728\u3059\u308b\u6570\u5206\u5272\u554f\u984c\u306b\u5bfe\u3057\u3066\u3001\u5f97\u3089\u308c\u308b\u6700\u9069\u89e3\u306e\u5272\u5408\n",
                "\n",
                "2019\u5e744\u6708\u73fe\u5728\u30011\u30f6\u67081\u5206\u9593\u7121\u6599\u3067D-Wave\u30de\u30b7\u30f3\u3092\u5229\u7528\u3059\u308b\u3053\u3068\u304c\u3067\u304d\u307e\u3059\u3002\u305c\u3072\u5229\u7528\u3057\u3066\u3001\u4e0a\u306e\u9805\u76ee\u306b\u3064\u3044\u3066\u5b9f\u9a13\u3057\u3066\u307f\u3066\u304f\u3060\u3055\u3044\u3002\n",
                "\n",
                "D-Wave Leap: https://cloud.dwavesys.com/leap/\n",
                "\n",
                "\u3053\u306e\u30c1\u30e5\u30fc\u30c8\u30ea\u30a2\u30eb\u3067\u306f\u89e6\u308c\u308b\u3053\u3068\u304c\u3067\u304d\u307e\u305b\u3093\u3067\u3057\u305f\u304c\u3001\u4ed6\u306b\u3082\u30a2\u30cb\u30fc\u30ea\u30f3\u30b0\u30d1\u30e9\u30e1\u30fc\u30bf\u304c\u5b58\u5728\u3057\u307e\u3059\u3002\u4f8b\u3048\u3070\u3001\u30a2\u30cb\u30fc\u30ea\u30f3\u30b0\u306e\u30b9\u30b1\u30b8\u30e5\u30fc\u30eb\u3092\u6307\u5b9a\u3059\u308b\u3053\u3068\u3067\u3001\u30ea\u30d0\u30fc\u30b9\u30a2\u30cb\u30fc\u30ea\u30f3\u30b0\u306a\u3069\u901a\u5e38\u306e\u30a2\u30cb\u30fc\u30ea\u30f3\u30b0\u3068\u306f\u7570\u306a\u308b\u624b\u6cd5\u3092\u5b9f\u884c\u3059\u308b\u3053\u3068\u304c\u3067\u304d\u307e\u3059\u3002\u6c17\u306b\u306a\u3063\u305f\u65b9\u306f\u3001D-Wave\u306e\u30c9\u30ad\u30e5\u30e1\u30f3\u30c8\u3092\u8aad\u3093\u3067\u307f\u3066\u304f\u3060\u3055\u3044\u3002"
            ]
        },
        {
            "cell_type": "code",
            "execution_count": null,
            "metadata": {},
            "outputs": [],
            "source": []
        }
    ],
    "metadata": {
        "_draft": {
            "nbviewer_url": "https://gist.github.com/c98df8dc4fdf3cf70537f9a4e82ccbda"
        },
        "gist": {
            "data": {
                "description": "4-DWaveOceanSDK.ipynb",
                "public": false
            },
            "id": "c98df8dc4fdf3cf70537f9a4e82ccbda"
        },
        "kernelspec": {
            "display_name": "Python 3",
            "language": "python",
            "name": "python3"
        },
        "language_info": {
            "codemirror_mode": {
                "name": "ipython",
                "version": 3
            },
            "file_extension": ".py",
            "mimetype": "text/x-python",
            "name": "python",
            "nbconvert_exporter": "python",
            "pygments_lexer": "ipython3",
            "version": "3.8.2"
        },
        "latex_envs": {
            "LaTeX_envs_menu_present": true,
            "autoclose": false,
            "autocomplete": true,
            "bibliofile": "biblio.bib",
            "cite_by": "apalike",
            "current_citInitial": 1,
            "eqLabelWithNumbers": true,
            "eqNumInitial": 1,
            "hotkeys": {
                "equation": "Ctrl-E",
                "itemize": "Ctrl-I"
            },
            "labels_anchors": false,
            "latex_user_defs": false,
            "report_style_numbering": false,
            "user_envs_cfg": false
        },
        "toc": {
            "base_numbering": 1,
            "nav_menu": {},
            "number_sections": true,
            "sideBar": true,
            "skip_h1_title": false,
            "title_cell": "Table of Contents",
            "title_sidebar": "Contents",
            "toc_cell": false,
            "toc_position": {
                "height": "calc(100% - 180px)",
                "left": "10px",
                "top": "150px",
                "width": "288px"
            },
            "toc_section_display": true,
            "toc_window_display": true
        }
    },
    "nbformat": 4,
    "nbformat_minor": 2
}