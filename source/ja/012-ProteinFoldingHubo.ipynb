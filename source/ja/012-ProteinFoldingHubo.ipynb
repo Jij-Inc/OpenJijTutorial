{
 "cells": [
  {
   "cell_type": "markdown",
   "metadata": {},
   "source": [
    "# 12-Solving Protein Folding Problem by HUBO Solver"
   ]
  },
  {
   "cell_type": "markdown",
   "metadata": {},
   "source": [
    "2012年に、Alejandroらがタンパク質折り畳み問題を量子アニーリングマシン(D-wave)を用いて解きました[1]。\n",
    "\n",
    "ここでタンパク質折り畳み問題とは、「アミノ酸配列という１次元的情報からそのタンパク質の３次元的立体構造を予測すること」を意味します。\n",
    "タンパク質はアミノ酸配列によって特徴付けられ、１つのアミノ酸配列に対して固有の立体構造が対応することが知られています。\n",
    "タンパク質はその固有の立体構造を持って初めて生体高分子としての機能を果たすため、アミノ酸配列の情報からそのタンパク質の立体構造を予測することは非常に重要な問題です。\n",
    "しかし、アミノ酸配列とタンパク質の立体構造との因果関係はまだよくわかっておらず、非常に難しい問題です。\n",
    "\n",
    "このチュートリアルでは、OpenJijのHUBOソルバーを用いてタンパク質折り畳み問題を解き、その結果を論文[1]と比較します。"
   ]
  },
  {
   "cell_type": "markdown",
   "metadata": {},
   "source": [
    "## 問題の概要とHydrophobic-Polar(HP)モデル、Miyazawa-Jernigan(MJ)モデル \n",
    "\n",
    "### 問題概要\n",
    "タンパク質の立体構造をラティスフォールディングモデルという単純な格子モデルとして捉え、HUBOの形式にエンコードしこれを解くことで立体構造を決定します。\n",
    "特に参考論文[1]では、２次元上の構造問題とみなして解いています。\n",
    "ラティスフォールディングモデルにはいくつか種類があり、 以下代表的な２つのモデル、HPモデルとMJモデルについて紹介します。\n",
    "\n",
    "\n",
    "### HPモデル \n",
    "タンパク質は数十から数百程度のアミノ酸配列からなるポリペプチドが折り畳まった安定した立体構造を持ちます。\n",
    "その立体構造を決定するために、ポリペプチドの３次元立体構造をそのままの状態で扱うのは、計算量が膨大でスーパーコンピュータ等を利用しても難しいのが現状です。\n",
    "なぜなら、タンパク質分子のエネルギーを計算するには、水素結合、静電相互作用、ファンデルワールス力、疎水性相互作用等の様々な力を考慮する必要があるからです。\n",
    "しかし、疎水性相互作用だけを扱った極めて単純なモデルでもある程度のことが説明できます。\n",
    "\n",
    "LauとDillは疎水性相互作用のみを考慮した格子モデルであるHPモデル[2]を提案しました。\n",
    "このモデルは、アミノ酸を疎水性(H: hydrophobic)と親水性(P: polar)の2種類のみに分類し､タンパク質のアミノ酸配列をHとPの配列として表現します。\n",
    "そして､Hモノマー同士が最近接格子にきた場合､エネルギーが下がるというモデルです。\n",
    "\n",
    "参考：\n",
    "- https://repository.kulib.kyoto-u.ac.jp/dspace/bitstream/2433/96792/1/KJ00004709268.pdf\n",
    "- http://www.iba.t.u-tokyo.ac.jp/iba/AI/HP.pdf\n",
    "\n",
    "\n",
    "### MJモデル\n",
    "HPモデルでは、アミノ酸を単純化して疎水性と親水性の2種類のみに分類しました。つまり、アミノ酸同士の相互作用の大きさの違いは考慮していません。\n",
    "より精度の高いモデルを構築しようとした場合、この違いを考慮することが考えられます。それがMJモデルです。\n",
    "\n",
    "MJモデルは、立体構造が既知のタンパク質を多数集め、それらの中から互いに近距離にあるアミノ酸ペアの個数を数え上げ、それらの統計的な情報をアミノ酸間の相互作用エネルギーとして表現したものです。\n",
    "立体構造群の中でのアミノ酸ペアの数が多ければ、そのアミノ酸ペアに働く相互作用エネルギーの絶対値は大きくなります。\n",
    "この相互作用エネルギーは、アミノ酸ペアを形成しやすい・しにくいという傾向を表現していると考えられます。\n",
    "\n",
    "今回は参考論文[3]のTable3に報告されているMJモデルを用いてモデルを構築します。"
   ]
  },
  {
   "cell_type": "markdown",
   "metadata": {},
   "source": [
    "## 解法の概要\n",
    "今回使用するアミノ酸配列は、Proline-Serine-Valine-Lysine-Methionine-Alanineの6アミノ酸配列(1文字のアミノ酸配列表記ではP-S-V-K-M-A)です。\n",
    "\n",
    "後述のように特定のアミノ酸配列が隣接すると安定状態になり、エネルギーが減ります。このエネルギーの安定化を使ってコスト関数を最小化させることを考えます。また、今回アミノ酸配列を全て一度に処理するのは難しいのでいくつかのパターンに分けます。\n",
    "\n",
    "すでにいくつかの折り畳まれたパターンから出発して安定状態を求めます。具体的には、実験３のschemeに絞ります。\n",
    "コスト関数の定式化を定式化する際に場合分けのパターンが多くないため、比較的容易に書き出すことができるためです。\n",
    "\n",
    "本チュートリアルでは以下の順で詳細な解法手順を説明します。\n",
    "\n",
    "1. ラティスフォールディングのビット表現方法\n",
    "2. コスト関数の定式化\n",
    "3. HUBOの直接解法\n",
    "4. HUBOによる直接解法と参考論文[1]の結果との比較"
   ]
  },
  {
   "cell_type": "markdown",
   "metadata": {},
   "source": [
    "## 1. ラティスフォールディングのビット表現方法\n",
    "\n",
    "タンパク質をラティスフォールディングモデルとして、２値表現で埋込みます。1つの結合につき2つのビットが必要であり、結合の方向は、00(下向き)、01(右向き)、10(左向き)、11(上向き)と表記します。この例では、任意の6つのアミノ酸配列の可能な折り方の1つを示しています。\n",
    "任意の$N$-アミノ酸配列の折り畳みは、$010q_\\mathrm{1}q_\\mathrm{2}q_\\mathrm{3}…q_{l-1}q_{l}(l=2N-5)$という変数の列で表すことができます。\n",
    "\n",
    "<div>\n",
    "    <img src=\"images/lattice_folding_mapping.png\" width=\"400\" height=\"300\"><br />\n",
    "    図2：ラティスフォールディングの埋込みの様子（[1]のFigure2(a)）\n",
    "</div>"
   ]
  },
  {
   "cell_type": "markdown",
   "metadata": {},
   "source": [
    "## 　2. コスト関数の定式化\n",
    "\n",
    "タンパク質の構造をラティスフォールディングモデルとして考えるにあたり、コスト関数を定式化すると、以下のようになります。\n",
    "\n",
    "$$E_\\mathrm{p} = E_\\mathrm{onsite} + E_\\mathrm{pw} + E_\\mathrm{ext}$$\n",
    "\n",
    "- 第１項: タンパク質のアミノ酸配列が重ならない場合のエネルギー\n",
    "- 第２項: はアミノ酸配列同士の近接の相互作用のエネルギー(pw: pair-wise)\n",
    "- 第３項: 外部からの影響のエネルギー(ext: external)\n",
    "\n",
    "論文中の実験３については、第３項は使用しないため、コスト関数は以下となります。\n",
    "\n",
    "$$E_\\mathrm{p} = E_\\mathrm{onsite} + E_\\mathrm{pw}$$\n"
   ]
  },
  {
   "cell_type": "markdown",
   "metadata": {},
   "source": [
    "本チュートリアルでは、図3のScheme3のExperiment3を初期状態にして考えます。アミノ酸配列は、\n",
    "\n",
    "P-S-V-K-M-A\n",
    "\n",
    "この順番ですが、今回はある程度折りたたまれた状態で始まります。\n",
    "\n",
    "<div>\n",
    "    <img src=\"images/scheme.png\" width=\"600\" height=\"600\"><br />\n",
    "     図3：Experiment3を初期状態([1]のFigure3(b)を改変)\n",
    "</div>\n",
    "\n",
    "\n",
    "### 2次元構造のビット表現方法\n",
    "\n",
    "この場合、PSVKまでは決まっていて、Mは下か左が決まっているので、Pから順番に書いてみると以下のように3ビットの式に還元されます。\n",
    "\n",
    "$$010010q_10q_2q_3$$\n",
    "\n",
    "初めの6ビットについては、アミノ酸P, S, V, Kが、右、下、左の構造を取るため、010010と表される。\n",
    "\n",
    "続いて、Mは下か左しかないので、$00$か$10$なので、$0$は決まっていて、残りの$q_1$から$q_3$をHUBO問題として求めます。\n",
    "\n",
    "### コスト関数設計\n",
    "\n",
    "コスト関数設計の様子を以下の図４に示しました。図４の詳細について説明します。\n",
    "\n",
    "<div>\n",
    "    <img src=\"images/make_costfunction_about_protein_folding.png\" width=\"600\" height=\"400\"><br />\n",
    "    図4：コスト関数の定式化([1]のFigure3(a)を一部利用)\n",
    "</div>\n",
    "\n",
    "1. 実験3の初期状態では、P-Kの相互作用で-1分のエネルギーが生じます。\n",
    "\n",
    "以下、2~5は折り畳まれ得る状態に応じて、場合分けして、エネルギー最小になるようにコスト関数を設計します。\n",
    "最近接のアミノ酸間の相互作用によるコストは図４の表を用い、アミノ酸間の折り返しによるコストは+11と定義する。\n",
    "\n",
    "2. $(q_{1},q_{2},q_{3})=(0,0,1)$の場合の状態です。V-Aの相互作用で-4分のエネルギーが生じます。\n",
    "この場合のコスト関数は以下のように定式化すれば良いです。\n",
    "\n",
    " $$(1-q_{1})(1-q_{2})q_{3}(-4)$$\n",
    "\n",
    "3. $(q_{1},q_{2},q_{3})=(0,1,1)$の場合の状態です。P-A,V-Aの相互作用で-2,-4分のエネルギーが生じます。\n",
    "またM-Aの押り返しによるコスト+11が生じます。トータルで+5の重みがかかります。\n",
    "この場合のコスト関数は以下のように定式化すれば良いです。\n",
    "\n",
    "　$$(1-q_{1})q_{2}q_{3}(+5)$$\n",
    "\n",
    "4. $(q_{1},q_{2},q_{3})=(1,1,1)$の場合の状態です。P-Aの相互作用で-2分のエネルギーが生じます。\n",
    "この場合のコスト関数は以下のように定式化すれば良いです。\n",
    "\n",
    "　$$q_{1}q_{2}q_{3}(-2)$$\n",
    "\n",
    "5. $(q_{1},q_{2},q_{3})=(1,0,1)$の場合の状態です。P-A,V-Aの相互作用で-2,-4分のエネルギーが生じます。\n",
    "またM-Aの押り返しによるコスト+11が生じます。トータルで+5の重みがかかります。\n",
    "この場合のコスト関数は以下のように定式化すれば良いです。\n",
    "\n",
    "　$$q_{1}(1-q_{2})q_{3}(+5)$$\n",
    "\n",
    "\n",
    "1~5より、コスト関数は最終的に以下のようになります。\n",
    "\n",
    "$$E = -1-4q_3+9q_1q_3+9q_2q_3-16q_1q_2q_3$$"
   ]
  },
  {
   "cell_type": "markdown",
   "metadata": {},
   "source": [
    "## 3. HUBOの直接解法\n",
    "　2でコスト関数を定式化したので、実際にopenjijを使って解きます。"
   ]
  },
  {
   "cell_type": "code",
   "execution_count": 1,
   "metadata": {},
   "outputs": [],
   "source": [
    "# HUBOを定義します。\n",
    "polynomial = {():-1, (3,): -4, (1,3): 9, (2,3): 9, (1,2,3): -16}"
   ]
  },
  {
   "cell_type": "code",
   "execution_count": 2,
   "metadata": {},
   "outputs": [],
   "source": [
    "import openjij as oj\n",
    "\n",
    "# HUBOメソッドを利用するためには、SASamplerメソッドを用いる必要があります。\n",
    "sampler = oj.SASampler()\n",
    "\n",
    "# SAによるシミュレーションを行う回数を指定します。ここでは、参考論文[1]でD-waveを用いて１万回の測定を行ったため、１万回に指定します。\n",
    "num_reads = 10000 \n",
    "\n",
    "# 変数は、バイナリ変数、変数の更新方式は、single spin flipを指定します。\n",
    "response = sampler.sample_hubo(polynomial, vartype=\"BINARY\", updater=\"single spin flip\", num_reads=num_reads)"
   ]
  },
  {
   "cell_type": "markdown",
   "metadata": {},
   "source": [
    " sample_huboメソッドを用いて100回実行したところ、異なる種類の解が複数回得られることがわかります。\n",
    " 解の頻度について、エネルギーのヒストグラムとして可視化してみましょう。"
   ]
  },
  {
   "cell_type": "code",
   "execution_count": 3,
   "metadata": {},
   "outputs": [
    {
     "data": {
      "image/png": "[encoded data removed]",
      "text/plain": [
       "<Figure size 432x288 with 1 Axes>"
      ]
     },
     "metadata": {
      "needs_background": "light"
     },
     "output_type": "display_data"
    }
   ],
   "source": [
    "import matplotlib.pyplot as plt\n",
    "\n",
    "plt.hist(response.energies, bins=15)\n",
    "plt.xlabel('Energy', fontsize=15)\n",
    "plt.ylabel('Frequency', fontsize=15)\n",
    "plt.show()"
   ]
  },
  {
   "cell_type": "markdown",
   "metadata": {},
   "source": [
    "エネルギーが-5, -3, -1, 4が得られていることがわかります。内訳として、−５, −１の解が相対的に多く得られていることがわかります。\n",
    "\n",
    "ここで得られた解が元の問題に対する最適解かどうかを調べるために、dimodのExactPolySolverを使って確認します。"
   ]
  },
  {
   "cell_type": "code",
   "execution_count": 4,
   "metadata": {},
   "outputs": [
    {
     "name": "stdout",
     "output_type": "stream",
     "text": [
      "最適解: {1: 0, 2: 0, 3: 1}\n",
      "対応するエネルギー: -5.0\n"
     ]
    }
   ],
   "source": [
    "import dimod\n",
    "\n",
    "# 元のHUBOの最適解を確認します。\n",
    "sampleset = dimod.ExactPolySolver().sample_hubo(H=polynomial)\n",
    "print('最適解:', sampleset.first.sample)\n",
    "print('対応するエネルギー:',sampleset.first.energy)"
   ]
  },
  {
   "cell_type": "markdown",
   "metadata": {},
   "source": [
    "元のHUBOに対する最適解は、$(q_{1},q_{2},q_{3})=(0,0,1)$であり、対応するエネルギーは-5.0であることがわかります。\n",
    "また最適解のラティスフォールディングモデルは以下のようになります。\n",
    "\n",
    "\n",
    "<div>\n",
    "    <img src=\"images/optimal_folding_structure.png\" width=\"300\" height=\"300\"><br />\n",
    "    図5： 最適なラティスフォールディング構造（[1]のFigure3(c)の一部）\n",
    "</div>"
   ]
  },
  {
   "cell_type": "markdown",
   "metadata": {},
   "source": [
    "## 4. HUBOによる直接解法と参考論文[1]の結果との比較"
   ]
  },
  {
   "cell_type": "markdown",
   "metadata": {},
   "source": [
    "最後に、HUBOによる直接解法と参考論文[1]の結果との比較します。\n",
    "\n",
    "以下の図６は、参考論文[1]のD-waveの測定結果であり、各エネルギーにおいてタンパク質がとり得るラティスフォールディング構造を示したものです。\n",
    "\n",
    "なお、参考論文[1]では、HUBOをQUBO変換してから、D-waveを用いて解いています。\n",
    "\n",
    "<div>\n",
    "    <img src=\"images/protein_folding_qa_result.png\" width=\"400\" height=\"500\"><br />\n",
    "    図6： D-waveの測定結果で得られたラティスフォールディング構造とエネルギーのパターン（[1]のFigure3(c)）\n",
    "</div>\n",
    "\n",
    "実験３の測定結果は、図の青色の構造であり、今回は青色の構造のみを観察すれば良いです。\n",
    "\n",
    "図6に従い、参考論文[1]のエネルギー測定結果のリストを以下で作成します。"
   ]
  },
  {
   "cell_type": "code",
   "execution_count": 5,
   "metadata": {},
   "outputs": [
    {
     "name": "stdout",
     "output_type": "stream",
     "text": [
      "[-5. -5. -5. ...  0.  0.  0.]\n"
     ]
    }
   ],
   "source": [
    "import numpy as np\n",
    "\n",
    "energy_qa = np.zeros(num_reads)\n",
    "# エネルギー -5の解は、4164回得られました。\n",
    "energy_qa[:4164] = -5 \n",
    "# エネルギー -3の解は、1317回得られました。\n",
    "energy_qa[4164:4164+1317] = -3\n",
    "# エネルギー -1の解は、４状態の構造について、それぞれ415回, 381回, 1371回, 1552回の計3719回得られました。\n",
    "energy_qa[4164+1317:4164+1317+415+381+1371+1552] = -1\n",
    "\n",
    "print(energy_qa)"
   ]
  },
  {
   "cell_type": "markdown",
   "metadata": {},
   "source": [
    "両者を比較した結果をヒストグラムにすると以下のようになります。"
   ]
  },
  {
   "cell_type": "code",
   "execution_count": 7,
   "metadata": {},
   "outputs": [
    {
     "data": {
      "text/plain": [
       "Text(0, 0.5, 'Frequency')"
      ]
     },
     "execution_count": 7,
     "metadata": {},
     "output_type": "execute_result"
    },
    {
     "data": {
      "image/png": "[encoded data removed]",
      "text/plain": [
       "<Figure size 432x288 with 1 Axes>"
      ]
     },
     "metadata": {
      "needs_background": "light"
     },
     "output_type": "display_data"
    }
   ],
   "source": [
    "plt.hist(response.energies, label='HUBO (SA by openjij)', range=(-5, -0.1), bins=10, alpha=0.5)\n",
    "plt.hist(energy_qa, label='QUBO (QA by D-wave)', range=(-5, -0.1), bins=10, alpha=0.5)\n",
    "plt.legend()\n",
    "plt.xlabel('Energy')\n",
    "plt.ylabel('Frequency')"
   ]
  },
  {
   "cell_type": "markdown",
   "metadata": {},
   "source": [
    "SAとQAなので単純比較はできませんが、今回の結果からは、HUBO直接解法(openjijを用いたSA)の方が、QUBO変換解法(D-waveを用いたQA)に比べ、\n",
    "最適解を導くエネルギーを多く得ることができていることがわかります。"
   ]
  },
  {
   "cell_type": "markdown",
   "metadata": {},
   "source": [
    "## 引用文献\n",
    "\n",
    "1. Alejandro Perdomo-Ortiz, et.al \"Finding low-energy conformations of lattice protein models by quantum annealing\". Scientific Reports volume 2, Article number: 571 (2012)\n",
    "2. Dill KA (March 1985). \"Theory for the folding and stability of globular proteins\". Biochemistry. 24 (6)\n",
    "3. Miyazawa, S. & Jernigan, R. L. Residue-residue potentials with a favorable contact pair term and an unfavorable high packing density term, for simulation and threading. J. Mol. Biol. 256, 623–644 (1996)."
   ]
  },
  {
   "cell_type": "markdown",
   "metadata": {},
   "source": []
  }
 ],
 "metadata": {
  "interpreter": {
   "hash": "26149c88d220c3ed2d17341f1c6f96caae4173defcdd371f100d436532ba42d1"
  },
  "kernelspec": {
   "display_name": "Python 3 (ipykernel)",
   "language": "python",
   "name": "python3"
  },
  "language_info": {
   "codemirror_mode": {
    "name": "ipython",
    "version": 3
   },
   "file_extension": ".py",
   "mimetype": "text/x-python",
   "name": "python",
   "nbconvert_exporter": "python",
   "pygments_lexer": "ipython3",
   "version": "3.9.7"
  }
 },
 "nbformat": 4,
 "nbformat_minor": 4
}
