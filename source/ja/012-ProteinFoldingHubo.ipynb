{
 "cells": [
  {
   "cell_type": "markdown",
   "metadata": {},
   "source": [
    "# 12-Solving Protein Folding Problem by HUBO Solver"
   ]
  },
  {
   "cell_type": "markdown",
   "metadata": {},
   "source": [
    "2012年に、Alejandroらがタンパク質折り畳み問題を量子アニーリングマシン(D-wave)を用いて解きました[1]。\n",
    "\n",
    "ここでタンパク質折り畳み問題とは、「アミノ酸配列という１次元的情報からそのタンパク質の３次元的立体構造を予測すること」を意味します。\n",
    "タンパク質はアミノ酸配列によって特徴付けられ、１つのアミノ酸配列に対して固有の立体構造が対応することが知られています。\n",
    "タンパク質はその固有の立体構造を持って初めて生体高分子としての機能を果たすため、アミノ酸配列の情報からそのタンパク質の立体構造を予測することは非常に重要な問題です。\n",
    "しかし、アミノ酸配列とタンパク質の立体構造との因果関係はまだよくわかっておらず、非常に難しい問題です。\n",
    "\n",
    "このチュートリアルでは、OpenJijのHUBOソルバーを用いてタンパク質折り畳み問題を解き、その結果を論文[1]と比較します。"
   ]
  },
  {
   "cell_type": "markdown",
   "metadata": {},
   "source": [
    "## 問題の概要とHydrophobic-Polar(HP)モデル、Miyazawa-Jernigan(MJ)モデル \n",
    "\n",
    "### 問題概要\n",
    "タンパク質の立体構造をラティスフォールディングモデルという単純な格子モデルとして捉え、HUBOの形式にエンコードしこれを解くことで立体構造を決定します。\n",
    "特に参考論文[1]では、２次元上の構造問題とみなして解いています。\n",
    "ラティスフォールディングモデルにはいくつか種類があり、 以下代表的な２つのモデル、HPモデルとMJモデルについて紹介します。\n",
    "\n",
    "\n",
    "### HPモデル \n",
    "タンパク質は数十から数百程度のアミノ酸配列からなるポリペプチドが折り畳まった安定した立体構造を持ちます。\n",
    "その立体構造を決定するために、ポリペプチドの３次元立体構造をそのままの状態で扱うのは、計算量が膨大でスーパーコンピュータ等を利用しても難しいのが現状です。\n",
    "なぜなら、タンパク質分子のエネルギーを計算するには、水素結合、静電相互作用、ファンデルワールス力、疎水性相互作用等の様々な力を考慮する必要があるからです。\n",
    "しかし、疎水性相互作用だけを扱った極めて単純なモデルでもある程度のことが説明できます。\n",
    "\n",
    "LauとDillは疎水性相互作用のみを考慮した格子モデルであるHPモデル[2]を提案しました。\n",
    "このモデルは、アミノ酸を疎水性(H: hydrophobic)と親水性(P: polar)の2種類のみに分類し､タンパク質のアミノ酸配列をHとPの配列として表現します。\n",
    "そして､Hモノマー同士が最近接格子にきた場合､エネルギーが下がるというモデルです。\n",
    "\n",
    "参考：\n",
    "- https://repository.kulib.kyoto-u.ac.jp/dspace/bitstream/2433/96792/1/KJ00004709268.pdf\n",
    "- http://www.iba.t.u-tokyo.ac.jp/iba/AI/HP.pdf\n",
    "\n",
    "\n",
    "### MJモデル\n",
    "HPモデルでは、アミノ酸を単純化して疎水性と親水性の2種類のみに分類しました。つまり、アミノ酸同士の相互作用の大きさの違いは考慮していません。\n",
    "より精度の高いモデルを構築しようとした場合、この違いを考慮することが考えられます。それがMJモデルです。\n",
    "\n",
    "MJモデルは、立体構造が既知のタンパク質を多数集め、それらの中から互いに近距離にあるアミノ酸ペアの個数を数え上げ、それらの統計的な情報をアミノ酸間の相互作用エネルギーとして表現したものです。\n",
    "立体構造群の中でのアミノ酸ペアの数が多ければ、そのアミノ酸ペアに働く相互作用エネルギーの絶対値は大きくなります。\n",
    "この相互作用エネルギーは、アミノ酸ペアを形成しやすい・しにくいという傾向を表現していると考えられます。\n",
    "\n",
    "論文[1]では参考論文[3]のTable3に報告されている値を利用しています。"
   ]
  },
  {
   "cell_type": "markdown",
   "metadata": {},
   "source": [
    "## 解法の概要\n",
    "ここでは論文[1]で扱っているモデルの構築方法について説明します。\n",
    "今回使用するアミノ酸配列は、Proline-Serine-Valine-Lysine-Methionine-Alanineの6アミノ酸配列(1文字のアミノ酸配列表記ではP-S-V-K-M-A)です。\n",
    "ここでP-S-V-K-M-Aというアミノ酸の順番は固定されていることに注意してください。\n",
    "2次元の格子上でこれらのアミノ酸列の折りたたみ問題を考えます。\n",
    "ただし、6種類とはいえアミノ酸配列を全て一度に処理するのは難しいので、すでにいくつかの折り畳まれたパターンから出発して安定状態を求めます。\n",
    "以下では簡単な例として論文[1]のscheme3について解説します。\n",
    "\n",
    "本チュートリアルでは以下の順で詳細な解法手順を説明します。\n",
    "1. ラティスフォールディングのビット表現方法\n",
    "2. コスト関数の定式化\n",
    "3. HUBOの直接解法\n",
    "4. HUBOによる直接解法と参考論文[1]の結果との比較"
   ]
  },
  {
   "cell_type": "markdown",
   "metadata": {},
   "source": [
    "### 1. ラティスフォールディングのビット表現方法\n",
    "ここでは2次元上のアミノ酸の立体構造とビット列を対応付ける一般論を説明します。より現実的な3次元の立体構造も同様の方針で対応付けることができます。\n",
    "方法は非常に簡単です。今は2次元格子を考えているためアミノ酸の折りたたみ方としては、上、下、左、右の4種類あります。これらに対して２つのビットを次のように割り当てます。\n",
    "$$\n",
    "00(下向き)、01(右向き)、10(左向き)、11(上向き)\n",
    "$$\n",
    "これにより、$2\\times 6=12$個のビット列と6個のアミノ酸列の2次元格子上の構造が1対1で対応します。\n",
    "例えば010101010101というビット列はP-S-V-K-M-Aという順番でアミノ酸が横一直線に並んだ構造に対応します。\n",
    "より複雑な例が図１に示してあります。\n",
    "\n",
    "実は、簡単な考察から最初の3ビットは010に固定できることが分かります。\n",
    "まず、平面の対称性からPの右側にSが折りたたまれていると仮定しても一般性を失わないことが分かります。よって最初の2ビットは01列で固定できます。\n",
    "さらにSの上にVが折りたたまれることと、下に折りたたまれることは、やはり平面の対称性からおなじことなので、ここでは下のパターンのみ考えます。\n",
    "またVがSの左に折りたたまれてPと重なるパターンも排除します。以上の考察と仮定からVはSの右か下に折りたたまれる場合のみ考えても良いことになります。\n",
    "したがって3ビット目が0に決まります。よって残りの$12-3=9$ビットの配列を決定すれば良いことになります。\n",
    "\n",
    "<div>\n",
    "    <img src=\"images/lattice_folding_mapping.png\" width=\"400\" height=\"300\"><br />\n",
    "    図1：ラティスフォールディングとビット列の対応関係。論文[1]のFigure2(a)より転載。最終的に得られている0100101011というビット列を2ビットずつ区切って読むと、右、下、左、左、上となるので図のような2次元構造が対応することが分かります。\n",
    "</div>"
   ]
  },
  {
   "cell_type": "markdown",
   "metadata": {},
   "source": [
    "## 2. コスト関数の定式化\n",
    "\n",
    "ここでは具体的なコスト関数の定式化方法を説明します。\n",
    "論文[1]では以下の２つの項の寄与を考えています。\n",
    "\n",
    "$$\n",
    "E_\\mathrm{p} = E_\\mathrm{onsite} + E_\\mathrm{pw}\n",
    "$$\n",
    "\n",
    "- 第１項: アミノ酸同士が重なった場合のエネルギー\n",
    "- 第２項: アミノ酸同士が隣り合わせになった場合の相互作用のエネルギー(pw: pair-wise)"
   ]
  },
  {
   "cell_type": "markdown",
   "metadata": {},
   "source": [
    "具体的な例として論文[1]のScheme3のExperiment3を初期状態にして考えます。アミノ酸配列は、\n",
    "\n",
    "P-S-V-K-M-A\n",
    "\n",
    "でしたが、P-S-V-Kの構造は以下の図2の様にすでに決まっています。\n",
    "残りのMとAの構造を決定するコスト関数を考えます。\n",
    "<div>\n",
    "    <img src=\"images/scheme.png\" width=\"600\" height=\"600\"><br />\n",
    "     図2：論文[1]のFigure 3(b)より転載。図の赤枠内の構造を初期状態として考えます。MはKの下または左に折りたたまれる場合のみを考えます。よって決定変数は$q_1$、$q_2$、$q_3$の3つとなります。\n",
    "</div>\n",
    "\n",
    "### コスト関数設計\n",
    "\n",
    "コスト関数設計の様子を以下の図3に示しました。図3の詳細について説明します。\n",
    "\n",
    "<div>\n",
    "    <img src=\"images/make_costfunction_about_protein_folding.png\" width=\"600\" height=\"400\"><br />\n",
    "    図3：コスト関数の定式化(論文[1]のFigure 3(a)を一部利用)\n",
    "</div>\n",
    "\n",
    "</br>\n",
    "基本的な方針は簡単で、ありうる２次元構造を全て考えて対応するエネルギーを計算することでコスト関数を導出します。\n",
    "ただしこの方法ではコスト関数の導出そのものに指数時間かかることになります。また、取りうるエネルギーを毎回計算しているため、わざわざアニーリングで解を求めなくてもコスト関数ができた段階で最適解が分かっていることになります。\n",
    "ここでは論文[1]の式(5)の導出をわかりやすく説明するためのこのような説明を行っています。\n",
    "\n",
    "それでは具体的に見ていきます。すぐに分かることとして、\n",
    "\n",
    "1. 初期状態でP-Kの相互作用で-1のエネルギーが生じている\n",
    "\n",
    "ことがあげられます。これはビット列に依存しないコスト関数の定数項ですが論文[1]の式(5)には確かに-1という定数項が現れています。\n",
    "\n",
    "コスト関数として意味のある項は、全ての取りうるエネルギーを数え上げることで求めます。つまり、\n",
    "未知のビット列$(q_{1},q_{2},q_{3})$の取りうる$2^{3}=8$個のパターン全てに対応する2次元構造を考えてみます。\n",
    "この中で有限なエネルギーの寄与がある組み合わせは以下の2〜5で示したビット列のみであることが分かります。\n",
    "\n",
    "ここで、最近接のアミノ酸間の相互作用によるエネルギーは図3の左下の表を用いています。\n",
    "また、アミノ酸同士が重なったことによるエネルギーは図3では$\\lambda$と表現されていますが、$\\lambda=11$とすることで論文[1]の式(5)と一致します。\n",
    "\n",
    "2. $(q_{1},q_{2},q_{3})=(0,0,1)$。V-Aの相互作用で-4のエネルギーが生じます。\n",
    "この場合のコスト関数は以下のようになります。\n",
    "\n",
    " $$(1-q_{1})(1-q_{2})q_{3}(-4)$$\n",
    "\n",
    "3. $(q_{1},q_{2},q_{3})=(0,1,1)$。P-A,V-Aの相互作用で-2,-4のエネルギーが生じます。\n",
    "またM-Aの押り返しによるコスト$\\lambda=11$が生じます。合計で+5のエネルギーが生じます。\n",
    "この場合のコスト関数は以下のようになります。\n",
    "\n",
    "　$$(1-q_{1})q_{2}q_{3}(+5)$$\n",
    "\n",
    "4. $(q_{1},q_{2},q_{3})=(1,1,1)$。P-Aの相互作用で-2のエネルギーが生じます。\n",
    "この場合のコスト関数は以下のようになります。\n",
    "\n",
    "　$$q_{1}q_{2}q_{3}(-2)$$\n",
    "\n",
    "5. $(q_{1},q_{2},q_{3})=(1,0,1)$。P-A,V-Aの相互作用で-2,-4のエネルギーが生じます。\n",
    "またM-Aの押り返しによるコスト$\\lambda=11$が生じます。合計で+5のエネルギーが生じます。\n",
    "この場合のコスト関数は以下のようになります。\n",
    "\n",
    "　$$q_{1}(1-q_{2})q_{3}(+5)$$\n",
    "\n",
    "\n",
    "1〜5の式を合計すると、コスト関数として最終的に以下の式が得られます。\n",
    "\n",
    "$$E = -1-4q_3+9q_1q_3+9q_2q_3-16q_1q_2q_3$$\n",
    "\n",
    "また、明らかにこのコスト関数の最小値は-4でその時のビット列は$(q_{1},q_{2},q_{3})=(0,0,1)$であることが分かります。"
   ]
  },
  {
   "cell_type": "markdown",
   "metadata": {},
   "source": [
    "## 3. HUBOの直接解法\n",
    "　2でコスト関数を定式化したので、実際にopenjijを使って解きます。"
   ]
  },
  {
   "cell_type": "code",
   "execution_count": 1,
   "metadata": {},
   "outputs": [],
   "source": [
    "# HUBOを定義します。\n",
    "polynomial = {():-1, (3,): -4, (1,3): 9, (2,3): 9, (1,2,3): -16}"
   ]
  },
  {
   "cell_type": "code",
   "execution_count": 2,
   "metadata": {},
   "outputs": [],
   "source": [
    "import openjij as oj\n",
    "\n",
    "# HUBOメソッドを利用するためには、SASamplerメソッドを用いる必要があります。\n",
    "sampler = oj.SASampler()\n",
    "\n",
    "# SAによるシミュレーションを行う回数を指定します。ここでは、参考論文[1]でD-waveを用いて１万回の測定を行ったため、１万回に指定します。\n",
    "num_reads = 10000 \n",
    "\n",
    "# 変数は、バイナリ変数、変数の更新方式は、single spin flipを指定します。\n",
    "response = sampler.sample_hubo(polynomial, vartype=\"BINARY\", updater=\"single spin flip\", num_reads=num_reads)"
   ]
  },
  {
   "cell_type": "markdown",
   "metadata": {},
   "source": [
    " sample_huboメソッドを用いて100回実行したところ、異なる種類の解が複数回得られることがわかります。\n",
    " 解の頻度について、エネルギーのヒストグラムとして可視化してみましょう。"
   ]
  },
  {
   "cell_type": "code",
   "execution_count": 3,
   "metadata": {},
   "outputs": [
    {
     "data": {
      "image/png": "[encoded data removed]",
      "text/plain": [
       "<Figure size 432x288 with 1 Axes>"
      ]
     },
     "metadata": {
      "needs_background": "light"
     },
     "output_type": "display_data"
    }
   ],
   "source": [
    "import matplotlib.pyplot as plt\n",
    "\n",
    "plt.hist(response.energies, bins=15)\n",
    "plt.xlabel('Energy', fontsize=15)\n",
    "plt.ylabel('Frequency', fontsize=15)\n",
    "plt.show()"
   ]
  },
  {
   "cell_type": "markdown",
   "metadata": {},
   "source": [
    "エネルギーが-5, -3, -1, 4が得られていることがわかります。内訳として、−５, −１の解が相対的に多く得られていることがわかります。\n",
    "\n",
    "ここで得られた解が元の問題に対する最適解かどうかを調べるために、dimodのExactPolySolverを使って確認します。"
   ]
  },
  {
   "cell_type": "code",
   "execution_count": 4,
   "metadata": {},
   "outputs": [
    {
     "name": "stdout",
     "output_type": "stream",
     "text": [
      "最適解: {1: 0, 2: 0, 3: 1}\n",
      "対応するエネルギー: -5.0\n"
     ]
    }
   ],
   "source": [
    "import dimod\n",
    "\n",
    "# 元のHUBOの最適解を確認します。\n",
    "sampleset = dimod.ExactPolySolver().sample_hubo(H=polynomial)\n",
    "print('最適解:', sampleset.first.sample)\n",
    "print('対応するエネルギー:',sampleset.first.energy)"
   ]
  },
  {
   "cell_type": "markdown",
   "metadata": {},
   "source": [
    "元のHUBOに対する最適解は、$(q_{1},q_{2},q_{3})=(0,0,1)$であり、対応するエネルギーは-5.0であることがわかります。\n",
    "また最適解のラティスフォールディングモデルは以下のようになります。\n",
    "\n",
    "<div>\n",
    "    <img src=\"images/optimal_folding_structure.png\" width=\"300\" height=\"300\"><br />\n",
    "    図5： 最適なラティスフォールディング構造（[1]のFigure3(c)の一部）\n",
    "</div>"
   ]
  },
  {
   "cell_type": "markdown",
   "metadata": {},
   "source": [
    "## 4. HUBOによる直接解法と参考論文[1]の結果との比較"
   ]
  },
  {
   "cell_type": "markdown",
   "metadata": {},
   "source": [
    "最後に、HUBOによる直接解法と参考論文[1]の結果との比較します。\n",
    "\n",
    "以下の図６は、参考論文[1]のD-waveの測定結果であり、各エネルギーにおいてタンパク質がとり得るラティスフォールディング構造を示したものです。\n",
    "\n",
    "なお、参考論文[1]では、HUBOをQUBO変換してから、D-waveを用いて解いています。\n",
    "\n",
    "<div>\n",
    "    <img src=\"images/protein_folding_qa_result.png\" width=\"400\" height=\"500\"><br />\n",
    "    図6： D-waveの測定結果で得られたラティスフォールディング構造とエネルギーのパターン（[1]のFigure3(c)）\n",
    "</div>\n",
    "\n",
    "実験３の測定結果は、図の青色の構造であり、今回は青色の構造のみを観察すれば良いです。\n",
    "\n",
    "図6に従い、参考論文[1]のエネルギー測定結果のリストを以下で作成します。"
   ]
  },
  {
   "cell_type": "code",
   "execution_count": 5,
   "metadata": {},
   "outputs": [
    {
     "name": "stdout",
     "output_type": "stream",
     "text": [
      "[-5. -5. -5. ...  0.  0.  0.]\n"
     ]
    }
   ],
   "source": [
    "import numpy as np\n",
    "\n",
    "energy_qa = np.zeros(num_reads)\n",
    "# エネルギー -5の解は、4164回得られました。\n",
    "energy_qa[:4164] = -5 \n",
    "# エネルギー -3の解は、1317回得られました。\n",
    "energy_qa[4164:4164+1317] = -3\n",
    "# エネルギー -1の解は、４状態の構造について、それぞれ415回, 381回, 1371回, 1552回の計3719回得られました。\n",
    "energy_qa[4164+1317:4164+1317+415+381+1371+1552] = -1\n",
    "\n",
    "print(energy_qa)"
   ]
  },
  {
   "cell_type": "markdown",
   "metadata": {},
   "source": [
    "両者を比較した結果をヒストグラムにすると以下のようになります。"
   ]
  },
  {
   "cell_type": "code",
   "execution_count": 6,
   "metadata": {},
   "outputs": [
    {
     "data": {
      "text/plain": [
       "Text(0, 0.5, 'Frequency')"
      ]
     },
     "execution_count": 6,
     "metadata": {},
     "output_type": "execute_result"
    },
    {
     "data": {
      "image/png": "[encoded data removed]",
      "text/plain": [
       "<Figure size 432x288 with 1 Axes>"
      ]
     },
     "metadata": {
      "needs_background": "light"
     },
     "output_type": "display_data"
    }
   ],
   "source": [
    "plt.hist(response.energies, label='HUBO (SA by openjij)', range=(-5, -0.1), bins=10, alpha=0.5)\n",
    "plt.hist(energy_qa, label='QUBO (QA by D-wave)', range=(-5, -0.1), bins=10, alpha=0.5)\n",
    "plt.legend()\n",
    "plt.xlabel('Energy')\n",
    "plt.ylabel('Frequency')"
   ]
  },
  {
   "cell_type": "markdown",
   "metadata": {},
   "source": [
    "SAとQAなので単純比較はできませんが、今回の結果からは、HUBO直接解法(openjijを用いたSA)の方が、QUBO変換解法(D-waveを用いたQA)に比べ、\n",
    "最適解を導くエネルギーを多く得ることができていることがわかります。"
   ]
  },
  {
   "cell_type": "markdown",
   "metadata": {},
   "source": [
    "## 引用文献\n",
    "\n",
    "1. Alejandro Perdomo-Ortiz, et.al \"Finding low-energy conformations of lattice protein models by quantum annealing\". Scientific Reports volume 2, Article number: 571 (2012)\n",
    "2. Dill KA (March 1985). \"Theory for the folding and stability of globular proteins\". Biochemistry. 24 (6)\n",
    "3. Miyazawa, S. & Jernigan, R. L. Residue-residue potentials with a favorable contact pair term and an unfavorable high packing density term, for simulation and threading. J. Mol. Biol. 256, 623–644 (1996)."
   ]
  },
  {
   "cell_type": "markdown",
   "metadata": {},
   "source": []
  }
 ],
 "metadata": {
  "interpreter": {
   "hash": "26149c88d220c3ed2d17341f1c6f96caae4173defcdd371f100d436532ba42d1"
  },
  "kernelspec": {
   "display_name": "Python 3 (ipykernel)",
   "language": "python",
   "name": "python3"
  },
  "language_info": {
   "codemirror_mode": {
    "name": "ipython",
    "version": 3
   },
   "file_extension": ".py",
   "mimetype": "text/x-python",
   "name": "python",
   "nbconvert_exporter": "python",
   "pygments_lexer": "ipython3",
   "version": "3.9.7"
  }
 },
 "nbformat": 4,
 "nbformat_minor": 4
}
