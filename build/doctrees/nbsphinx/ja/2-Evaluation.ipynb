{
 "cells": [
  {
   "cell_type": "markdown",
   "metadata": {
    "colab_type": "text",
    "id": "view-in-github"
   },
   "source": [
    "<a href=\"https://colab.research.google.com/github/kumagaimasahito/OpenJijTutorial/blob/master/ja/2_Evaluation.ipynb\" target=\"_parent\"><img src=\"https://colab.research.google.com/assets/colab-badge.svg\" alt=\"Open In Colab\"/></a>"
   ]
  },
  {
   "cell_type": "markdown",
   "metadata": {
    "colab_type": "text",
    "id": "view-in-github"
   },
   "source": [
    "<a href=\"https://colab.research.google.com/github/\" target=\"_parent\"><img src=\"https://colab.research.google.com/assets/colab-badge.svg\" alt=\"Open In Colab\"/></a>"
   ]
  },
  {
   "cell_type": "markdown",
   "metadata": {
    "colab_type": "text",
    "id": "V_NR6GiIBDP2"
   },
   "source": [
    "# 2-アニーリングアルゴリズムの評価"
   ]
  },
  {
   "cell_type": "markdown",
   "metadata": {
    "colab_type": "text",
    "id": "FbP_6wGgBDP6"
   },
   "source": [
    "アニーリングアルゴリズムはヒューリスティクスの一つなので毎回最適解を出せるとは限りません。これは近似解を求めるアルゴリズムです。\n",
    "また確率的アルゴリズムなので毎回解が異なります。そのため、アルゴリズムの評価をするときは様々な平均値を用いてその解を評価します。よく用いられる指標に\n",
    "\n",
    "- 成功確率 : Success probability\n",
    "- TTS : Time to solution\n",
    "- 残留エネルギー : Resudial energy\n",
    "\n",
    "の3つがあります。特に**TTS**は計算時間を表すもので様々な評価によく用いられます。残留エネルギーは最適解にどれくらい近づけたのかを平均的に示す値です。"
   ]
  },
  {
   "cell_type": "markdown",
   "metadata": {
    "colab_type": "text",
    "id": "av11BMPjBDP8"
   },
   "source": [
    "## Time to solution\n",
    "\n",
    "アニーリングアルゴリズムはどの計算時間でも何かしらの解を出すことができます。しかしいくら計算が速くても、誤った解が求まるようでは意味がありません。そこで(例えば90%の確率で最適解が得られるのにかかる時間、のように)自分が必要な確率で最適解が算出されるまでにかかる計算時間を指標とします。\n",
    "\n",
    "\"1-Introduction\"でも行なったようにアニーリングアルゴリズムは複数回行った中から最適解を探すため、計算時間を評価するには複数回行うことも考慮に入れる必要があります。\n",
    "\n",
    "複数回アニーリングを行うことも考慮に入れて、上述の計算時間を算出したものを**Time to solution(TTS)**と呼びます。TTSは以下のように簡単に導くことができます。"
   ]
  },
  {
   "cell_type": "markdown",
   "metadata": {
    "colab_type": "text",
    "id": "kqwBOHdVBDP9"
   },
   "source": [
    "1回のアニーリング時間を$\\tau$とし、1回のアニーリングで最適解が算出される確率を$p_s(\\tau)$としましょう。この$p_s(\\tau)$が、アルゴリズムの評価に用いられる成功確率です。これらの定義から、1回のアニーリングで最適解が算出されない失敗確率は\n",
    "\n",
    "$$1-p_s(\\tau)$$\n",
    "\n",
    "となります。これを$R$回繰り返してみましょう。すると、この$R$回全てで最適解が算出されない確率は\n",
    "\n",
    "$$\\{ 1-p_s(\\tau) \\}^R$$\n",
    "\n",
    "です。よって$R$回のうち1回でも最適解を得る確率$p_R$は以下のように求まります。\n",
    "\n",
    "$$p_R = 1-\\{ 1-p_s(\\tau)\\}^R$$\n",
    "\n",
    "この式を$R$について解きましょう。すると\n",
    "\n",
    "$$R = \\frac{\\ln(1-p_R)}{\\ln\\{1-p_s(\\tau)\\}}$$\n",
    "\n",
    "となります。これに1回の計算時間$\\tau$をかけると総計算時間となります。これがTime to solution (TTS, 解を得るまでにかかる計算時間)です。\n",
    "\n",
    "$${\\rm TTS}(\\tau, p_R) = \\tau R = \\tau \\frac{\\ln(1-p_R)}{\\ln\\{1-p_s(\\tau)\\}}$$\n",
    "\n",
    "${\\rm TTS}(\\tau, p_R)$は一回のアニーリングに$\\tau$の計算時間、確率$p_s(\\tau)$のアルゴリズムを用いて最適解が得られるとき、確率$p_R$で最適解が得られるまでの繰り返し回数も考慮した総計算時間になります。"
   ]
  },
  {
   "cell_type": "markdown",
   "metadata": {
    "colab_type": "text",
    "id": "UH5K7TpfBDP-"
   },
   "source": [
    "実際の計算の評価では$p_R$を定数で与えます。研究などによく用いられる値としては、$p_R=0.99$が多いです。そして様々なアニーリング時間$\\tau$で$p_s(\\tau)$を計算し、それらを用いて${\\rm TTS}(\\tau, p_R)$を計算します。"
   ]
  },
  {
   "cell_type": "markdown",
   "metadata": {
    "colab_type": "text",
    "id": "Y_aOax-OBDP_"
   },
   "source": [
    "### OpenJij で実験を行ってTTSを測る\n",
    "\n",
    "実際にOpenJijを使ってTTSを図ってみましょう。  \n",
    "以下では1次元反強磁性Ising modelを考えます。これは以下のハミルトニアンで表現される物理モデルです。\n",
    "\n",
    "$$H(\\{\\sigma_i\\}) = \\sum_{i=0}^{N-1} J_{i, i+1}\\sigma_i \\sigma_{i+1} + \\sum_{i=0}^{N-1} h_i \\sigma_i$$\n",
    "\n",
    "ここでは$J_{ij} \\in [0.1, 1.0]$、$h_0 = -1$で他の縦磁場は0を考えます。$J_{ij} > 0$(反強磁性)より、各スピンは異なる向きを向くとエネルギーが下がります。よって最適解となる$\\{\\sigma_i\\}$は$1, -1, 1, -1, \\cdots$ のように、値が交互になります。また$h_0=-1$より、0番目のスピンは$\\sigma_0 =1$になります。よって最適解は$1, -1, 1, -1, \\cdots$となります。\n",
    "\n",
    "つまり「この問題のTTSを求めよ」という問題は、$1, -1, 1, \\cdots$を得るためにかかる総計算時間となります。  \n",
    "上述のIsing modelを解き、1回の計算時間を伸ばすとTTSがどのように変化するかを見てみましょう。"
   ]
  },
  {
   "cell_type": "code",
   "execution_count": 24,
   "metadata": {},
   "outputs": [],
   "source": [
    "import random\n",
    "import numpy as np\n",
    "import matplotlib.pyplot as plt\n",
    "\n",
    "# OpenJijをimportします。\n",
    "import openjij as oj "
   ]
  },
  {
   "cell_type": "code",
   "execution_count": 25,
   "metadata": {},
   "outputs": [],
   "source": [
    "# 反強磁性1次元Ising modelを作ります。\n",
    "N = 30\n",
    "h = {0: -10}\n",
    "J = {(i, i+1): 1 for i in range(N-1)}"
   ]
  },
  {
   "cell_type": "markdown",
   "metadata": {
    "colab_type": "text",
    "id": "63j1bHf1BDQR"
   },
   "source": [
    "## TTSを計算してみる\n",
    "\n",
    "openjijの`sample_ising`または`sample_qubo`から返ってくる Response クラスは`info`というメンバ変数を持っています。`info`にはsamplerごとに異なる情報が辞書型で格納されています。ほとんどのSamplerには`'execution_time'`というkeyで、各アルゴリズムの1回の実行時間(単位は$\\mu$ s)が格納されています。  \n",
    "SASamplerの場合はSimulated Annealingの1回あたりの計算時間を格納しています。"
   ]
  },
  {
   "cell_type": "code",
   "execution_count": 28,
   "metadata": {},
   "outputs": [
    {
     "name": "stdout",
     "output_type": "stream",
     "text": [
      "29.743169725406915\n",
      "40.29410003568046\n",
      "55.23409017769154\n",
      "80.4729093943024\n",
      "88.36826986225788\n"
     ]
    }
   ],
   "source": [
    "# 最適解を作成します。\n",
    "correct_state = [(-1)**i for i in range(N)]\n",
    "\n",
    "# TTS を計算するのに必要なpRを定義します。\n",
    "pR = 0.99\n",
    "\n",
    "# Samplerの引数の というパラメータに渡すリスト: num_sweeps_listを定義します。 \n",
    "# num_sweepsはアニーリング中のパラメータ(温度, 横磁場)を下げていくときの分割数です。\n",
    "# よって増やすほどゆっくりアニーリングをすることに相当し、アニーリング時間が伸びます。\n",
    "num_sweeps_list = list(range(10, 51, 10)) \n",
    "\n",
    "TTS_list = [] # 各計算時間に対するTTSを格納しておくリストを定義します。\n",
    "tau_list = [] # 計算時間を格納しておくリストを定義します。\n",
    "\n",
    "# 計算の過程で成功確率が求まるので、それを格納しておくリストも定義します。\n",
    "ps_list = []\n",
    "\n",
    "# 確率を計算するために1回のアニーリングを行う回数を定義します。\n",
    "num_reads = 100\n",
    "\n",
    "for num_sweeps in num_sweeps_list:\n",
    "    sampler = oj.SASampler(num_sweeps=num_sweeps, num_reads=num_reads)  \n",
    "    response = sampler.sample_ising(h, J)\n",
    "\n",
    "    # 計算結果のうち、最適解の数を数えて最適解を得た確率を計算します。\n",
    "    tau = response.info['execution_time']\n",
    "    \n",
    "    # psを計算します。stateはndarrayなので.all()を用いてリストを比較します。\n",
    "    ps = sum([1 if (state == correct_state).all() else 0 for state in response.states])/num_reads\n",
    "    \n",
    "    \n",
    "    # ps = 0のときTTSが無限大に発散してしまうため、それを回避します。\n",
    "    if ps == 0.0:\n",
    "        continue\n",
    "    \n",
    "    # TTSを計算します。\n",
    "    TTS_list.append(np.log(1-pR)/np.log(1-ps)*tau)\n",
    "    tau_list.append(tau)\n",
    "\n",
    "    # 成功確率を計算します。\n",
    "    ps_list.append(ps)"
   ]
  },
  {
   "cell_type": "code",
   "execution_count": 22,
   "metadata": {},
   "outputs": [
    {
     "data": {
      "text/plain": [
       "Text(0, 0.5, 'Success probability')"
      ]
     },
     "execution_count": 22,
     "metadata": {},
     "output_type": "execute_result"
    },
    {
     "data": {
      "image/png": "[encoded data removed]",
      "text/plain": [
       "<Figure size 1080x216 with 2 Axes>"
      ]
     },
     "metadata": {
      "needs_background": "light"
     },
     "output_type": "display_data"
    }
   ],
   "source": [
    "# 各種描画の設定を行います。\n",
    "fig, (axL, axR) = plt.subplots(ncols=2, figsize=(15,3))\n",
    "plt.subplots_adjust(wspace=0.4)\n",
    "fontsize = 10\n",
    "\n",
    "# TTSを描画します。\n",
    "axL.plot(tau_list, TTS_list)\n",
    "axL.set_xlabel('annealing time', fontsize=fontsize)\n",
    "axL.set_ylabel('TTS', fontsize=fontsize)\n",
    "\n",
    "# 成功確率psを描画します。\n",
    "axR.plot(tau_list, ps_list)\n",
    "axR.set_xlabel('annealing time', fontsize=fontsize)\n",
    "axR.set_ylabel('Success probability', fontsize=fontsize)"
   ]
  },
  {
   "cell_type": "markdown",
   "metadata": {
    "colab_type": "text",
    "id": "ekqnlWy_BDQY"
   },
   "source": [
    "このようにして、TTSと成功確率を計算することができます。上の2つの図は両方とも、横軸が1回のアニーリングにかかる計算時間となっています。\n",
    "アニーリング時間が増加するとTTSも増加する傾向にあります。必要な成功確率が補償できた時点でアニーリングをやめたいときの指標として、これらを有効に使っていきましょう。\n",
    "\n",
    "ここまでは原理を確認するためにスクリプトを作成しましたが、OpenJijにはデフォルトでTTS, 残留エネルギー, 成功確率を評価してくれるベンチマーク関数`openjij.solver_benchmark`が存在します。  \n",
    "\n",
    "## solver_benchmark関数\n",
    "\n",
    "上述の通り、solver_benchmark関数はTTS, 残留エネルギー, 成功確率を計算し、その値を返します。\n",
    "\n",
    "以下に引数を列挙します。\n",
    "\n",
    "- solver: function  \n",
    "    `Response`クラスを返す関数です。`time`と`num_reads`という引数を持つ必要があります。\n",
    "    `time`は計算時間を制御するパラメータです。`SASampler`の場合は`num_sweeps`に相当します。\n",
    "    `num_reads`はTTSや残留エネルギーなどを計算するときに必要なサンプリング回数を指定します。\n",
    "    また関数の戻り値の`Response.info`には、`time_name`という引数で指定する文字列をキーワードで持ち、`time_name`に紐づく値は1回あたりの計算時間が格納されている必要があります。\n",
    "- time_list: list  \n",
    "    solverの`time`引数に入れる値のリストです。\n",
    "- solutions: list(list: state)  \n",
    "    基底状態(最適解)となる状態のリストです。縮退(同じ状態が複数あり見分けがつかない状態)している場合は[state1, state2]のように、複数の状態を入れます。\n",
    "- args: dict\n",
    "    solverにオプションで必要な場合につけます。デフォルトでは`args = {}`です。\n",
    "- p_r: 0 < float <= 1  \n",
    "    TTSを計算するために必要な値です。上述のTTSの説明のp_Rに相当します。\n",
    "- ref_energy: float  \n",
    "    参照エネルギーです。次のmeasure_with_energyと合わせて用います。デフォルトでは`ref_energy = 0`です。\n",
    "- measure_with_energy: bool  \n",
    "    False: スピンの状態が基底状態と一致しているとき、成功とカウントします。  \n",
    "    True: エネルギーが先ほどのref_energy以下のとき、成功とカウントします。基底状態がわからない場合に用います。  \n",
    "    デフォルトではFalseです。\n",
    "- time_name: str  \n",
    "    `Response.info`に入っている実行時間と紐づくキーを指定します。デフォルトでは`'execution_time'`です。\n",
    "    \n",
    "返り値はbenchmark計算の結果が以下のように辞書型で格納されています。\n",
    "\n",
    "- time: 実行時間のリストです。\n",
    "- success_prob: 成功確率のリストです。\n",
    "- tts: TTSのリストです。\n",
    "- residual_energy: 残留エネルギーのリストです。\n",
    "- info: (dict) ベンチマーク関数のパラメータ情報です。\n",
    "\n",
    "次は、このベンチマーク関数を用いてTTSなどを計算してみましょう。"
   ]
  },
  {
   "cell_type": "code",
   "execution_count": 10,
   "metadata": {
    "colab": {},
    "colab_type": "code",
    "id": "UsT_OrHpBDQZ",
    "scrolled": true
   },
   "outputs": [],
   "source": [
    "# 最適解を定義します。\n",
    "correct_state = [(-1)**i for i in range(N)]\n",
    "\n",
    "# num_sweepsとnum_readsの反復数を与えます。\n",
    "num_sweeps_list = list(range(10, 51, 10))  # [10, 20, 30, 40, 50]\n",
    "num_reads = 100\n",
    "\n",
    "# benchmark関数を用いてTTS, 残留エネルギー, 成功確率を計算します。\n",
    "result = oj.solver_benchmark(\n",
    "                      solver=lambda time, **args: oj.SASampler(num_sweeps=time, num_reads=num_reads).sample_ising(h,J), \n",
    "                      time_list=num_sweeps_list, solutions=[correct_state], p_r=0.99\n",
    "            )"
   ]
  },
  {
   "cell_type": "code",
   "execution_count": 11,
   "metadata": {
    "colab": {
     "base_uri": "https://localhost:8080/",
     "height": 245
    },
    "colab_type": "code",
    "id": "cZ1cs-g1BDQc",
    "outputId": "faf086d7-83b4-48e8-f75a-d2eefbac563d"
   },
   "outputs": [
    {
     "data": {
      "text/plain": [
       "Text(0, 0.5, 'Success probability')"
      ]
     },
     "execution_count": 11,
     "metadata": {},
     "output_type": "execute_result"
    },
    {
     "data": {
      "image/png": "[encoded data removed]",
      "text/plain": [
       "<Figure size 1080x216 with 3 Axes>"
      ]
     },
     "metadata": {
      "needs_background": "light"
     },
     "output_type": "display_data"
    }
   ],
   "source": [
    "# 各種描画を行うための設定を行います。\n",
    "fig, (axL,axC,axR) = plt.subplots(ncols=3, figsize=(15,3))\n",
    "plt.subplots_adjust(wspace=0.4)\n",
    "fontsize = 10\n",
    "\n",
    "# TTSを描画します。\n",
    "axL.plot(result['time'], result['tts'])\n",
    "axL.set_xlabel('annealing time', fontsize=fontsize)\n",
    "axL.set_ylabel('TTS', fontsize=fontsize)\n",
    "\n",
    "# 残留エネルギーを描画します。\n",
    "axC.plot(result['time'], result['residual_energy'])\n",
    "axC.set_xlabel('annealing time', fontsize=fontsize)\n",
    "axC.set_ylabel('Residual energy', fontsize=fontsize)\n",
    "\n",
    "# 最適解が出現した確率を描画します。\n",
    "axR.plot(result['time'], result['success_prob'])\n",
    "axR.set_xlabel('annealing time', fontsize=fontsize)\n",
    "axR.set_ylabel('Success probability', fontsize=fontsize)"
   ]
  },
  {
   "cell_type": "markdown",
   "metadata": {
    "colab_type": "text",
    "id": "F1MP6xatBDQf"
   },
   "source": [
    "このようにして簡単にベンチマークをとることができます。  \n",
    "\n",
    "先ほどと同じ反強磁性1次元Ising modelを解いているため、TTSと成功確率は先ほどと同様の単調増加グラフが出力されていることがわかります(ヒューリスティックスな解法なので、厳密な計算結果は毎回変わります)。\n",
    "\n",
    "残留エネルギーについてもアニーリング時間を増加させて計算すれば、いつかは収束することが予想されます。\n",
    "\n",
    "`solver`に入れる関数は`Response`クラスを返して、`.info['execution_time']`に計算時間を格納しておけばどのような自作関数を代入しても構いません。  \n",
    "\n",
    "以下に適当なユーザ関数を作成して実行する例を示します。[1, 1, 1, 1,...]と[1, -1, 1, -1,...]と[-1, 1, -1, 1,...]の3つのスピン状態からランダムに一つの状態を返す関数を作成し、アニーリングアルゴリズムのベンチマークを取ってみましょう。最適解は[1, -1, 1, -1,...]とします。"
   ]
  },
  {
   "cell_type": "code",
   "execution_count": 28,
   "metadata": {
    "colab": {},
    "colab_type": "code",
    "id": "QDHCChaRBDQg"
   },
   "outputs": [],
   "source": [
    "import time \n",
    "\n",
    "def anti_ferro_solver(time_param, num_reads, h, J):\n",
    "#     \"\"\"\n",
    "#     [1, 1, 1,...]と[1,-1,1,...]と[-1,1,-1,...]の3つの状態からランダムに選ぶ関数です。\n",
    "#     \"\"\"\n",
    "    \n",
    "    # 入力された h と J から添字の集合を作成します。\n",
    "    indices = set(h.keys())\n",
    "    indices = list(indices | set([key for keys in J.keys() for key in keys]))\n",
    "    \n",
    "    # [1, 1, 1,...]の状態を作成します。\n",
    "    ones_state = list(np.ones(len(indices), dtype=int))\n",
    "    \n",
    "    # [-1, 1, -1,...]の状態を作成します。\n",
    "    minus_plus_state = np.ones(len(indices), dtype=int)\n",
    "    minus_plus_state[::2] *= -1\n",
    "    # [1, -1, 1,...]の状態を作成します。\n",
    "    plus_minus_state = -1 * minus_plus_state\n",
    "    \n",
    "    # 実行時間を計測を開始します。\n",
    "    start = time.time()\n",
    "    _states = [ones_state, list(minus_plus_state), list(plus_minus_state)]\n",
    "    \n",
    "    # 3つの状態からランダムに1つの状態を選出します。\n",
    "    state_record = [_states[np.random.randint(3)] for _ in range(num_reads)]\n",
    "    # state_recordをndarrayに変換します。\n",
    "    state_record = np.array(state_record)\n",
    "    \n",
    "    # ここでは適当に計算時間をかさ増しします。\n",
    "    exec_time = (time.time()-start) * 10**6 * time_param\n",
    "    # ここでは適当にエネルギーを計算します。\n",
    "    energies = [sum(state) for state in state_record]\n",
    "    \n",
    "    # 状態のリストと添字を紐づけるために、1つのタプルにします。\n",
    "    samples_like = (state_record, indices)\n",
    "        \n",
    "    # dimodのfrom_samplesを参考に、Responseクラスに状態とエネルギーを格納します。\n",
    "    response = oj.Response.from_samples(samples_like=samples_like, energy=energies, vartype='SPIN')\n",
    "    # response.infoの'execution_time'キーに計算時間を代入します。\n",
    "    response.info['execution_time'] = exec_time\n",
    "    \n",
    "    return response"
   ]
  },
  {
   "cell_type": "markdown",
   "metadata": {},
   "source": [
    "OpenJijのresponseはdimodのSampleSetを参考にして作られています。\n",
    "そのため、OpenJijに慣れておけばdimodの利用やD-Wave実行への移行も容易になるというメリットがあります。\n",
    "dimodのSampleSetの詳細については以下のdimodのSamplesページをご覧ください。  \n",
    "[Samples](https://docs.ocean.dwavesys.com/projects/dimod/en/latest/reference/sampleset.html)"
   ]
  },
  {
   "cell_type": "code",
   "execution_count": 29,
   "metadata": {
    "colab": {},
    "colab_type": "code",
    "id": "lO8DpCkyBDQk"
   },
   "outputs": [],
   "source": [
    "# 最適解である[1, -1, 1,...]を定義しておきます。\n",
    "correct_state = [(-1)**i for i in range(N)]\n",
    "\n",
    "# num_sweepsとnum_readsを定義しておきます。\n",
    "num_sweeps_list = list(range(10, 51, 10))\n",
    "num_reads = 2000\n",
    "\n",
    "# benchmark関数でTTS, 残留エネルギー, 成功確率を計算します。\n",
    "result = oj.solver_benchmark(\n",
    "                      solver= lambda time_param, **args: anti_ferro_solver(time_param, num_reads, h, J), \n",
    "                      time_list=num_sweeps_list, solutions=[correct_state], p_r=0.99\n",
    "              )"
   ]
  },
  {
   "cell_type": "code",
   "execution_count": 30,
   "metadata": {
    "colab": {
     "base_uri": "https://localhost:8080/",
     "height": 245
    },
    "colab_type": "code",
    "id": "v8feULpDBDQo",
    "outputId": "6a4eb208-1795-4aec-ed26-bde92d9c928c",
    "scrolled": true
   },
   "outputs": [
    {
     "data": {
      "text/plain": [
       "Text(0, 0.5, 'Success probability')"
      ]
     },
     "execution_count": 30,
     "metadata": {},
     "output_type": "execute_result"
    },
    {
     "data": {
      "image/png": "[encoded data removed]",
      "text/plain": [
       "<Figure size 1080x216 with 3 Axes>"
      ]
     },
     "metadata": {
      "needs_background": "light"
     },
     "output_type": "display_data"
    }
   ],
   "source": [
    "fig, (axL,axC,axR) = plt.subplots(ncols=3, figsize=(15,3))\n",
    "plt.subplots_adjust(wspace=0.4)\n",
    "\n",
    "fontsize = 10\n",
    "axL.plot(result['time'], result['tts'])\n",
    "axL.set_xlabel('annealing time', fontsize=fontsize)\n",
    "axL.set_ylabel('TTS', fontsize=fontsize)\n",
    "\n",
    "axC.plot(result['time'], result['residual_energy'])\n",
    "axC.set_xlabel('annealing time', fontsize=fontsize)\n",
    "axC.set_ylabel('Residual energy', fontsize=fontsize)\n",
    "\n",
    "axR.plot(result['time'], result['success_prob'])\n",
    "axR.set_xlabel('annealing time', fontsize=fontsize)\n",
    "axR.set_ylabel('Success probability', fontsize=fontsize)"
   ]
  },
  {
   "cell_type": "markdown",
   "metadata": {
    "colab_type": "text",
    "id": "c3T8GiiSBDQr"
   },
   "source": [
    "3つの状態からランダムにひとつ1つ最適解の状態を選んでいるので、成功確率はおよそ1/3くらいになるはずです。  \n",
    "上の成功確率の図も縦軸がその程度の数値になっています。\n",
    "\n",
    "このようにうまくsolver関数を作っておけば、OpenJijのソルバーに限らずTTS, 残留エネルギー, 成功確率を計算することが可能です。 "
   ]
  },
  {
   "cell_type": "markdown",
   "metadata": {},
   "source": [
    "次のページでは、この章で紹介した指標の標準誤差を計算する機能をご紹介します。"
   ]
  },
  {
   "cell_type": "code",
   "execution_count": null,
   "metadata": {},
   "outputs": [],
   "source": []
  }
 ],
 "metadata": {
  "colab": {
   "collapsed_sections": [],
   "include_colab_link": true,
   "name": "2_Evaluation_ver008.ipynb",
   "provenance": []
  },
  "kernelspec": {
   "display_name": "Python 3",
   "language": "python",
   "name": "python3"
  },
  "language_info": {
   "codemirror_mode": {
    "name": "ipython",
    "version": 3
   },
   "file_extension": ".py",
   "mimetype": "text/x-python",
   "name": "python",
   "nbconvert_exporter": "python",
   "pygments_lexer": "ipython3",
   "version": "3.8.2"
  }
 },
 "nbformat": 4,
 "nbformat_minor": 1
}
