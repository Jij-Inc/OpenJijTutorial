{
 "cells": [
  {
   "cell_type": "markdown",
   "metadata": {},
   "source": [
    "# 3-Plus-Annealing Cloud Web (NEDOのCMOS-Annealer)\n",
    "\n",
    "[![Open in Colab](https://colab.research.google.com/assets/colab-badge.svg)](https://colab.research.google.com/github/OpenJij/OpenJijTutorial/blob/master/ja/3-plus-CMOSAnnealer.ipynb)  \n",
    "\n",
    "\n",
    "ここでは 日立 の作った「CMOSアニーリングマシン」をWeb APIで提供している NEDO の [Annealing Cloud Web](https://annealing-cloud.com) へ OpenJijを通して接続して CMOS アニーラを使ってみます。\n",
    "\n",
    "\n",
    "> OpenJijによるサポートは接続先のAnnealing Cloud Web自体の永続性を保証するものではなく、予告なくサービス終了や内容の変更が生じる可能性があります。\n",
    "> このノートブックは 2019/4/26 に作成されました。  \n",
    "> またAnnealing Cloud Webの提供しているWeb APIは日立CMOSアニーリングマシン全体をサポートする標準的な仕様というわけではなく、実装例です。OpenJijではAnnealing Cloud WebのWeb APIで提供しているCMOSアニーリングマシンの機能にアクセスすることができます。"
   ]
  },
  {
   "cell_type": "markdown",
   "metadata": {
    "colab_type": "text",
    "id": "view-in-github"
   },
   "source": [
    "<a href=\"https://colab.research.google.com/github/\" target=\"_parent\"><img src=\"https://colab.research.google.com/assets/colab-badge.svg\" alt=\"Open In Colab\"/></a>"
   ]
  },
  {
   "cell_type": "markdown",
   "metadata": {},
   "source": [
    "Annealing Cloud Web については[ここ](https://annealing-cloud.com)を見てください。  \n",
    "OpenJijではAnnealing Cloud Web の公開している Web API をラップし、OpenJijの他のサンプラー(SASamplerやSQASampler)と同じインターフェースで提供しています。  \n",
    "\n",
    "### token 取得\n",
    "Annealing cloud web を使うには tokenを発行する必要があります。\n",
    "https://annealing-cloud.com/web-api/token-request.html ここから問い合わせれば取得できます。　\n",
    "\n",
    "### OpenJij でアクセスする\n",
    "\n",
    "では早速にコード例を示します。\n",
    "\n",
    "まずopenjij をインストールしておきましょう"
   ]
  },
  {
   "cell_type": "code",
   "execution_count": 1,
   "metadata": {},
   "outputs": [
    {
     "name": "stdout",
     "output_type": "stream",
     "text": [
      "Name: openjij\r\n",
      "Version: 0.0.5\r\n",
      "Summary: Framework for ising model and QUBO\r\n",
      "Home-page: https://openjij.github.io/OpenJij/\r\n",
      "Author: Jij Inc.\r\n",
      "Author-email: openjij@j-ij.com\r\n",
      "License: Apache License 2.0\r\n",
      "Location: /usr/local/miniconda3/lib/python3.6/site-packages\r\n",
      "Requires: requests, numpy\r\n",
      "Required-by: \r\n"
     ]
    }
   ],
   "source": [
    "# !pip install openjij\n",
    "!pip show openjij  # openjij == 0.0.5 を仮定します"
   ]
  },
  {
   "cell_type": "code",
   "execution_count": 3,
   "metadata": {},
   "outputs": [],
   "source": [
    "import openjij as oj"
   ]
  },
  {
   "cell_type": "markdown",
   "metadata": {},
   "source": [
    "以下のように``SASampler`` などを使う時と同じく CMOSAnnealer というコンストラクタで インスタンスを生成して sample_ising で解をサンプリングできます。ここでtoken には Annealing cloud web で取得した token を使ってください。"
   ]
  },
  {
   "cell_type": "code",
   "execution_count": 4,
   "metadata": {},
   "outputs": [
    {
     "data": {
      "text/plain": [
       "[{0: -1, 1: -1, 2: -1},\n",
       " {0: -1, 1: -1, 2: -1},\n",
       " {0: -1, 1: -1, 2: -1},\n",
       " {0: -1, 1: -1, 2: -1},\n",
       " {0: -1, 1: -1, 2: -1}]"
      ]
     },
     "execution_count": 4,
     "metadata": {},
     "output_type": "execute_result"
    }
   ],
   "source": [
    "cmos = oj.CMOSAnnealer(token=\"\", iteration=5)\n",
    "h = {0: 1}\n",
    "J = {(0, 1): -1, (1, 2): -1}\n",
    "response = cmos.sample_ising(h, J)\n",
    "[{index: s for index, s in zip(response.indices, state)} for state in response.states]"
   ]
  },
  {
   "cell_type": "markdown",
   "metadata": {},
   "source": [
    "またAnnealing Cloud Web では ASIC実装とFPGA実装を提供しています。     \n",
    "それらはCMOSAnnealerコンストラクタの引数の``machine_type``で指定します。\n",
    "デフォルトはASICです。\n",
    "\n",
    "FPGAとASICで扱えるパラメータ(問題サイズや相互作用の大きさの範囲)が違うことに注意してください。(詳細 : https://annealing-cloud.com/web-api/reference/v2.html)"
   ]
  },
  {
   "cell_type": "code",
   "execution_count": 13,
   "metadata": {},
   "outputs": [
    {
     "data": {
      "text/plain": [
       "[{0: -1, 1: -1, 2: -1},\n",
       " {0: -1, 1: -1, 2: -1},\n",
       " {0: -1, 1: -1, 2: -1},\n",
       " {0: -1, 1: -1, 2: -1},\n",
       " {0: -1, 1: -1, 2: -1}]"
      ]
     },
     "execution_count": 13,
     "metadata": {},
     "output_type": "execute_result"
    }
   ],
   "source": [
    "cmos = oj.CMOSAnnealer(token=\"\", iteration=5, machine_type=\"FPGA\")\n",
    "h = {0: 1}\n",
    "J = {(0, 1): -1, (1, 2): -1}\n",
    "response = cmos.sample_ising(h, J)\n",
    "[{index: s for index, s in zip(response.indices, state)} for state in response.states]"
   ]
  },
  {
   "cell_type": "markdown",
   "metadata": {},
   "source": [
    "## 相互作用とキンググラフ\n",
    "\n",
    "\n",
    "### 他のSamplerと同じ 辞書型で渡す\n",
    "\n",
    "上記のようにイジングの h と J を辞書型で渡すことができます。添字はCMOSアニーリングマシンの持つキンググラフ([こちらを参照](https://annealing-cloud.com/play/ising-editor.html))の2次元格子(x, y)を左上から横に順番に番号をつけていった1次元添字(index)に対応させてください。\n",
    "\n",
    "- 2次元格子(キンググラフ上の座標) \n",
    "    - x軸 : 0 -> Lx\n",
    "    - y軸 : 0 -> Ly\n",
    "- 1次元の添字\n",
    "    - index = x + Ly * y\n",
    "    \n",
    "例えば FPGA 実装であれば 2次元格子のx軸方向の範囲は 0-79 なので、{(0, 80): -1} という相互作用を渡せば、0番目のスピンとキンググラフ上で真下のスピンに -1 の結合ができます。"
   ]
  },
  {
   "cell_type": "code",
   "execution_count": 18,
   "metadata": {},
   "outputs": [
    {
     "data": {
      "text/plain": [
       "[{0: 1, 80: 1}]"
      ]
     },
     "execution_count": 18,
     "metadata": {},
     "output_type": "execute_result"
    }
   ],
   "source": [
    "cmos_fpga = oj.CMOSAnnealer(token=\"\", machine_type=\"FPGA\")\n",
    "response = cmos_fpga.sample_ising(h={}, J={(0, 80):-1})\n",
    "[{index: s for index, s in zip(response.indices, state)} for state in response.states]"
   ]
  },
  {
   "cell_type": "markdown",
   "metadata": {},
   "source": [
    "\n",
    "ASIC 上ではx軸方向の大きさが違うので (0, 80) の組み合わせは同じ行のスピンをしてしていることになり、キンググラフ上でつながっていないのでエラーになります。\n",
    "\n",
    "以下のコードは繋がっていない変数同士を相互作用させようとしているので ValueError です。"
   ]
  },
  {
   "cell_type": "code",
   "execution_count": 7,
   "metadata": {},
   "outputs": [
    {
     "ename": "ValueError",
     "evalue": "Graph is incomplete xi: 0, yi: 0, xj: 80, yj: 0, p:-1",
     "output_type": "error",
     "traceback": [
      "\u001b[0;31m---------------------------------------------------------------------------\u001b[0m",
      "\u001b[0;31mValueError\u001b[0m                                Traceback (most recent call last)",
      "\u001b[0;32m<ipython-input-7-6af0b52239d5>\u001b[0m in \u001b[0;36m<module>\u001b[0;34m\u001b[0m\n\u001b[1;32m      1\u001b[0m \u001b[0mcmos_fpga\u001b[0m \u001b[0;34m=\u001b[0m \u001b[0moj\u001b[0m\u001b[0;34m.\u001b[0m\u001b[0mCMOSAnnealer\u001b[0m\u001b[0;34m(\u001b[0m\u001b[0mtoken\u001b[0m\u001b[0;34m=\u001b[0m\u001b[0;34m\"4217cf4d6928cfe72921e266ee3b655c\"\u001b[0m\u001b[0;34m,\u001b[0m \u001b[0mmachine_type\u001b[0m\u001b[0;34m=\u001b[0m\u001b[0;34m\"ASIC\"\u001b[0m\u001b[0;34m)\u001b[0m\u001b[0;34m\u001b[0m\u001b[0;34m\u001b[0m\u001b[0m\n\u001b[0;32m----> 2\u001b[0;31m \u001b[0mresponse\u001b[0m \u001b[0;34m=\u001b[0m \u001b[0mcmos_fpga\u001b[0m\u001b[0;34m.\u001b[0m\u001b[0msample_ising\u001b[0m\u001b[0;34m(\u001b[0m\u001b[0mh\u001b[0m\u001b[0;34m=\u001b[0m\u001b[0;34m{\u001b[0m\u001b[0;34m}\u001b[0m\u001b[0;34m,\u001b[0m \u001b[0mJ\u001b[0m\u001b[0;34m=\u001b[0m\u001b[0;34m{\u001b[0m\u001b[0;34m(\u001b[0m\u001b[0;36m0\u001b[0m\u001b[0;34m,\u001b[0m \u001b[0;36m80\u001b[0m\u001b[0;34m)\u001b[0m\u001b[0;34m:\u001b[0m\u001b[0;34m-\u001b[0m\u001b[0;36m1\u001b[0m\u001b[0;34m}\u001b[0m\u001b[0;34m)\u001b[0m \u001b[0;31m# ValueError !!\u001b[0m\u001b[0;34m\u001b[0m\u001b[0;34m\u001b[0m\u001b[0m\n\u001b[0m",
      "\u001b[0;32m/usr/local/miniconda3/lib/python3.6/site-packages/openjij/sampler/cmos_annealer.py\u001b[0m in \u001b[0;36msample_ising\u001b[0;34m(self, h, J, king_graph)\u001b[0m\n\u001b[1;32m     41\u001b[0m             \u001b[0;32mreturn\u001b[0m \u001b[0mself\u001b[0m\u001b[0;34m.\u001b[0m\u001b[0m_sampling\u001b[0m\u001b[0;34m(\u001b[0m\u001b[0m_king_graph\u001b[0m\u001b[0;34m,\u001b[0m \u001b[0mspin_type\u001b[0m\u001b[0;34m=\u001b[0m\u001b[0mspin_type\u001b[0m\u001b[0;34m,\u001b[0m \u001b[0mtoken\u001b[0m\u001b[0;34m=\u001b[0m\u001b[0mself\u001b[0m\u001b[0;34m.\u001b[0m\u001b[0mtoken\u001b[0m\u001b[0;34m)\u001b[0m\u001b[0;34m\u001b[0m\u001b[0;34m\u001b[0m\u001b[0m\n\u001b[1;32m     42\u001b[0m         \u001b[0;32melif\u001b[0m \u001b[0;34m(\u001b[0m\u001b[0mh\u001b[0m \u001b[0;32mis\u001b[0m \u001b[0;32mnot\u001b[0m \u001b[0;32mNone\u001b[0m\u001b[0;34m)\u001b[0m \u001b[0;32mand\u001b[0m \u001b[0;34m(\u001b[0m\u001b[0mJ\u001b[0m \u001b[0;32mis\u001b[0m \u001b[0;32mnot\u001b[0m \u001b[0;32mNone\u001b[0m\u001b[0;34m)\u001b[0m\u001b[0;34m:\u001b[0m\u001b[0;34m\u001b[0m\u001b[0;34m\u001b[0m\u001b[0m\n\u001b[0;32m---> 43\u001b[0;31m             \u001b[0m_king_graph\u001b[0m \u001b[0;34m=\u001b[0m \u001b[0mKingGraph\u001b[0m\u001b[0;34m(\u001b[0m\u001b[0mmachine_type\u001b[0m\u001b[0;34m=\u001b[0m\u001b[0mself\u001b[0m\u001b[0;34m.\u001b[0m\u001b[0mmachine_type\u001b[0m\u001b[0;34m,\u001b[0m \u001b[0mh\u001b[0m\u001b[0;34m=\u001b[0m\u001b[0mh\u001b[0m\u001b[0;34m,\u001b[0m \u001b[0mJ\u001b[0m\u001b[0;34m=\u001b[0m\u001b[0mJ\u001b[0m\u001b[0;34m,\u001b[0m \u001b[0mspin_type\u001b[0m\u001b[0;34m=\u001b[0m\u001b[0mspin_type\u001b[0m\u001b[0;34m)\u001b[0m\u001b[0;34m\u001b[0m\u001b[0;34m\u001b[0m\u001b[0m\n\u001b[0m\u001b[1;32m     44\u001b[0m             \u001b[0;32mreturn\u001b[0m \u001b[0mself\u001b[0m\u001b[0;34m.\u001b[0m\u001b[0m_sampling\u001b[0m\u001b[0;34m(\u001b[0m\u001b[0m_king_graph\u001b[0m\u001b[0;34m,\u001b[0m \u001b[0mspin_type\u001b[0m\u001b[0;34m=\u001b[0m\u001b[0mspin_type\u001b[0m\u001b[0;34m,\u001b[0m \u001b[0mtoken\u001b[0m\u001b[0;34m=\u001b[0m\u001b[0mself\u001b[0m\u001b[0;34m.\u001b[0m\u001b[0mtoken\u001b[0m\u001b[0;34m)\u001b[0m\u001b[0;34m\u001b[0m\u001b[0;34m\u001b[0m\u001b[0m\n\u001b[1;32m     45\u001b[0m         \u001b[0;32melse\u001b[0m\u001b[0;34m:\u001b[0m\u001b[0;34m\u001b[0m\u001b[0;34m\u001b[0m\u001b[0m\n",
      "\u001b[0;32m/usr/local/miniconda3/lib/python3.6/site-packages/openjij/model/king_graph.py\u001b[0m in \u001b[0;36m__init__\u001b[0;34m(self, machine_type, h, J, Q, king_graph, spin_type)\u001b[0m\n\u001b[1;32m     86\u001b[0m                     \u001b[0mself\u001b[0m\u001b[0;34m.\u001b[0m\u001b[0m_ising_king_graph\u001b[0m\u001b[0;34m.\u001b[0m\u001b[0mappend\u001b[0m\u001b[0;34m(\u001b[0m\u001b[0;34m[\u001b[0m\u001b[0mx1\u001b[0m\u001b[0;34m,\u001b[0m \u001b[0my1\u001b[0m\u001b[0;34m,\u001b[0m \u001b[0mx2\u001b[0m\u001b[0;34m,\u001b[0m \u001b[0my2\u001b[0m\u001b[0;34m,\u001b[0m \u001b[0mising_int\u001b[0m\u001b[0;34m[\u001b[0m\u001b[0mi\u001b[0m\u001b[0;34m]\u001b[0m\u001b[0;34m[\u001b[0m\u001b[0mj\u001b[0m\u001b[0;34m]\u001b[0m\u001b[0;34m]\u001b[0m\u001b[0;34m)\u001b[0m\u001b[0;34m\u001b[0m\u001b[0;34m\u001b[0m\u001b[0m\n\u001b[1;32m     87\u001b[0m \u001b[0;34m\u001b[0m\u001b[0m\n\u001b[0;32m---> 88\u001b[0;31m         \u001b[0mself\u001b[0m\u001b[0;34m.\u001b[0m\u001b[0m_validation_ising_king_graph\u001b[0m\u001b[0;34m(\u001b[0m\u001b[0;34m)\u001b[0m\u001b[0;34m\u001b[0m\u001b[0;34m\u001b[0m\u001b[0m\n\u001b[0m\u001b[1;32m     89\u001b[0m \u001b[0;34m\u001b[0m\u001b[0m\n\u001b[1;32m     90\u001b[0m     \u001b[0;32mdef\u001b[0m \u001b[0m_convert_to_BQM_format\u001b[0m\u001b[0;34m(\u001b[0m\u001b[0mself\u001b[0m\u001b[0;34m,\u001b[0m \u001b[0mking_graph\u001b[0m\u001b[0;34m,\u001b[0m \u001b[0mspin_type\u001b[0m\u001b[0;34m)\u001b[0m\u001b[0;34m:\u001b[0m\u001b[0;34m\u001b[0m\u001b[0;34m\u001b[0m\u001b[0m\n",
      "\u001b[0;32m/usr/local/miniconda3/lib/python3.6/site-packages/openjij/model/king_graph.py\u001b[0m in \u001b[0;36m_validation_ising_king_graph\u001b[0;34m(self)\u001b[0m\n\u001b[1;32m    127\u001b[0m             \u001b[0;32mif\u001b[0m \u001b[0;32mnot\u001b[0m \u001b[0;34m(\u001b[0m\u001b[0mxi\u001b[0m \u001b[0;32min\u001b[0m \u001b[0;34m[\u001b[0m\u001b[0mxj\u001b[0m\u001b[0;34m,\u001b[0m \u001b[0mxj\u001b[0m\u001b[0;34m-\u001b[0m\u001b[0;36m1\u001b[0m\u001b[0;34m,\u001b[0m \u001b[0mxj\u001b[0m\u001b[0;34m+\u001b[0m\u001b[0;36m1\u001b[0m\u001b[0;34m]\u001b[0m\u001b[0;34m)\u001b[0m \u001b[0;32mor\u001b[0m \u001b[0;32mnot\u001b[0m \u001b[0;34m(\u001b[0m\u001b[0myi\u001b[0m \u001b[0;32min\u001b[0m \u001b[0;34m[\u001b[0m\u001b[0myj\u001b[0m\u001b[0;34m,\u001b[0m \u001b[0myj\u001b[0m\u001b[0;34m-\u001b[0m\u001b[0;36m1\u001b[0m\u001b[0;34m,\u001b[0m \u001b[0myj\u001b[0m\u001b[0;34m+\u001b[0m\u001b[0;36m1\u001b[0m\u001b[0;34m]\u001b[0m\u001b[0;34m)\u001b[0m\u001b[0;34m:\u001b[0m\u001b[0;34m\u001b[0m\u001b[0;34m\u001b[0m\u001b[0m\n\u001b[1;32m    128\u001b[0m                 raise ValueError('Graph is incomplete xi: {}, yi: {}, xj: {}, yj: {}, p:{}'\n\u001b[0;32m--> 129\u001b[0;31m                 .format(xi, yi, xj, yj, p))\n\u001b[0m\u001b[1;32m    130\u001b[0m             \u001b[0;32mif\u001b[0m \u001b[0;32mnot\u001b[0m \u001b[0;34m(\u001b[0m\u001b[0mself\u001b[0m\u001b[0;34m.\u001b[0m\u001b[0mprange\u001b[0m\u001b[0;34m[\u001b[0m\u001b[0;36m0\u001b[0m\u001b[0;34m]\u001b[0m \u001b[0;34m<=\u001b[0m \u001b[0mp\u001b[0m \u001b[0;34m<=\u001b[0m \u001b[0mself\u001b[0m\u001b[0;34m.\u001b[0m\u001b[0mprange\u001b[0m\u001b[0;34m[\u001b[0m\u001b[0;36m1\u001b[0m\u001b[0;34m]\u001b[0m\u001b[0;34m)\u001b[0m\u001b[0;34m:\u001b[0m\u001b[0;34m\u001b[0m\u001b[0;34m\u001b[0m\u001b[0m\n\u001b[1;32m    131\u001b[0m                 raise ValueError('Graph is incomplete xi: {}, yi: {}, xj: {}, yj: {}, p: {}'\n",
      "\u001b[0;31mValueError\u001b[0m: Graph is incomplete xi: 0, yi: 0, xj: 80, yj: 0, p:-1"
     ]
    }
   ],
   "source": [
    "cmos_fpga = oj.CMOSAnnealer(token=\"\", machine_type=\"ASIC\")\n",
    "response = cmos_fpga.sample_ising(h={}, J={(0, 80):-1}) # ValueError !! "
   ]
  },
  {
   "cell_type": "markdown",
   "metadata": {},
   "source": [
    "### キンググラフ上の2次元座標で相互作用を渡す\n",
    "\n",
    "また入力はAnnealing Cloud Web の入力フォーマットでも行えます。その際は king_graph という引数に渡してください。\n",
    "\n",
    "Annealing Cloud Webの入力フォーマットは２次元格子の座標を指定します。\n",
    "\n",
    "- Linear term : [x1, y1, x1, y1, value]\n",
    "- Quadratic term : [x1, y1, x2, y2, value]"
   ]
  },
  {
   "cell_type": "code",
   "execution_count": 15,
   "metadata": {},
   "outputs": [
    {
     "data": {
      "text/plain": [
       "[{0: -1, 1: -1, 2: -1},\n",
       " {0: -1, 1: -1, 2: -1},\n",
       " {0: -1, 1: -1, 2: -1},\n",
       " {0: -1, 1: -1, 2: -1},\n",
       " {0: -1, 1: -1, 2: -1}]"
      ]
     },
     "execution_count": 15,
     "metadata": {},
     "output_type": "execute_result"
    }
   ],
   "source": [
    "cmos = oj.CMOSAnnealer(token=\"\", iteration=5, machine_type=\"FPGA\")\n",
    "\n",
    "king_graph = [[0, 0, 0, 0, 1], [0, 0, 1, 0, -1],[1, 0, 2, 0, -1]]\n",
    "# ↑は\n",
    "# h = {0: 1}\n",
    "# J = {(0, 1): -1, (1, 2): -1}\n",
    "# とおなじ\n",
    "\n",
    "response = cmos.sample_ising(king_graph = king_graph)\n",
    "[{index: s for index, s in zip(response.indices, state)} for state in response.states]"
   ]
  },
  {
   "cell_type": "markdown",
   "metadata": {},
   "source": [
    "### QUBOを解く\n",
    "\n",
    "実用的には 0, 1 変数で解きたいことが多いです。その時は他のSamplerと同じく sample_qubo を使えば良いです。"
   ]
  },
  {
   "cell_type": "code",
   "execution_count": 9,
   "metadata": {},
   "outputs": [
    {
     "data": {
      "text/plain": [
       "[{0: 1, 80: 1}]"
      ]
     },
     "execution_count": 9,
     "metadata": {},
     "output_type": "execute_result"
    }
   ],
   "source": [
    "cmos_fpga = oj.CMOSAnnealer(token=\"\", machine_type=\"FPGA\")\n",
    "response = cmos_fpga.sample_qubo(Q={(0, 80):-4})\n",
    "[{index: s for index, s in zip(response.indices, state)} for state in response.states]"
   ]
  }
 ],
 "metadata": {
  "kernelspec": {
   "display_name": "Python 3",
   "language": "python",
   "name": "python3"
  },
  "language_info": {
   "codemirror_mode": {
    "name": "ipython",
    "version": 3
   },
   "file_extension": ".py",
   "mimetype": "text/x-python",
   "name": "python",
   "nbconvert_exporter": "python",
   "pygments_lexer": "ipython3",
   "version": "3.8.1"
  }
 },
 "nbformat": 4,
 "nbformat_minor": 2
}
