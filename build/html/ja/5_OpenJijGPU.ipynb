{
 "cells": [
  {
   "cell_type": "markdown",
   "metadata": {
    "colab_type": "text",
    "id": "view-in-github"
   },
   "source": [
    "<a href=\"https://colab.research.google.com/github/OpenJij/OpenJijTutorial/blob/master/5_OpenJijGPU.ipynb\" target=\"_parent\"><img src=\"https://colab.research.google.com/assets/colab-badge.svg\" alt=\"Open In Colab\"/></a>"
   ]
  },
  {
   "cell_type": "markdown",
   "metadata": {
    "colab_type": "text",
    "id": "view-in-github"
   },
   "source": [
    "<a href=\"https://colab.research.google.com/github/\" target=\"_parent\"><img src=\"https://colab.research.google.com/assets/colab-badge.svg\" alt=\"Open In Colab\"/></a>"
   ]
  },
  {
   "cell_type": "markdown",
   "metadata": {
    "colab_type": "text",
    "id": "tcLyUtUqhkTr"
   },
   "source": [
    "# 5-OpenJij GPU\n",
    "\n",
    "[![Open in Colab](https://colab.research.google.com/assets/colab-badge.svg)](https://colab.research.google.com/github/OpenJij/OpenJijTutorial/blob/master/ja/5-OpenJijGPU.ipynb)"
   ]
  },
  {
   "cell_type": "markdown",
   "metadata": {
    "colab_type": "text",
    "id": "Vrd0CwLJhvVQ"
   },
   "source": [
    "OpenJijでは現在(0.0.6)キメラグラフ構造のみGPUでのSQAに対応しています。\n",
    "\n",
    "このセクションではGPUでSQAを行ってきます。\n",
    "\n",
    "\n",
    "一般にPCにはGPGPUは載っていないのでこのノートブックは実行できないことが多いかもしれませんが、Google colaboratory を使えば誰でもGPGPUを使うことができます。\n",
    "\n",
    "このノートブックを Google colaboratory で開いて、\n",
    "\n",
    "```\n",
    "ランタイム -> ランタイムのタイプを変更　-> ハードウェアアクセラレータをGPUに選択\n",
    "```\n",
    "\n",
    "を行います。そのあとにopenjijをインストールすればGPU向けのコンパイルが行われるのでGPUのSamplerが使えるようになります。"
   ]
  },
  {
   "cell_type": "code",
   "execution_count": 1,
   "metadata": {
    "colab": {
     "base_uri": "https://localhost:8080/",
     "height": 311
    },
    "colab_type": "code",
    "id": "o8UaiBs1hkwh",
    "outputId": "633594ee-f863-467b-d633-e68ee2343af6"
   },
   "outputs": [
    {
     "name": "stdout",
     "output_type": "stream",
     "text": [
      "Requirement already satisfied: openjij in /usr/local/lib/python3.6/dist-packages (0.0.6)\n",
      "Requirement already satisfied: numpy in /usr/local/lib/python3.6/dist-packages (from openjij) (1.16.3)\n",
      "Requirement already satisfied: requests in /usr/local/lib/python3.6/dist-packages (from openjij) (2.21.0)\n",
      "Requirement already satisfied: urllib3<1.25,>=1.21.1 in /usr/local/lib/python3.6/dist-packages (from requests->openjij) (1.24.3)\n",
      "Requirement already satisfied: idna<2.9,>=2.5 in /usr/local/lib/python3.6/dist-packages (from requests->openjij) (2.8)\n",
      "Requirement already satisfied: chardet<3.1.0,>=3.0.2 in /usr/local/lib/python3.6/dist-packages (from requests->openjij) (3.0.4)\n",
      "Requirement already satisfied: certifi>=2017.4.17 in /usr/local/lib/python3.6/dist-packages (from requests->openjij) (2019.3.9)\n",
      "Name: openjij\n",
      "Version: 0.0.6\n",
      "Summary: Framework for the Ising model and QUBO\n",
      "Home-page: https://openjij.github.io/OpenJij/\n",
      "Author: Jij Inc.\n",
      "Author-email: openjij@j-ij.com\n",
      "License: Apache License 2.0\n",
      "Location: /usr/local/lib/python3.6/dist-packages\n",
      "Requires: requests, numpy\n",
      "Required-by: \n"
     ]
    }
   ],
   "source": [
    "!pip install openjij\n",
    "!pip show openjij  # openjij == 0.0.6 を仮定します"
   ]
  },
  {
   "cell_type": "markdown",
   "metadata": {
    "colab_type": "text",
    "id": "JMgqfmZ-h8X3"
   },
   "source": [
    "## キメラグラフ\n",
    "\n",
    "OpenJijのGPUではキメラグラフのみが扱えます。  \n",
    "キメラグラフは以下の画像のような形です。\n",
    "\n",
    "キメラグラフを満たさない添字の相互作用を指定するとエラーになります。\n",
    "`GPUChimeraSQASampler` では\n",
    "\n",
    "- キメラグラフのノードに一つずつ番号をつけた添字\n",
    "\n",
    "が使えます。\n",
    "\n",
    "早速具体的なコードをみてみましょう。\n",
    "\n",
    "まずは GPUChimeraSQASampler のインスタンスを作ります。"
   ]
  },
  {
   "cell_type": "code",
   "execution_count": 3,
   "metadata": {
    "colab": {},
    "colab_type": "code",
    "id": "TYhWp0eqh3Yb"
   },
   "outputs": [],
   "source": [
    "import openjij as oj\n",
    "\n",
    "sampler=oj.GPUChimeraSQASampler(num_reads=100, unit_num_L=2)"
   ]
  },
  {
   "cell_type": "markdown",
   "metadata": {
    "colab_type": "text",
    "id": "oOmEWWBxh_3O"
   },
   "source": [
    "ここで `unit_num_L` はキメラユニットセルが並ぶ2次元格子の1辺の長さを指定します。  \n",
    " `unit_num_L=2`では 2×2=4つのキメラユニットセルが並んでいる系を作ることになります。\n",
    "  \n",
    "GPUChimeraSQASampler では のちに sample_qubo などで少ない変数を指定しても、\n",
    "ここで作ったキメラグラフの系のサイズだけ SQAを回すので `unit_num_L`は無駄に大きすぎないようにしてください。\n",
    "\n",
    "また`unit_num_L`はコンストラクタで指定しなくても、`sample_qubo`を実行するときに引数に指定できます。\n",
    "\n",
    "ではSQAを回してみましょう。他のsampler と一緒で sample_qubo (or sample_ising) でOKです。"
   ]
  },
  {
   "cell_type": "code",
   "execution_count": 4,
   "metadata": {
    "colab": {
     "base_uri": "https://localhost:8080/",
     "height": 69
    },
    "colab_type": "code",
    "id": "_XIsZ9z2h_Rv",
    "outputId": "f724bfc5-fc59-434b-ccb7-155b4549874a"
   },
   "outputs": [
    {
     "data": {
      "text/plain": [
       "Response(rec.array([([1, 1, 1, 0], -2., 1), ([1, 1, 1, 0], -2., 1),\n",
       "           ([1, 1, 1, 0], -2., 1), ([1, 1, 1, 0], -2., 1),\n",
       "           ([1, 1, 1, 0], -2., 1), ([1, 1, 1, 0], -2., 1),\n",
       "           ([1, 1, 1, 0], -2., 1), ([1, 1, 1, 0], -2., 1),\n",
       "           ([1, 1, 1, 0], -2., 1), ([1, 1, 1, 0], -2., 1),\n",
       "           ([1, 1, 1, 0], -2., 1), ([1, 1, 1, 0], -2., 1),\n",
       "           ([1, 1, 1, 0], -2., 1), ([1, 1, 1, 0], -2., 1),\n",
       "           ([1, 1, 1, 0], -2., 1), ([1, 1, 1, 0], -2., 1),\n",
       "           ([1, 1, 1, 0], -2., 1), ([1, 1, 1, 0], -2., 1),\n",
       "           ([1, 1, 1, 0], -2., 1), ([1, 1, 1, 0], -2., 1),\n",
       "           ([1, 1, 1, 0], -2., 1), ([1, 1, 1, 0], -2., 1),\n",
       "           ([1, 1, 1, 0], -2., 1), ([1, 1, 1, 0], -2., 1),\n",
       "           ([1, 1, 1, 0], -2., 1), ([1, 1, 1, 0], -2., 1),\n",
       "           ([1, 1, 1, 0], -2., 1), ([1, 1, 1, 0], -2., 1),\n",
       "           ([1, 1, 1, 0], -2., 1), ([1, 1, 1, 0], -2., 1),\n",
       "           ([1, 1, 1, 0], -2., 1), ([1, 1, 1, 0], -2., 1),\n",
       "           ([1, 1, 1, 0], -2., 1), ([1, 1, 1, 0], -2., 1),\n",
       "           ([1, 1, 1, 0], -2., 1), ([1, 1, 1, 0], -2., 1),\n",
       "           ([1, 1, 1, 0], -2., 1), ([1, 1, 1, 0], -2., 1),\n",
       "           ([1, 1, 1, 0], -2., 1), ([1, 1, 1, 0], -2., 1),\n",
       "           ([1, 1, 1, 0], -2., 1), ([1, 1, 1, 0], -2., 1),\n",
       "           ([1, 1, 1, 0], -2., 1), ([1, 1, 1, 0], -2., 1),\n",
       "           ([1, 1, 1, 0], -2., 1), ([1, 1, 1, 0], -2., 1),\n",
       "           ([1, 1, 1, 0], -2., 1), ([1, 1, 1, 0], -2., 1),\n",
       "           ([1, 1, 1, 0], -2., 1), ([1, 1, 1, 0], -2., 1),\n",
       "           ([1, 1, 1, 0], -2., 1), ([1, 1, 1, 0], -2., 1),\n",
       "           ([1, 1, 1, 0], -2., 1), ([1, 1, 1, 0], -2., 1),\n",
       "           ([1, 1, 1, 0], -2., 1), ([1, 1, 1, 0], -2., 1),\n",
       "           ([1, 1, 1, 0], -2., 1), ([1, 1, 1, 0], -2., 1),\n",
       "           ([1, 1, 1, 0], -2., 1), ([1, 1, 1, 0], -2., 1),\n",
       "           ([1, 1, 1, 0], -2., 1), ([1, 1, 1, 0], -2., 1),\n",
       "           ([1, 1, 1, 0], -2., 1), ([1, 1, 1, 0], -2., 1),\n",
       "           ([1, 1, 1, 0], -2., 1), ([1, 1, 1, 0], -2., 1),\n",
       "           ([1, 1, 1, 0], -2., 1), ([1, 1, 1, 0], -2., 1),\n",
       "           ([1, 1, 1, 0], -2., 1), ([1, 1, 1, 0], -2., 1),\n",
       "           ([1, 1, 1, 0], -2., 1), ([1, 1, 1, 0], -2., 1),\n",
       "           ([1, 1, 1, 0], -2., 1), ([1, 1, 1, 0], -2., 1),\n",
       "           ([1, 1, 1, 0], -2., 1), ([1, 1, 1, 0], -2., 1),\n",
       "           ([1, 1, 1, 0], -2., 1), ([1, 1, 1, 0], -2., 1),\n",
       "           ([1, 1, 1, 0], -2., 1), ([1, 1, 1, 0], -2., 1),\n",
       "           ([1, 1, 1, 0], -2., 1), ([1, 1, 1, 0], -2., 1),\n",
       "           ([1, 1, 1, 0], -2., 1), ([1, 1, 1, 0], -2., 1),\n",
       "           ([1, 1, 1, 0], -2., 1), ([1, 1, 1, 0], -2., 1),\n",
       "           ([1, 1, 1, 0], -2., 1), ([1, 1, 1, 0], -2., 1),\n",
       "           ([1, 1, 1, 0], -2., 1), ([1, 1, 1, 0], -2., 1),\n",
       "           ([1, 1, 1, 0], -2., 1), ([1, 1, 1, 0], -2., 1),\n",
       "           ([1, 1, 1, 0], -2., 1), ([1, 1, 1, 0], -2., 1),\n",
       "           ([1, 1, 1, 0], -2., 1), ([1, 1, 1, 0], -2., 1),\n",
       "           ([1, 1, 1, 0], -2., 1), ([1, 1, 1, 0], -2., 1),\n",
       "           ([1, 1, 1, 0], -2., 1), ([1, 1, 1, 0], -2., 1)],\n",
       "          dtype=[('sample', 'i1', (4,)), ('energy', '<f8'), ('num_occurrences', '<i8')]), [0, 4, 5, 12], {'system': [], 'sampling_time': 393885.4129992251, 'execution_time': 3178.1388703893754, 'list_exec_times': array([8798.91399745, 3455.1839999 , 3429.37000096, 3447.03500014,\n",
       "       3424.60699903, 3444.63000147, 3453.83500098, 3613.29299994,\n",
       "       3457.84800083, 3406.19299823, 3439.38100195, 3433.23900233,\n",
       "       3423.40300267, 3452.73799758, 3405.74199799, 3408.88899882,\n",
       "       3404.67099886, 3417.60499941, 3414.43499929, 3420.70600163,\n",
       "       3404.37099658, 3386.27900055, 3422.43499836, 3430.56000202,\n",
       "       3346.02700241, 3374.39800205, 3340.05100012, 3355.68299852,\n",
       "       3366.27800061, 3345.96500034, 3367.9090011 , 3511.80100188,\n",
       "       3397.61100258, 3345.86399913, 3390.97800315, 3355.59999803,\n",
       "       3366.43700211, 3371.82500152, 3448.69000037, 3340.149     ,\n",
       "       3331.85800264, 3367.54000091, 3393.97800053, 3346.99599989,\n",
       "       3353.58099983, 3374.21400036, 3404.61400265, 3369.41700152,\n",
       "       3364.24499983, 3365.49599888, 3400.11200024, 3362.90400082,\n",
       "       3367.16899983, 3361.52199816, 3355.35900012, 3353.03000247,\n",
       "       3351.89500038, 3380.5230014 , 3371.27000239, 3332.19000095,\n",
       "       3358.82199943, 3396.95200091, 3357.32700114, 3386.16900262,\n",
       "       3364.67200032, 3348.88200086, 3346.09900165, 3362.80400006,\n",
       "       2640.11499894, 2544.75800102, 2544.4870007 , 2527.90800005,\n",
       "       2528.7760036 , 2563.5910024 , 2546.8979984 , 2514.41300134,\n",
       "       2545.99400068, 2551.40599984, 2558.14900083, 2534.84800123,\n",
       "       2534.01699956, 2497.31100121, 2528.01799797, 2589.88600035,\n",
       "       2527.06399988, 2580.05200158, 2533.75099783, 2521.50399683,\n",
       "       2648.1169989 , 2579.22300079, 2568.34000174, 2576.03999853,\n",
       "       2565.58500041, 2575.2420006 , 2556.1370021 , 2543.83599895,\n",
       "       2582.48600221, 2554.00199967, 2571.78699758, 2529.87700151]), 'schedule': {'beta': 10.0, 'gamma': 1.0, 'num_sweeps': 100}}, 'BINARY')"
      ]
     },
     "execution_count": 4,
     "metadata": {},
     "output_type": "execute_result"
    }
   ],
   "source": [
    "Q = {(0, 4): -1, (0, 5): -1, (4, 12): 1}\n",
    "response = sampler.sample_qubo(Q)\n",
    "response"
   ]
  }
 ],
 "metadata": {
  "accelerator": "GPU",
  "colab": {
   "include_colab_link": true,
   "name": "5-OpenJijGPU.ipynb",
   "provenance": [],
   "version": "0.3.2"
  },
  "kernelspec": {
   "display_name": "Python 3",
   "language": "python",
   "name": "python3"
  },
  "language_info": {
   "codemirror_mode": {
    "name": "ipython",
    "version": 3
   },
   "file_extension": ".py",
   "mimetype": "text/x-python",
   "name": "python",
   "nbconvert_exporter": "python",
   "pygments_lexer": "ipython3",
   "version": "3.8.2"
  }
 },
 "nbformat": 4,
 "nbformat_minor": 1
}
