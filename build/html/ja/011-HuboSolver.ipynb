{
 "cells": [
  {
   "cell_type": "markdown",
   "metadata": {},
   "source": [
    "# 11-HUBO: Higher Order Unconstraint Binary Optimization"
   ]
  },
  {
   "cell_type": "markdown",
   "metadata": {
    "colab_type": "text",
    "id": "view-in-github"
   },
   "source": [
    "[![Open in Colab](https://colab.research.google.com/assets/colab-badge.svg)](https://colab.research.google.com/github/OpenJij/OpenJijTutorial/blob/master/source/ja/011-HuboSolver.ipynb)"
   ]
  },
  {
   "cell_type": "markdown",
   "metadata": {},
   "source": [
    "通常のイジングモデルに対して高次の項を導入したモデルを考えてみます。 具体的には２値のバイナリ変数$\\sigma_{i} \\in \\{-1, +1\\}$ または $\\sigma_{i} \\in \\{0, 1\\}$に対して次のようなエネルギー関数を導入してみましょう。\n",
    "\n",
    "$$\n",
    "H= c+\\sum_{i} h_{i} \\sigma_{i}+\\sum_{i<j} J_{i j} \\sigma_{i} \\sigma_{j}+\\sum_{i<j<k} K_{i, j, k} \\sigma_{i} \\sigma_{j} \\sigma_{k}+\\cdots,\n",
    "\\\\\n",
    "i=1,\\ldots ,N\n",
    "$$\n",
    "\n",
    "ここで、添え字$i,j,k,\\ldots$はバイナリ変数を指定するインデックスで、$1<= i,j,k,... <=N$の値を取ります。$c$は定数であり、0次の項に対応します。\n",
    "このエネルギー関数の最小値を与える変数の組$(\\sigma_{1} ,\\sigma_{2} ,\\ldots,\\sigma_{N} )$を求める問題は、higher-order unconstrained binary optimization (HUBO)やpolynomial unconstrained binary optimization (PUBO)などど呼ばれています。以下ではHUBOで統一して呼称することにします。\n",
    "この手の問題は通常のイジングモデルを自然に拡張したものとみなすことができ、例えば、量子化学の分野で現れます。\n",
    "このチュートリアルでOpenJijを用いたHUBOの解法を紹介します。"
   ]
  },
  {
   "cell_type": "markdown",
   "metadata": {},
   "source": [
    "## HUBOの定義\n",
    "\n",
    "本チュートリアルでは、簡単のため、以下のような3次以下の項のみが現れる$N=3$変数の問題を考えます。以下ではバイナリ変数は$\\{-1,+1\\}$のスピン変数とします。\n",
    "\n",
    "$$\n",
    "H = -\\sigma_1 -\\sigma_1\\sigma_2 +\\sigma_1\\sigma_2\\sigma_3,\\;\\;\\; \\sigma_i \\in \\{-1, +1\\}\n",
    "$$\n",
    "\n",
    "OpenJijでこの問題を解くために、まずはこのエネルギー関数をpythonの辞書型で次のように表現します。\n",
    "辞書型のkeyに相互作用に関わるスピン変数を指定するインデックス、valueに対応する相互作用の値を設定します。"
   ]
  },
  {
   "cell_type": "code",
   "execution_count": 1,
   "metadata": {},
   "outputs": [],
   "source": [
    "polynomial = {(1,): -1, (1,2): -1, (1,2,3): 1}"
   ]
  },
  {
   "cell_type": "markdown",
   "metadata": {
    "tags": []
   },
   "source": [
    "## HUBOの直接解法\n",
    "\n",
    "通常HUBOを解く際は相互作用の次数を2次以下に落としたQUBOを生成してこれを解きますが、\n",
    "OpenJijではHUBOをQUBOに変換することなく、以下のsample_huboメソッドを用いることで\n",
    "直接SAで解を求めることができます。\n"
   ]
  },
  {
   "cell_type": "code",
   "execution_count": 2,
   "metadata": {},
   "outputs": [
    {
     "name": "stdout",
     "output_type": "stream",
     "text": [
      "   1  2  3 energy num_oc.\n",
      "0 +1 +1 -1   -3.0       1\n",
      "['SPIN', 1 rows, 1 samples, 3 variables]\n"
     ]
    }
   ],
   "source": [
    "import openjij as oj\n",
    "\n",
    "# sample_huboメソッドを利用するためには、SASamplerメソッドを用いる必要があります。\n",
    "sampler = oj.SASampler()\n",
    "\n",
    "# sample_huboメソッドに投げます。\n",
    "# sample_huboメソッドの第２引数は変数のタイプ、\"SPIN\"もしくは\"BINARY\"を指定します。\n",
    "# SPINでは{-1,1}、BINARYでは{0,1}が変数として指定されます。  \n",
    "response = sampler.sample_hubo(polynomial, \"SPIN\")\n",
    "# 結果を表示します。\n",
    "print(response)"
   ]
  },
  {
   "cell_type": "markdown",
   "metadata": {},
   "source": [
    "$\\sigma_1=+1,\\;\\sigma_2=+1,\\;\\sigma_3=-1$が解として得られていることが分かります。\n",
    "このときのエネルギーは-3であり、これは最適解です。\n",
    "\n",
    "なお、sample_huboメソッドは、以下のように辞書のkeyとして数値以外も扱うことができます。"
   ]
  },
  {
   "cell_type": "code",
   "execution_count": 3,
   "metadata": {},
   "outputs": [
    {
     "name": "stdout",
     "output_type": "stream",
     "text": [
      "   a  b  c energy num_oc.\n",
      "0 +1 +1 -1   -3.0       1\n",
      "['SPIN', 1 rows, 1 samples, 3 variables]\n"
     ]
    }
   ],
   "source": [
    "response = sampler.sample_hubo({('a',): -1, ('a', 'b'): -1, ('a', 'b', 'c'): 1}, \"SPIN\")\n",
    "print(response)"
   ]
  },
  {
   "cell_type": "markdown",
   "metadata": {},
   "source": [
    "## QUBO変換による解法\n",
    "\n",
    "HUBOを解く方法の一つとして、3次以上の高次の項を２次以下に変換して対応するQUBOを構成しこれを解くというものがあります。\n",
    "この章ではその方法を説明します。\n",
    "\n",
    "3次相互作用から対応するQUBOを生成するためにD-Waveのdimodというライブラリを使います。\n",
    "ここで、5.0に指定されているペナルティの大きさ(strength)は、高次相互作用を２次以下に変換する際に生じた制約条件に対するペナルティで、小さすぎると生成したQUBOの最適解がもとのHUBOと一致しなくなります。逆に大きすぎるとそもそも最適解が得られなくなってしまいます。実際上、どれくらいの値を指定すればいいのかというのは難しい問題ですが、ここでは5.0に指定しています。\n"
   ]
  },
  {
   "cell_type": "code",
   "execution_count": 4,
   "metadata": {},
   "outputs": [
    {
     "name": "stdout",
     "output_type": "stream",
     "text": [
      "0次の項: 10.0\n",
      "1次の項: {1: -3.5, '1*2': -3.5, 3: 0.0, 2: -2.5, 'aux1,2': -5.0}\n",
      "2次の項: {('1*2', 1): 2.5, (3, '1*2'): 1.0, (2, 1): 2.5, (2, '1*2'): 2.5, ('aux1,2', 1): 5.0, ('aux1,2', '1*2'): 5.0, ('aux1,2', 2): 5.0}\n"
     ]
    }
   ],
   "source": [
    "import dimod\n",
    "\n",
    "# HUBO、strengthの大きさ、変数のタイプを指定して対応するquadraticモデルを生成します。\n",
    "bqm_dimod = dimod.make_quadratic(poly=polynomial, strength=5.0, vartype=\"SPIN\")\n",
    "print('0次の項:', bqm_dimod.offset)\n",
    "print('1次の項:', dict(bqm_dimod.linear))    # bqm.linearはpythonのdictに変換して表示します。\n",
    "print('2次の項:', dict(bqm_dimod.quadratic)) # bqm.quadraticもpythonのdictに変換して表示します。"
   ]
  },
  {
   "cell_type": "markdown",
   "metadata": {},
   "source": [
    "見ての通りですが、もとの変数 $\\sigma_1,\\sigma_2,\\sigma_3$ に加えて $\\sigma_{\"1∗2\"}$、$\\sigma_{\"\\rm aux1,2\"}$ という２つの文字列で表現された変数が現れています。一般にHUBOをQUBOに変換すると変数の数、相互作用の数が増えてしまいます。\n",
    "今回のケースではHUBOの場合の変数が3個、相互作用の数も3個でしたが、QUBOに変換することで、変数が5個、相互作用の数が7個に増えています。\n",
    "\n",
    "このQUBOをopenJijのSAで解きたいわけですが、openJijでは数値と文字列が混在した変数は扱えないため、文字列を全て整数に変換する必要があります。\n",
    "そのためにdimodのrelabel_variablesというメソッドを使って\"1∗2\"と\"aux1,2\"を整数に変換します。"
   ]
  },
  {
   "cell_type": "code",
   "execution_count": 5,
   "metadata": {},
   "outputs": [
    {
     "name": "stdout",
     "output_type": "stream",
     "text": [
      "0次の項: 10.0\n",
      "1次の項: {1: -3.5, 4: -3.5, 3: 0.0, 2: -2.5, 5: -5.0}\n",
      "2次の項: {(4, 1): 2.5, (3, 4): 1.0, (2, 1): 2.5, (2, 4): 2.5, (5, 1): 5.0, (5, 4): 5.0, (5, 2): 5.0}\n",
      "変数の対応関係: {1: 1, 2: 2, 3: 3, '1*2': 4, 'aux1,2': 5}\n"
     ]
    }
   ],
   "source": [
    "#文字列と整数の対応関係を作る関数を定義します。\n",
    "def generate_mapping(variables, N):\n",
    "    mapping = {}\n",
    "    #もともと整数であったN個のインデックスは変化しないようにします。\n",
    "    for i in range(1, N+1):\n",
    "        mapping[i] = i \n",
    "    count = N+1\n",
    "    \n",
    "    #新たに現れた文字列を整数に変換します。\n",
    "    for v in variables:\n",
    "        if type(v) == str:\n",
    "            mapping[v] = count\n",
    "            count += 1\n",
    "    return mapping\n",
    "\n",
    "# 変換前と変換後の変数の対応関係を表した辞書を作ります。\n",
    "mapping = generate_mapping(bqm_dimod.variables, 3)\n",
    "\n",
    "# インデックスを1始まりの整数に変換します。\n",
    "bqm_dimod.relabel_variables(mapping)\n",
    "\n",
    "print('0次の項:', bqm_dimod.offset)\n",
    "print('1次の項:', dict(bqm_dimod.linear))    # bqm.linearはpythonのdictに変換して表示します。\n",
    "print('2次の項:', dict(bqm_dimod.quadratic)) # bqm.quadraticもpythonのdictに変換して表示します。\n",
    "print('変数の対応関係:', mapping) # Relabelした後のインデックスと元のインデックスの対応関係を表示します。"
   ]
  },
  {
   "cell_type": "markdown",
   "metadata": {},
   "source": [
    "全てのインデックスが整数に変換されました。それではこのQUBOをOpenJijを利用して解いてみましょう。"
   ]
  },
  {
   "cell_type": "code",
   "execution_count": 6,
   "metadata": {},
   "outputs": [
    {
     "name": "stdout",
     "output_type": "stream",
     "text": [
      "   1  2  3  4  5 energy num_oc.\n",
      "0 +1 +1 -1 +1 -1   -3.0       1\n",
      "['SPIN', 1 rows, 1 samples, 5 variables]\n"
     ]
    }
   ],
   "source": [
    "# dimodのbqmをOpenJijのBinaryQuadraticModelに変換します。\n",
    "bqm_oj = oj.BinaryQuadraticModel(dict(bqm_dimod.linear), dict(bqm_dimod.quadratic), bqm_dimod.offset, vartype=\"SPIN\")\n",
    "\n",
    "# sampleメソッドを使ってSAを行います。\n",
    "response = sampler.sample(bqm_oj)\n",
    "print(response) "
   ]
  },
  {
   "cell_type": "markdown",
   "metadata": {},
   "source": [
    "ここで得られたエネルギーは先程決めたstrengthの値によってはもとのhuboのエネルギーと対応してない可能性があります。\n",
    "したがって、改めてエネルギーを計算する必要があります。\n",
    "今回の場合、もともと変数は$\\sigma_1,\\sigma_2,\\sigma_3$だけだったので、これらのスピン配位だけをつかってエネルギーを計算します。\n",
    "ここでは$\\sigma_1=+1,\\sigma_2=+1,\\sigma_3=-1$となっています。"
   ]
  },
  {
   "cell_type": "code",
   "execution_count": 7,
   "metadata": {},
   "outputs": [
    {
     "name": "stdout",
     "output_type": "stream",
     "text": [
      "対応するHUBOの解: {1: 1, 2: 1, 3: -1}\n",
      "対応するHUBOの解のエネルギー: -3.0\n"
     ]
    }
   ],
   "source": [
    "# 元のHUBOの解に焼き直します。\n",
    "hubo_configuration = {i+1: response.record[0][0][i] for i in range(3)}\n",
    "print('対応するHUBOの解:', hubo_configuration)\n",
    "print('対応するHUBOの解のエネルギー:', dimod.BinaryPolynomial(polynomial, \"SPIN\").energy(hubo_configuration))"
   ]
  },
  {
   "cell_type": "markdown",
   "metadata": {
    "tags": []
   },
   "source": [
    "ここではエネルギーとして-3を与えるスピン配位が得られました。これは今回のエネルギー関数の最適解になっています。\n",
    "\n",
    "このことはdimodのExactPolySolverという厳密な最適解を求めるソルバーを使って実際に確認することができます。"
   ]
  },
  {
   "cell_type": "code",
   "execution_count": 8,
   "metadata": {},
   "outputs": [
    {
     "name": "stdout",
     "output_type": "stream",
     "text": [
      "最適解: {1: 1, 2: 1, 3: -1}\n",
      "対応するエネルギー: -3.0\n"
     ]
    }
   ],
   "source": [
    "# 元のHUBOの厳密な最適解を確認します。\n",
    "sampleset = dimod.ExactPolySolver().sample_hising(h = {}, J = polynomial)\n",
    "print('最適解:',sampleset.first.sample)\n",
    "print('対応するエネルギー:',sampleset.first.energy)"
   ]
  },
  {
   "cell_type": "markdown",
   "metadata": {},
   "source": [
    "元のHUBOに対する最適解のエネルギーは確かに-3.0であることがわかります。\n",
    "今回は変数の数が3個と少なかったため簡単に厳密解を求めることができますが、通常は厳密解を求めることは困難であることに注意してください。"
   ]
  },
  {
   "cell_type": "markdown",
   "metadata": {
    "tags": []
   },
   "source": [
    "## HUBOによる直接解法とQUBO変換による解法結果の比較\n",
    "\n",
    "最後に, HUBOによる直接解法とQUBO変換による解法を比較してみましょう。 SAによるシミュレーションを100回行い、各シミュレーションで得られたエネルギーを比較してみます。\n",
    "まずはsample_huboメソッドを用いた場合のエネルギーを求めます。"
   ]
  },
  {
   "cell_type": "code",
   "execution_count": 9,
   "metadata": {},
   "outputs": [],
   "source": [
    "# SAによるシミュレーションを行う回数を指定します。\n",
    "num_reads = 100\n",
    "\n",
    "# num_readsというパラメータを設定すると、その回数分SAを独立に行います。\n",
    "# 今回は100に指定します。デフォルトは1になっています。\n",
    "response = sampler.sample_hubo(polynomial, \"SPIN\", num_reads=num_reads)\n",
    "\n",
    "# 得られたエネルギーをenergy_huboに代入します\n",
    "energy_hubo = response.energies"
   ]
  },
  {
   "cell_type": "markdown",
   "metadata": {},
   "source": [
    "次にQUBO変換を用いた解法によるエネルギーを求めます。\n",
    "前に設定したstrengthの大きさが適切である保証がないため、毎回huboのエネルギーを計算し直す必要があることに注意してください。"
   ]
  },
  {
   "cell_type": "code",
   "execution_count": 10,
   "metadata": {},
   "outputs": [],
   "source": [
    "response = sampler.sample(bqm_oj, num_reads=num_reads)\n",
    "\n",
    "# 得られたスピン配位からhuboのエネルギーを計算し直す関数を定義します。\n",
    "def calculate_true_energy(polynomial, response, N):\n",
    "    energy_quad = []\n",
    "    for i in range(num_reads):\n",
    "        hubo_configuration = {j+1: response.record[i][0][j] for j in range(N)}\n",
    "        energy_quad.append(dimod.BinaryPolynomial(polynomial, \"BINARY\").energy(hubo_configuration))\n",
    "    return energy_quad\n",
    "\n",
    "# 得られたエネルギーをenergy_quadに代入します\n",
    "energy_quad = calculate_true_energy(polynomial, response, 3)"
   ]
  },
  {
   "cell_type": "markdown",
   "metadata": {},
   "source": [
    "得られた100回分の結果をヒストグラムにして比較してみます。"
   ]
  },
  {
   "cell_type": "code",
   "execution_count": 11,
   "metadata": {},
   "outputs": [
    {
     "data": {
      "text/plain": [
       "Text(0, 0.5, 'Frequency')"
      ]
     },
     "execution_count": 11,
     "metadata": {},
     "output_type": "execute_result"
    },
    {
     "data": {
      "image/png": "[encoded data removed]",
      "text/plain": [
       "<Figure size 432x288 with 1 Axes>"
      ]
     },
     "metadata": {
      "needs_background": "light"
     },
     "output_type": "display_data"
    }
   ],
   "source": [
    "import matplotlib.pyplot as plt\n",
    "plt.hist(energy_hubo, label='HUBO', range=(-3, 1), bins=10, alpha=0.5)\n",
    "plt.hist(energy_quad, label='Through QUBO', range=(-3, 1), bins=10, alpha=0.5)\n",
    "plt.legend()\n",
    "plt.xlabel('Energy')\n",
    "plt.ylabel('Frequency')"
   ]
  },
  {
   "cell_type": "markdown",
   "metadata": {},
   "source": [
    "HUBOを直接解いた方がQUBO変換を用いた解法に比べてわずかに多く最適解が得られています。\n",
    "ただしこの問題では例えばstrengthを1に設定するとQUBO変換する解法でより多くの最適解が得られます。\n",
    "つまりはじめに設定したstrength=5という値が大きすぎたということです。\n",
    "実際に確認してみましょう。"
   ]
  },
  {
   "cell_type": "code",
   "execution_count": 12,
   "metadata": {},
   "outputs": [
    {
     "data": {
      "text/plain": [
       "Text(0, 0.5, 'Frequency')"
      ]
     },
     "execution_count": 12,
     "metadata": {},
     "output_type": "execute_result"
    },
    {
     "data": {
      "image/png": "[encoded data removed]",
      "text/plain": [
       "<Figure size 432x288 with 1 Axes>"
      ]
     },
     "metadata": {
      "needs_background": "light"
     },
     "output_type": "display_data"
    }
   ],
   "source": [
    "# strengthを1に設定してQUBOに変換します。\n",
    "bqm_dimod = dimod.make_quadratic(poly=polynomial, strength=1.0, vartype=\"SPIN\")\n",
    "\n",
    "#インデックスを整数に変換してからOpenJijで解きます。\n",
    "bqm_dimod.relabel_variables(mapping)\n",
    "bqm_oj = oj.BinaryQuadraticModel(dict(bqm_dimod.linear), dict(bqm_dimod.quadratic), bqm_dimod.offset, vartype=\"SPIN\")\n",
    "response = sampler.sample(bqm_oj, num_reads=num_reads)\n",
    "energy_quad = calculate_true_energy(polynomial, response, 3)\n",
    "\n",
    "# ヒストグラムを表示します。\n",
    "plt.hist(energy_hubo, label='HUBO', range=(-3, 1), bins=10, alpha=0.5)\n",
    "plt.hist(energy_quad, label='Through QUBO', range=(-3, 1), bins=10, alpha=0.5)\n",
    "plt.legend()\n",
    "plt.xlabel('Energy')\n",
    "plt.ylabel('Frequency')"
   ]
  },
  {
   "cell_type": "markdown",
   "metadata": {},
   "source": [
    "今の場合QUBO変換による解法で常に最適解が得られています。\n",
    "ただし、最適なstrengthの値は事前に分からないことに注意してください。\n",
    "今の場合strength=1として最適解が得られていますが、一般のHUBOに対して適切なstrengthを決定することは難しい問題です。\n",
    "また、QUBO変換を行うと、変数の数や相互作用の数が増えてしまうことも問題です。これにより余分なメモリが必要になっています。\n",
    "\n",
    "ここまで例として扱ってきたモデルは単純すぎたので、もう少し問題で両者の解放を比較してみましょう。\n",
    "変数の数を$N=10$、相互作用を3次の全結合にして値を-1から+1のランダムにしてみます。\n",
    "まずは相互作用を定義します。"
   ]
  },
  {
   "cell_type": "code",
   "execution_count": 13,
   "metadata": {},
   "outputs": [],
   "source": [
    "import random\n",
    "\n",
    "N=10\n",
    "polynomial = {}\n",
    "for i in range(1, N+1):\n",
    "    for j in range(i+1, N+1):\n",
    "        for k in range(j+1, N+1):\n",
    "            polynomial[(i,j,k)] = random.uniform(-1, +1)"
   ]
  },
  {
   "cell_type": "markdown",
   "metadata": {},
   "source": [
    "今までと同様に100回SAを行い得られたエネルギーを比較してみます。QUBO変換の際のstrengthは2としました。"
   ]
  },
  {
   "cell_type": "code",
   "execution_count": 14,
   "metadata": {},
   "outputs": [
    {
     "data": {
      "text/plain": [
       "Text(0, 0.5, 'Frequency')"
      ]
     },
     "execution_count": 14,
     "metadata": {},
     "output_type": "execute_result"
    },
    {
     "data": {
      "image/png": "[encoded data removed]",
      "text/plain": [
       "<Figure size 432x288 with 1 Axes>"
      ]
     },
     "metadata": {
      "needs_background": "light"
     },
     "output_type": "display_data"
    }
   ],
   "source": [
    "#HUBOソルバーで直接解きます。\n",
    "response = sampler.sample_hubo(polynomial, \"SPIN\", num_reads=num_reads)\n",
    "energy_hubo = response.energies\n",
    "\n",
    "#QUBO変換を通して解きます。\n",
    "bqm_dimod = dimod.make_quadratic(poly=polynomial, strength=2, vartype=\"SPIN\")\n",
    "mapping = generate_mapping(bqm_dimod.variables, N)\n",
    "bqm_dimod.relabel_variables(mapping)\n",
    "bqm_oj = oj.BinaryQuadraticModel(dict(bqm_dimod.linear), dict(bqm_dimod.quadratic), bqm_dimod.offset, vartype=\"SPIN\")\n",
    "response = sampler.sample(bqm_oj, num_reads=num_reads)\n",
    "energy_quad = calculate_true_energy(polynomial, response, N)\n",
    "\n",
    "# ヒストグラムを表示します。\n",
    "max_e = max(max(energy_hubo), max(energy_quad))\n",
    "min_e = min(min(energy_hubo), min(energy_quad))\n",
    "plt.hist(energy_hubo, label='HUBO', range=(min_e, max_e), alpha=0.5)\n",
    "plt.hist(energy_quad, label='Through QUBO', range=(min_e, max_e), alpha=0.5)\n",
    "plt.legend()\n",
    "plt.xlabel('Energy')\n",
    "plt.ylabel('Frequency')"
   ]
  },
  {
   "cell_type": "markdown",
   "metadata": {},
   "source": [
    "このモデルではかなり差が出ているのが分かります。HUBOを直接解いたほうがよりエネルギーの低い解が得られています。\n",
    "もちろんstrengthの値をより適切なものにすればQUBO変換の解法による解も改善する可能性はありますが、それを行うのは簡単ではありません。"
   ]
  },
  {
   "cell_type": "markdown",
   "metadata": {},
   "source": [
    "## まとめ\n",
    "\n",
    "QUBO変換を通した解法では、QUBOに変換するための前処理やstrengthというパラメータを決定する必要があります。\n",
    "一方でHUBOソルバーを利用すればそのような処理は不要になり、得られる解も(少なくとも今回取り扱ったモデルに関しては)QUBO変換を行う解法と同程度以上の解が得られることが分かりました。"
   ]
  }
 ],
 "metadata": {
  "interpreter": {
   "hash": "26149c88d220c3ed2d17341f1c6f96caae4173defcdd371f100d436532ba42d1"
  },
  "kernelspec": {
   "display_name": "Python 3 (ipykernel)",
   "language": "python",
   "name": "python3"
  },
  "language_info": {
   "codemirror_mode": {
    "name": "ipython",
    "version": 3
   },
   "file_extension": ".py",
   "mimetype": "text/x-python",
   "name": "python",
   "nbconvert_exporter": "python",
   "pygments_lexer": "ipython3",
   "version": "3.9.7"
  }
 },
 "nbformat": 4,
 "nbformat_minor": 4
}
